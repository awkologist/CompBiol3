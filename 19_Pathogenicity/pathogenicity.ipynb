{
 "cells": [
  {
   "cell_type": "markdown",
   "id": "34a27d03-66f4-4a42-ab2a-9abca7495481",
   "metadata": {},
   "source": [
    "# Chapter 19 – In Search of Diﬀerences in Proteomes\n",
    "This project introduces two serotypes of Escherichia coli: one pathogenic and one non-pathogenic variety. The serotype O157:H7 emerges as a significant cause of foodborne illness, notably linked to undercooked meat since its detection in 1982. Phylogenetic analyses suggest that O157:H7 diverged from a common ancestor around 4.5 million years ago, acquiring its pathogenicity possibly through horizontal gene transfer. Can we identify proteins associated with pathogenicity among those acquired genes? To answer this question, we compare the translated, annotated genomes of one non-pathogenic and one pathogenic serotype. This project aims to uncover the presence of diﬀerent genes in different but related genomes. Central to this analysis is the Basic Local Alignment Search Tool (BLAST+) that we run locally and in the terminal. For sequence download, I introduce the rather new tool NCBI Databases."
   ]
  },
  {
   "cell_type": "markdown",
   "id": "eddcd5f1-8a48-46e1-a59b-e08b283b229b",
   "metadata": {},
   "source": [
    "Installation of NCBI Datasets and BLAST required."
   ]
  },
  {
   "cell_type": "markdown",
   "id": "160a167e-8071-473d-8fa3-b2a3e24ca5c5",
   "metadata": {},
   "source": [
    "## Downloading Proteoms"
   ]
  },
  {
   "cell_type": "code",
   "execution_count": null,
   "id": "7bcffcdd-473d-43bd-a55e-cd348713c884",
   "metadata": {
    "scrolled": true
   },
   "outputs": [],
   "source": [
    "for i in GCF_000005845.2 GCF_000008865.2; do ./datasets download genome accession $i --include protein --filename $i.zip; done"
   ]
  },
  {
   "cell_type": "code",
   "execution_count": null,
   "id": "a9bb37ff-b131-4489-80d9-008063d3ba56",
   "metadata": {},
   "outputs": [],
   "source": [
    "unzip GCF_000005845.2.zip"
   ]
  },
  {
   "cell_type": "code",
   "execution_count": null,
   "id": "d66de5c2-645d-438f-a25b-cbe6da4f785d",
   "metadata": {},
   "outputs": [],
   "source": [
    "unzip GCF_000008865.2"
   ]
  },
  {
   "cell_type": "code",
   "execution_count": null,
   "id": "cbaee64b-c7d1-49f7-a910-868b2edcc55e",
   "metadata": {},
   "outputs": [],
   "source": [
    "grep -c \">\" ec*.fasta"
   ]
  },
  {
   "cell_type": "markdown",
   "id": "6fcd0c07-8e47-411d-8f48-919672a52cbf",
   "metadata": {},
   "source": [
    "## Creating BLAST DB"
   ]
  },
  {
   "cell_type": "code",
   "execution_count": null,
   "id": "888ec810-e873-45ba-bd6c-f783f24b04e3",
   "metadata": {},
   "outputs": [],
   "source": [
    "makeblastdb -in ec-k12.fasta -dbtype prot -title \"Escherichia coli K12\" -out ecolik12 -parse_seqids"
   ]
  },
  {
   "cell_type": "code",
   "execution_count": null,
   "id": "5bb1f0d8-08f6-47ed-b50c-b05574609c82",
   "metadata": {},
   "outputs": [],
   "source": [
    "ls -l ecolik12*"
   ]
  },
  {
   "cell_type": "markdown",
   "id": "acc24c31-05e4-42d2-b1f0-12c9ca93385a",
   "metadata": {},
   "source": [
    "## BLASTing"
   ]
  },
  {
   "cell_type": "code",
   "execution_count": null,
   "id": "975dcce7-f241-42e5-a744-9fed974f6217",
   "metadata": {},
   "outputs": [],
   "source": [
    "time blastp -db ecolik12 -query ec-h7.fasta -out h7vsk12.txt -evalue .00001"
   ]
  },
  {
   "cell_type": "code",
   "execution_count": null,
   "id": "d8e3771d-d59c-4f37-b404-4ccda2bcd28f",
   "metadata": {},
   "outputs": [],
   "source": [
    "ls -lh ec-* h7*"
   ]
  },
  {
   "cell_type": "code",
   "execution_count": null,
   "id": "467f76b7-4fc4-4ece-902c-91266ea0fdc4",
   "metadata": {},
   "outputs": [],
   "source": [
    "wc -l h7vsk12.txt"
   ]
  },
  {
   "cell_type": "markdown",
   "id": "cf0f8308-81a7-427e-94a6-afc50283a271",
   "metadata": {},
   "source": [
    "## Processing the BLAST Result File"
   ]
  },
  {
   "cell_type": "code",
   "execution_count": null,
   "id": "c0c6c623-292e-43c9-bfdc-95f2242d239d",
   "metadata": {},
   "outputs": [],
   "source": [
    "awk '/Query=/ || /No hits/{print}' h7vsk12.txt | head -20"
   ]
  },
  {
   "cell_type": "code",
   "execution_count": null,
   "id": "2e40dae4-f31a-4bd1-a018-585e74a0ecca",
   "metadata": {},
   "outputs": [],
   "source": [
    "awk '/Query=/ || /No hits/{print $0}' h7vsk12.txt | awk '{line[NR]=$0; if($0~/No hits/){print line[NR-1]}}' | head"
   ]
  },
  {
   "cell_type": "code",
   "execution_count": null,
   "id": "a77164b4-f493-4c75-bf4d-973c3f989a8a",
   "metadata": {},
   "outputs": [],
   "source": [
    "awk '/Query=/ || /No hits/{print $0}' h7vsk12.txt | awk '{line[NR]=$0; if($0~/No hits/){print line[NR-1]}}' | wc -l"
   ]
  },
  {
   "cell_type": "code",
   "execution_count": null,
   "id": "a26a643b-1131-4623-8230-126806c1e2ca",
   "metadata": {},
   "outputs": [],
   "source": [
    "awk '/Query=/ || /No hits/{print $0}' h7vsk12.txt | awk '{line[NR]=$0; if($0~/No hits/){print line[NR-1]}}' | egrep -v \"([Uu]nknown| [Pp]utative|[Hh]ypothetical|[Uu]ncharacterized)\" | head -20"
   ]
  },
  {
   "cell_type": "code",
   "execution_count": null,
   "id": "f6816222-a73e-4eb5-99e5-0c4924926034",
   "metadata": {},
   "outputs": [],
   "source": [
    "awk '/Query=/ || /No hits/{print $0}' h7vsk12.txt | awk '{line[NR]=$0; if($0~/No hits/){print line[NR-1]}}' | egrep -v \"([Uu]nknown| [Pp]utative|[Hh]ypothetical|[Uu]ncharacterized)\" | wc -l"
   ]
  },
  {
   "cell_type": "markdown",
   "id": "1890315a-c7c5-4a92-aed1-306fe74a44f3",
   "metadata": {},
   "source": [
    "## Playing with the E-Value"
   ]
  },
  {
   "cell_type": "markdown",
   "id": "5ec3cb12-3b62-4cef-b231-cada8a05213b",
   "metadata": {},
   "source": [
    "``` \n",
    "#!/bin/bash\r\n",
    "# save as autoblast.sh\r\n",
    "# loops through E-value\r\n",
    "for i in 1 0.001 0.00001\r\n",
    "do\r\n",
    "echo \"Working on h7vsk12-$i.txt\"\r\n",
    "blastp -db ecolik12 -query ec-h7.faa -out h7vsk12-$i.txt -evalue $i\r\n",
    "done"
   ]
  },
  {
   "cell_type": "code",
   "execution_count": null,
   "id": "5d6adecc-20b0-4214-baf2-c8a74ab0a128",
   "metadata": {},
   "outputs": [],
   "source": [
    "time ./autoblast.sh"
   ]
  },
  {
   "cell_type": "code",
   "execution_count": null,
   "id": "87795079-d224-47ee-874d-1d44fb8eea69",
   "metadata": {},
   "outputs": [],
   "source": [
    "ls h7vsk12*"
   ]
  },
  {
   "cell_type": "code",
   "execution_count": null,
   "id": "e42dd48b-c460-408e-a3ca-d2c854419d13",
   "metadata": {},
   "outputs": [],
   "source": [
    "wc -l h7vsk12*"
   ]
  },
  {
   "cell_type": "code",
   "execution_count": null,
   "id": "fa70dd3c-d288-42fe-a7bb-27c2edcb0e6e",
   "metadata": {},
   "outputs": [],
   "source": [
    "for i in h7vsk12-*; do echo -n $i\" : \"; awk '/Query=/ || /No hits/{print $0}' $i | awk '{line[NR]=$0; if($0~/No hits/){print line[NR-1]}}' | wc -l; done"
   ]
  },
  {
   "cell_type": "code",
   "execution_count": null,
   "id": "64b0263d-bb2f-40ac-8783-c9d9e010bb0c",
   "metadata": {},
   "outputs": [],
   "source": [
    "for i in h7vsk12-*; do echo -n $i\" : \"; awk '/Query=/ || /No hits/{print $0}' $i | awk '{line[NR]=$0; if($0~/No hits/){print line[NR-1]}}' | egrep -v \"([Uu]nknown|[Pp]utative|[Hh]ypothetical)|[Uu]ncharacterized)\" | wc -l; done"
   ]
  }
 ],
 "metadata": {
  "kernelspec": {
   "display_name": "Bash",
   "language": "bash",
   "name": "bash"
  },
  "language_info": {
   "codemirror_mode": "shell",
   "file_extension": ".sh",
   "mimetype": "text/x-sh",
   "name": "bash"
  }
 },
 "nbformat": 4,
 "nbformat_minor": 5
}
