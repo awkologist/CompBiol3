{
 "cells": [
  {
   "cell_type": "markdown",
   "id": "c7ba66f3-16c7-4e1f-8cce-a8751b1add60",
   "metadata": {},
   "source": [
    "# Regular Expressions"
   ]
  },
  {
   "cell_type": "code",
   "execution_count": 1,
   "id": "18559bd4-4f98-45df-a0d8-624739da661d",
   "metadata": {},
   "outputs": [
    {
     "name": "stdout",
     "output_type": "stream",
     "text": [
      "SEQRES 1 A  162  MET ARG ILE LEU VAL LEU \u001b[01;31m\u001b[KGLY\u001b[m\u001b[K VAL \u001b[01;31m\u001b[KGLY\u001b[m\u001b[K ASN\n",
      "SEQRES 2 A  162  THR ASP \u001b[01;31m\u001b[KGLU\u001b[m\u001b[K ALA ILE \u001b[01;31m\u001b[KGLY\u001b[m\u001b[K VAL ARG ILE VAL\n",
      "SEQRES 3 A  162  \u001b[01;31m\u001b[KGLU\u001b[m\u001b[K \u001b[01;31m\u001b[KGLN\u001b[m\u001b[K ARG TYR ILE LEU PRO ASP TYR VAL\n",
      "SEQRES 4 A  162  ASP \u001b[01;31m\u001b[KGLY\u001b[m\u001b[K \u001b[01;31m\u001b[KGLY\u001b[m\u001b[K THR ALA \u001b[01;31m\u001b[KGLY\u001b[m\u001b[K MET \u001b[01;31m\u001b[KGLU\u001b[m\u001b[K LEU LEU\n",
      "HELIX  1 hel ILE A   18  \u001b[01;31m\u001b[KGLN\u001b[m\u001b[K A   28\n"
     ]
    }
   ],
   "source": [
    "egrep 'GL.' structure.pdb"
   ]
  },
  {
   "cell_type": "code",
   "execution_count": 2,
   "id": "0984aa21-2773-4458-b1b5-fc3373ab0405",
   "metadata": {},
   "outputs": [
    {
     "name": "stdout",
     "output_type": "stream",
     "text": [
      "SEQRES 3 A  162  GLU \u001b[01;31m\u001b[KGLN\u001b[m\u001b[K ARG TYR ILE LEU PRO ASP TYR VAL\n",
      "HELIX  1 hel ILE A   18  \u001b[01;31m\u001b[KGLN\u001b[m\u001b[K A   28\n"
     ]
    }
   ],
   "source": [
    "egrep 'GLN' structure.pdb"
   ]
  },
  {
   "cell_type": "code",
   "execution_count": 3,
   "id": "a9cba8e6-e126-4015-945d-794ebf9d97ae",
   "metadata": {},
   "outputs": [
    {
     "name": "stdout",
     "output_type": "stream",
     "text": [
      "SEQRES 1 A  162  MET ARG ILE LEU VAL LEU \u001b[01;31m\u001b[KGLY\u001b[m\u001b[K VAL \u001b[01;31m\u001b[KGLY\u001b[m\u001b[K ASN\n",
      "SEQRES 2 A  162  THR ASP GLU ALA ILE \u001b[01;31m\u001b[KGLY\u001b[m\u001b[K VAL ARG ILE VAL\n",
      "SEQRES 4 A  162  ASP \u001b[01;31m\u001b[KGLY\u001b[m\u001b[K \u001b[01;31m\u001b[KGLY\u001b[m\u001b[K THR ALA \u001b[01;31m\u001b[KGLY\u001b[m\u001b[K MET GLU LEU LEU\n"
     ]
    }
   ],
   "source": [
    "egrep 'GLY' structure.pdb"
   ]
  },
  {
   "cell_type": "code",
   "execution_count": 4,
   "id": "8b36ae54-be18-402c-b31b-048e97ddcb1f",
   "metadata": {},
   "outputs": [
    {
     "name": "stdout",
     "output_type": "stream",
     "text": [
      "SEQRES 1 A  162  MET ARG ILE LEU VAL LEU \u001b[01;31m\u001b[KGLY\u001b[m\u001b[K VAL \u001b[01;31m\u001b[KGLY\u001b[m\u001b[K ASN\n",
      "SEQRES 2 A  162  THR ASP \u001b[01;31m\u001b[KGLU\u001b[m\u001b[K ALA ILE \u001b[01;31m\u001b[KGLY\u001b[m\u001b[K VAL ARG ILE VAL\n",
      "SEQRES 3 A  162  \u001b[01;31m\u001b[KGLU\u001b[m\u001b[K GLN ARG TYR ILE LEU PRO ASP TYR VAL\n",
      "SEQRES 4 A  162  ASP \u001b[01;31m\u001b[KGLY\u001b[m\u001b[K \u001b[01;31m\u001b[KGLY\u001b[m\u001b[K THR ALA \u001b[01;31m\u001b[KGLY\u001b[m\u001b[K MET \u001b[01;31m\u001b[KGLU\u001b[m\u001b[K LEU LEU\n"
     ]
    }
   ],
   "source": [
    "egrep 'GL[YU]' structure.pdb"
   ]
  },
  {
   "cell_type": "code",
   "execution_count": 5,
   "id": "1b3bb2d8-a826-4baa-a523-4eb25d4574d8",
   "metadata": {},
   "outputs": [
    {
     "name": "stdout",
     "output_type": "stream",
     "text": [
      "\u001b[01;31m\u001b[KATGxxxTAAxxATGxxTAA\u001b[m\u001b[KGACGCTAGCTCAGCATCGACTACGATCCT\n"
     ]
    }
   ],
   "source": [
    "egrep 'ATG.*TAA' sequence.dna"
   ]
  },
  {
   "cell_type": "code",
   "execution_count": 6,
   "id": "4c96d9cd-5e87-41d2-a23d-0c2fdb127c5b",
   "metadata": {},
   "outputs": [
    {
     "name": "stdout",
     "output_type": "stream",
     "text": [
      "ATGxxxTAAxxATGxx\u001b[01;31m\u001b[KTAAG\u001b[m\u001b[KACGCTAGCTCAGCATCGACTACGATCCT\n",
      "CGTGTGTAGCG\u001b[01;31m\u001b[KTAAT\u001b[m\u001b[KATATGCTATAGCATTGGCATTA\n",
      "\u001b[01;31m\u001b[KTAAT\u001b[m\u001b[KAAACA\u001b[01;31m\u001b[KCAAT\u001b[m\u001b[KGCGGTGTAGGGGGAAAAATTTnAGCATG\u001b[01;31m\u001b[KCAAT\u001b[m\u001b[KT\n"
     ]
    }
   ],
   "source": [
    "egrep '[CGT]AAA?[CGT]' sequence.dna"
   ]
  },
  {
   "cell_type": "code",
   "execution_count": 8,
   "id": "2d240018-a8c7-47b4-b96b-4312f247f1be",
   "metadata": {},
   "outputs": [
    {
     "name": "stdout",
     "output_type": "stream",
     "text": [
      "ATGxxx\u001b[01;31m\u001b[KTAAx\u001b[m\u001b[KxATGxx\u001b[01;31m\u001b[KTAAG\u001b[m\u001b[KACGCTAGCTCAGCATCGACTACGATCCT\n",
      "CGTGTGTAGCG\u001b[01;31m\u001b[KTAAT\u001b[m\u001b[KATATGCTATAGCATTGGCATTA\n",
      "\u001b[01;31m\u001b[KTAAT\u001b[m\u001b[KAAACA\u001b[01;31m\u001b[KCAAT\u001b[m\u001b[KGCGGTGTAGGGGGAAAAATTTnAGCATG\u001b[01;31m\u001b[KCAAT\u001b[m\u001b[KT\n"
     ]
    }
   ],
   "source": [
    "egrep '[^A]AAA?[^A]' sequence.dna"
   ]
  },
  {
   "cell_type": "code",
   "execution_count": 9,
   "id": "b4d7c674-aa38-45c7-8104-fb978598660b",
   "metadata": {},
   "outputs": [
    {
     "name": "stdout",
     "output_type": "stream",
     "text": [
      "ATGxxx\u001b[01;31m\u001b[KTAAx\u001b[m\u001b[KxATGxx\u001b[01;31m\u001b[KTAAG\u001b[m\u001b[KACGCTAGCTCAGCATCGACTACGATCCT\n",
      "GATAGCTATGTCGATGCTGATGCATGCATGCGGGGGGATT\u001b[01;31m\u001b[KGAAAAAG\u001b[m\u001b[KG\n",
      "CGTGTGTAGCG\u001b[01;31m\u001b[KTAAT\u001b[m\u001b[KATATGCTATAGCATTGGCATTA\n",
      "\u001b[01;31m\u001b[KTAAT\u001b[m\u001b[KAAACA\u001b[01;31m\u001b[KCAAT\u001b[m\u001b[KGCGGTGTAGGGG\u001b[01;31m\u001b[KGAAAAAT\u001b[m\u001b[KTTnAGCATG\u001b[01;31m\u001b[KCAAT\u001b[m\u001b[KT\n"
     ]
    }
   ],
   "source": [
    "egrep '[^A]AA+[^A]' sequence.dna"
   ]
  },
  {
   "cell_type": "code",
   "execution_count": 10,
   "id": "fd9d3beb-1035-457b-93ea-1d4bbd31bc65",
   "metadata": {},
   "outputs": [
    {
     "name": "stdout",
     "output_type": "stream",
     "text": [
      "GATAGCTATGTCGATGCTGATGCATGCATGCGGGGGGATTG\u001b[01;31m\u001b[KAAAAA\u001b[m\u001b[KGG\n",
      "TAATAAACACAATGCGGTGTAGGGGG\u001b[01;31m\u001b[KAAAAA\u001b[m\u001b[KTTTnAGCATGCAATT\n"
     ]
    }
   ],
   "source": [
    "egrep 'A{4,}' sequence.dna"
   ]
  },
  {
   "cell_type": "code",
   "execution_count": 11,
   "id": "dd2eb36a-8a99-449d-aa66-8f3d8dcf6965",
   "metadata": {},
   "outputs": [
    {
     "name": "stdout",
     "output_type": "stream",
     "text": [
      "CGTGTGTAGCGTA\u001b[01;31m\u001b[KATATAT\u001b[m\u001b[KGCTATAGCATTGGCATTA\n",
      "AGCGGCGGCAGTACTGCTATTCGATGTACGGCG\u001b[01;31m\u001b[KATAT\u001b[m\u001b[KGCATGGGGATT\n"
     ]
    }
   ],
   "source": [
    "egrep 'AT(AT)+' sequence.dna"
   ]
  },
  {
   "cell_type": "code",
   "execution_count": 12,
   "id": "0f99ed26-e1b1-4485-946f-c5e5b12ed03c",
   "metadata": {},
   "outputs": [
    {
     "name": "stdout",
     "output_type": "stream",
     "text": [
      "SEQRES 4 A  162  ASP \u001b[01;31m\u001b[KGLY GLY \u001b[m\u001b[KTHR ALA GLY MET GLU LEU LEU\n"
     ]
    }
   ],
   "source": [
    "egrep '(GLY ){2,}' structure.pdb"
   ]
  },
  {
   "cell_type": "code",
   "execution_count": 16,
   "id": "cd312a59-124a-4080-a86a-930819d6ac30",
   "metadata": {},
   "outputs": [
    {
     "name": "stdout",
     "output_type": "stream",
     "text": [
      "SEQRES 1 A  162  MET AR\u001b[01;31m\u001b[KG\u001b[m\u001b[K ILE LEU VAL LEU GLY VAL GLY ASN\n",
      "SEQRES 2 A  162  THR ASP GLU ALA ILE GLY VAL AR\u001b[01;31m\u001b[KG\u001b[m\u001b[K ILE VAL\n",
      "SEQRES 3 A  162  GLU GLN AR\u001b[01;31m\u001b[KG\u001b[m\u001b[K TYR ILE LEU PRO ASP TYR VAL\n",
      "SHEET  1 str AR\u001b[01;31m\u001b[KG\u001b[m\u001b[K A    2  ASN A  10\n",
      "SHEET  2 str AR\u001b[01;31m\u001b[KG\u001b[m\u001b[K A   29  LEU A  32\n",
      "ATOM 5  C\u001b[01;31m\u001b[KG\u001b[m\u001b[K  MET A 1 48.708  24.106  48.629  1.00 66.70 C\n"
     ]
    }
   ],
   "source": [
    "egrep 'G\\>' structure.pdb"
   ]
  },
  {
   "cell_type": "code",
   "execution_count": 17,
   "id": "f2c69375-1e38-40d8-9f41-53b7a55c2e0f",
   "metadata": {},
   "outputs": [
    {
     "name": "stdout",
     "output_type": "stream",
     "text": [
      "\u001b[01;31m\u001b[KH\u001b[m\u001b[KEADER  Hydrogenase                     23-Mar-99   1CFZ\n",
      "\u001b[01;31m\u001b[KH\u001b[m\u001b[KELIX  1 hel ILE A   18  GLN A   28\n",
      "\u001b[01;31m\u001b[KH\u001b[m\u001b[KELIX  2 hel PRO A   92  THR A  107\n",
      "\u001b[01;31m\u001b[KH\u001b[m\u001b[KELIX  3 hel ILE A  138  SER A  152\n"
     ]
    }
   ],
   "source": [
    "egrep '^H' structure.pdb"
   ]
  },
  {
   "cell_type": "code",
   "execution_count": 18,
   "id": "09c92283-735a-47c8-ace6-9f0bedc4e69f",
   "metadata": {},
   "outputs": [
    {
     "name": "stdout",
     "output_type": "stream",
     "text": [
      "\n"
     ]
    }
   ],
   "source": [
    "egrep '^$' sequence.dna"
   ]
  },
  {
   "cell_type": "code",
   "execution_count": 19,
   "id": "3701c1ee-9942-4523-a5ed-9bd5fdf4ec8b",
   "metadata": {},
   "outputs": [
    {
     "name": "stdout",
     "output_type": "stream",
     "text": [
      "\n"
     ]
    }
   ],
   "source": [
    "egrep '^ *$' sequence.dna"
   ]
  },
  {
   "cell_type": "code",
   "execution_count": 23,
   "id": "85e4c204-8c56-42f4-b29e-005034c07172",
   "metadata": {},
   "outputs": [
    {
     "ename": "",
     "evalue": "1",
     "output_type": "error",
     "traceback": []
    }
   ],
   "source": [
    "ls -l  | egrep '^d'"
   ]
  },
  {
   "cell_type": "code",
   "execution_count": 29,
   "id": "fe05e8a0-3be4-4e1e-a0f6-266b6c4e8232",
   "metadata": {},
   "outputs": [
    {
     "name": "stdout",
     "output_type": "stream",
     "text": [
      "\u001b[01;31m\u001b[K-rw-rw-r\u001b[m\u001b[K-- 1 ubuntu ubuntu 10240 Mar 26 20:32 archive\n",
      "\u001b[01;31m\u001b[K-rwxrw-r\u001b[m\u001b[K-- 1 ubuntu ubuntu   424 Mar 26 20:31 archive-pwd-i.sh\n",
      "\u001b[01;31m\u001b[K-rwxrw-r\u001b[m\u001b[K-- 1 ubuntu ubuntu   319 Mar 26 19:16 case-cp.sh\n",
      "\u001b[01;31m\u001b[K-rw-rw-r\u001b[m\u001b[K-- 1 ubuntu ubuntu   380 Mar 18 19:56 chg-pwd.sh\n",
      "\u001b[01;31m\u001b[K-rw-rw-r\u001b[m\u001b[K-- 1 ubuntu ubuntu    90 Mar 18 20:02 chmod_files.sh\n",
      "\u001b[01;31m\u001b[K-rwxrw-r\u001b[m\u001b[K-- 1 ubuntu ubuntu   248 Feb 28  2022 con-sh-exe.sh\n",
      "\u001b[01;31m\u001b[K-rwxrw-r\u001b[m\u001b[K-- 1 ubuntu ubuntu   110 Mar 26 19:57 date-set.sh\n",
      "\u001b[01;31m\u001b[K-rwxrw-r\u001b[m\u001b[K-- 1 ubuntu ubuntu    97 Mar 26 19:51 date-vx.sh\n",
      "\u001b[01;31m\u001b[K-rwxrw-r\u001b[m\u001b[K-- 1 ubuntu ubuntu   453 Mar 26 20:26 dna-test.sh\n",
      "\u001b[01;31m\u001b[K-rwxrw-r\u001b[m\u001b[K-- 1 ubuntu ubuntu    98 Mar 26 19:12 for-ls.sh\n",
      "\u001b[01;31m\u001b[K-rwxrw-r\u001b[m\u001b[K-- 1 ubuntu ubuntu   103 Mar 26 19:10 for-num.sh\n",
      "\u001b[01;31m\u001b[K-rwxrw-r\u001b[m\u001b[K-- 1 ubuntu ubuntu   111 Mar 26 19:13 for-par.sh\n",
      "\u001b[01;31m\u001b[K-rwxrw-r\u001b[m\u001b[K-- 1 ubuntu ubuntu   102 Mar 26 19:09 for1.sh\n",
      "\u001b[01;31m\u001b[K-rw-rw-r\u001b[m\u001b[K-- 1 ubuntu ubuntu   189 Mar 18 19:58 grep_file_seq.sh\n",
      "\u001b[01;31m\u001b[K-rwxrw-r\u001b[m\u001b[K-- 1 ubuntu ubuntu   177 Mar 26 18:15 if-ls.sh\n",
      "\u001b[01;31m\u001b[K-rwxrw-r\u001b[m\u001b[K-- 1 ubuntu ubuntu   132 Mar 26 18:29 para.sh\n",
      "\u001b[01;31m\u001b[K-rwxrw-r\u001b[m\u001b[K-- 1 ubuntu ubuntu   165 Mar 26 19:19 select.sh\n",
      "\u001b[01;31m\u001b[K-rw-rw-r\u001b[m\u001b[K-- 1 ubuntu ubuntu 17107 Mar 26 20:32 shellprg.ipynb\n",
      "\u001b[01;31m\u001b[K-rwxrw-r\u001b[m\u001b[K-- 1 ubuntu ubuntu   344 Mar 26 20:46 space-convert.sh\n",
      "\u001b[01;31m\u001b[K-rwxrw-r\u001b[m\u001b[K-- 1 ubuntu ubuntu   181 Mar 26 18:20 test-par.sh\n",
      "\u001b[01;31m\u001b[K-rwxrw-r\u001b[m\u001b[K-- 1 ubuntu ubuntu   292 Mar 18 19:49 text.sh\n",
      "\u001b[01;31m\u001b[K-rwxrw-r\u001b[m\u001b[K-- 1 ubuntu ubuntu   222 Mar 26 20:29 time-signal.sh\n",
      "\u001b[01;31m\u001b[K-rwxrw-r\u001b[m\u001b[K-- 1 ubuntu ubuntu   238 Mar 26 19:03 triplet-stop.sh\n",
      "\u001b[01;31m\u001b[K-rwxrw-r\u001b[m\u001b[K-- 1 ubuntu ubuntu   164 Mar 26 19:07 triplet-until.sh\n",
      "\u001b[01;31m\u001b[K-rwxrw-r\u001b[m\u001b[K-- 1 ubuntu ubuntu   158 Mar 26 18:26 triplet.sh\n"
     ]
    }
   ],
   "source": [
    "ls -l ../ShellPrg/ | egrep '^.{7}r'"
   ]
  },
  {
   "cell_type": "code",
   "execution_count": 30,
   "id": "b4bd2916-700f-4225-8cb0-b6e2d5fa1988",
   "metadata": {},
   "outputs": [
    {
     "name": "stdout",
     "output_type": "stream",
     "text": [
      "SEQRES 1 A  162  MET ARG ILE LEU VAL LEU \u001b[01;31m\u001b[KGLY\u001b[m\u001b[K VAL \u001b[01;31m\u001b[KGLY\u001b[m\u001b[K ASN\n",
      "SEQRES 2 A  162  THR ASP GLU ALA ILE \u001b[01;31m\u001b[KGLY\u001b[m\u001b[K VAL ARG ILE VAL\n",
      "SEQRES 3 A  162  GLU \u001b[01;31m\u001b[KGLN\u001b[m\u001b[K ARG TYR ILE LEU PRO ASP TYR VAL\n",
      "SEQRES 4 A  162  ASP \u001b[01;31m\u001b[KGLY\u001b[m\u001b[K \u001b[01;31m\u001b[KGLY\u001b[m\u001b[K THR ALA \u001b[01;31m\u001b[KGLY\u001b[m\u001b[K MET GLU LEU LEU\n",
      "HELIX  1 hel ILE A   18  \u001b[01;31m\u001b[KGLN\u001b[m\u001b[K A   28\n"
     ]
    }
   ],
   "source": [
    "egrep '(GLY|GLN)' structure.pdb"
   ]
  },
  {
   "cell_type": "code",
   "execution_count": 31,
   "id": "b10463a8-fc55-4322-b840-421e761e8784",
   "metadata": {},
   "outputs": [
    {
     "name": "stdout",
     "output_type": "stream",
     "text": [
      "SEQRES 1 A  162  MET ARG \u001b[01;31m\u001b[KILE\u001b[m\u001b[K LEU VAL LEU \u001b[01;31m\u001b[KGLY\u001b[m\u001b[K VAL \u001b[01;31m\u001b[KGLY\u001b[m\u001b[K ASN\n",
      "SEQRES 2 A  162  THR ASP GLU ALA \u001b[01;31m\u001b[KILE\u001b[m\u001b[K \u001b[01;31m\u001b[KGLY\u001b[m\u001b[K VAL ARG \u001b[01;31m\u001b[KILE\u001b[m\u001b[K VAL\n",
      "SEQRES 3 A  162  GLU \u001b[01;31m\u001b[KGLN\u001b[m\u001b[K ARG TYR \u001b[01;31m\u001b[KILE\u001b[m\u001b[K LEU PRO ASP TYR VAL\n",
      "SEQRES 4 A  162  ASP \u001b[01;31m\u001b[KGLY\u001b[m\u001b[K \u001b[01;31m\u001b[KGLY\u001b[m\u001b[K THR ALA \u001b[01;31m\u001b[KGLY\u001b[m\u001b[K MET GLU LEU LEU\n",
      "HELIX  1 hel \u001b[01;31m\u001b[KILE\u001b[m\u001b[K A   18  \u001b[01;31m\u001b[KGLN\u001b[m\u001b[K A   28\n",
      "HELIX  3 hel \u001b[01;31m\u001b[KILE\u001b[m\u001b[K A  138  SER A  152\n"
     ]
    }
   ],
   "source": [
    "egrep '(GLY|GLN|ILE)' structure.pdb"
   ]
  },
  {
   "cell_type": "code",
   "execution_count": 32,
   "id": "036a9730-a3a1-4fb5-a6ac-f6da4c5f6b04",
   "metadata": {},
   "outputs": [
    {
     "name": "stdout",
     "output_type": "stream",
     "text": [
      "SH\u001b[01;31m\u001b[KEE\u001b[m\u001b[KT  1 str ARG A    2  ASN A  10\n",
      "SH\u001b[01;31m\u001b[KEE\u001b[m\u001b[KT  2 str ARG A   29  LEU A  32\n",
      "SH\u001b[01;31m\u001b[KEE\u001b[m\u001b[KT  3 str TYR A   35  THR A  43\n"
     ]
    }
   ],
   "source": [
    "egrep '([A-Za-z])\\1' structure.pdb"
   ]
  },
  {
   "cell_type": "code",
   "execution_count": 33,
   "id": "bc1e6f36-b99e-483c-8986-969f21ce77d3",
   "metadata": {},
   "outputs": [
    {
     "name": "stdout",
     "output_type": "stream",
     "text": [
      "GATAGCTATGTCGATGCTGATGCATGCATGC\u001b[01;31m\u001b[KGGGGGG\u001b[m\u001b[KATTGAAAAAGG\n",
      "C\u001b[01;31m\u001b[KGTGTGT\u001b[m\u001b[KAGCGTA\u001b[01;31m\u001b[KATATAT\u001b[m\u001b[KGCTATAGCATTGGCATTA\n"
     ]
    }
   ],
   "source": [
    "egrep '([ACTG][ACTG])\\1\\1' sequence.dna"
   ]
  },
  {
   "cell_type": "code",
   "execution_count": 85,
   "id": "87463b91-3bdf-494e-9e84-db240275ca5d",
   "metadata": {},
   "outputs": [
    {
     "name": "stdout",
     "output_type": "stream",
     "text": [
      "\u001b[01;31m\u001b[Kaeb\u001b[m\u001b[Kcc\u001b[01;31m\u001b[Kab\u001b[m\u001b[Kc\n"
     ]
    }
   ],
   "source": [
    "echo \"aebccabc\" | grep -P 'a.*?b'"
   ]
  },
  {
   "cell_type": "code",
   "execution_count": null,
   "id": "c160eec1-0600-4ae6-9950-0787aa383134",
   "metadata": {},
   "outputs": [],
   "source": []
  }
 ],
 "metadata": {
  "kernelspec": {
   "display_name": "Bash",
   "language": "bash",
   "name": "bash"
  },
  "language_info": {
   "codemirror_mode": "shell",
   "file_extension": ".sh",
   "mimetype": "text/x-sh",
   "name": "bash"
  }
 },
 "nbformat": 4,
 "nbformat_minor": 5
}
