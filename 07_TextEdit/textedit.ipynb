{
 "cells": [
  {
   "cell_type": "markdown",
   "id": "3fd1e9bc-b5fd-42ac-bc0a-ae514fb1dd86",
   "metadata": {},
   "source": [
    "# Chapter 7 – Playing with Text and Data File\n",
    "How to look at gigabyte large text files? How to extract relevant or unique lines? How to compare text files? And, how to edit them? This chapter introduces basic command line tools and introduces you to the powerful Vim text editor."
   ]
  },
  {
   "cell_type": "code",
   "execution_count": null,
   "id": "55135b74-dfc1-4b92-b05f-2d8d2ad2505c",
   "metadata": {},
   "outputs": [],
   "source": [
    "cat genomes.txt"
   ]
  },
  {
   "cell_type": "code",
   "execution_count": null,
   "id": "40efc282-89a4-493f-92ca-96f1c7b35ee8",
   "metadata": {},
   "outputs": [],
   "source": [
    "sort -u -n genomes.txt"
   ]
  },
  {
   "cell_type": "code",
   "execution_count": null,
   "id": "54cba12d-81be-4d3e-bece-61626bf7b519",
   "metadata": {},
   "outputs": [],
   "source": [
    "sort -n genomes.txt | sort -u"
   ]
  },
  {
   "cell_type": "code",
   "execution_count": null,
   "id": "9f27ac6f-ddaf-4920-8e7e-9c29d16da92f",
   "metadata": {},
   "outputs": [],
   "source": [
    "sort -t - -k 3 -n genomes.txt"
   ]
  },
  {
   "cell_type": "code",
   "execution_count": null,
   "id": "1104614c-ef18-4875-a9d4-ebd408fff6b2",
   "metadata": {},
   "outputs": [],
   "source": [
    "wc genomes.txt"
   ]
  },
  {
   "cell_type": "code",
   "execution_count": null,
   "id": "68f1101c-8172-4ee6-8496-e6a864e837fe",
   "metadata": {},
   "outputs": [],
   "source": [
    "split -l 2 genomes.txt genomes."
   ]
  },
  {
   "cell_type": "code",
   "execution_count": null,
   "id": "72573064-17d1-4c74-a61f-95b40f2e2160",
   "metadata": {},
   "outputs": [],
   "source": [
    "ls -l"
   ]
  },
  {
   "cell_type": "code",
   "execution_count": null,
   "id": "95c143d9-85ed-4a68-8c77-bfa725e99acc",
   "metadata": {},
   "outputs": [],
   "source": [
    "cat genomes.aa"
   ]
  },
  {
   "cell_type": "code",
   "execution_count": null,
   "id": "580933a8-6545-4235-b035-b70e6369a784",
   "metadata": {},
   "outputs": [],
   "source": [
    "cut -f 1,3 -d \"-\" genomes.txt"
   ]
  },
  {
   "cell_type": "code",
   "execution_count": null,
   "id": "e8c34658-0c67-4e3f-a91b-d38315536312",
   "metadata": {},
   "outputs": [],
   "source": [
    "paste -s genomes.txt"
   ]
  },
  {
   "cell_type": "code",
   "execution_count": null,
   "id": "08a7c25c-bca0-4df2-a2aa-285e0715fef1",
   "metadata": {},
   "outputs": [],
   "source": [
    "cat numbers.txt"
   ]
  },
  {
   "cell_type": "code",
   "execution_count": null,
   "id": "57ba757a-5249-423a-9af2-e438231ecb56",
   "metadata": {},
   "outputs": [],
   "source": [
    "paste -s numbers.txt"
   ]
  },
  {
   "cell_type": "code",
   "execution_count": null,
   "id": "e3cd6a52-18b5-4073-abcf-a9dc9c2a7b3a",
   "metadata": {},
   "outputs": [],
   "source": [
    "egrep human genomes.txt"
   ]
  },
  {
   "cell_type": "code",
   "execution_count": null,
   "id": "d279f7e0-fcc0-463e-9ab2-d88744210248",
   "metadata": {},
   "outputs": [],
   "source": [
    "egrep 'bacteria|human' genomes.txt"
   ]
  },
  {
   "cell_type": "code",
   "execution_count": null,
   "id": "145155ff-3167-4bfc-95e3-c0b9a9499c28",
   "metadata": {},
   "outputs": [],
   "source": [
    "egrep -c genes genomes.txt"
   ]
  },
  {
   "cell_type": "code",
   "execution_count": null,
   "id": "511b9027-a25a-41fc-847c-814923d0a376",
   "metadata": {},
   "outputs": [],
   "source": [
    "diff amino-1.txt amino-2.txt"
   ]
  },
  {
   "cell_type": "code",
   "execution_count": null,
   "id": "619a767d-fc79-4490-8983-dfba1f48cd5e",
   "metadata": {},
   "outputs": [],
   "source": [
    "diff -c amino-1.txt amino-2.txt"
   ]
  },
  {
   "cell_type": "code",
   "execution_count": null,
   "id": "ff743ded-5ff9-4961-964c-ca7dd7a2b2f4",
   "metadata": {},
   "outputs": [],
   "source": [
    "sort amino-1.txt > amino-1.txt.sorted"
   ]
  },
  {
   "cell_type": "code",
   "execution_count": null,
   "id": "d949bbd0-a2b6-42cb-86e5-2ba70c3fa5aa",
   "metadata": {},
   "outputs": [],
   "source": [
    "sort amino-2.txt > amino-2.txt.sorted"
   ]
  },
  {
   "cell_type": "code",
   "execution_count": null,
   "id": "c954e072-0e07-466e-9330-52c4fa608a81",
   "metadata": {},
   "outputs": [],
   "source": [
    "comm amino-1.txt.sorted amino-2.txt.sorted"
   ]
  },
  {
   "cell_type": "code",
   "execution_count": null,
   "id": "b0e5c932-58f0-4063-8057-6d65204557bd",
   "metadata": {},
   "outputs": [],
   "source": [
    "comm -12 amino-1.txt.sorted amino-2.txt.sorted"
   ]
  },
  {
   "cell_type": "code",
   "execution_count": null,
   "id": "3cc3c3fa-5ff2-4290-b331-6a7d6e071fa1",
   "metadata": {},
   "outputs": [],
   "source": [
    "vim -e genomes.txt < edit.vi"
   ]
  },
  {
   "cell_type": "code",
   "execution_count": null,
   "id": "15e5619e-0a67-4adb-a6a9-477f195b5dae",
   "metadata": {},
   "outputs": [],
   "source": [
    "cat genomes.new"
   ]
  }
 ],
 "metadata": {
  "kernelspec": {
   "display_name": "Bash",
   "language": "bash",
   "name": "bash"
  },
  "language_info": {
   "codemirror_mode": "shell",
   "file_extension": ".sh",
   "mimetype": "text/x-sh",
   "name": "bash"
  }
 },
 "nbformat": 4,
 "nbformat_minor": 5
}
