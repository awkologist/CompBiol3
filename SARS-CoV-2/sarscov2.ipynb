{
 "cells": [
  {
   "cell_type": "markdown",
   "id": "45d395ae-04d8-4724-9c0a-3122e78b8abd",
   "metadata": {},
   "source": [
    "# Exploring Early SARS-CoV2 Mutations\n",
    "We are working in the directory *SARS-CoV-2*."
   ]
  },
  {
   "cell_type": "markdown",
   "id": "49f2deb2-58a2-47e9-a312-ff882713be46",
   "metadata": {},
   "source": [
    "## Install Programs"
   ]
  },
  {
   "cell_type": "markdown",
   "id": "46dbfbc7-a719-45f3-863e-3abf5db7a01c",
   "metadata": {},
   "source": [
    "We need two AWK scripts"
   ]
  },
  {
   "cell_type": "code",
   "execution_count": 10,
   "id": "e8173fd1-ad65-42fc-ace0-9ca2505f9d8c",
   "metadata": {},
   "outputs": [
    {
     "name": "stdout",
     "output_type": "stream",
     "text": [
      "--2024-02-10 10:58:47--  https://github.com/awkologist/CompBiol3/raw/main/SARS-CoV-2/fasta2tbl\n",
      "Resolving github.com (github.com)... 140.82.121.3\n",
      "Connecting to github.com (github.com)|140.82.121.3|:443... connected.\n",
      "HTTP request sent, awaiting response... 302 Found\n",
      "Location: https://raw.githubusercontent.com/awkologist/CompBiol3/main/SARS-CoV-2/fasta2tbl [following]\n",
      "--2024-02-10 10:58:47--  https://raw.githubusercontent.com/awkologist/CompBiol3/main/SARS-CoV-2/fasta2tbl\n",
      "Resolving raw.githubusercontent.com (raw.githubusercontent.com)... 185.199.109.133, 185.199.108.133, 185.199.110.133, ...\n",
      "Connecting to raw.githubusercontent.com (raw.githubusercontent.com)|185.199.109.133|:443... connected.\n",
      "HTTP request sent, awaiting response... 200 OK\n",
      "Length: 299 [text/plain]\n",
      "Saving to: ‘fasta2tbl.1’\n",
      "\n",
      "fasta2tbl.1         100%[===================>]     299  --.-KB/s    in 0s      \n",
      "\n",
      "2024-02-10 10:58:47 (586 KB/s) - ‘fasta2tbl.1’ saved [299/299]\n",
      "\n"
     ]
    }
   ],
   "source": [
    "wget 'https://github.com/awkologist/CompBiol3/raw/main/SARS-CoV-2/fasta2tbl'"
   ]
  },
  {
   "cell_type": "code",
   "execution_count": 9,
   "id": "74bd241f-944f-40ad-a881-eeea86aad7dd",
   "metadata": {},
   "outputs": [
    {
     "name": "stdout",
     "output_type": "stream",
     "text": [
      "--2024-02-10 10:44:06--  https://github.com/awkologist/CompBiol3/raw/main/SARS-CoV-2/compare-cov2.awk\n",
      "Resolving github.com (github.com)... 140.82.121.3\n",
      "Connecting to github.com (github.com)|140.82.121.3|:443... connected.\n",
      "HTTP request sent, awaiting response... 302 Found\n",
      "Location: https://raw.githubusercontent.com/awkologist/CompBiol3/main/SARS-CoV-2/compare-cov2.awk [following]\n",
      "--2024-02-10 10:44:06--  https://raw.githubusercontent.com/awkologist/CompBiol3/main/SARS-CoV-2/compare-cov2.awk\n",
      "Resolving raw.githubusercontent.com (raw.githubusercontent.com)... 185.199.108.133, 185.199.110.133, 185.199.109.133, ...\n",
      "Connecting to raw.githubusercontent.com (raw.githubusercontent.com)|185.199.108.133|:443... connected.\n",
      "HTTP request sent, awaiting response... 200 OK\n",
      "Length: 2904 (2.8K) [text/plain]\n",
      "Saving to: ‘compare-cov2.awk.1’\n",
      "\n",
      "compare-cov2.awk.1  100%[===================>]   2.84K  --.-KB/s    in 0.003s  \n",
      "\n",
      "2024-02-10 10:44:07 (855 KB/s) - ‘compare-cov2.awk.1’ saved [2904/2904]\n",
      "\n"
     ]
    }
   ],
   "source": [
    "wget 'https://github.com/awkologist/CompBiol3/raw/main/SARS-CoV-2/compare-cov2.awk'"
   ]
  },
  {
   "cell_type": "markdown",
   "id": "db136504-ee39-4870-8934-590aad9d468a",
   "metadata": {},
   "source": [
    "We also need the molecular structure viewer **Jmol**"
   ]
  },
  {
   "cell_type": "code",
   "execution_count": null,
   "id": "daca120d-fac4-469f-a60f-3ff271355e5e",
   "metadata": {},
   "outputs": [],
   "source": [
    "sudo apt install -y jmol"
   ]
  },
  {
   "cell_type": "markdown",
   "id": "581a7405-b16b-4197-aae2-5162f2cbd588",
   "metadata": {},
   "source": [
    "## Download Virus Sequences"
   ]
  },
  {
   "cell_type": "markdown",
   "id": "aaf55e66-397e-47ec-a30f-b460b26756e8",
   "metadata": {},
   "source": [
    "Download reference genome:"
   ]
  },
  {
   "cell_type": "code",
   "execution_count": 1,
   "id": "f97d86d8-8de8-43ef-ab2f-0976941223df",
   "metadata": {},
   "outputs": [],
   "source": [
    "efetch -db nuccore -id NC_045512 -format fasta > wuhan-1.fasta"
   ]
  },
  {
   "cell_type": "markdown",
   "id": "8bc4bd91-e80c-427f-811b-6854606431c8",
   "metadata": {},
   "source": [
    "We create a copy in tab-delimited format:"
   ]
  },
  {
   "cell_type": "code",
   "execution_count": 13,
   "id": "e3a5c691-06f2-4852-9d23-b043154e57d7",
   "metadata": {},
   "outputs": [],
   "source": [
    "./fasta2tbl wuhan-1.fasta > wuhan-1.tab"
   ]
  },
  {
   "cell_type": "markdown",
   "id": "eeaf5068-27a5-4a0c-af57-8249381bbf61",
   "metadata": {},
   "source": [
    "Download from [NCBI](https://www.ncbi.nlm.nih.gov/sars-cov-2/) viruses from Europe, from human hosts, without ambigious characters, complete nucleotide sequences, and a sequence length of exactly 29,903 nt. They are downloaded via the web browser as *sequences.fasta*. Move them into your current working directory."
   ]
  },
  {
   "cell_type": "code",
   "execution_count": 1,
   "id": "a6bb24c6-ae29-437b-877c-6d5dc3cb2450",
   "metadata": {},
   "outputs": [
    {
     "name": "stdout",
     "output_type": "stream",
     "text": [
      "NC_045512.2 Severe acute respiratory syndrome coronavirus 2 isolate Wuhan-Hu-1, complete genome\n"
     ]
    }
   ],
   "source": [
    "cut -f 1 wuhan-1.tab"
   ]
  },
  {
   "cell_type": "markdown",
   "id": "47d4b67b-b7ec-43cc-9afa-1fbeb8a1d9c2",
   "metadata": {},
   "source": [
    "Rename the file to *cov2-len-29903.fasta*"
   ]
  },
  {
   "cell_type": "code",
   "execution_count": 2,
   "id": "ec84e372-39b3-4963-859a-faf9e63269a3",
   "metadata": {},
   "outputs": [],
   "source": [
    "mv sequences.fasta cov2-len-29903.fasta"
   ]
  },
  {
   "cell_type": "code",
   "execution_count": 3,
   "id": "8f6bd928-408d-4a6e-a5f7-c6d1264dfb5a",
   "metadata": {},
   "outputs": [
    {
     "name": "stdout",
     "output_type": "stream",
     "text": [
      "3371\n"
     ]
    }
   ],
   "source": [
    "grep -c \">\" cov2-len-29903.fasta"
   ]
  },
  {
   "cell_type": "markdown",
   "id": "126c0e9f-ff29-4cdf-acfb-a5387f9593c6",
   "metadata": {},
   "source": [
    "## Convert FASTA to TAB and Edit Header"
   ]
  },
  {
   "cell_type": "code",
   "execution_count": 9,
   "id": "14a152a9-e4af-4b07-8062-b17bb065b14e",
   "metadata": {},
   "outputs": [
    {
     "name": "stdout",
     "output_type": "stream",
     "text": [
      ">OY902096.1 |United Kingdom:England|2020-10-12\n"
     ]
    }
   ],
   "source": [
    "head -1 sequences.fasta"
   ]
  },
  {
   "cell_type": "code",
   "execution_count": 2,
   "id": "8ae3e319-a2d8-4966-8d25-382e9c37faf8",
   "metadata": {},
   "outputs": [],
   "source": [
    "./fasta2tbl sequences.fasta | sed 's/|/\\t/g' > cov2-len-29903.tab"
   ]
  },
  {
   "cell_type": "code",
   "execution_count": 4,
   "id": "c52a8f3f-f15e-4afb-bc0f-8b6e0914da22",
   "metadata": {},
   "outputs": [
    {
     "name": "stdout",
     "output_type": "stream",
     "text": [
      "3371 cov2-len-29903.tab\n"
     ]
    }
   ],
   "source": [
    "wc -l cov2-len-29903.tab"
   ]
  },
  {
   "cell_type": "code",
   "execution_count": 5,
   "id": "4cdf35b2-577e-44a3-88fc-e219cc91e604",
   "metadata": {},
   "outputs": [
    {
     "name": "stdout",
     "output_type": "stream",
     "text": [
      "OY902096.1 \n",
      "OX648031.1 \n"
     ]
    }
   ],
   "source": [
    "cut -f 1 cov2-len-29903.tab | head -2"
   ]
  },
  {
   "cell_type": "code",
   "execution_count": 6,
   "id": "dc0d5dfa-7e28-4f14-88ec-7ed512a78c4e",
   "metadata": {},
   "outputs": [
    {
     "name": "stdout",
     "output_type": "stream",
     "text": [
      "OY902096.1 \t2020-10-12\n",
      "OX648031.1 \t2020-11-01\n"
     ]
    }
   ],
   "source": [
    "cut -f 1,3 cov2-len-29903.tab | head -2"
   ]
  },
  {
   "cell_type": "code",
   "execution_count": 7,
   "id": "32fc7120-24e2-4120-83be-1e8ef23f8d31",
   "metadata": {},
   "outputs": [
    {
     "name": "stdout",
     "output_type": "stream",
     "text": [
      "OY902096.1 \tUnited Kingdom:England\t2020-10-12\n",
      "OX648031.1 \tUnited Kingdom:England\t2020-11-01\n"
     ]
    }
   ],
   "source": [
    "cut -f 1-3 cov2-len-29903.tab | head -2"
   ]
  },
  {
   "cell_type": "markdown",
   "id": "a1664179-e592-4842-81ba-13781b80e01a",
   "metadata": {},
   "source": [
    "## Analyze Data"
   ]
  },
  {
   "cell_type": "code",
   "execution_count": 10,
   "id": "735bac34-ca2f-4ae2-9bc6-f270f5bb3b52",
   "metadata": {},
   "outputs": [
    {
     "name": "stdout",
     "output_type": "stream",
     "text": [
      "     82 France\n",
      "      7 Germany\n",
      "      2 Greece\n",
      "      1 Italy\n",
      "     14 Poland\n",
      "      7 Russia\n",
      "      1 Serbia\n",
      "      8 Spain\n",
      "      1 Sweden\n",
      "   3248 United Kingdom\n"
     ]
    }
   ],
   "source": [
    "cut -f 2 cov2-len-29903.tab | sed 's/:.*//' | sort | uniq -c "
   ]
  },
  {
   "cell_type": "code",
   "execution_count": 11,
   "id": "b832f5c3-6222-4866-8cd9-e835e89d0e8d",
   "metadata": {},
   "outputs": [
    {
     "name": "stdout",
     "output_type": "stream",
     "text": [
      "OK075090.1 \tGermany: Langen\t2021-01-08\n",
      "MT358638.1 \tGermany\t2020-02\n",
      "MT358639.1 \tGermany\t2020-02\n",
      "MT358640.1 \tGermany\t2020-02\n",
      "MT358641.1 \tGermany\t2020-02\n",
      "MT358642.1 \tGermany\t2020-02\n",
      "MT358643.1 \tGermany\t2020-02\n"
     ]
    }
   ],
   "source": [
    "egrep \"Germany\" cov2-len-29903.tab | cut -f 1-3"
   ]
  },
  {
   "cell_type": "code",
   "execution_count": 18,
   "id": "978625c2-58a6-4021-9411-b49a0552ba55",
   "metadata": {},
   "outputs": [
    {
     "name": "stdout",
     "output_type": "stream",
     "text": [
      "# Compared: NC_045512.2 vs MT358638.1  | 12/2019 vs 2020-02 | Wuhan vs Germany\n",
      "MT358638.1  3518: G>T \n",
      "MT358638.1  12704: G>T \n",
      "MT358638.1  12797: G>A \n",
      "MT358638.1  17423: A>G \n",
      "MT358638.1  27272: T>C \n",
      "MT358638.1  28854: C>T \n",
      "# of N's: 0 of 29903\n",
      "# of exchanges: 6 of 29903\n"
     ]
    }
   ],
   "source": [
    "awk -f compare-cov2.awk -v ref=wuhan-1.tab -v seq=cov2-len-29903.tab -v id2=MT358638"
   ]
  },
  {
   "cell_type": "code",
   "execution_count": 20,
   "id": "939e0dd6-d738-4972-97a9-4dc22044c0b5",
   "metadata": {},
   "outputs": [
    {
     "name": "stdout",
     "output_type": "stream",
     "text": [
      "# Compared: NC_045512.2 vs MT358638.1  | 12/2019 vs 2020-02 | Wuhan vs Germany\n",
      "MT358638.1  3518: G>T \n",
      "MT358638.1  12704: G>T \n",
      "MT358638.1  12797: G>A \n",
      "MT358638.1  17423: A>G \n",
      "MT358638.1  27272: T>C \n",
      "MT358638.1  28854: C>T \n",
      "# of N's: 0 of 29903\n",
      "# of exchanges: 6 of 29903\n",
      "# Compared: NC_045512.2 vs MT358639.1  | 12/2019 vs 2020-02 | Wuhan vs Germany\n",
      "MT358639.1  241: C>T \n",
      "MT358639.1  3037: C>T \n",
      "MT358639.1  14408: C>T \n",
      "MT358639.1  23403: A>G SPIKE NT:1841 AA:614 -> D\n",
      "MT358639.1  28881: G>A \n",
      "MT358639.1  28882: G>A \n",
      "MT358639.1  28883: G>C \n",
      "# of N's: 0 of 29903\n",
      "# of exchanges: 7 of 29903\n",
      "# Compared: NC_045512.2 vs MT358640.1  | 12/2019 vs 2020-02 | Wuhan vs Germany\n",
      "MT358640.1  241: C>T \n",
      "MT358640.1  3037: C>T \n",
      "MT358640.1  6228: A>G \n",
      "MT358640.1  14408: C>T \n",
      "MT358640.1  16289: C>Y \n",
      "MT358640.1  23403: A>G SPIKE NT:1841 AA:614 -> D\n",
      "MT358640.1  28881: G>A \n",
      "MT358640.1  28882: G>A \n",
      "MT358640.1  28883: G>C \n",
      "MT358640.1  28961: C>T \n",
      "MT358640.1  29870: C>M \n",
      "# of N's: 0 of 29903\n",
      "# of exchanges: 11 of 29903\n",
      "# Compared: NC_045512.2 vs MT358641.1  | 12/2019 vs 2020-02 | Wuhan vs Germany\n",
      "MT358641.1  1440: G>A \n",
      "MT358641.1  2891: G>A \n",
      "MT358641.1  23235: A>G SPIKE NT:1673 AA:558 -> K\n",
      "# of N's: 0 of 29903\n",
      "# of exchanges: 3 of 29903\n",
      "# Compared: NC_045512.2 vs MT358642.1  | 12/2019 vs 2020-02 | Wuhan vs Germany\n",
      "MT358642.1  241: C>T \n",
      "MT358642.1  3037: C>T \n",
      "MT358642.1  6228: A>G \n",
      "MT358642.1  14408: C>T \n",
      "MT358642.1  23403: A>G SPIKE NT:1841 AA:614 -> D\n",
      "MT358642.1  28881: G>A \n",
      "MT358642.1  28882: G>A \n",
      "MT358642.1  28883: G>C \n",
      "MT358642.1  29870: C>M \n",
      "# of N's: 0 of 29903\n",
      "# of exchanges: 9 of 29903\n",
      "# Compared: NC_045512.2 vs MT358643.1  | 12/2019 vs 2020-02 | Wuhan vs Germany\n",
      "MT358643.1  241: C>T \n",
      "MT358643.1  3037: C>T \n",
      "MT358643.1  14408: C>T \n",
      "MT358643.1  15324: C>T \n",
      "MT358643.1  23179: C>Y SPIKE NT:1617 AA:540 -> N RBDomain\n",
      "MT358643.1  23403: A>G SPIKE NT:1841 AA:614 -> D\n",
      "# of N's: 0 of 29903\n",
      "# of exchanges: 6 of 29903\n"
     ]
    }
   ],
   "source": [
    "for i in MT358638 MT358639 MT358640 MT358641 MT358642 MT358643; do awk -f compare-cov2.awk -v ref=wuhan-1.tab -v seq=cov2-len-29903.tab -v id2=$i; done"
   ]
  },
  {
   "cell_type": "code",
   "execution_count": 21,
   "id": "00c5bdb9-c029-4230-914c-bfa61075b3b4",
   "metadata": {},
   "outputs": [
    {
     "name": "stdout",
     "output_type": "stream",
     "text": [
      "# Compared: NC_045512.2 vs OK075090.1  | 12/2019 vs 2021-01-08 | Wuhan vs Germany: Langen\n",
      "OK075090.1  241: C>T \n",
      "OK075090.1  1059: C>T \n",
      "OK075090.1  3037: C>T \n",
      "OK075090.1  5143: T>G \n",
      "OK075090.1  7843: C>T \n",
      "OK075090.1  14408: C>T \n",
      "OK075090.1  15920: T>C \n",
      "OK075090.1  21846: C>T SPIKE NT:284 AA:95 -> T\n",
      "OK075090.1  22296: A>G SPIKE NT:734 AA:245 -> H\n",
      "OK075090.1  23403: A>G SPIKE NT:1841 AA:614 -> D\n",
      "OK075090.1  23618: A>G SPIKE NT:2056 AA:686 -> S\n",
      "OK075090.1  26895: C>T \n",
      "OK075090.1  27996: G>T \n",
      "OK075090.1  28044: G>T \n",
      "OK075090.1  29769: C>T \n",
      "# of N's: 0 of 29903\n",
      "# of exchanges: 15 of 29903\n"
     ]
    }
   ],
   "source": [
    "awk -f compare-cov2.awk -v ref=wuhan-1.tab -v seq=cov2-len-29903.tab -v id2=OK075090"
   ]
  },
  {
   "cell_type": "code",
   "execution_count": 31,
   "id": "d426a855-6549-4402-90d1-ab21acd06e53",
   "metadata": {},
   "outputs": [],
   "source": [
    "for i in $(cut -f 1 cov2-len-29903.tab | sed 's/\\..*//'); do awk -f compare-cov2.awk -v ref=wuhan-1.tab -v seq=cov2-len-29903.tab -v id2=$i; done > result.txt"
   ]
  },
  {
   "cell_type": "code",
   "execution_count": 36,
   "id": "6cd73573-74fb-4930-8b86-43f13470178a",
   "metadata": {},
   "outputs": [
    {
     "name": "stdout",
     "output_type": "stream",
     "text": [
      "57293\n"
     ]
    }
   ],
   "source": [
    "egrep -c \">\" result.txt"
   ]
  },
  {
   "cell_type": "code",
   "execution_count": 37,
   "id": "00f0181c-d651-456f-b3f9-7a36a1c6af60",
   "metadata": {},
   "outputs": [
    {
     "name": "stdout",
     "output_type": "stream",
     "text": [
      "9556\n"
     ]
    }
   ],
   "source": [
    "egrep -c \"SPIKE\" result.txt"
   ]
  },
  {
   "cell_type": "code",
   "execution_count": 38,
   "id": "000e5474-ed33-46b3-975b-7799d7779106",
   "metadata": {},
   "outputs": [
    {
     "name": "stdout",
     "output_type": "stream",
     "text": [
      "161\n"
     ]
    }
   ],
   "source": [
    "egrep -c \"Motif\" result.txt"
   ]
  },
  {
   "cell_type": "code",
   "execution_count": 40,
   "id": "dc361887-699f-4f64-b633-c4f39fbe34c8",
   "metadata": {},
   "outputs": [
    {
     "name": "stdout",
     "output_type": "stream",
     "text": [
      "OX648044.1  22879: C>A SPIKE NT:1317 AA:440 -> N RBDomain RBMotif\n",
      "OX648046.1  22992: G>A SPIKE NT:1430 AA:477 -> S RBDomain RBMotif\n",
      "OX648346.1  22992: G>A SPIKE NT:1430 AA:477 -> S RBDomain RBMotif\n",
      "OX648371.1  22992: G>A SPIKE NT:1430 AA:477 -> S RBDomain RBMotif\n",
      "OX648814.1  22992: G>A SPIKE NT:1430 AA:477 -> S RBDomain RBMotif\n"
     ]
    }
   ],
   "source": [
    "egrep \"Motif\" result.txt | head -5"
   ]
  },
  {
   "cell_type": "code",
   "execution_count": 52,
   "id": "141d1068-5aae-4b62-9b63-43effe797dc0",
   "metadata": {},
   "outputs": [
    {
     "name": "stdout",
     "output_type": "stream",
     "text": [
      "     26 AA:440\n",
      "      3 AA:441\n",
      "      1 AA:445\n",
      "      4 AA:452\n",
      "      4 AA:453\n",
      "      1 AA:454\n",
      "      2 AA:464\n",
      "      1 AA:471\n",
      "      1 AA:473\n",
      "      1 AA:475\n",
      "      2 AA:476\n",
      "     97 AA:477\n",
      "      4 AA:478\n",
      "      2 AA:482\n",
      "      3 AA:483\n",
      "      2 AA:484\n",
      "      3 AA:490\n",
      "      1 AA:491\n",
      "      1 AA:501\n",
      "      1 AA:502\n",
      "      1 AA:503\n"
     ]
    }
   ],
   "source": [
    "egrep \"Motif\" result.txt | cut -d ' ' -f 7 | sort | uniq -c"
   ]
  },
  {
   "cell_type": "markdown",
   "id": "654f7c27-aefe-4456-8dd6-43ff28cf33dc",
   "metadata": {},
   "source": [
    "The following command requires a file named *7DF4.script*"
   ]
  },
  {
   "cell_type": "markdown",
   "id": "dc7bd9fe-981d-4474-a547-595b597f3d85",
   "metadata": {},
   "source": [
    "```\n",
    "load =7DF4\n",
    "spacefill off; wireframe off\n",
    "cartoon\n",
    "select :A; color lightgray # ACE2\n",
    "select :C; color gray # Spike 2\n",
    "select :D; color darkgray # Spike 3\n",
    "select :B; color lightblue # Spike 1\n",
    "select 319-541:B; color blue # RBDomain\n",
    "select 437-508:B; color red # RBMotif\n",
    "```"
   ]
  },
  {
   "cell_type": "code",
   "execution_count": 65,
   "id": "37e36ba0-ead8-4d9c-a13b-e9d430b34ff8",
   "metadata": {},
   "outputs": [
    {
     "name": "stdout",
     "output_type": "stream",
     "text": [
      "select 440:B; spacefill 300; color yellow\n",
      "select 441:B; spacefill 100; color yellow\n",
      "select 445:B; spacefill 100; color yellow\n",
      "select 452:B; spacefill 100; color yellow\n",
      "select 453:B; spacefill 100; color yellow\n",
      "select 454:B; spacefill 100; color yellow\n",
      "select 464:B; spacefill 100; color yellow\n",
      "select 471:B; spacefill 100; color yellow\n",
      "select 473:B; spacefill 100; color yellow\n",
      "select 475:B; spacefill 100; color yellow\n",
      "select 476:B; spacefill 100; color yellow\n",
      "select 477:B; spacefill 300; color yellow\n",
      "select 478:B; spacefill 100; color yellow\n",
      "select 482:B; spacefill 100; color yellow\n",
      "select 483:B; spacefill 100; color yellow\n",
      "select 484:B; spacefill 100; color yellow\n",
      "select 490:B; spacefill 100; color yellow\n",
      "select 491:B; spacefill 100; color yellow\n",
      "select 501:B; spacefill 100; color yellow\n",
      "select 502:B; spacefill 100; color yellow\n",
      "select 503:B; spacefill 100; color yellow\n"
     ]
    }
   ],
   "source": [
    "egrep \"Motif\" result.txt | awk '{print $6}' | sort | uniq -c | sed 's/:/ /' | awk '{if($1<10){print \"select \"$3\":B; spacefill 100; color yellow\"}else{print \"select \"$3\":B; spacefill 300; color yellow\"}}' | tee -a 7DF4.script"
   ]
  },
  {
   "cell_type": "markdown",
   "id": "21d45669-3254-45a6-8c59-4dd7e002f675",
   "metadata": {},
   "source": [
    "You can now view the structure with `mol -s 7DF4.script`"
   ]
  },
  {
   "cell_type": "markdown",
   "id": "48ac4f29-6891-44e8-9077-ca7dcea7bc62",
   "metadata": {},
   "source": [
    "## Mapping Genomic Variance"
   ]
  },
  {
   "cell_type": "code",
   "execution_count": 7,
   "id": "1db2529f-b242-4b0b-83be-badcc4fb86b5",
   "metadata": {},
   "outputs": [
    {
     "name": "stdout",
     "output_type": "stream",
     "text": [
      "[M::mm_idx_gen::0.002*1.42] collected minimizers\n",
      "[M::mm_idx_gen::0.008*0.58] sorted minimizers\n",
      "[M::main::0.008*0.58] loaded/built the index for 1 target sequence(s)\n",
      "[M::mm_mapopt_update::0.009*0.60] mid_occ = 50\n",
      "[M::mm_idx_stat] kmer size: 19; skip: 19; is_hpc: 0; #seq: 1\n",
      "[M::mm_idx_stat::0.009*0.61] distinct minimizers: 3006 (100.00% are singletons); average occurrences: 1.000; average spacing: 9.948; total length: 29903\n",
      "[M::worker_pipeline::8.461*2.86] mapped 3371 sequences\n",
      "[M::main] Version: 2.24-r1122\n",
      "[M::main] CMD: minimap2 -x asm5 -a -o sequences.sam wuhan-1.fasta sequences.fasta\n",
      "[M::main] Real time: 8.462 sec; CPU: 24.182 sec; Peak RSS: 0.100 GB\n"
     ]
    }
   ],
   "source": [
    "minimap2 -x asm5 -a -o sequences.sam wuhan-1.fasta sequences.fasta"
   ]
  },
  {
   "cell_type": "markdown",
   "id": "69fa7b54-f178-4088-969d-1b1ca6c7477e",
   "metadata": {},
   "source": [
    "Print SAM without sequence:"
   ]
  },
  {
   "cell_type": "code",
   "execution_count": 8,
   "id": "69dbb1e2-5f1b-4562-8ea8-ea5f6bd645c5",
   "metadata": {},
   "outputs": [
    {
     "name": "stdout",
     "output_type": "stream",
     "text": [
      "@SQ SN:NC_045512.2 LN:29903 \n",
      "@PG ID:minimap2 PN:minimap2 VN:2.24-r1122 CL:minimap2 -x asm5 -a -o sequences.sam wuhan-1.fasta sequences.fasta \n",
      "OY902096.1 0 NC_045512.2 1 60 29903M * 0 0 * NM:i:21 ms:i:29483 AS:i:29483 nn:i:0 tp:A:P cm:i:2969 s1:i:29635 s2:i:0 de:f:0.0007 rl:i:0 \n",
      "OX648031.1 0 NC_045512.2 1 60 29903M * 0 0 * NM:i:20 ms:i:29503 AS:i:29503 nn:i:0 tp:A:P cm:i:2961 s1:i:29582 s2:i:0 de:f:0.0007 rl:i:0 \n",
      "OX648036.1 0 NC_045512.2 1 60 29903M * 0 0 * NM:i:19 ms:i:29523 AS:i:29523 nn:i:0 tp:A:P cm:i:2966 s1:i:29606 s2:i:0 de:f:0.0006 rl:i:0 \n"
     ]
    }
   ],
   "source": [
    "awk -F\"\\t\" '{ORS=\"\"; for(i=1; i<=NF; i++){if($i!~/[ATCG]{10,}/){print $i\" \"}}print \"\\n\"}' sequences.sam | head -5"
   ]
  },
  {
   "cell_type": "code",
   "execution_count": 9,
   "id": "e312c599-b68d-4ff1-9688-f40d9d784f9b",
   "metadata": {},
   "outputs": [],
   "source": [
    "samtools view -b sequences.sam > sequences.sam.bam"
   ]
  },
  {
   "cell_type": "code",
   "execution_count": 10,
   "id": "5dff1691-2ebd-43ed-b005-652c25d7905b",
   "metadata": {},
   "outputs": [],
   "source": [
    "samtools sort sequences.sam.bam > sequences.sam.sorted.bam"
   ]
  },
  {
   "cell_type": "code",
   "execution_count": 20,
   "id": "9f59712f-36c6-40a7-9f3e-5eda5e0d1bbf",
   "metadata": {},
   "outputs": [],
   "source": [
    "samtools index sequences.sam.sorted.bam"
   ]
  },
  {
   "cell_type": "code",
   "execution_count": 12,
   "id": "d026f471-2f77-4786-9139-6c5bb36173a9",
   "metadata": {},
   "outputs": [],
   "source": [
    "samtools faidx wuhan-1.fasta"
   ]
  },
  {
   "cell_type": "code",
   "execution_count": 75,
   "id": "ce3e2e7e-1e36-4c31-86d3-934b232bdeca",
   "metadata": {},
   "outputs": [
    {
     "name": "stdout",
     "output_type": "stream",
     "text": [
      "[warning] samtools mpileup option `g` is functional, but deprecated. Please switch to using bcftools mpileup in future.\n",
      "[mpileup] 1 samples in 1 input files\n"
     ]
    }
   ],
   "source": [
    "samtools mpileup -g -s -E -f wuhan-1.fasta sequences.sam.sorted.bam > sequences.bcf # -g deleted"
   ]
  },
  {
   "cell_type": "code",
   "execution_count": 19,
   "id": "21b2294e-8eb6-4407-ba1e-22b13aae29be",
   "metadata": {},
   "outputs": [],
   "source": [
    "bcftools view -v snps -g hom sequences.bcf > sequences.vcf"
   ]
  },
  {
   "cell_type": "code",
   "execution_count": 21,
   "id": "7fdf5963-77f9-45b3-b6cb-3f5fc85bac3b",
   "metadata": {},
   "outputs": [
    {
     "name": "stdout",
     "output_type": "stream",
     "text": [
      "INFO [Feb 14,2024 23:40] [Main] Loading: sequences.sam.sorted.bam\n",
      "INFO [Feb 14,2024 23:40] [Main] Startup  IGV Version user not_set\n",
      "INFO [Feb 14,2024 23:40] [Main] Java 11.0.21 (build 11.0.21+9-post-Ubuntu-0ubuntu122.04) 2023-10-17\n",
      "INFO [Feb 14,2024 23:40] [Main] Java Vendor: Ubuntu https://ubuntu.com/\n",
      "INFO [Feb 14,2024 23:40] [Main] JVM: OpenJDK 64-Bit Server VM    \n",
      "INFO [Feb 14,2024 23:40] [Main] OS: Linux 5.15.0-94-generic amd64\n",
      "INFO [Feb 14,2024 23:40] [Main] IGV Directory: /home/ubuntu/igv\n",
      "INFO [Feb 14,2024 23:41] [GenomeManager] Loading genome: wuhan-1.fasta\n",
      "INFO [Feb 14,2024 23:41] [TrackLoader] Loading resource:  sequences.sam.sorted.bam\n",
      "INFO [Feb 14,2024 23:41] [ShutdownThread] Shutting down\n"
     ]
    }
   ],
   "source": [
    "igv -g wuhan-1.fasta sequences.sam.sorted.bam"
   ]
  },
  {
   "cell_type": "code",
   "execution_count": 29,
   "id": "7f04e72a-32f5-4b5a-a440-b35a0c133c87",
   "metadata": {},
   "outputs": [
    {
     "name": "stdout",
     "output_type": "stream",
     "text": [
      "     93 AA:477 22992: G>A\n",
      "     25 AA:440 22879: C>A\n",
      "      4 AA:477 22992: G>T\n"
     ]
    }
   ],
   "source": [
    "egrep \"Motif\" result.txt | awk '{print $6,$2,$3}' | sort | uniq -c | sort -r | head -3"
   ]
  },
  {
   "cell_type": "markdown",
   "id": "a7676b61-f9f2-455e-8df0-f343c441df72",
   "metadata": {},
   "source": [
    "## Alternative"
   ]
  },
  {
   "cell_type": "markdown",
   "id": "aafdf5d9-f372-480c-84f0-43e83ae97c64",
   "metadata": {},
   "source": [
    "Convert SAM file to binary format and sort "
   ]
  },
  {
   "cell_type": "code",
   "execution_count": 136,
   "id": "bad40401-81d1-4279-966a-f8bd4354dedf",
   "metadata": {},
   "outputs": [],
   "source": [
    "samtools view -b sequences.sam | samtools sort - -o sequences.sorted.bam"
   ]
  },
  {
   "cell_type": "markdown",
   "id": "fbba0c72-5f34-4adc-85d8-c9fbfe880b08",
   "metadata": {},
   "source": [
    "Create index for *sequences.sorted.bam* file for visualization with IGV"
   ]
  },
  {
   "cell_type": "code",
   "execution_count": 137,
   "id": "6f9c4bf9-6d9f-48f4-af28-ef50faa1ea4f",
   "metadata": {},
   "outputs": [],
   "source": [
    "samtools index sequences.sorted.bam"
   ]
  },
  {
   "cell_type": "markdown",
   "id": "40853c8b-8711-4d7a-afb1-e83b8f5e089b",
   "metadata": {},
   "source": [
    "Pile-up each position and compare to the reference sequence with a depth of 4,000 reads. The `-a` parameter adds additional annotations, here AD (Allelic Depth)."
   ]
  },
  {
   "cell_type": "code",
   "execution_count": 139,
   "id": "6d44d103-8730-4bf5-a205-788c5aeb482a",
   "metadata": {},
   "outputs": [
    {
     "name": "stdout",
     "output_type": "stream",
     "text": [
      "[mpileup] 1 samples in 1 input files\n",
      "[mpileup] maximum number of reads per input file set to -d 4000\n"
     ]
    }
   ],
   "source": [
    "bcftools mpileup --max-depth 4000 -a AD -f wuhan-1.fasta -o seq-4000.bcf sequences.sorted.bam "
   ]
  },
  {
   "cell_type": "markdown",
   "id": "d06904f3-04ae-4731-a70e-6359b5d0a29f",
   "metadata": {},
   "source": [
    "Now call the significantly variant position with the multiallelic-caller (`-m`) and assume a ploidy of two. Save only variant sites (`-v`) in a VCF formated file (`-O v`)."
   ]
  },
  {
   "cell_type": "code",
   "execution_count": 143,
   "id": "1a915d69-851a-4821-8fac-3888b57be7ae",
   "metadata": {},
   "outputs": [],
   "source": [
    "bcftools call -O v -v -m --ploidy 2 -o seq-4000.vcf seq-4000.bcf"
   ]
  },
  {
   "cell_type": "markdown",
   "id": "7173044b-3a79-4309-aa7d-3cdf17b93388",
   "metadata": {},
   "source": [
    "Convert original file with all variant position (without statistical model) to VCF"
   ]
  },
  {
   "cell_type": "code",
   "execution_count": 145,
   "id": "9e9a1e16-d0e5-423c-b37d-4d01bfa1d8a9",
   "metadata": {},
   "outputs": [],
   "source": [
    "bcftools view -O v -o seq-4000-all.vcf seq-4000.bcf"
   ]
  },
  {
   "cell_type": "markdown",
   "id": "784429f4-c847-4b97-b1ad-5997e12a4ff2",
   "metadata": {},
   "source": [
    "Extract all positions that have at least one variant nuclotide."
   ]
  },
  {
   "cell_type": "code",
   "execution_count": 147,
   "id": "18ecf183-3efd-43f7-8bdd-7b637b2b65b8",
   "metadata": {},
   "outputs": [],
   "source": [
    "awk '$5~/[ACGT]/||$0~/^#/{print $0}' seq-4000-all.vcf > seq-4000-snv.vcf"
   ]
  },
  {
   "cell_type": "markdown",
   "id": "5dfe4e7d-faf5-40a7-8141-1f3403e4dd66",
   "metadata": {},
   "source": [
    "Download GenBank file of reference genome for annotation"
   ]
  },
  {
   "cell_type": "code",
   "execution_count": 148,
   "id": "9eb246d3-f900-40ae-a2c8-9db06305bbeb",
   "metadata": {},
   "outputs": [],
   "source": [
    "efetch -db nuccore -id NC_045512 -format genbank > wuhan-1.gb"
   ]
  },
  {
   "cell_type": "markdown",
   "id": "fc376fb6-2f47-40e2-8927-1de47b15801c",
   "metadata": {},
   "source": [
    "Edit GenBank file to be compatible with the FASTA version. "
   ]
  },
  {
   "cell_type": "code",
   "execution_count": 149,
   "id": "a2c3f58b-c11a-4a56-bacc-3dea9cb369cc",
   "metadata": {},
   "outputs": [],
   "source": [
    "sed -i 's/NC_045512/NC_045512.2/' wuhan-1.gb"
   ]
  },
  {
   "cell_type": "markdown",
   "id": "32123c40-9731-4452-a7d1-b09c147072dc",
   "metadata": {},
   "source": [
    "Create GFF3 File:\n",
    "```\n",
    "##gff-version 3\n",
    "#track name=\"Spike\" color=#FF0000 gffTags=on\n",
    "NC_045512.2     .       CDS     21563   23383   .       +       .       ID=Spike;Name=SpikeProtein\n",
    "NC_045512.2     .       CDS     22517   23183   .       +       .       ID=Domain;Name=RBDomain;Parent=Spike\n",
    "NC_045512.2     .       CDS     22871   23084   .       +       .       ID=Motif;Name=RBMotif;Parent=Domain\n",
    "```"
   ]
  },
  {
   "cell_type": "markdown",
   "id": "1a63e2f9-7493-45ac-b1d3-81b27fba5fdb",
   "metadata": {},
   "source": [
    "Call IGV with: `igv -g wuhan-1.gb -l NC_045512.2:22871-23084 sequences.sorted.bam seq-4000.vcf seq-4000-snv.vcf test.gff3`"
   ]
  },
  {
   "cell_type": "code",
   "execution_count": null,
   "id": "7c070f5f-af7f-47ec-ab55-9db8095b461c",
   "metadata": {},
   "outputs": [],
   "source": []
  }
 ],
 "metadata": {
  "kernelspec": {
   "display_name": "Bash",
   "language": "bash",
   "name": "bash"
  },
  "language_info": {
   "codemirror_mode": "shell",
   "file_extension": ".sh",
   "mimetype": "text/x-sh",
   "name": "bash"
  }
 },
 "nbformat": 4,
 "nbformat_minor": 5
}
