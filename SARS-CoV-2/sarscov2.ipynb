{
 "cells": [
  {
   "cell_type": "markdown",
   "id": "45d395ae-04d8-4724-9c0a-3122e78b8abd",
   "metadata": {},
   "source": [
    "# Exploring Early SARS-CoV2 Mutations\n",
    "We are working in the directory *SARS-CoV-2*."
   ]
  },
  {
   "cell_type": "markdown",
   "id": "49f2deb2-58a2-47e9-a312-ff882713be46",
   "metadata": {},
   "source": [
    "## Install Programs"
   ]
  },
  {
   "cell_type": "markdown",
   "id": "46dbfbc7-a719-45f3-863e-3abf5db7a01c",
   "metadata": {},
   "source": [
    "We need two AWK scripts"
   ]
  },
  {
   "cell_type": "code",
   "execution_count": 10,
   "id": "e8173fd1-ad65-42fc-ace0-9ca2505f9d8c",
   "metadata": {},
   "outputs": [
    {
     "name": "stdout",
     "output_type": "stream",
     "text": [
      "--2024-02-10 10:58:47--  https://github.com/awkologist/CompBiol3/raw/main/SARS-CoV-2/fasta2tbl\n",
      "Resolving github.com (github.com)... 140.82.121.3\n",
      "Connecting to github.com (github.com)|140.82.121.3|:443... connected.\n",
      "HTTP request sent, awaiting response... 302 Found\n",
      "Location: https://raw.githubusercontent.com/awkologist/CompBiol3/main/SARS-CoV-2/fasta2tbl [following]\n",
      "--2024-02-10 10:58:47--  https://raw.githubusercontent.com/awkologist/CompBiol3/main/SARS-CoV-2/fasta2tbl\n",
      "Resolving raw.githubusercontent.com (raw.githubusercontent.com)... 185.199.109.133, 185.199.108.133, 185.199.110.133, ...\n",
      "Connecting to raw.githubusercontent.com (raw.githubusercontent.com)|185.199.109.133|:443... connected.\n",
      "HTTP request sent, awaiting response... 200 OK\n",
      "Length: 299 [text/plain]\n",
      "Saving to: ‘fasta2tbl.1’\n",
      "\n",
      "fasta2tbl.1         100%[===================>]     299  --.-KB/s    in 0s      \n",
      "\n",
      "2024-02-10 10:58:47 (586 KB/s) - ‘fasta2tbl.1’ saved [299/299]\n",
      "\n"
     ]
    }
   ],
   "source": [
    "wget 'https://github.com/awkologist/CompBiol3/raw/main/SARS-CoV-2/fasta2tbl'"
   ]
  },
  {
   "cell_type": "code",
   "execution_count": 9,
   "id": "74bd241f-944f-40ad-a881-eeea86aad7dd",
   "metadata": {},
   "outputs": [
    {
     "name": "stdout",
     "output_type": "stream",
     "text": [
      "--2024-02-10 10:44:06--  https://github.com/awkologist/CompBiol3/raw/main/SARS-CoV-2/compare-cov2.awk\n",
      "Resolving github.com (github.com)... 140.82.121.3\n",
      "Connecting to github.com (github.com)|140.82.121.3|:443... connected.\n",
      "HTTP request sent, awaiting response... 302 Found\n",
      "Location: https://raw.githubusercontent.com/awkologist/CompBiol3/main/SARS-CoV-2/compare-cov2.awk [following]\n",
      "--2024-02-10 10:44:06--  https://raw.githubusercontent.com/awkologist/CompBiol3/main/SARS-CoV-2/compare-cov2.awk\n",
      "Resolving raw.githubusercontent.com (raw.githubusercontent.com)... 185.199.108.133, 185.199.110.133, 185.199.109.133, ...\n",
      "Connecting to raw.githubusercontent.com (raw.githubusercontent.com)|185.199.108.133|:443... connected.\n",
      "HTTP request sent, awaiting response... 200 OK\n",
      "Length: 2904 (2.8K) [text/plain]\n",
      "Saving to: ‘compare-cov2.awk.1’\n",
      "\n",
      "compare-cov2.awk.1  100%[===================>]   2.84K  --.-KB/s    in 0.003s  \n",
      "\n",
      "2024-02-10 10:44:07 (855 KB/s) - ‘compare-cov2.awk.1’ saved [2904/2904]\n",
      "\n"
     ]
    }
   ],
   "source": [
    "wget 'https://github.com/awkologist/CompBiol3/raw/main/SARS-CoV-2/compare-cov2.awk'"
   ]
  },
  {
   "cell_type": "markdown",
   "id": "db136504-ee39-4870-8934-590aad9d468a",
   "metadata": {},
   "source": [
    "We also need the molecular structure viewer **Jmol**"
   ]
  },
  {
   "cell_type": "code",
   "execution_count": null,
   "id": "daca120d-fac4-469f-a60f-3ff271355e5e",
   "metadata": {},
   "outputs": [],
   "source": [
    "sudo apt install -y jmol"
   ]
  },
  {
   "cell_type": "markdown",
   "id": "581a7405-b16b-4197-aae2-5162f2cbd588",
   "metadata": {},
   "source": [
    "## Download Virus Sequences"
   ]
  },
  {
   "cell_type": "markdown",
   "id": "aaf55e66-397e-47ec-a30f-b460b26756e8",
   "metadata": {},
   "source": [
    "Download reference genome:"
   ]
  },
  {
   "cell_type": "code",
   "execution_count": 1,
   "id": "f97d86d8-8de8-43ef-ab2f-0976941223df",
   "metadata": {},
   "outputs": [],
   "source": [
    "efetch -db nuccore -id NC_045512 -format fasta > wuhan-1.fasta"
   ]
  },
  {
   "cell_type": "markdown",
   "id": "8bc4bd91-e80c-427f-811b-6854606431c8",
   "metadata": {},
   "source": [
    "We create a copy in tab-delimited format:"
   ]
  },
  {
   "cell_type": "code",
   "execution_count": 13,
   "id": "e3a5c691-06f2-4852-9d23-b043154e57d7",
   "metadata": {},
   "outputs": [],
   "source": [
    "./fasta2tbl wuhan-1.fasta > wuhan-1.tab"
   ]
  },
  {
   "cell_type": "markdown",
   "id": "eeaf5068-27a5-4a0c-af57-8249381bbf61",
   "metadata": {},
   "source": [
    "Download from [NCBI](https://www.ncbi.nlm.nih.gov/sars-cov-2/) viruses from Europe, from human hosts, without ambigious characters, complete nucleotide sequences, and a sequence length of exactly 29,903 nt. They are downloaded via the web browser as *sequences.fasta*. Move them into your current working directory."
   ]
  },
  {
   "cell_type": "code",
   "execution_count": 1,
   "id": "a6bb24c6-ae29-437b-877c-6d5dc3cb2450",
   "metadata": {},
   "outputs": [
    {
     "name": "stdout",
     "output_type": "stream",
     "text": [
      "NC_045512.2 Severe acute respiratory syndrome coronavirus 2 isolate Wuhan-Hu-1, complete genome\n"
     ]
    }
   ],
   "source": [
    "cut -f 1 wuhan-1.tab"
   ]
  },
  {
   "cell_type": "markdown",
   "id": "47d4b67b-b7ec-43cc-9afa-1fbeb8a1d9c2",
   "metadata": {},
   "source": [
    "Rename the file to *cov2-len-29903.fasta*"
   ]
  },
  {
   "cell_type": "code",
   "execution_count": 2,
   "id": "ec84e372-39b3-4963-859a-faf9e63269a3",
   "metadata": {},
   "outputs": [],
   "source": [
    "mv sequences.fasta cov2-len-29903.fasta"
   ]
  },
  {
   "cell_type": "code",
   "execution_count": 3,
   "id": "8f6bd928-408d-4a6e-a5f7-c6d1264dfb5a",
   "metadata": {},
   "outputs": [
    {
     "name": "stdout",
     "output_type": "stream",
     "text": [
      "3371\n"
     ]
    }
   ],
   "source": [
    "grep -c \">\" cov2-len-29903.fasta"
   ]
  },
  {
   "cell_type": "markdown",
   "id": "126c0e9f-ff29-4cdf-acfb-a5387f9593c6",
   "metadata": {},
   "source": [
    "## Convert FASTA to TAB and Edit Header"
   ]
  },
  {
   "cell_type": "code",
   "execution_count": 9,
   "id": "14a152a9-e4af-4b07-8062-b17bb065b14e",
   "metadata": {},
   "outputs": [
    {
     "name": "stdout",
     "output_type": "stream",
     "text": [
      ">OY902096.1 |United Kingdom:England|2020-10-12\n"
     ]
    }
   ],
   "source": [
    "head -1 sequences.fasta"
   ]
  },
  {
   "cell_type": "code",
   "execution_count": 2,
   "id": "8ae3e319-a2d8-4966-8d25-382e9c37faf8",
   "metadata": {},
   "outputs": [],
   "source": [
    "./fasta2tbl sequences.fasta | sed 's/|/\\t/g' > cov2-len-29903.tab"
   ]
  },
  {
   "cell_type": "code",
   "execution_count": 4,
   "id": "c52a8f3f-f15e-4afb-bc0f-8b6e0914da22",
   "metadata": {},
   "outputs": [
    {
     "name": "stdout",
     "output_type": "stream",
     "text": [
      "3371 cov2-len-29903.tab\n"
     ]
    }
   ],
   "source": [
    "wc -l cov2-len-29903.tab"
   ]
  },
  {
   "cell_type": "code",
   "execution_count": 5,
   "id": "4cdf35b2-577e-44a3-88fc-e219cc91e604",
   "metadata": {},
   "outputs": [
    {
     "name": "stdout",
     "output_type": "stream",
     "text": [
      "OY902096.1 \n",
      "OX648031.1 \n"
     ]
    }
   ],
   "source": [
    "cut -f 1 cov2-len-29903.tab | head -2"
   ]
  },
  {
   "cell_type": "code",
   "execution_count": 6,
   "id": "dc0d5dfa-7e28-4f14-88ec-7ed512a78c4e",
   "metadata": {},
   "outputs": [
    {
     "name": "stdout",
     "output_type": "stream",
     "text": [
      "OY902096.1 \t2020-10-12\n",
      "OX648031.1 \t2020-11-01\n"
     ]
    }
   ],
   "source": [
    "cut -f 1,3 cov2-len-29903.tab | head -2"
   ]
  },
  {
   "cell_type": "code",
   "execution_count": 7,
   "id": "32fc7120-24e2-4120-83be-1e8ef23f8d31",
   "metadata": {},
   "outputs": [
    {
     "name": "stdout",
     "output_type": "stream",
     "text": [
      "OY902096.1 \tUnited Kingdom:England\t2020-10-12\n",
      "OX648031.1 \tUnited Kingdom:England\t2020-11-01\n"
     ]
    }
   ],
   "source": [
    "cut -f 1-3 cov2-len-29903.tab | head -2"
   ]
  },
  {
   "cell_type": "markdown",
   "id": "a1664179-e592-4842-81ba-13781b80e01a",
   "metadata": {},
   "source": [
    "## Analyze Data"
   ]
  },
  {
   "cell_type": "code",
   "execution_count": 10,
   "id": "735bac34-ca2f-4ae2-9bc6-f270f5bb3b52",
   "metadata": {},
   "outputs": [
    {
     "name": "stdout",
     "output_type": "stream",
     "text": [
      "     82 France\n",
      "      7 Germany\n",
      "      2 Greece\n",
      "      1 Italy\n",
      "     14 Poland\n",
      "      7 Russia\n",
      "      1 Serbia\n",
      "      8 Spain\n",
      "      1 Sweden\n",
      "   3248 United Kingdom\n"
     ]
    }
   ],
   "source": [
    "cut -f 2 cov2-len-29903.tab | sed 's/:.*//' | sort | uniq -c "
   ]
  },
  {
   "cell_type": "code",
   "execution_count": 11,
   "id": "b832f5c3-6222-4866-8cd9-e835e89d0e8d",
   "metadata": {},
   "outputs": [
    {
     "name": "stdout",
     "output_type": "stream",
     "text": [
      "OK075090.1 \tGermany: Langen\t2021-01-08\n",
      "MT358638.1 \tGermany\t2020-02\n",
      "MT358639.1 \tGermany\t2020-02\n",
      "MT358640.1 \tGermany\t2020-02\n",
      "MT358641.1 \tGermany\t2020-02\n",
      "MT358642.1 \tGermany\t2020-02\n",
      "MT358643.1 \tGermany\t2020-02\n"
     ]
    }
   ],
   "source": [
    "egrep \"Germany\" cov2-len-29903.tab | cut -f 1-3"
   ]
  },
  {
   "cell_type": "code",
   "execution_count": 18,
   "id": "978625c2-58a6-4021-9411-b49a0552ba55",
   "metadata": {},
   "outputs": [
    {
     "name": "stdout",
     "output_type": "stream",
     "text": [
      "# Compared: NC_045512.2 vs MT358638.1  | 12/2019 vs 2020-02 | Wuhan vs Germany\n",
      "MT358638.1  3518: G>T \n",
      "MT358638.1  12704: G>T \n",
      "MT358638.1  12797: G>A \n",
      "MT358638.1  17423: A>G \n",
      "MT358638.1  27272: T>C \n",
      "MT358638.1  28854: C>T \n",
      "# of N's: 0 of 29903\n",
      "# of exchanges: 6 of 29903\n"
     ]
    }
   ],
   "source": [
    "awk -f compare-cov2.awk -v ref=wuhan-1.tab -v seq=cov2-len-29903.tab -v id2=MT358638"
   ]
  },
  {
   "cell_type": "code",
   "execution_count": 20,
   "id": "939e0dd6-d738-4972-97a9-4dc22044c0b5",
   "metadata": {},
   "outputs": [
    {
     "name": "stdout",
     "output_type": "stream",
     "text": [
      "# Compared: NC_045512.2 vs MT358638.1  | 12/2019 vs 2020-02 | Wuhan vs Germany\n",
      "MT358638.1  3518: G>T \n",
      "MT358638.1  12704: G>T \n",
      "MT358638.1  12797: G>A \n",
      "MT358638.1  17423: A>G \n",
      "MT358638.1  27272: T>C \n",
      "MT358638.1  28854: C>T \n",
      "# of N's: 0 of 29903\n",
      "# of exchanges: 6 of 29903\n",
      "# Compared: NC_045512.2 vs MT358639.1  | 12/2019 vs 2020-02 | Wuhan vs Germany\n",
      "MT358639.1  241: C>T \n",
      "MT358639.1  3037: C>T \n",
      "MT358639.1  14408: C>T \n",
      "MT358639.1  23403: A>G SPIKE NT:1841 AA:614 -> D\n",
      "MT358639.1  28881: G>A \n",
      "MT358639.1  28882: G>A \n",
      "MT358639.1  28883: G>C \n",
      "# of N's: 0 of 29903\n",
      "# of exchanges: 7 of 29903\n",
      "# Compared: NC_045512.2 vs MT358640.1  | 12/2019 vs 2020-02 | Wuhan vs Germany\n",
      "MT358640.1  241: C>T \n",
      "MT358640.1  3037: C>T \n",
      "MT358640.1  6228: A>G \n",
      "MT358640.1  14408: C>T \n",
      "MT358640.1  16289: C>Y \n",
      "MT358640.1  23403: A>G SPIKE NT:1841 AA:614 -> D\n",
      "MT358640.1  28881: G>A \n",
      "MT358640.1  28882: G>A \n",
      "MT358640.1  28883: G>C \n",
      "MT358640.1  28961: C>T \n",
      "MT358640.1  29870: C>M \n",
      "# of N's: 0 of 29903\n",
      "# of exchanges: 11 of 29903\n",
      "# Compared: NC_045512.2 vs MT358641.1  | 12/2019 vs 2020-02 | Wuhan vs Germany\n",
      "MT358641.1  1440: G>A \n",
      "MT358641.1  2891: G>A \n",
      "MT358641.1  23235: A>G SPIKE NT:1673 AA:558 -> K\n",
      "# of N's: 0 of 29903\n",
      "# of exchanges: 3 of 29903\n",
      "# Compared: NC_045512.2 vs MT358642.1  | 12/2019 vs 2020-02 | Wuhan vs Germany\n",
      "MT358642.1  241: C>T \n",
      "MT358642.1  3037: C>T \n",
      "MT358642.1  6228: A>G \n",
      "MT358642.1  14408: C>T \n",
      "MT358642.1  23403: A>G SPIKE NT:1841 AA:614 -> D\n",
      "MT358642.1  28881: G>A \n",
      "MT358642.1  28882: G>A \n",
      "MT358642.1  28883: G>C \n",
      "MT358642.1  29870: C>M \n",
      "# of N's: 0 of 29903\n",
      "# of exchanges: 9 of 29903\n",
      "# Compared: NC_045512.2 vs MT358643.1  | 12/2019 vs 2020-02 | Wuhan vs Germany\n",
      "MT358643.1  241: C>T \n",
      "MT358643.1  3037: C>T \n",
      "MT358643.1  14408: C>T \n",
      "MT358643.1  15324: C>T \n",
      "MT358643.1  23179: C>Y SPIKE NT:1617 AA:540 -> N RBDomain\n",
      "MT358643.1  23403: A>G SPIKE NT:1841 AA:614 -> D\n",
      "# of N's: 0 of 29903\n",
      "# of exchanges: 6 of 29903\n"
     ]
    }
   ],
   "source": [
    "for i in MT358638 MT358639 MT358640 MT358641 MT358642 MT358643; do awk -f compare-cov2.awk -v ref=wuhan-1.tab -v seq=cov2-len-29903.tab -v id2=$i; done"
   ]
  },
  {
   "cell_type": "code",
   "execution_count": 21,
   "id": "00c5bdb9-c029-4230-914c-bfa61075b3b4",
   "metadata": {},
   "outputs": [
    {
     "name": "stdout",
     "output_type": "stream",
     "text": [
      "# Compared: NC_045512.2 vs OK075090.1  | 12/2019 vs 2021-01-08 | Wuhan vs Germany: Langen\n",
      "OK075090.1  241: C>T \n",
      "OK075090.1  1059: C>T \n",
      "OK075090.1  3037: C>T \n",
      "OK075090.1  5143: T>G \n",
      "OK075090.1  7843: C>T \n",
      "OK075090.1  14408: C>T \n",
      "OK075090.1  15920: T>C \n",
      "OK075090.1  21846: C>T SPIKE NT:284 AA:95 -> T\n",
      "OK075090.1  22296: A>G SPIKE NT:734 AA:245 -> H\n",
      "OK075090.1  23403: A>G SPIKE NT:1841 AA:614 -> D\n",
      "OK075090.1  23618: A>G SPIKE NT:2056 AA:686 -> S\n",
      "OK075090.1  26895: C>T \n",
      "OK075090.1  27996: G>T \n",
      "OK075090.1  28044: G>T \n",
      "OK075090.1  29769: C>T \n",
      "# of N's: 0 of 29903\n",
      "# of exchanges: 15 of 29903\n"
     ]
    }
   ],
   "source": [
    "awk -f compare-cov2.awk -v ref=wuhan-1.tab -v seq=cov2-len-29903.tab -v id2=OK075090"
   ]
  },
  {
   "cell_type": "code",
   "execution_count": null,
   "id": "d426a855-6549-4402-90d1-ab21acd06e53",
   "metadata": {},
   "outputs": [],
   "source": []
  }
 ],
 "metadata": {
  "kernelspec": {
   "display_name": "Bash",
   "language": "bash",
   "name": "bash"
  },
  "language_info": {
   "codemirror_mode": "shell",
   "file_extension": ".sh",
   "mimetype": "text/x-sh",
   "name": "bash"
  }
 },
 "nbformat": 4,
 "nbformat_minor": 5
}
