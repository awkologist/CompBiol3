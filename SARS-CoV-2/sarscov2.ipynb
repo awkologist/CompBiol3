{
 "cells": [
  {
   "cell_type": "markdown",
   "id": "45d395ae-04d8-4724-9c0a-3122e78b8abd",
   "metadata": {},
   "source": [
    "# Exploring Early SARS-CoV2 Mutations\n",
    "We are working in the directory *SARS-CoV-2*."
   ]
  },
  {
   "cell_type": "markdown",
   "id": "49f2deb2-58a2-47e9-a312-ff882713be46",
   "metadata": {},
   "source": [
    "## Install Programs"
   ]
  },
  {
   "cell_type": "markdown",
   "id": "46dbfbc7-a719-45f3-863e-3abf5db7a01c",
   "metadata": {},
   "source": [
    "We need two AWK scripts"
   ]
  },
  {
   "cell_type": "code",
   "execution_count": 10,
   "id": "e8173fd1-ad65-42fc-ace0-9ca2505f9d8c",
   "metadata": {},
   "outputs": [
    {
     "name": "stdout",
     "output_type": "stream",
     "text": [
      "--2024-02-10 10:58:47--  https://github.com/awkologist/CompBiol3/raw/main/SARS-CoV-2/fasta2tbl\n",
      "Resolving github.com (github.com)... 140.82.121.3\n",
      "Connecting to github.com (github.com)|140.82.121.3|:443... connected.\n",
      "HTTP request sent, awaiting response... 302 Found\n",
      "Location: https://raw.githubusercontent.com/awkologist/CompBiol3/main/SARS-CoV-2/fasta2tbl [following]\n",
      "--2024-02-10 10:58:47--  https://raw.githubusercontent.com/awkologist/CompBiol3/main/SARS-CoV-2/fasta2tbl\n",
      "Resolving raw.githubusercontent.com (raw.githubusercontent.com)... 185.199.109.133, 185.199.108.133, 185.199.110.133, ...\n",
      "Connecting to raw.githubusercontent.com (raw.githubusercontent.com)|185.199.109.133|:443... connected.\n",
      "HTTP request sent, awaiting response... 200 OK\n",
      "Length: 299 [text/plain]\n",
      "Saving to: ‘fasta2tbl.1’\n",
      "\n",
      "fasta2tbl.1         100%[===================>]     299  --.-KB/s    in 0s      \n",
      "\n",
      "2024-02-10 10:58:47 (586 KB/s) - ‘fasta2tbl.1’ saved [299/299]\n",
      "\n"
     ]
    }
   ],
   "source": [
    "wget 'https://github.com/awkologist/CompBiol3/raw/main/SARS-CoV-2/fasta2tbl'"
   ]
  },
  {
   "cell_type": "code",
   "execution_count": 9,
   "id": "74bd241f-944f-40ad-a881-eeea86aad7dd",
   "metadata": {},
   "outputs": [
    {
     "name": "stdout",
     "output_type": "stream",
     "text": [
      "--2024-02-10 10:44:06--  https://github.com/awkologist/CompBiol3/raw/main/SARS-CoV-2/compare-cov2.awk\n",
      "Resolving github.com (github.com)... 140.82.121.3\n",
      "Connecting to github.com (github.com)|140.82.121.3|:443... connected.\n",
      "HTTP request sent, awaiting response... 302 Found\n",
      "Location: https://raw.githubusercontent.com/awkologist/CompBiol3/main/SARS-CoV-2/compare-cov2.awk [following]\n",
      "--2024-02-10 10:44:06--  https://raw.githubusercontent.com/awkologist/CompBiol3/main/SARS-CoV-2/compare-cov2.awk\n",
      "Resolving raw.githubusercontent.com (raw.githubusercontent.com)... 185.199.108.133, 185.199.110.133, 185.199.109.133, ...\n",
      "Connecting to raw.githubusercontent.com (raw.githubusercontent.com)|185.199.108.133|:443... connected.\n",
      "HTTP request sent, awaiting response... 200 OK\n",
      "Length: 2904 (2.8K) [text/plain]\n",
      "Saving to: ‘compare-cov2.awk.1’\n",
      "\n",
      "compare-cov2.awk.1  100%[===================>]   2.84K  --.-KB/s    in 0.003s  \n",
      "\n",
      "2024-02-10 10:44:07 (855 KB/s) - ‘compare-cov2.awk.1’ saved [2904/2904]\n",
      "\n"
     ]
    }
   ],
   "source": [
    "wget 'https://github.com/awkologist/CompBiol3/raw/main/SARS-CoV-2/compare-cov2.awk'"
   ]
  },
  {
   "cell_type": "markdown",
   "id": "581a7405-b16b-4197-aae2-5162f2cbd588",
   "metadata": {},
   "source": [
    "## Download Virus Sequences"
   ]
  },
  {
   "cell_type": "markdown",
   "id": "aaf55e66-397e-47ec-a30f-b460b26756e8",
   "metadata": {},
   "source": [
    "Download reference genome:"
   ]
  },
  {
   "cell_type": "code",
   "execution_count": 1,
   "id": "f97d86d8-8de8-43ef-ab2f-0976941223df",
   "metadata": {},
   "outputs": [],
   "source": [
    "efetch -db nuccore -id NC_045512 -format fasta > wuhan-1.fasta"
   ]
  },
  {
   "cell_type": "markdown",
   "id": "8bc4bd91-e80c-427f-811b-6854606431c8",
   "metadata": {},
   "source": [
    "We create a copy in tab-delimited format:"
   ]
  },
  {
   "cell_type": "code",
   "execution_count": 13,
   "id": "e3a5c691-06f2-4852-9d23-b043154e57d7",
   "metadata": {},
   "outputs": [],
   "source": [
    "./fasta2tbl wuhan-1.fasta > wuhan-1.tab"
   ]
  },
  {
   "cell_type": "markdown",
   "id": "eeaf5068-27a5-4a0c-af57-8249381bbf61",
   "metadata": {},
   "source": [
    "Download from [NCBI](https://www.ncbi.nlm.nih.gov/sars-cov-2/) viruses from Europe, from human hosts, without ambigious characters, complete nucleotide sequences, and a sequence length of exactly 29,903 nt. They are downloaded via the web browser as *sequences.fasta*. Move them into your current working directory."
   ]
  },
  {
   "cell_type": "markdown",
   "id": "47d4b67b-b7ec-43cc-9afa-1fbeb8a1d9c2",
   "metadata": {},
   "source": [
    "Rename the file to *cov2-len-29903.fasta*"
   ]
  },
  {
   "cell_type": "code",
   "execution_count": 2,
   "id": "ec84e372-39b3-4963-859a-faf9e63269a3",
   "metadata": {},
   "outputs": [],
   "source": [
    "mv sequences.fasta cov2-len-29903.fasta"
   ]
  },
  {
   "cell_type": "code",
   "execution_count": 3,
   "id": "8f6bd928-408d-4a6e-a5f7-c6d1264dfb5a",
   "metadata": {},
   "outputs": [
    {
     "name": "stdout",
     "output_type": "stream",
     "text": [
      "3371\n"
     ]
    }
   ],
   "source": [
    "grep -c \">\" cov2-len-29903.fasta"
   ]
  },
  {
   "cell_type": "markdown",
   "id": "126c0e9f-ff29-4cdf-acfb-a5387f9593c6",
   "metadata": {},
   "source": [
    "## Convert FASTA to TAB and Edit Header"
   ]
  },
  {
   "cell_type": "code",
   "execution_count": 11,
   "id": "8ae3e319-a2d8-4966-8d25-382e9c37faf8",
   "metadata": {},
   "outputs": [],
   "source": [
    "./fasta2tbl sequences.fasta | sed 's/|/\\t/g' > sequences.tab"
   ]
  },
  {
   "cell_type": "code",
   "execution_count": 12,
   "id": "c52a8f3f-f15e-4afb-bc0f-8b6e0914da22",
   "metadata": {},
   "outputs": [
    {
     "name": "stdout",
     "output_type": "stream",
     "text": [
      "3371 sequences.tab\n"
     ]
    }
   ],
   "source": [
    "wc -l sequences.tab"
   ]
  },
  {
   "cell_type": "code",
   "execution_count": null,
   "id": "4cdf35b2-577e-44a3-88fc-e219cc91e604",
   "metadata": {},
   "outputs": [],
   "source": []
  }
 ],
 "metadata": {
  "kernelspec": {
   "display_name": "Bash",
   "language": "bash",
   "name": "bash"
  },
  "language_info": {
   "codemirror_mode": "shell",
   "file_extension": ".sh",
   "mimetype": "text/x-sh",
   "name": "bash"
  }
 },
 "nbformat": 4,
 "nbformat_minor": 5
}
