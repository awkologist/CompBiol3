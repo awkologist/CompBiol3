{
 "cells": [
  {
   "cell_type": "markdown",
   "id": "03c4bb92-e3aa-4694-8517-db05c541cfae",
   "metadata": {},
   "source": [
    "# Querying for Potential Redox-Regulated Enzymes\n",
    "\n",
    "## Installations\n",
    "\n",
    "Install Jmol with: `sudo apt install -y jmol`"
   ]
  },
  {
   "cell_type": "markdown",
   "id": "1dab6370-666a-4123-9060-865d581d9af6",
   "metadata": {},
   "source": [
    "## Download 1FRF and 1FRV"
   ]
  },
  {
   "cell_type": "code",
   "execution_count": 2,
   "id": "965007e6-279a-4f43-9bce-605eab0d3913",
   "metadata": {},
   "outputs": [
    {
     "name": "stdout",
     "output_type": "stream",
     "text": [
      "--2024-03-10 11:18:17--  https://files.rcsb.org/download/1FRF.pdb\n",
      "Resolving files.rcsb.org (files.rcsb.org)... 128.6.159.245\n",
      "Connecting to files.rcsb.org (files.rcsb.org)|128.6.159.245|:443... connected.\n",
      "HTTP request sent, awaiting response... 200 OK\n",
      "Length: unspecified [application/octet-stream]\n",
      "Saving to: ‘1FRF.pdb’\n",
      "\n",
      "1FRF.pdb                [    <=>             ] 562.02K   745KB/s    in 0.8s    \n",
      "\n",
      "2024-03-10 11:18:18 (745 KB/s) - ‘1FRF.pdb’ saved [575505]\n",
      "\n"
     ]
    }
   ],
   "source": [
    "wget 'https://files.rcsb.org/download/1FRF.pdb'"
   ]
  },
  {
   "cell_type": "code",
   "execution_count": 3,
   "id": "b6f95954-930e-4523-8807-9588adfb89f8",
   "metadata": {},
   "outputs": [
    {
     "name": "stdout",
     "output_type": "stream",
     "text": [
      "--2024-03-10 11:18:36--  https://files.rcsb.org/download/1FRV.pdb\n",
      "Resolving files.rcsb.org (files.rcsb.org)... 128.6.159.245\n",
      "Connecting to files.rcsb.org (files.rcsb.org)|128.6.159.245|:443... connected.\n",
      "HTTP request sent, awaiting response... 200 OK\n",
      "Length: unspecified [application/octet-stream]\n",
      "Saving to: ‘1FRV.pdb’\n",
      "\n",
      "1FRV.pdb                [    <=>             ]   1.04M  1.11MB/s    in 0.9s    \n",
      "\n",
      "2024-03-10 11:18:38 (1.11 MB/s) - ‘1FRV.pdb’ saved [1091718]\n",
      "\n"
     ]
    }
   ],
   "source": [
    "wget 'https://files.rcsb.org/download/1FRV.pdb'"
   ]
  },
  {
   "cell_type": "markdown",
   "id": "bc8a255d-444b-4b85-9a82-f91c1c5b0b5e",
   "metadata": {},
   "source": [
    "# Visual Inspection\r\n",
    "\r\n",
    "Run `jmol` and use the following commands:\r\n",
    "```\r\n",
    "select all\r\n",
    "spacefill 50\r\n",
    "select cys and sulfur\r\n",
    "color yellow\r\n",
    "spacefill 250\r\n",
    "monitor 3914 5273\r\n",
    "```"
   ]
  },
  {
   "cell_type": "markdown",
   "id": "fc179187-9b86-418d-a8c8-3ed3c65e5284",
   "metadata": {},
   "source": [
    "## Computational Inspection\n",
    "Requires the following script:\n",
    "```\n",
    "# save as distance.awk\n",
    "# searches close cysteine sulfur atoms in a structure\n",
    "# requires a structure file (*.pdb)\n",
    "# usage: awk -f distance.awk structure.pdb\n",
    "\n",
    "BEGIN{print \"Cysteines in the Structure...\"; ORS=\"\"}\n",
    "\n",
    "$1==\"ATOM\" && $4==\"CYS\" && $3==\"SG\" {\n",
    "print $4$6\", \"\n",
    "cys_x[$6]=$7; cys_y[$6]=$8; cys_z[$6]=$9\n",
    "}\n",
    "\n",
    "END{ ORS=\"\\n\"\n",
    "for (key1 in cys_x) {\n",
    "  for (key2 in cys_x) { \n",
    "      dx=cys_x[key1]-cys_x[key2]\n",
    "      dy=cys_y[key1]-cys_y[key2]\n",
    "      dz=cys_z[key1]-cys_z[key2]\n",
    "      distance=sqrt(dx^2+dy^2+dz^2)\n",
    "      if (distance < 3 && distance != 0) {\n",
    "        i++\n",
    "        candidate[i]=key1\"-\"key2\": \"distance\n",
    "      }\n",
    "  }\n",
    "}\n",
    "print \"\\nCandidates ...\"\n",
    "for (keys in candidate) {print candidate[keys]}\n",
    "}\n",
    "```"
   ]
  },
  {
   "cell_type": "code",
   "execution_count": 4,
   "id": "cf1b61b3-3f58-4308-a9b4-d5a09b363907",
   "metadata": {},
   "outputs": [
    {
     "name": "stdout",
     "output_type": "stream",
     "text": [
      "Cysteines in the Structure...\n",
      "CYS17, CYS20, CYS98, CYS110, CYS114, CYS147, CYS187, CYS212, CYS218, CYS227, CYS245, CYS248, CYS72, CYS75, CYS86, CYS237, CYS259, CYS265, CYS436, CYS457, CYS543, CYS546, \n",
      "Candidates ...\n",
      "75-546: 2.41976\n",
      "259-436: 2.55824\n",
      "436-259: 2.55824\n",
      "546-75: 2.41976\n"
     ]
    }
   ],
   "source": [
    "awk -f distance.awk 1FRF.pdb"
   ]
  },
  {
   "cell_type": "code",
   "execution_count": 5,
   "id": "9767b99a-1da8-4693-8ec5-ac2d4b00d909",
   "metadata": {},
   "outputs": [
    {
     "name": "stdout",
     "output_type": "stream",
     "text": [
      "Cysteines in the Structure...\n",
      "CYS17, CYS20, CYS70, CYS96, CYS112, CYS148, CYS188, CYS213, CYS219, CYS228, CYS246, CYS249, CYS65, CYS68, CYS83, CYS228, CYS283, CYS418, CYS494, CYS530, CYS533, CYS17, CYS20, CYS70, CYS96, CYS112, CYS148, CYS188, CYS213, CYS219, CYS228, CYS246, CYS249, CYS65, CYS68, CYS83, CYS228, CYS283, CYS418, CYS494, CYS530, CYS533, \n",
      "Candidates ...\n",
      "65-530: 2.91756\n",
      "68-533: 2.94816\n",
      "530-65: 2.91756\n",
      "533-68: 2.94816\n"
     ]
    }
   ],
   "source": [
    "awk -f distance.awk 1FRV.pdb"
   ]
  },
  {
   "cell_type": "code",
   "execution_count": null,
   "id": "238ac034-922d-47bc-9c92-0f82df42853b",
   "metadata": {},
   "outputs": [],
   "source": []
  }
 ],
 "metadata": {
  "kernelspec": {
   "display_name": "Bash",
   "language": "bash",
   "name": "bash"
  },
  "language_info": {
   "codemirror_mode": "shell",
   "file_extension": ".sh",
   "mimetype": "text/x-sh",
   "name": "bash"
  }
 },
 "nbformat": 4,
 "nbformat_minor": 5
}
