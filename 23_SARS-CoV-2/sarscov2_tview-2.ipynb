{
 "cells": [
  {
   "cell_type": "markdown",
   "id": "45d395ae-04d8-4724-9c0a-3122e78b8abd",
   "metadata": {},
   "source": [
    "# Exploring Early SARS-CoV2 Mutations\n",
    "Read the chapter 23 in my book.\n",
    "\n",
    "In section 23.3.3 we deviate from the book because of Jupyter. Instead of a local Jmol installation we use a web-based version.\n",
    "\n",
    "In section 23.3.4 we are using a different tool, SamTools instead of IGV.\n",
    "\n",
    "<figure style=\"width:50%; display: block; margin-left: auto; margin-right: auto;\">\n",
    "  <img src=\"ace2-spike.png\" alt=\"ace2-spike.png\" >\n",
    "  <figcaption>Mutations in the receptor binding motif have the highest impact on pathogenicity of SARS-CoV-2</figcaption> \n",
    "</figure>\n",
    "\n",
    "---\n",
    "\n",
    "We are working in the directory *SARS-CoV-2*."
   ]
  },
  {
   "cell_type": "markdown",
   "id": "49f2deb2-58a2-47e9-a312-ff882713be46",
   "metadata": {},
   "source": [
    "## Download Programs"
   ]
  },
  {
   "cell_type": "markdown",
   "id": "46dbfbc7-a719-45f3-863e-3abf5db7a01c",
   "metadata": {},
   "source": [
    "We need two AWK scripts"
   ]
  },
  {
   "cell_type": "code",
   "execution_count": null,
   "id": "e8173fd1-ad65-42fc-ace0-9ca2505f9d8c",
   "metadata": {},
   "outputs": [],
   "source": [
    "wget 'https://github.com/awkologist/CompBiol3/raw/main/23_SARS-CoV-2/fasta2tbl'"
   ]
  },
  {
   "cell_type": "markdown",
   "id": "ad606859-365c-4e23-9525-c3083bc04b3b",
   "metadata": {},
   "source": [
    "Make the file executable ..."
   ]
  },
  {
   "cell_type": "code",
   "execution_count": null,
   "id": "b82e4a5e-a52d-4a3f-b798-e90cd167e14e",
   "metadata": {},
   "outputs": [],
   "source": [
    "chmod u+x ./fasta2tbl"
   ]
  },
  {
   "cell_type": "code",
   "execution_count": null,
   "id": "74bd241f-944f-40ad-a881-eeea86aad7dd",
   "metadata": {},
   "outputs": [],
   "source": [
    "wget 'https://github.com/awkologist/CompBiol3/raw/main/23_SARS-CoV-2/compare-cov2.awk'"
   ]
  },
  {
   "cell_type": "markdown",
   "id": "581a7405-b16b-4197-aae2-5162f2cbd588",
   "metadata": {},
   "source": [
    "## Download Virus Sequences"
   ]
  },
  {
   "cell_type": "markdown",
   "id": "aaf55e66-397e-47ec-a30f-b460b26756e8",
   "metadata": {},
   "source": [
    "Download reference genome:"
   ]
  },
  {
   "cell_type": "code",
   "execution_count": null,
   "id": "f97d86d8-8de8-43ef-ab2f-0976941223df",
   "metadata": {},
   "outputs": [],
   "source": [
    "efetch -db nuccore -id NC_045512 -format fasta > wuhan-1.fasta"
   ]
  },
  {
   "cell_type": "markdown",
   "id": "8bc4bd91-e80c-427f-811b-6854606431c8",
   "metadata": {},
   "source": [
    "We create a copy in tab-delimited format:"
   ]
  },
  {
   "cell_type": "code",
   "execution_count": null,
   "id": "e3a5c691-06f2-4852-9d23-b043154e57d7",
   "metadata": {},
   "outputs": [],
   "source": [
    "./fasta2tbl wuhan-1.fasta > wuhan-1.tab"
   ]
  },
  {
   "cell_type": "markdown",
   "id": "eeaf5068-27a5-4a0c-af57-8249381bbf61",
   "metadata": {},
   "source": [
    "Download from [NCBI](https://www.ncbi.nlm.nih.gov/sars-cov-2/) viruses from Europe, from human hosts, without ambigious characters, complete nucleotide sequences, and a sequence length of exactly 29,903 nt. They are downloaded via the web browser as *sequences.fasta*. Move them into your current working directory.\n",
    "\n",
    "Detailed instruction are in chapter \"**23.2.3 Data and GitHub Repository**\"\n",
    "\n",
    "Move the file (ca 100 MB) from your local computer to JuypterHub. It takes a while – check in the GitHub file browser if the complete file has been uploaded."
   ]
  },
  {
   "cell_type": "markdown",
   "id": "835df77f-7df0-485b-9933-03f3fb65c9d6",
   "metadata": {},
   "source": [
    "Here we print the header for the reference genome:"
   ]
  },
  {
   "cell_type": "code",
   "execution_count": null,
   "id": "a6bb24c6-ae29-437b-877c-6d5dc3cb2450",
   "metadata": {},
   "outputs": [],
   "source": [
    "cut -f 1 wuhan-1.tab\n",
    "awk -F\"\\t\" '{print $1}' ./wuhan-1.tab"
   ]
  },
  {
   "cell_type": "markdown",
   "id": "47d4b67b-b7ec-43cc-9afa-1fbeb8a1d9c2",
   "metadata": {},
   "source": [
    "Rename the file to *cov2-len-29903.fasta*"
   ]
  },
  {
   "cell_type": "code",
   "execution_count": null,
   "id": "ec84e372-39b3-4963-859a-faf9e63269a3",
   "metadata": {},
   "outputs": [],
   "source": [
    "mv sequences.fasta cov2-len-29903.fasta"
   ]
  },
  {
   "cell_type": "code",
   "execution_count": null,
   "id": "8f6bd928-408d-4a6e-a5f7-c6d1264dfb5a",
   "metadata": {},
   "outputs": [],
   "source": [
    "grep -c \">\" cov2-len-29903.fasta"
   ]
  },
  {
   "cell_type": "markdown",
   "id": "126c0e9f-ff29-4cdf-acfb-a5387f9593c6",
   "metadata": {},
   "source": [
    "## Convert FASTA to TAB and Edit Header"
   ]
  },
  {
   "cell_type": "code",
   "execution_count": null,
   "id": "14a152a9-e4af-4b07-8062-b17bb065b14e",
   "metadata": {},
   "outputs": [],
   "source": [
    "head -1 cov2-len-29903.fasta"
   ]
  },
  {
   "cell_type": "code",
   "execution_count": null,
   "id": "8ae3e319-a2d8-4966-8d25-382e9c37faf8",
   "metadata": {},
   "outputs": [],
   "source": [
    "./fasta2tbl cov2-len-29903.fasta | sed 's/|/\\t/g' > cov2-len-29903.tab"
   ]
  },
  {
   "cell_type": "code",
   "execution_count": null,
   "id": "c52a8f3f-f15e-4afb-bc0f-8b6e0914da22",
   "metadata": {},
   "outputs": [],
   "source": [
    "wc -l cov2-len-29903.tab"
   ]
  },
  {
   "cell_type": "code",
   "execution_count": null,
   "id": "4cdf35b2-577e-44a3-88fc-e219cc91e604",
   "metadata": {},
   "outputs": [],
   "source": [
    "cut -f 1 cov2-len-29903.tab | head -2"
   ]
  },
  {
   "cell_type": "code",
   "execution_count": null,
   "id": "dc0d5dfa-7e28-4f14-88ec-7ed512a78c4e",
   "metadata": {},
   "outputs": [],
   "source": [
    "cut -f 1,3 cov2-len-29903.tab | head -2"
   ]
  },
  {
   "cell_type": "code",
   "execution_count": null,
   "id": "32fc7120-24e2-4120-83be-1e8ef23f8d31",
   "metadata": {},
   "outputs": [],
   "source": [
    "cut -f 1-3 cov2-len-29903.tab | head -2"
   ]
  },
  {
   "cell_type": "markdown",
   "id": "a1664179-e592-4842-81ba-13781b80e01a",
   "metadata": {},
   "source": [
    "## Analyze Data"
   ]
  },
  {
   "cell_type": "code",
   "execution_count": null,
   "id": "735bac34-ca2f-4ae2-9bc6-f270f5bb3b52",
   "metadata": {},
   "outputs": [],
   "source": [
    "cut -f 2 cov2-len-29903.tab | sed 's/:.*//' | sort | uniq -c \n",
    "# cut -f 2 cov2-len-29903.tab | sort | uniq -c "
   ]
  },
  {
   "cell_type": "code",
   "execution_count": null,
   "id": "b832f5c3-6222-4866-8cd9-e835e89d0e8d",
   "metadata": {},
   "outputs": [],
   "source": [
    "egrep \"Germany\" cov2-len-29903.tab | cut -f 1-3"
   ]
  },
  {
   "cell_type": "code",
   "execution_count": null,
   "id": "978625c2-58a6-4021-9411-b49a0552ba55",
   "metadata": {},
   "outputs": [],
   "source": [
    "awk -f compare-cov2.awk -v ref=wuhan-1.tab -v seq=cov2-len-29903.tab -v id2=MT358638"
   ]
  },
  {
   "cell_type": "code",
   "execution_count": null,
   "id": "939e0dd6-d738-4972-97a9-4dc22044c0b5",
   "metadata": {},
   "outputs": [],
   "source": [
    "for i in MT358638 MT358639 MT358640 MT358641 MT358642 MT358643; do awk -f compare-cov2.awk -v ref=wuhan-1.tab -v seq=cov2-len-29903.tab -v id2=$i; done"
   ]
  },
  {
   "cell_type": "code",
   "execution_count": null,
   "id": "00c5bdb9-c029-4230-914c-bfa61075b3b4",
   "metadata": {},
   "outputs": [],
   "source": [
    "awk -f compare-cov2.awk -v ref=wuhan-1.tab -v seq=cov2-len-29903.tab -v id2=OK075090"
   ]
  },
  {
   "cell_type": "code",
   "execution_count": null,
   "id": "d426a855-6549-4402-90d1-ab21acd06e53",
   "metadata": {},
   "outputs": [],
   "source": [
    "# mit head -50 werden statt allen (ca 3.000) nur 50 Sequenzen bearbeitet\n",
    "for i in $(cut -f 1 cov2-len-29903.tab | head -50 | sed 's/\\..*//'); do awk -f compare-cov2.awk -v ref=wuhan-1.tab -v seq=cov2-len-29903.tab -v id2=$i; done > result.txt"
   ]
  },
  {
   "cell_type": "code",
   "execution_count": null,
   "id": "6cd73573-74fb-4930-8b86-43f13470178a",
   "metadata": {},
   "outputs": [],
   "source": [
    "egrep -c \">\" result.txt"
   ]
  },
  {
   "cell_type": "code",
   "execution_count": null,
   "id": "00f0181c-d651-456f-b3f9-7a36a1c6af60",
   "metadata": {},
   "outputs": [],
   "source": [
    "egrep -c \"SPIKE\" result.txt"
   ]
  },
  {
   "cell_type": "code",
   "execution_count": null,
   "id": "000e5474-ed33-46b3-975b-7799d7779106",
   "metadata": {},
   "outputs": [],
   "source": [
    "egrep -c \"Motif\" result.txt"
   ]
  },
  {
   "cell_type": "code",
   "execution_count": null,
   "id": "dc361887-699f-4f64-b633-c4f39fbe34c8",
   "metadata": {},
   "outputs": [],
   "source": [
    "egrep \"Motif\" result.txt | head -5"
   ]
  },
  {
   "cell_type": "code",
   "execution_count": null,
   "id": "141d1068-5aae-4b62-9b63-43effe797dc0",
   "metadata": {},
   "outputs": [],
   "source": [
    "egrep \"Motif\" result.txt | cut -d ' ' -f 7 | sort | uniq -c\n",
    "echo\n",
    "egrep \"Motif\" result.txt | cut -d ' ' -f 7 "
   ]
  },
  {
   "attachments": {},
   "cell_type": "markdown",
   "id": "654f7c27-aefe-4456-8dd6-43ff28cf33dc",
   "metadata": {},
   "source": [
    "Goto an online version of [Jmol](https://lampz.tugraz.at/~hadley/ss1/molecules/moleculeviewer/viewer.php) in your browser of choice. There you can open the Jmol terminal as shown in this video:\n",
    "\n",
    "<figure style=\"width:50%; display: block; margin-left: auto; margin-right: auto;\">\n",
    "  <img src=\"jmol_im_www.gif\" alt=\"jmol_im_www.gif\" >\n",
    "  <figcaption>Using the online version of Jmol.</figcaption>\n",
    "</figure>\n",
    "\n",
    "Copy/paste the following code into the Jmol terminal "
   ]
  },
  {
   "cell_type": "markdown",
   "id": "dc7bd9fe-981d-4474-a547-595b597f3d85",
   "metadata": {},
   "source": [
    "```\n",
    "load =7DF4\n",
    "spacefill off; wireframe off\n",
    "cartoon\n",
    "select :A; color lightgray # ACE2\n",
    "select :C; color gray # Spike 2\n",
    "select :D; color darkgray # Spike 3\n",
    "select :B; color lightblue # Spike 1\n",
    "select 319-541:B; color blue # RBDomain\n",
    "select 437-508:B; color red # RBMotif\n",
    "```"
   ]
  },
  {
   "cell_type": "markdown",
   "id": "9223ea7f-e585-4f82-a6b6-ec061990b7a0",
   "metadata": {},
   "source": [
    "Open the PDB structure 7DF4 with the above script directly in [jmol.php](https://chemapps.stolaf.edu/jmol/jmol.php?pdbid=7df4&script=wireframe&nbsp;off;spacefill&nbsp;off;cartoon;select&nbsp;:A;color&nbsp;lightgray;select&nbsp;:C;color&nbsp;gray;select&nbsp;:D;color&nbsp;darkgray;select&nbsp;:B;color&nbsp;lightblue;select&nbsp;319-541:B;color&nbsp;blue;select&nbsp;437-508:B;color&nbsp;red)\n",
    "\n",
    "Note to myself: Spaces are replaed by ```&nbsp;``` // No space behind semicolon // No comments"
   ]
  },
  {
   "cell_type": "code",
   "execution_count": null,
   "id": "37e36ba0-ead8-4d9c-a13b-e9d430b34ff8",
   "metadata": {},
   "outputs": [],
   "source": [
    "egrep \"Motif\" result.txt | awk '{print $6}' | sort | uniq -c | sed 's/:/ /' | awk '{if($1<10){print \"select \"$3\":B; spacefill 100; color yellow\"}else{print \"select \"$3\":B; spacefill 300; color yellow\"}}' | tee -a 7DF4.script"
   ]
  },
  {
   "cell_type": "markdown",
   "id": "21d45669-3254-45a6-8c59-4dd7e002f675",
   "metadata": {},
   "source": [
    "You can now add these Jmol commands to the Jmol terminal and execute them."
   ]
  },
  {
   "cell_type": "markdown",
   "id": "48ac4f29-6891-44e8-9077-ca7dcea7bc62",
   "metadata": {},
   "source": [
    "## Mapping Genomic Variance"
   ]
  },
  {
   "cell_type": "code",
   "execution_count": null,
   "id": "1db2529f-b242-4b0b-83be-badcc4fb86b5",
   "metadata": {},
   "outputs": [],
   "source": [
    "minimap2 -x asm5 -a -o sequences.sam wuhan-1.fasta cov2-len-29903.fasta"
   ]
  },
  {
   "cell_type": "markdown",
   "id": "69fa7b54-f178-4088-969d-1b1ca6c7477e",
   "metadata": {},
   "source": [
    "Print SAM without sequence:"
   ]
  },
  {
   "cell_type": "code",
   "execution_count": null,
   "id": "69dbb1e2-5f1b-4562-8ea8-ea5f6bd645c5",
   "metadata": {},
   "outputs": [],
   "source": [
    "awk -F\"\\t\" '{ORS=\"\"; for(i=1; i<=NF; i++){if($i!~/[ATCG]{10,}/){print $i\" \"}}print \"\\n\"}' sequences.sam | head -10"
   ]
  },
  {
   "cell_type": "markdown",
   "id": "2cb98ef6-7ccb-4924-9cc1-ead71f862b87",
   "metadata": {},
   "source": [
    "The 6th field specifies the changes. \"29903M\" means that all 29903 nucleotides match (see table 23.1 in my book). Therefore, we print only lines with mutations:"
   ]
  },
  {
   "cell_type": "code",
   "execution_count": null,
   "id": "c8956b5c-2e07-465c-a31b-1fc09f788d70",
   "metadata": {},
   "outputs": [],
   "source": [
    "awk -F\"\\t\" '$6!=\"29903M\"{ORS=\"\"; for(i=1; i<=NF; i++){if($i!~/[ATCG]{10,}/){print $i\" \"}}print \"\\n\"}' sequences.sam | head -10"
   ]
  },
  {
   "cell_type": "code",
   "execution_count": null,
   "id": "4cc55d94-d920-42a3-9470-75fdf4bfbede",
   "metadata": {},
   "outputs": [],
   "source": [
    "awk -F\"\\t\" '$6!=\"29903M\"{ORS=\"\"; for(i=1; i<=NF; i++){if($i!~/[ATCG]{10,}/){print $i\" \"}}print \"\\n\"}' sequences.sam | wc -l"
   ]
  },
  {
   "cell_type": "markdown",
   "id": "03dbeae9-0430-4254-9b17-9f1cc8822426",
   "metadata": {},
   "source": [
    "And now we print the full lines, including the sequences."
   ]
  },
  {
   "cell_type": "code",
   "execution_count": null,
   "id": "d34cad33-ecfd-44f2-b762-328edf36a25a",
   "metadata": {},
   "outputs": [],
   "source": [
    "# awk -F\"\\t\" '$6!=\"29903M\"{print $0}' sequences.sam > sequences_mutated.sam\n",
    "awk -F\"\\t\" '$6!=\"29903M\"{print $1, $6}' sequences.sam | sed '1,2d' | head"
   ]
  },
  {
   "cell_type": "markdown",
   "id": "aafdf5d9-f372-480c-84f0-43e83ae97c64",
   "metadata": {},
   "source": [
    "Convert SAM file to binary format and sort "
   ]
  },
  {
   "cell_type": "code",
   "execution_count": null,
   "id": "bad40401-81d1-4279-966a-f8bd4354dedf",
   "metadata": {},
   "outputs": [],
   "source": [
    "samtools view -b sequences_mutated.sam | samtools sort - -o sequences_mutated.sorted.bam"
   ]
  },
  {
   "cell_type": "markdown",
   "id": "fbba0c72-5f34-4adc-85d8-c9fbfe880b08",
   "metadata": {},
   "source": [
    "Create index for *sequences.sorted.bam* file for visualization with IGV"
   ]
  },
  {
   "cell_type": "code",
   "execution_count": null,
   "id": "6f9c4bf9-6d9f-48f4-af28-ef50faa1ea4f",
   "metadata": {},
   "outputs": [],
   "source": [
    "samtools index sequences_mutated.sorted.bam"
   ]
  },
  {
   "attachments": {},
   "cell_type": "markdown",
   "id": "98723ce4-f089-4923-a9ca-9741229917e8",
   "metadata": {},
   "source": [
    "We can now look at the variants with the Samtools viewer ```tview```:\n",
    "\n",
    "Therefore, change to the **terminal** and run ```samtools tview sequences_mutated.sorted.bam wuhan-1.fasta -p NC_045512.2:22871-23084```\n",
    "\n",
    "This opens the following screen. The top sequence represents the reference stored in *wuhan-1.fasta*. Each following line represents one virus genome sequence. A dot means that the nucleotide at this position matches the reference. For mutated nucleotides, the nucleotide is shown. You can sroll left and right with the curos keys and can apply commands as shown in the help. ```Q```brings you back to the terminal prompt.\n",
    "\n",
    "<figure style=\"width:50%; display: block; margin-left: auto; margin-right: auto;\">\n",
    "  <img src=\"samtools-tview.png\" alt=\"samtools-tview.png\" >\n",
    "  <figcaption>The terminal based alignment viewer tview of SamTools.</figcaption>\n",
    "</figure>"
   ]
  },
  {
   "cell_type": "markdown",
   "id": "3368663c-da49-4b44-9307-3ea2e3626dde",
   "metadata": {},
   "source": [
    "## IGV Approach with Xvfb\n",
    "Xvfb is a virtual frame buffer for the graphical X11-server. That means you can open graphical windows without displaying them. Instead, snapshots can be stored."
   ]
  },
  {
   "cell_type": "code",
   "execution_count": null,
   "id": "bd88cd86-46d3-4c38-9d07-4281cae109fb",
   "metadata": {},
   "outputs": [],
   "source": [
    "bcftools mpileup --max-depth 4000 -a AD -f wuhan-1.fasta -o seq-4000.bcf sequences_mutated.sorted.bam"
   ]
  },
  {
   "cell_type": "markdown",
   "id": "d69db7b3-ed13-4f34-80d4-be69d3683d03",
   "metadata": {},
   "source": [
    "Now call the significantly variant position with the multiallelic-caller (`-m`) and assume a ploidy of two. Save only variant sites (`-v`) in a VCF formated file (`-O v`)."
   ]
  },
  {
   "cell_type": "code",
   "execution_count": null,
   "id": "64e9ae4a-15e8-4fd5-a938-ba392b343731",
   "metadata": {},
   "outputs": [],
   "source": [
    "bcftools call -O v -v -m --ploidy 2 -o seq-4000.vcf seq-4000.bcf"
   ]
  },
  {
   "cell_type": "markdown",
   "id": "fa7155ea-8ed0-4c87-b993-cf0f1f93e0ce",
   "metadata": {},
   "source": [
    "Convert original file with all variant position (without statistical model) to VCF"
   ]
  },
  {
   "cell_type": "code",
   "execution_count": null,
   "id": "d723d219-300f-4291-8262-f8218aba8d30",
   "metadata": {},
   "outputs": [],
   "source": [
    "bcftools view -O v -o seq-4000-all.vcf seq-4000.bcf"
   ]
  },
  {
   "cell_type": "markdown",
   "id": "ef4761bf-4264-4878-b33a-346525ef4c6f",
   "metadata": {},
   "source": [
    "Extract all positions that have at least one variant nucleotide."
   ]
  },
  {
   "cell_type": "code",
   "execution_count": null,
   "id": "a73cf4d0-6973-4f44-8359-81b31e920154",
   "metadata": {},
   "outputs": [],
   "source": [
    "awk '$5~/[ACGT]/||$0~/^#/{print $0}' seq-4000-all.vcf > seq-4000-snv.vcf"
   ]
  },
  {
   "cell_type": "markdown",
   "id": "62ff8d89-5b36-416e-a1ff-2001b72b0b62",
   "metadata": {},
   "source": [
    "Download GenBank file of reference genome for annotation"
   ]
  },
  {
   "cell_type": "code",
   "execution_count": null,
   "id": "1f383d1f-c59f-446e-9d0f-e4f37c012ee9",
   "metadata": {},
   "outputs": [],
   "source": [
    "efetch -db nuccore -id NC_045512 -format genbank > wuhan-1.gb"
   ]
  },
  {
   "cell_type": "markdown",
   "id": "6a79433d-c9c9-4daf-bd6e-84a3e825ee7f",
   "metadata": {},
   "source": [
    "Edit GenBank file to be compatible with the FASTA version. "
   ]
  },
  {
   "cell_type": "code",
   "execution_count": null,
   "id": "5563d278-ad06-4e1e-8715-00d464d5356b",
   "metadata": {},
   "outputs": [],
   "source": [
    "sed -i 's/NC_045512/NC_045512.2/' wuhan-1.gb"
   ]
  },
  {
   "cell_type": "markdown",
   "id": "2ab09dc0-1846-4547-a392-98635f6b0353",
   "metadata": {},
   "source": [
    "Create GFF3 File *spikeprotein.gff3*:\n",
    "```\n",
    "##gff-version 3\n",
    "##track name=\"Spike Protein\" gffTags=on\n",
    "NC_045512.2     .       CDS     21563   25383   .       +       .       ID=Spike;Name=SpikeProtein;Color=blue\n",
    "NC_045512.2     .       CDS     22517   23183   .       +       .       ID=Domain;Name=RBDomain;Color=green\n",
    "NC_045512.2     .       CDS     22871   23084   .       +       .       ID=Motif;Name=RBMotif;Color=red\n",
    "```"
   ]
  },
  {
   "cell_type": "markdown",
   "id": "f8a6527f-4c9c-48ab-aa08-83d46f24d3f1",
   "metadata": {},
   "source": [
    "Call IGV with ```xvfb-run```and the following IGV script file called *igv.bat*:\n",
    "\n",
    "```\n",
    "new\n",
    "snapshotDirectory snapshots\n",
    "genome wuhan-1.gb\n",
    "load spikeprotein.gff3\n",
    "# load sequences_mutated.sorted.bam\n",
    "load seq-4000.vcf \n",
    "load seq-4000-snv.vcf\n",
    "snapshot region_full.png\n",
    "# RBM:\n",
    "goto NC_045512.2:22871-23084\n",
    "snapshot region_RBM.png\n",
    "# RBD:\n",
    "goto NC_045512.2:22517-23183\n",
    "snapshot region_RBD.png\n",
    "exit\n",
    "```"
   ]
  },
  {
   "cell_type": "code",
   "execution_count": null,
   "id": "2d790368-c2da-4a98-895b-e6133eaeba98",
   "metadata": {},
   "outputs": [],
   "source": [
    "# igv -g wuhan-1.gb -l NC_045512.2:22871-23084 sequences.sorted.bam seq-4000.vcf seq-4000-snv.vcf spikeprotein.gff3\n",
    "xvfb-run -a igv -b igv.bat # notebooks/AngBioInfo_2025/AngBioInfo_2025/SARS-CoV-2"
   ]
  },
  {
   "attachments": {},
   "cell_type": "markdown",
   "id": "cf14dd4b-a637-4e31-8dea-ecfd3db7261d",
   "metadata": {},
   "source": [
    "**Attention**: Images do not update automatically:\n",
    "\n",
    "<figure style=\"text-align: center;\">\n",
    "  <img src=\"snapshots/region_full.png\" style=\"width: 30%; display: inline-block; margin-right: 2%;\">\n",
    "  <img src=\"snapshots/region_RBD.png\" style=\"width: 30%; display: inline-block;\">\n",
    "  <img src=\"snapshots/region_RBM.png\" style=\"width: 30%; display: inline-block;\">\n",
    "  <figcaption>Window snapshot of IGV with left) the complete virus, middle) the RBD and right) the RBM.</figcaption>\n",
    "</figure>\n",
    "<script>\n",
    "  document.getElementById(\"myimg\").src += '?t=' + new Date().getTime();\n",
    "</script>"
   ]
  },
  {
   "cell_type": "markdown",
   "id": "074ea79c-8daa-4a5b-b6b8-c173f35d64ff",
   "metadata": {},
   "source": [
    "sequences_mutated.sorted.bam"
   ]
  }
 ],
 "metadata": {
  "kernelspec": {
   "display_name": "Bash",
   "language": "bash",
   "name": "bash"
  },
  "language_info": {
   "codemirror_mode": "shell",
   "file_extension": ".sh",
   "mimetype": "text/x-sh",
   "name": "bash"
  }
 },
 "nbformat": 4,
 "nbformat_minor": 5
}
