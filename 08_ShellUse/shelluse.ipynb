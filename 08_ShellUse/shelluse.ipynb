{
 "cells": [
  {
   "cell_type": "markdown",
   "id": "18f30d09-a8f8-477e-866c-ac4f07380ccf",
   "metadata": {},
   "source": [
    "# Using the Shell "
   ]
  },
  {
   "cell_type": "code",
   "execution_count": null,
   "id": "5945a8ff-b161-4526-961e-883ef2415cfc",
   "metadata": {},
   "outputs": [],
   "source": [
    "history | egrep -i 'sort'"
   ]
  },
  {
   "cell_type": "code",
   "execution_count": null,
   "id": "3ea0214c-f5c1-4baf-bd67-5acfd1cb75ee",
   "metadata": {},
   "outputs": [],
   "source": [
    "date && echo \"some output\""
   ]
  },
  {
   "cell_type": "code",
   "execution_count": null,
   "id": "5ddff8fc-8a25-42cf-93f4-a8c9e5752be6",
   "metadata": {},
   "outputs": [],
   "source": [
    "datum && echo \"some output\""
   ]
  },
  {
   "cell_type": "code",
   "execution_count": null,
   "id": "b34d22ed-3b70-44a5-8157-bff1b7bf63a6",
   "metadata": {},
   "outputs": [],
   "source": [
    "date || echo \"some output\""
   ]
  },
  {
   "cell_type": "code",
   "execution_count": null,
   "id": "e03c77a9-ab19-4751-a172-54872636cea8",
   "metadata": {},
   "outputs": [],
   "source": [
    "datum || echo \"some output\""
   ]
  },
  {
   "cell_type": "markdown",
   "id": "a8798d05-e098-4b31-b01c-547bd1a19418",
   "metadata": {},
   "source": [
    "### Functions"
   ]
  },
  {
   "cell_type": "code",
   "execution_count": null,
   "id": "f3dd48ca-fb21-4e95-bf2c-7b2673c033c1",
   "metadata": {},
   "outputs": [],
   "source": [
    "llc() { ls -l | wc -l; }"
   ]
  },
  {
   "cell_type": "code",
   "execution_count": null,
   "id": "74b2ff7e-72a3-419d-bccb-ba0374e07c41",
   "metadata": {},
   "outputs": [],
   "source": [
    "llc"
   ]
  },
  {
   "cell_type": "code",
   "execution_count": null,
   "id": "4ab3d552-5a88-4242-9e40-c724d12a0dec",
   "metadata": {},
   "outputs": [],
   "source": [
    "revcomp() { tr AGTCagtc TCAGtcag | rev; }"
   ]
  },
  {
   "cell_type": "code",
   "execution_count": null,
   "id": "0f24b16d-603c-4c55-9707-adea40a5d4ea",
   "metadata": {},
   "outputs": [],
   "source": [
    "echo \"ACGGTATT\" | revcomp"
   ]
  },
  {
   "cell_type": "markdown",
   "id": "a06b5aa5-d8ae-4206-b8ef-50c8448e508a",
   "metadata": {},
   "source": [
    "### Batch Jobs"
   ]
  },
  {
   "cell_type": "code",
   "execution_count": null,
   "id": "6a002a36-eb84-4894-89a5-2060dabcc816",
   "metadata": {},
   "outputs": [],
   "source": [
    "mkdir Batch; cd Batch"
   ]
  },
  {
   "cell_type": "code",
   "execution_count": null,
   "id": "4070ed09-ddac-4201-87c3-9df48aaf4206",
   "metadata": {},
   "outputs": [],
   "source": [
    "cp ~/CompBiol3/TextEdit/genomes.txt ."
   ]
  },
  {
   "cell_type": "code",
   "execution_count": null,
   "id": "483f6e44-3e90-46d8-82bb-cb4a31d69868",
   "metadata": {},
   "outputs": [],
   "source": [
    "cp ~/CompBiol3/TextEdit/edit.vi ."
   ]
  },
  {
   "cell_type": "code",
   "execution_count": null,
   "id": "fcf73b8e-66fe-4dd7-8d4e-2ba72e282d8d",
   "metadata": {},
   "outputs": [],
   "source": [
    "cp genomes.txt genomes-3.txt"
   ]
  },
  {
   "cell_type": "code",
   "execution_count": null,
   "id": "6f267b5f-95ed-4cd0-b32e-9b8669a90b10",
   "metadata": {},
   "outputs": [],
   "source": [
    "for i in *.txt; do vim -e $i < edit.vi; done"
   ]
  },
  {
   "cell_type": "code",
   "execution_count": null,
   "id": "34c8551d-64bc-40a5-a45e-df68f99f5cab",
   "metadata": {},
   "outputs": [],
   "source": [
    "head genomes.txt"
   ]
  },
  {
   "cell_type": "code",
   "execution_count": null,
   "id": "e7dfbc4a-06cf-4aaa-8a7e-1655511d6776",
   "metadata": {},
   "outputs": [],
   "source": [
    "head  genomes-2.txt"
   ]
  },
  {
   "cell_type": "code",
   "execution_count": null,
   "id": "169f9555-1a17-48c6-a281-3e3a020b70f1",
   "metadata": {},
   "outputs": [],
   "source": [
    "cat edit.vi"
   ]
  },
  {
   "cell_type": "code",
   "execution_count": null,
   "id": "6e0b141f-050d-421c-8a32-4eade18aae03",
   "metadata": {},
   "outputs": [],
   "source": []
  }
 ],
 "metadata": {
  "kernelspec": {
   "display_name": "Bash",
   "language": "bash",
   "name": "bash"
  },
  "language_info": {
   "codemirror_mode": "shell",
   "file_extension": ".sh",
   "mimetype": "text/x-sh",
   "name": "bash"
  }
 },
 "nbformat": 4,
 "nbformat_minor": 5
}
