{
 "cells": [
  {
   "cell_type": "markdown",
   "id": "705a10a6-00eb-4f96-8494-7b532dcd7d08",
   "metadata": {},
   "source": [
    "# Stream Editor Sed"
   ]
  },
  {
   "cell_type": "code",
   "execution_count": null,
   "id": "5e5e9fd7-e033-487a-9baf-94e240fa69dc",
   "metadata": {},
   "outputs": [],
   "source": [
    "cat>test.file.txt\n",
    "I think most spring flowers bloom white.\n",
    "Is that caused by gene regulation?"
   ]
  },
  {
   "cell_type": "code",
   "execution_count": null,
   "id": "abc4c3ae-ef84-4bda-851f-e84bfc46e5cf",
   "metadata": {},
   "outputs": [],
   "source": [
    "cat test.file.txt"
   ]
  },
  {
   "cell_type": "code",
   "execution_count": null,
   "id": "fda30f65-da84-437c-9244-441bc18c3314",
   "metadata": {},
   "outputs": [],
   "source": [
    "sed 's/most/few/' test.file.txt"
   ]
  },
  {
   "cell_type": "code",
   "execution_count": null,
   "id": "7e56c65e-32b8-4328-9336-2d835e4d760c",
   "metadata": {},
   "outputs": [],
   "source": [
    "sed -n 's/most/few/p' test.file.txt"
   ]
  },
  {
   "cell_type": "code",
   "execution_count": null,
   "id": "47d1ccb2-a9a4-41c6-b6ca-7b71193b3ded",
   "metadata": {},
   "outputs": [],
   "source": [
    "sed -n 'p' test.file.txt"
   ]
  },
  {
   "cell_type": "code",
   "execution_count": null,
   "id": "9d68acff-8624-4708-bdfa-b02469d3c3ca",
   "metadata": {},
   "outputs": [],
   "source": [
    "sed -e 's/most/few/' -e 's/few/most/' -e 's/white/red/' test.file.txt"
   ]
  },
  {
   "cell_type": "code",
   "execution_count": null,
   "id": "8b7d14d6-2f74-43c2-b644-2cc103d80502",
   "metadata": {},
   "outputs": [],
   "source": [
    "sed -f edit.sed test.file.txt"
   ]
  },
  {
   "cell_type": "code",
   "execution_count": null,
   "id": "83fbccd1-1386-425b-ba7b-a4ea369a59f2",
   "metadata": {},
   "outputs": [],
   "source": [
    "echo \"Darwin meets Newton\" | sed 's/meets/never met/'"
   ]
  },
  {
   "cell_type": "code",
   "execution_count": null,
   "id": "2b03bd2b-3409-4928-ba09-1683dd858238",
   "metadata": {},
   "outputs": [],
   "source": [
    "sed -n '1p' structure.pdb"
   ]
  },
  {
   "cell_type": "code",
   "execution_count": null,
   "id": "80d89081-c41d-4ccb-b7b0-afcb9af4db3d",
   "metadata": {},
   "outputs": [],
   "source": [
    "sed -n '2p' structure.pdb"
   ]
  },
  {
   "cell_type": "code",
   "execution_count": null,
   "id": "0b77c5f3-7f23-4bb1-80de-5ba6cd196fe1",
   "metadata": {},
   "outputs": [],
   "source": [
    "sed -n '1,3p' structure.pdb"
   ]
  },
  {
   "cell_type": "code",
   "execution_count": null,
   "id": "f572607c-b083-42f9-ae5b-d55da3e7ca07",
   "metadata": {},
   "outputs": [],
   "source": [
    "sed -n '/ATOM 7/,$p' structure.pdb"
   ]
  },
  {
   "cell_type": "code",
   "execution_count": null,
   "id": "7ccfabfe-99ca-4050-9898-1703d8cd7321",
   "metadata": {},
   "outputs": [],
   "source": [
    "sed -n '/HELIX/p' structure.pdb"
   ]
  },
  {
   "cell_type": "code",
   "execution_count": null,
   "id": "cfe79fd2-77d0-4705-8521-cb230d802b7b",
   "metadata": {},
   "outputs": [],
   "source": [
    "sed -n '/HEADER/,/AUTHOR/p' structure.pdb"
   ]
  },
  {
   "cell_type": "code",
   "execution_count": null,
   "id": "b957259d-ae48-4f87-b6ad-5123b014ae21",
   "metadata": {},
   "outputs": [],
   "source": [
    "echo 'ctagctacg' | sed -E 's/(t.)/--/'"
   ]
  },
  {
   "cell_type": "code",
   "execution_count": null,
   "id": "c85f3b45-117c-4e48-9e3a-704f060fb57a",
   "metadata": {},
   "outputs": [],
   "source": [
    "sed -n 's/^   [A-Z].*$/>>>&/p' gene-list.txt"
   ]
  },
  {
   "cell_type": "code",
   "execution_count": null,
   "id": "27ba1507-a7cb-4080-ad63-2bac697252e3",
   "metadata": {},
   "outputs": [],
   "source": [
    "sed -n 's/^   \\([A-Z].*$\\)/--- \\1 ---/p' gene-list.txt"
   ]
  },
  {
   "cell_type": "code",
   "execution_count": null,
   "id": "4b4662ee-b057-4540-8102-d56e4793ae70",
   "metadata": {},
   "outputs": [],
   "source": [
    "ls -l ~ | sed 's/^d/DIR: /' | sed 's/^[^Dt]/     /'"
   ]
  },
  {
   "cell_type": "code",
   "execution_count": null,
   "id": "4102c471-796b-4dff-b076-a06dcb281ce5",
   "metadata": {},
   "outputs": [],
   "source": [
    "echo -e '>seq1\\nCGTACAGCT' | sed '/>/!y/ACGT/TGCA/'  | sed '/>/! s/.*/echo & | rev/e'"
   ]
  },
  {
   "cell_type": "code",
   "execution_count": null,
   "id": "a770ba3d-0f80-46a7-b156-22512ba5642f",
   "metadata": {},
   "outputs": [],
   "source": [
    "sed '/     /d' gene-list.txt"
   ]
  },
  {
   "cell_type": "code",
   "execution_count": null,
   "id": "5ff4ecc3-717b-49cb-b2de-69a6ef2524c8",
   "metadata": {},
   "outputs": [],
   "source": [
    "sed -n 's/^\\([A-z]..*\\)/|--- \\1/p \n",
    "s/^   \\([A-Z]..*\\)/|   |--- \\1/p \n",
    "s/^     [A-Za-z]..*(\\(....\\))/|   |   |--- \\1/p' gene-list.txt"
   ]
  },
  {
   "cell_type": "code",
   "execution_count": null,
   "id": "cdc08a09-6937-4ac6-9ef9-4bc5b07f13a5",
   "metadata": {},
   "outputs": [],
   "source": [
    "sed -nf gene-tree.sed gene-list.txt"
   ]
  },
  {
   "cell_type": "code",
   "execution_count": null,
   "id": "5c348930-c2be-4eb7-a9d8-9ad35bbcc586",
   "metadata": {},
   "outputs": [],
   "source": [
    "chmod u+x tree.sed"
   ]
  },
  {
   "cell_type": "code",
   "execution_count": null,
   "id": "5526d175-3954-40fc-af7d-705947f0bb5e",
   "metadata": {},
   "outputs": [],
   "source": [
    "./tree.sh ."
   ]
  },
  {
   "cell_type": "code",
   "execution_count": null,
   "id": "afb44eb5-6466-452e-8e60-2bfa9af1ef62",
   "metadata": {},
   "outputs": [],
   "source": []
  }
 ],
 "metadata": {
  "kernelspec": {
   "display_name": "Bash",
   "language": "bash",
   "name": "bash"
  },
  "language_info": {
   "codemirror_mode": "shell",
   "file_extension": ".sh",
   "mimetype": "text/x-sh",
   "name": "bash"
  }
 },
 "nbformat": 4,
 "nbformat_minor": 5
}
