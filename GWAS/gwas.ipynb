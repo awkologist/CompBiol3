{
 "cells": [
  {
   "cell_type": "markdown",
   "id": "9ad25a5d-f7ca-412b-9eb9-3b38b27b15b8",
   "metadata": {},
   "source": [
    "# GWAS with PLINK and R"
   ]
  },
  {
   "cell_type": "markdown",
   "id": "172a41d2-6ccb-4d67-8e7a-7eebfcbad4de",
   "metadata": {},
   "source": [
    "## Installation\n",
    "Optional: One could additionally install **HaploView** from https://sourceforge.net/projects/haploview/ and **gPLINK** from https://zzz.bwh.harvard.edu/plink/dist/gPLINK-2.050.zip"
   ]
  },
  {
   "cell_type": "code",
   "execution_count": 20,
   "id": "ab3a06e3-3553-4688-86c1-ab46fc054969",
   "metadata": {},
   "outputs": [
    {
     "name": "stdout",
     "output_type": "stream",
     "text": [
      "Reading package lists... 0%Reading package lists... 100%Reading package lists... Done\n",
      "Building dependency tree... 0%Building dependency tree... 0%Building dependency tree... 50%Building dependency tree... 50%Building dependency tree... Done\n",
      "Reading state information... 0% Reading state information... 0%Reading state information... Done\n",
      "plink1.9 is already the newest version (1.90~b6.21-201019-1).\n",
      "The following packages were automatically installed and are no longer required:\n",
      "  dzen2 libfakekey0 libfltk1.3 libiw30 matchbox-common matchbox-desktop\n",
      "  matchbox-keyboard matchbox-keyboard-im matchbox-panel matchbox-panel-manager\n",
      "Use 'sudo apt autoremove' to remove them.\n",
      "0 upgraded, 0 newly installed, 0 to remove and 48 not upgraded.\n"
     ]
    }
   ],
   "source": [
    "sudo apt install plink1.9"
   ]
  },
  {
   "cell_type": "markdown",
   "id": "8f68e84d-f21d-4741-834f-e83fcdfc4f21",
   "metadata": {},
   "source": [
    "In R install **qqman** with `install.packages(\"qqman\")`"
   ]
  },
  {
   "cell_type": "markdown",
   "id": "b92bfe4e-28a4-4a7f-a61d-d25160281574",
   "metadata": {},
   "source": [
    "## Data"
   ]
  },
  {
   "cell_type": "markdown",
   "id": "d66bfd57-b29c-45e4-b8da-76afc303ec59",
   "metadata": {},
   "source": [
    "download example dataset by Shaun Purcell, however, it is also provided in this repository"
   ]
  },
  {
   "cell_type": "code",
   "execution_count": 1,
   "id": "2a148ca4-89ab-4c09-b1ef-263dadf620e1",
   "metadata": {},
   "outputs": [],
   "source": [
    "# wget https://zzz.bwh.harvard.edu/plink/dist/example.zip"
   ]
  },
  {
   "cell_type": "code",
   "execution_count": 2,
   "id": "604ac8a2-2d48-402d-b020-88891ce7e49f",
   "metadata": {},
   "outputs": [
    {
     "name": "stdout",
     "output_type": "stream",
     "text": [
      "/home/ubuntu/CompBiol3/GWAS\n"
     ]
    }
   ],
   "source": [
    "pwd"
   ]
  },
  {
   "cell_type": "code",
   "execution_count": 3,
   "id": "ef237e6a-4a0d-4f7f-af60-8c9fab43a300",
   "metadata": {},
   "outputs": [
    {
     "name": "stdout",
     "output_type": "stream",
     "text": [
      "total 87288\n",
      "drwxrwxr-x 2 ubuntu ubuntu     4096 Feb 25 10:49 \u001b[0m\u001b[01;34mPlayground\u001b[0m\n",
      "drwxrwxr-x 3 ubuntu ubuntu     4096 Feb 25 10:09 \u001b[01;34mShaunPurcell\u001b[0m\n",
      "-rw-rw-r-- 1 ubuntu ubuntu     1064 Feb 25 10:49 gwas.ipynb\n",
      "-rw-r--r-- 1 ubuntu ubuntu  7033003 Feb 25 10:52 gwas.org.map\n",
      "-rw-r--r-- 1 ubuntu ubuntu 82332090 Feb 25 10:52 gwas.org.ped\n"
     ]
    }
   ],
   "source": [
    "ls -l"
   ]
  },
  {
   "cell_type": "markdown",
   "id": "6fe5196a-1959-4755-ad16-6331ca43b5e7",
   "metadata": {},
   "source": [
    "## Processing"
   ]
  },
  {
   "cell_type": "markdown",
   "id": "b3558594-acd0-4b84-81f1-792f1e51599c",
   "metadata": {},
   "source": [
    "Initial creation of a binary dataset from raw genotype data for faster data access"
   ]
  },
  {
   "cell_type": "code",
   "execution_count": 21,
   "id": "3393114c-e5d5-499c-8820-18cd3faafe47",
   "metadata": {},
   "outputs": [
    {
     "name": "stdout",
     "output_type": "stream",
     "text": [
      "OpenBLAS WARNING - could not determine the L2 cache size on this system, assuming 256k\n"
     ]
    }
   ],
   "source": [
    "plink1.9 --file gwas.org --make-bed --out gwas.bin --gplink"
   ]
  },
  {
   "cell_type": "code",
   "execution_count": 22,
   "id": "3b6dc668-8210-44b0-a7c0-eae9f3ccb470",
   "metadata": {},
   "outputs": [
    {
     "name": "stdout",
     "output_type": "stream",
     "text": [
      "PLINK v1.90b6.22 64-bit (3 Nov 2020)\n",
      "Options in effect:\n",
      "  --file gwas.org\n",
      "  --gplink\n",
      "  --make-bed\n",
      "  --out gwas.bin\n",
      "\n",
      "Hostname: rw20G\n",
      "Working directory: /home/ubuntu/CompBiol3/GWAS\n",
      "Start time: Sun Feb 25 12:06:48 2024\n",
      "\n",
      "Random number seed: 1708859208\n",
      "15983 MB RAM detected; reserving 7991 MB for main workspace.\n",
      "Scanning .ped file... done.\n",
      "Performing single-pass .bed write (228694 variants, 90 people).\n",
      "--file: gwas.bin-temporary.bed + gwas.bin-temporary.bim +\n",
      "gwas.bin-temporary.fam written.\n",
      "228694 variants loaded from .bim file.\n",
      "90 people (45 males, 45 females) loaded from .fam.\n",
      "90 phenotype values loaded from .fam.\n",
      "Using 1 thread (no multithreaded calculations invoked).\n",
      "Before main variant filters, 90 founders and 0 nonfounders present.\n",
      "Calculating allele frequencies... done.\n",
      "Total genotyping rate is 0.993346.\n",
      "228694 variants and 90 people pass filters and QC.\n",
      "Among remaining phenotypes, 49 are cases and 41 are controls.\n",
      "--make-bed to gwas.bin.bed + gwas.bin.bim + gwas.bin.fam ... done.\n",
      "\n",
      "End time: Sun Feb 25 12:06:49 2024\n"
     ]
    }
   ],
   "source": [
    "cat gwas.bin.log"
   ]
  },
  {
   "cell_type": "markdown",
   "id": "4d4ad428-5ada-47a1-8203-a35bd5e5dcb8",
   "metadata": {},
   "source": [
    "### Validate converted data"
   ]
  },
  {
   "cell_type": "code",
   "execution_count": 23,
   "id": "96b5b1b7-f842-485e-a4d2-c1fbbbc9678d",
   "metadata": {},
   "outputs": [
    {
     "name": "stdout",
     "output_type": "stream",
     "text": [
      "OpenBLAS WARNING - could not determine the L2 cache size on this system, assuming 256k\n",
      "Warning: No output requested.  Exiting.\n"
     ]
    },
    {
     "ename": "",
     "evalue": "10",
     "output_type": "error",
     "traceback": []
    }
   ],
   "source": [
    "plink1.9 --bfile gwas.bin --out validate --gplink"
   ]
  },
  {
   "cell_type": "markdown",
   "id": "e1433f4d-c998-42d2-949d-e54ed4a724d6",
   "metadata": {},
   "source": [
    "### Calculate Hardy-Weinberg"
   ]
  },
  {
   "cell_type": "code",
   "execution_count": 24,
   "id": "31dd634c-41f8-405b-ba31-5f3840864b0f",
   "metadata": {},
   "outputs": [
    {
     "name": "stdout",
     "output_type": "stream",
     "text": [
      "OpenBLAS WARNING - could not determine the L2 cache size on this system, assuming 256k\n"
     ]
    }
   ],
   "source": [
    "plink1.9 --bfile gwas.bin --hardy --out hardy --gplink"
   ]
  },
  {
   "cell_type": "code",
   "execution_count": 25,
   "id": "6a803eb6-4e42-4aab-989d-c647be217972",
   "metadata": {},
   "outputs": [
    {
     "name": "stdout",
     "output_type": "stream",
     "text": [
      "PLINK v1.90b6.22 64-bit (3 Nov 2020)\n",
      "Options in effect:\n",
      "  --bfile gwas.bin\n",
      "  --gplink\n",
      "  --hardy\n",
      "  --out hardy\n",
      "\n",
      "Hostname: rw20G\n",
      "Working directory: /home/ubuntu/CompBiol3/GWAS\n",
      "Start time: Sun Feb 25 12:37:57 2024\n",
      "\n",
      "Random number seed: 1708861077\n",
      "15983 MB RAM detected; reserving 7991 MB for main workspace.\n",
      "228694 variants loaded from .bim file.\n",
      "90 people (45 males, 45 females) loaded from .fam.\n",
      "90 phenotype values loaded from .fam.\n",
      "Using 1 thread (no multithreaded calculations invoked).\n",
      "Before main variant filters, 90 founders and 0 nonfounders present.\n",
      "Calculating allele frequencies... done.\n",
      "Total genotyping rate is 0.993346.\n",
      "--hardy: Writing Hardy-Weinberg report (founders only) to hardy.hwe ... done.\n",
      "\n",
      "End time: Sun Feb 25 12:37:57 2024\n"
     ]
    }
   ],
   "source": [
    "cat hardy.log"
   ]
  },
  {
   "cell_type": "code",
   "execution_count": 26,
   "id": "9416c7fd-3941-4420-bb8e-2bede0b3dd40",
   "metadata": {},
   "outputs": [
    {
     "name": "stdout",
     "output_type": "stream",
     "text": [
      " CHR         SNP     TEST   A1   A2                 GENO   O(HET)   E(HET)            P \n",
      "   1   rs3094315      ALL    G    A              0/22/67   0.2472   0.2166       0.3476\n",
      "   1   rs3094315      AFF    G    A              0/15/33   0.3125   0.2637       0.5771\n",
      "   1   rs3094315    UNAFF    G    A               0/7/34   0.1707   0.1562            1\n",
      "   1   rs6672353      ALL    A    G               0/1/88  0.01124  0.01117            1\n",
      "   1   rs6672353      AFF    A    G               0/1/48  0.02041   0.0202            1\n",
      "   1   rs6672353    UNAFF    A    G               0/0/40        0        0            1\n",
      "   1   rs4040617      ALL    G    A              0/21/69   0.2333   0.2061       0.5994\n",
      "   1   rs4040617      AFF    G    A              0/14/35   0.2857   0.2449       0.5714\n",
      "   1   rs4040617    UNAFF    G    A               0/7/34   0.1707   0.1562            1\n"
     ]
    }
   ],
   "source": [
    "head hardy.hwe"
   ]
  },
  {
   "cell_type": "code",
   "execution_count": 27,
   "id": "6f623bd8-26f4-4316-b3b7-f45af032fdcf",
   "metadata": {},
   "outputs": [
    {
     "name": "stdout",
     "output_type": "stream",
     "text": [
      "0\n"
     ]
    }
   ],
   "source": [
    "head hardy.gplink"
   ]
  },
  {
   "cell_type": "markdown",
   "id": "d8b957c6-d5e1-421b-b8dc-62b4ec1747e3",
   "metadata": {},
   "source": [
    "### Filter Hardy\n",
    "Filter for controls (TEXT==\"UNAFF\") and p-values <= 0.001"
   ]
  },
  {
   "cell_type": "code",
   "execution_count": 43,
   "id": "efb22670-681b-46f2-b6dc-2e2ac59b14a7",
   "metadata": {},
   "outputs": [
    {
     "name": "stdout",
     "output_type": "stream",
     "text": [
      "  15   rs7178071    UNAFF    G    A               6/3/32  0.07317   0.2989    2.377e-05\n",
      "  14   rs1242105    UNAFF    C    T               4/1/36  0.02439   0.1954    2.557e-05\n",
      "   4   rs1392554    UNAFF    T    C              12/7/22   0.1707   0.4703    4.385e-05\n"
     ]
    }
   ],
   "source": [
    "awk '$3==\"UNAFF\" && $9<=0.001{print $0}' hardy.hwe | sort -g -k 9 | head -3"
   ]
  },
  {
   "cell_type": "markdown",
   "id": "a2ffc8f4-29d1-40cd-aeaf-ddedda13d2a8",
   "metadata": {},
   "source": [
    "### Create QC-filtered Dataset"
   ]
  },
  {
   "cell_type": "code",
   "execution_count": 46,
   "id": "13c71b57-2717-49b5-85ea-85cdbdb73ca5",
   "metadata": {},
   "outputs": [
    {
     "name": "stdout",
     "output_type": "stream",
     "text": [
      "OpenBLAS WARNING - could not determine the L2 cache size on this system, assuming 256k\n"
     ]
    }
   ],
   "source": [
    "plink1.9 --maf 0.01 --geno 0.05 --mind 0.05 --hwe 0.001 --bfile gwas.bin --make-bed --out gwas.bin.filtered --gplink"
   ]
  },
  {
   "cell_type": "code",
   "execution_count": 47,
   "id": "87f724e2-c1b9-4856-b2f6-e23bd85d190d",
   "metadata": {},
   "outputs": [
    {
     "name": "stdout",
     "output_type": "stream",
     "text": [
      "PLINK v1.90b6.22 64-bit (3 Nov 2020)\n",
      "Options in effect:\n",
      "  --bfile gwas.bin\n",
      "  --geno 0.05\n",
      "  --gplink\n",
      "  --hwe 0.001\n",
      "  --maf 0.01\n",
      "  --make-bed\n",
      "  --mind 0.05\n",
      "  --out gwas.bin.filtered\n",
      "\n",
      "Hostname: rw20G\n",
      "Working directory: /home/ubuntu/CompBiol3/GWAS\n",
      "Start time: Mon Feb 26 11:16:07 2024\n",
      "\n",
      "Random number seed: 1708942567\n",
      "15983 MB RAM detected; reserving 7991 MB for main workspace.\n",
      "228694 variants loaded from .bim file.\n",
      "90 people (45 males, 45 females) loaded from .fam.\n",
      "90 phenotype values loaded from .fam.\n",
      "1 person removed due to missing genotype data (--mind).\n",
      "ID written to gwas.bin.filtered.irem .\n",
      "Using 1 thread (no multithreaded calculations invoked).\n",
      "Before main variant filters, 89 founders and 0 nonfounders present.\n",
      "Calculating allele frequencies... done.\n",
      "Total genotyping rate in remaining samples is 0.995473.\n",
      "2728 variants removed due to missing genotype data (--geno).\n",
      "--hwe: 69 variants removed due to Hardy-Weinberg exact test.\n",
      "46404 variants removed due to minor allele threshold(s)\n",
      "(--maf/--max-maf/--mac/--max-mac).\n",
      "179493 variants and 89 people pass filters and QC.\n",
      "Among remaining phenotypes, 48 are cases and 41 are controls.\n",
      "--make-bed to gwas.bin.filtered.bed + gwas.bin.filtered.bim +\n",
      "gwas.bin.filtered.fam ... done.\n",
      "\n",
      "End time: Mon Feb 26 11:16:07 2024\n"
     ]
    }
   ],
   "source": [
    "cat gwas.bin.filtered.log"
   ]
  },
  {
   "cell_type": "markdown",
   "id": "42a262fe-2ac5-4c50-8fe7-196eb662c45b",
   "metadata": {},
   "source": [
    "### Perform Basic Association Analysis of QC-Dataset"
   ]
  },
  {
   "cell_type": "code",
   "execution_count": 48,
   "id": "916b7657-c53d-4e36-8e3d-10fd28cd0a76",
   "metadata": {},
   "outputs": [
    {
     "name": "stdout",
     "output_type": "stream",
     "text": [
      "OpenBLAS WARNING - could not determine the L2 cache size on this system, assuming 256k\n"
     ]
    }
   ],
   "source": [
    "plink1.9 --bfile gwas.bin.filtered --assoc --adjust --out gwas.bin.filtered.assoc --gplink"
   ]
  },
  {
   "cell_type": "code",
   "execution_count": 49,
   "id": "f64e6e9f-b621-4dae-8c92-e25e1abc399f",
   "metadata": {},
   "outputs": [
    {
     "name": "stdout",
     "output_type": "stream",
     "text": [
      "PLINK v1.90b6.22 64-bit (3 Nov 2020)\n",
      "Options in effect:\n",
      "  --adjust\n",
      "  --assoc\n",
      "  --bfile gwas.bin.filtered\n",
      "  --gplink\n",
      "  --out gwas.bin.filtered.assoc\n",
      "\n",
      "Hostname: rw20G\n",
      "Working directory: /home/ubuntu/CompBiol3/GWAS\n",
      "Start time: Mon Feb 26 11:24:01 2024\n",
      "\n",
      "Random number seed: 1708943041\n",
      "15983 MB RAM detected; reserving 7991 MB for main workspace.\n",
      "179493 variants loaded from .bim file.\n",
      "89 people (44 males, 45 females) loaded from .fam.\n",
      "89 phenotype values loaded from .fam.\n",
      "Using 1 thread (no multithreaded calculations invoked).\n",
      "Before main variant filters, 89 founders and 0 nonfounders present.\n",
      "Calculating allele frequencies... done.\n",
      "Total genotyping rate is 0.996308.\n",
      "179493 variants and 89 people pass filters and QC.\n",
      "Among remaining phenotypes, 48 are cases and 41 are controls.\n",
      "Writing C/C --assoc report to gwas.bin.filtered.assoc.assoc ...\n",
      "done.\n",
      "--adjust: Genomic inflation est. lambda (based on median chisq) = 1.25937.\n",
      "--adjust values (179493 variants) written to\n",
      "gwas.bin.filtered.assoc.assoc.adjusted .\n",
      "\n",
      "End time: Mon Feb 26 11:24:01 2024\n"
     ]
    }
   ],
   "source": [
    "cat gwas.bin.filtered.assoc.log"
   ]
  },
  {
   "cell_type": "code",
   "execution_count": 50,
   "id": "759e66b0-5632-4a2d-aca2-2bc151a42ced",
   "metadata": {},
   "outputs": [
    {
     "name": "stdout",
     "output_type": "stream",
     "text": [
      "==> gwas.bin.filtered.assoc.assoc <==\n",
      " CHR         SNP         BP   A1      F_A      F_U   A2        CHISQ            P           OR \n",
      "   1   rs3094315     792429    G   0.1489  0.08537    A        1.684       0.1944        1.875 \n",
      "   1   rs4040617     819185    G   0.1354  0.08537    A        1.111       0.2919        1.678 \n",
      "\n",
      "==> gwas.bin.filtered.assoc.assoc.adjusted <==\n",
      " CHR         SNP      UNADJ         GC       BONF       HOLM   SIDAK_SS   SIDAK_SD     FDR_BH     FDR_BY\n",
      "  11   rs2513514  4.693e-07  7.131e-06    0.08423    0.08423    0.08078    0.08078    0.06375      0.808 \n",
      "  20   rs6110115  7.103e-07  9.938e-06     0.1275     0.1275     0.1197     0.1197    0.06375      0.808 \n"
     ]
    }
   ],
   "source": [
    "head -3 gwas.bin.filtered.assoc.assoc gwas.bin.filtered.assoc.assoc.adjusted"
   ]
  },
  {
   "cell_type": "code",
   "execution_count": 51,
   "id": "18d5b671-3bb8-4516-ab5a-fd3636b67aeb",
   "metadata": {},
   "outputs": [
    {
     "name": "stdout",
     "output_type": "stream",
     "text": [
      "  179494 gwas.bin.filtered.assoc.assoc\n",
      "  179494 gwas.bin.filtered.assoc.assoc.adjusted\n",
      "  358988 total\n"
     ]
    }
   ],
   "source": [
    "wc -l gwas.bin.filtered.assoc.assoc gwas.bin.filtered.assoc.assoc.adjusted"
   ]
  },
  {
   "attachments": {},
   "cell_type": "markdown",
   "id": "6db7ca79-797c-4f80-8ae2-98670af3dcb1",
   "metadata": {},
   "source": [
    "### Analyze in R\n",
    "```library(qqman)\n",
    "gwas<-read.table(\"gwas.bin.filtered.assoc.assoc\", header=TRUE)\n",
    "manhattan(gwas, chr=\"CHR\", bp=\"BP\", snp=\"SNP\", p=\"P\",suggestiveline=F, genomewideline=T)\n",
    "as.data.frame(table(gwas$CHR)) # number of SNPs per chromosome\n",
    "\n",
    "SNPsOfInterest<-c(\"rs2513514\",\"rs6110115\")\n",
    "manhattan(gwas, annotatePval = 0.01, highlight=SNPsOfInterest)\n",
    "manhattan(gwas, annotatePval=0.001, highlight=SNPsOfInterest)\n",
    "manhattan(gwas, annotatePval=0.0001, highlight=SNPsOfInterest)\n",
    "manhattan(gwas, annotatePval=0.00001, highlight=SNPsOfInterest)\n",
    "```\n",
    "\n",
    "Fuse *gwas.bin.filtered.assoc.assoc* and *gwas.bin.filtered.assoc.assoc.adjusted* with respect to column \"BP\""
   ]
  },
  {
   "cell_type": "code",
   "execution_count": 56,
   "id": "69a58272-39e2-40aa-954e-fd79ea906e3b",
   "metadata": {},
   "outputs": [],
   "source": [
    "awk 'BEGIN{print \"CHR\",\"BP\",\"SNP\",\"P\",\"GC\",\"BONF\"}{while(getline < \"gwas.bin.filtered.assoc.assoc\" > 0){snp[$2]=$3}{print $1,snp[$2],$2,$3,$4,$5}}' gwas.bin.filtered.assoc.assoc.adjusted > gwas.bin.filtered.assoc.assoc.adjusted.fused"
   ]
  },
  {
   "attachments": {
    "4de42ed1-b769-4f5a-963f-20a1c098630f.png": {
     "image/png": "[encoded data removed]"
    },
    "9df50886-7652-46a2-994e-db3acd2bd3eb.png": {
     "image/png": "[encoded data removed]"
    },
    "eb52fc84-1b27-44d7-8dfe-9353f6dc965b.png": {
     "image/png": "[encoded data removed]"
    }
   },
   "cell_type": "markdown",
   "id": "e9dcb824-284a-4f20-b88c-5dbfabdb2d6a",
   "metadata": {},
   "source": [
    "```\n",
    "gwas_adj<-read.table(\"gwas.bin.filtered.assoc.assoc.adjusted.fused\", header=TRUE)\n",
    "manhattan(gwas_adj, chr=\"CHR\", bp=\"BP\", snp=\"SNP\", p=\"P\",suggestiveline=T, annotatePval=0.0001, genomewideline=T)\n",
    "manhattan(subset(gwas_adj, CHR==8),xlim=c(12000000,14000000),genomewideline=T)\n",
    "qq(gwas_adj$P)\n",
    "```\n",
    "Create plot with: `manhattan(gwas_adj, genomewideline=T, annotatePval=0.00001, annotateTop=F, highlight=gwas_adj$SNP[gwas_adj$BONF<1])`\n",
    "\n",
    "![gwas.png](attachment:9df50886-7652-46a2-994e-db3acd2bd3eb.png)\n",
    "\n",
    "Create plot with: `manhattan(subset(gwas_adj, CHR==11),xlim=c(75000000,77000000),genomewideline=T, annotatePval=0.00001, annotateTop=F)`\n",
    "\n",
    "![gwas-chr-11.png](attachment:eb52fc84-1b27-44d7-8dfe-9353f6dc965b.png)\n",
    "\n",
    "Create plot with: `manhattan(subset(gwas_adj, CHR==8),xlim=c(12000000,14000000),genomewideline=T)`\n",
    "\n",
    "![gwas-chr-8.png](attachment:4de42ed1-b769-4f5a-963f-20a1c098630f.png)\n",
    "\n",
    "Create plot with: `qq(gwas_adj$P)`\n",
    "\n",
    "![gwas-qq.png](attachment:b5cfb087-f75a-4729-8517-41b7"
   ]
  },
  {
   "cell_type": "code",
   "execution_count": 53,
   "id": "17ac52e6-6053-4c95-977b-acf88f1f08ff",
   "metadata": {},
   "outputs": [
    {
     "name": "stdout",
     "output_type": "stream",
     "text": [
      "22 49519949 \u001b[01;31m\u001b[Krs9616985\u001b[m\u001b[K 49519949 C 0.03125\n",
      "22 49519949 \u001b[01;31m\u001b[Krs9616985\u001b[m\u001b[K 0.8441 0.8609 1\n"
     ]
    }
   ],
   "source": [
    "grep rs9616985 gwas.bin.filtered.assoc.assoc.adjusted.fused"
   ]
  },
  {
   "cell_type": "code",
   "execution_count": 55,
   "id": "0347e05a-78b5-4e0f-a729-0c8481011503",
   "metadata": {},
   "outputs": [
    {
     "name": "stdout",
     "output_type": "stream",
     "text": [
      "21 33308533 rs2211685 1 1 1\n",
      "21 39412266 rs2063972 1 1 1\n",
      "21 42413116 rs220148 1 1 1\n",
      "22 36001892 rs2267363 1 1 1\n",
      "22 37662641 rs5757391 1 1 1\n"
     ]
    }
   ],
   "source": [
    "tail -5 gwas.bin.filtered.assoc.assoc.adjusted.fused"
   ]
  },
  {
   "cell_type": "code",
   "execution_count": null,
   "id": "683ede51-d591-40a3-b5bb-3b991586426c",
   "metadata": {},
   "outputs": [],
   "source": []
  }
 ],
 "metadata": {
  "kernelspec": {
   "display_name": "Bash",
   "language": "bash",
   "name": "bash"
  },
  "language_info": {
   "codemirror_mode": "shell",
   "file_extension": ".sh",
   "mimetype": "text/x-sh",
   "name": "bash"
  }
 },
 "nbformat": 4,
 "nbformat_minor": 5
}
