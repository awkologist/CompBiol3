{
 "cells": [
  {
   "cell_type": "markdown",
   "id": "9ad25a5d-f7ca-412b-9eb9-3b38b27b15b8",
   "metadata": {},
   "source": [
    "# GWAS with PLINK and R"
   ]
  },
  {
   "cell_type": "markdown",
   "id": "172a41d2-6ccb-4d67-8e7a-7eebfcbad4de",
   "metadata": {},
   "source": [
    "## Installation\n",
    "Optional: One could additionally install **HaploView** from https://sourceforge.net/projects/haploview/ and **gPLINK** from https://zzz.bwh.harvard.edu/plink/dist/gPLINK-2.050.zip"
   ]
  },
  {
   "cell_type": "code",
   "execution_count": null,
   "id": "ab3a06e3-3553-4688-86c1-ab46fc054969",
   "metadata": {},
   "outputs": [],
   "source": [
    "sudo apt install plink1.9"
   ]
  },
  {
   "cell_type": "markdown",
   "id": "8f68e84d-f21d-4741-834f-e83fcdfc4f21",
   "metadata": {},
   "source": [
    "In R install **qqman** with `install.packages(\"qqman\")`"
   ]
  },
  {
   "cell_type": "markdown",
   "id": "b92bfe4e-28a4-4a7f-a61d-d25160281574",
   "metadata": {},
   "source": [
    "## Data"
   ]
  },
  {
   "cell_type": "markdown",
   "id": "d66bfd57-b29c-45e4-b8da-76afc303ec59",
   "metadata": {},
   "source": [
    "download example dataset by Shaun Purcell, however, it is also provided in this repository"
   ]
  },
  {
   "cell_type": "code",
   "execution_count": null,
   "id": "2a148ca4-89ab-4c09-b1ef-263dadf620e1",
   "metadata": {},
   "outputs": [],
   "source": [
    "# wget https://zzz.bwh.harvard.edu/plink/dist/example.zip"
   ]
  },
  {
   "cell_type": "code",
   "execution_count": null,
   "id": "604ac8a2-2d48-402d-b020-88891ce7e49f",
   "metadata": {},
   "outputs": [],
   "source": [
    "pwd"
   ]
  },
  {
   "cell_type": "code",
   "execution_count": null,
   "id": "ef237e6a-4a0d-4f7f-af60-8c9fab43a300",
   "metadata": {},
   "outputs": [],
   "source": [
    "ls -l"
   ]
  },
  {
   "cell_type": "markdown",
   "id": "6fe5196a-1959-4755-ad16-6331ca43b5e7",
   "metadata": {},
   "source": [
    "## Processing"
   ]
  },
  {
   "cell_type": "markdown",
   "id": "b3558594-acd0-4b84-81f1-792f1e51599c",
   "metadata": {},
   "source": [
    "Initial creation of a binary dataset from raw genotype data for faster data access"
   ]
  },
  {
   "cell_type": "code",
   "execution_count": null,
   "id": "3393114c-e5d5-499c-8820-18cd3faafe47",
   "metadata": {},
   "outputs": [],
   "source": [
    "plink1.9 --file gwas.org --make-bed --out gwas.bin"
   ]
  },
  {
   "cell_type": "markdown",
   "id": "e3a7adc7-558c-40d7-8209-be26bee4c66c",
   "metadata": {},
   "source": [
    "Check for missing called genotypes ..."
   ]
  },
  {
   "cell_type": "code",
   "execution_count": null,
   "id": "3b6dc668-8210-44b0-a7c0-eae9f3ccb470",
   "metadata": {},
   "outputs": [],
   "source": [
    "awk '{allels+=NF-6;for(i=7; i<=NF; i++){if($i!~/[ATGC]/){mis++;allmis++}}print NR, NF-6, mis, (NF-6-mis)/(NF-6); n=0; mis=0}END{print allmis,allels,(allels-allmis)/(allels)}' gwas.org.ped | tail -4"
   ]
  },
  {
   "cell_type": "markdown",
   "id": "4d4ad428-5ada-47a1-8203-a35bd5e5dcb8",
   "metadata": {},
   "source": [
    "### Validate converted data"
   ]
  },
  {
   "cell_type": "code",
   "execution_count": null,
   "id": "96b5b1b7-f842-485e-a4d2-c1fbbbc9678d",
   "metadata": {},
   "outputs": [],
   "source": [
    "plink1.9 --maf 0.01 --geno 0.05 --mind 0.05 --write-snplist --make-bed --bfile gwas.bin --out gwas.bin.filtered"
   ]
  },
  {
   "cell_type": "markdown",
   "id": "bf18229a-bb4c-430a-9132-9b482e07cac5",
   "metadata": {},
   "source": [
    "### GWAS"
   ]
  },
  {
   "cell_type": "code",
   "execution_count": null,
   "id": "2d869b83-33f8-4d65-ae7f-638af79bf690",
   "metadata": {},
   "outputs": [],
   "source": [
    "head -5 gwas.bin.fam"
   ]
  },
  {
   "cell_type": "code",
   "execution_count": null,
   "id": "bfae3335-147c-4718-bd75-67e11b8d9413",
   "metadata": {},
   "outputs": [],
   "source": [
    "awk '{print $6}' gwas.bin.fam | sort | uniq -c"
   ]
  },
  {
   "cell_type": "code",
   "execution_count": null,
   "id": "fc003ae4-ad53-48cb-9d3c-96c32f476276",
   "metadata": {},
   "outputs": [],
   "source": [
    "plink1.9 --bfile gwas.bin.filtered --assoc --adjust --out gwas.bin.filtered"
   ]
  },
  {
   "cell_type": "code",
   "execution_count": null,
   "id": "839591d1-66a5-45ec-8d11-1be5ddb27d01",
   "metadata": {},
   "outputs": [],
   "source": [
    "wc -l gwas.bin.filtered.assoc"
   ]
  },
  {
   "cell_type": "code",
   "execution_count": null,
   "id": "58969032-6687-4b8f-9f79-69d852dc8e6b",
   "metadata": {},
   "outputs": [],
   "source": [
    "head gwas.bin.filtered.assoc"
   ]
  },
  {
   "cell_type": "code",
   "execution_count": null,
   "id": "4b546d82-ccd5-462e-a05e-38eb7c62ccc3",
   "metadata": {},
   "outputs": [],
   "source": [
    "sort -g -k 9 gwas.bin.filtered.assoc | head -5"
   ]
  },
  {
   "cell_type": "code",
   "execution_count": null,
   "id": "31fd8346-7cca-4cfd-8eab-1f4735ab1336",
   "metadata": {},
   "outputs": [],
   "source": [
    "awk '$9<0.05' gwas.bin.filtered.assoc | sort -g -k 9 | wc -l"
   ]
  },
  {
   "cell_type": "code",
   "execution_count": null,
   "id": "2ee6ea81-bb42-4516-89f8-b5d16f847a35",
   "metadata": {},
   "outputs": [],
   "source": [
    "head -5 gwas.bin.filtered.assoc.adjusted"
   ]
  },
  {
   "cell_type": "code",
   "execution_count": null,
   "id": "f27ca04a-83b5-455f-bed2-9d3f25ebef31",
   "metadata": {},
   "outputs": [],
   "source": [
    "wc -l gwas.bin.filtered.assoc.adjusted "
   ]
  },
  {
   "cell_type": "code",
   "execution_count": null,
   "id": "4c6a1210-0db1-4bbb-bc71-a0479979eb2e",
   "metadata": {},
   "outputs": [],
   "source": [
    "awk -v OFS=\"\\t\" '{print $1,$2,$3,$5,$9}' gwas.bin.filtered.assoc.adjusted | head -5"
   ]
  },
  {
   "cell_type": "code",
   "execution_count": null,
   "id": "a2350749-7033-4d99-9677-1118a0c75e2d",
   "metadata": {},
   "outputs": [],
   "source": [
    "awk -v OFS=\"\\t\" '$9<0.1{print $1,$2,$3,$5,$9}' gwas.bin.filtered.assoc.adjusted "
   ]
  },
  {
   "cell_type": "markdown",
   "id": "e1433f4d-c998-42d2-949d-e54ed4a724d6",
   "metadata": {},
   "source": [
    "### Calculate Hardy-Weinberg"
   ]
  },
  {
   "cell_type": "code",
   "execution_count": null,
   "id": "b1fd879c-a601-46b9-a89e-131f0ace37e6",
   "metadata": {},
   "outputs": [],
   "source": [
    "plink1.9 --bfile gwas.bin.filtered --hwe 0.00001 --make-bed --out gwas.bin.filtered.hwe"
   ]
  },
  {
   "cell_type": "code",
   "execution_count": null,
   "id": "98036a73-0dd8-4cc4-9857-6cc08d1e6abe",
   "metadata": {},
   "outputs": [],
   "source": [
    "wc -l gwas.bin.filtered.hwe.bim gwas.bin.filtered.hwe.fam"
   ]
  },
  {
   "cell_type": "code",
   "execution_count": null,
   "id": "31dd634c-41f8-405b-ba31-5f3840864b0f",
   "metadata": {},
   "outputs": [],
   "source": [
    "plink1.9 --bfile gwas.bin.filtered --hardy --out gwas.bin.filtered.hardy"
   ]
  },
  {
   "cell_type": "code",
   "execution_count": null,
   "id": "6a803eb6-4e42-4aab-989d-c647be217972",
   "metadata": {},
   "outputs": [],
   "source": [
    "head -5 gwas.bin.filtered.hardy.hwe"
   ]
  },
  {
   "cell_type": "markdown",
   "id": "5aa0a140-98bb-424d-9f0f-99fc0233167f",
   "metadata": {},
   "source": [
    "Meaning of columns:\n",
    "- CHR\tChromosome code\n",
    "- SNP\tVariant identifier\n",
    "- TEST\tType of test: one of {'ALL', 'AFF', 'UNAFF', 'ALL(QT)', 'ALL(NP)'}\n",
    "- A1\tAllele 1 (usually minor)\n",
    "- A2\tAllele 2 (usually major)\n",
    "- GENO\t'/'-separated genotype counts (A1 hom, het, A2 hom)\n",
    "- O(HET)\tObserved heterozygote frequency\n",
    "- E(HET)\tExpected heterozygote frequency\n",
    "- P\tHardy-Weinberg equilibrium exact test p-value"
   ]
  },
  {
   "cell_type": "code",
   "execution_count": null,
   "id": "9416c7fd-3941-4420-bb8e-2bede0b3dd40",
   "metadata": {},
   "outputs": [],
   "source": [
    "awk '$3==\"UNAFF\" && $9<0.001' gwas.bin.filtered.hardy.hwe | head -5"
   ]
  },
  {
   "cell_type": "code",
   "execution_count": null,
   "id": "6f623bd8-26f4-4316-b3b7-f45af032fdcf",
   "metadata": {},
   "outputs": [],
   "source": [
    "egrep '(CHR|rs2513514|rs6110115|rs2508756|rs16976702)' gwas.bin.filtered.hardy.hwe"
   ]
  },
  {
   "cell_type": "markdown",
   "id": "d8b957c6-d5e1-421b-b8dc-62b4ec1747e3",
   "metadata": {
    "jp-MarkdownHeadingCollapsed": true
   },
   "source": [
    "### Filter Hardy\n",
    "Filter for controls (TEXT==\"UNAFF\") and p-values <= 0.001"
   ]
  },
  {
   "cell_type": "code",
   "execution_count": null,
   "id": "efb22670-681b-46f2-b6dc-2e2ac59b14a7",
   "metadata": {},
   "outputs": [],
   "source": [
    "awk '$3==\"UNAFF\" && $9<=0.001{print $0}' hardy.hwe | sort -g -k 9 | head -3"
   ]
  },
  {
   "cell_type": "markdown",
   "id": "a2ffc8f4-29d1-40cd-aeaf-ddedda13d2a8",
   "metadata": {},
   "source": [
    "### Create QC-filtered Dataset"
   ]
  },
  {
   "cell_type": "code",
   "execution_count": null,
   "id": "13c71b57-2717-49b5-85ea-85cdbdb73ca5",
   "metadata": {},
   "outputs": [],
   "source": [
    "plink1.9 --maf 0.01 --geno 0.05 --mind 0.05 --hwe 0.001 --bfile gwas.bin --make-bed --out gwas.bin.filtered"
   ]
  },
  {
   "cell_type": "code",
   "execution_count": null,
   "id": "87f724e2-c1b9-4856-b2f6-e23bd85d190d",
   "metadata": {},
   "outputs": [],
   "source": [
    "cat gwas.bin.filtered.log"
   ]
  },
  {
   "cell_type": "markdown",
   "id": "42a262fe-2ac5-4c50-8fe7-196eb662c45b",
   "metadata": {},
   "source": [
    "### Perform Basic Association Analysis of QC-Dataset"
   ]
  },
  {
   "cell_type": "code",
   "execution_count": null,
   "id": "916b7657-c53d-4e36-8e3d-10fd28cd0a76",
   "metadata": {},
   "outputs": [],
   "source": [
    "plink1.9 --bfile gwas.bin.filtered --assoc --adjust --out gwas.bin.filtered.assoc --gplink"
   ]
  },
  {
   "cell_type": "code",
   "execution_count": null,
   "id": "f64e6e9f-b621-4dae-8c92-e25e1abc399f",
   "metadata": {},
   "outputs": [],
   "source": [
    "cat gwas.bin.filtered.assoc.log"
   ]
  },
  {
   "cell_type": "code",
   "execution_count": null,
   "id": "759e66b0-5632-4a2d-aca2-2bc151a42ced",
   "metadata": {},
   "outputs": [],
   "source": [
    "head -3 gwas.bin.filtered.assoc.assoc gwas.bin.filtered.assoc.assoc.adjusted"
   ]
  },
  {
   "cell_type": "code",
   "execution_count": null,
   "id": "18d5b671-3bb8-4516-ab5a-fd3636b67aeb",
   "metadata": {},
   "outputs": [],
   "source": [
    "wc -l gwas.bin.filtered.assoc.assoc gwas.bin.filtered.assoc.assoc.adjusted"
   ]
  },
  {
   "attachments": {},
   "cell_type": "markdown",
   "id": "6db7ca79-797c-4f80-8ae2-98670af3dcb1",
   "metadata": {},
   "source": [
    "### Analyze in R\n",
    "```library(qqman)\n",
    "gwas<-read.table(\"gwas.bin.filtered.assoc.assoc\", header=TRUE)\n",
    "manhattan(gwas, chr=\"CHR\", bp=\"BP\", snp=\"SNP\", p=\"P\",suggestiveline=F, genomewideline=T)\n",
    "as.data.frame(table(gwas$CHR)) # number of SNPs per chromosome\n",
    "\n",
    "SNPsOfInterest<-c(\"rs2513514\",\"rs6110115\")\n",
    "manhattan(gwas, annotatePval = 0.01, highlight=SNPsOfInterest)\n",
    "manhattan(gwas, annotatePval=0.001, highlight=SNPsOfInterest)\n",
    "manhattan(gwas, annotatePval=0.0001, highlight=SNPsOfInterest)\n",
    "manhattan(gwas, annotatePval=0.00001, highlight=SNPsOfInterest)\n",
    "```\n",
    "\n",
    "Fuse *gwas.bin.filtered.assoc.assoc* and *gwas.bin.filtered.assoc.assoc.adjusted* with respect to column \"BP\""
   ]
  },
  {
   "cell_type": "code",
   "execution_count": null,
   "id": "69a58272-39e2-40aa-954e-fd79ea906e3b",
   "metadata": {},
   "outputs": [],
   "source": [
    "awk 'BEGIN{print \"CHR\",\"BP\",\"SNP\",\"P\",\"GC\",\"BONF\"; while(getline < \"gwas.bin.filtered.assoc.assoc\" > 0){snp[$2]=$3}}{{print $1,snp[$2],$2,$3,$4,$5}}' gwas.bin.filtered.assoc.assoc.adjusted > gwas.bin.filtered.assoc.assoc.adjusted.fused"
   ]
  },
  {
   "attachments": {},
   "cell_type": "markdown",
   "id": "e9dcb824-284a-4f20-b88c-5dbfabdb2d6a",
   "metadata": {},
   "source": [
    "```\n",
    "gwas_adj<-read.table(\"gwas.bin.filtered.assoc.assoc.adjusted.fused\", header=TRUE)\n",
    "manhattan(gwas_adj, chr=\"CHR\", bp=\"BP\", snp=\"SNP\", p=\"P\",suggestiveline=T, annotatePval=0.0001, genomewideline=T)\n",
    "manhattan(subset(gwas_adj, CHR==8),xlim=c(12000000,14000000),genomewideline=T)\n",
    "qq(gwas_adj$P)\n",
    "```\n",
    "Create plot with: `manhattan(gwas_adj, genomewideline=T, annotatePval=0.00001, annotateTop=F, highlight=gwas_adj$SNP[gwas_adj$BONF<1])`\n",
    "\n",
    "![gwas.png](Images/gwas.png)\n",
    "\n",
    "Create plot with: `manhattan(subset(gwas_adj, CHR==11),xlim=c(75000000,77000000),genomewideline=T, annotatePval=0.00001, annotateTop=F)`\n",
    "\n",
    "![gwas-chr-11.png](Images/gwas-chr-11.png)\n",
    "\n",
    "Create plot with: `manhattan(subset(gwas_adj, CHR==8),xlim=c(12000000,14000000),genomewideline=T)`\n",
    "\n",
    "![gwas-chr-8.png](Images/gwas-chr-8.png)\n",
    "\n",
    "Create plot with: `qq(gwas_adj$P)`\n",
    "\n",
    "![gwas-qq.png](Images/gwas-qq.png)"
   ]
  },
  {
   "cell_type": "code",
   "execution_count": null,
   "id": "17ac52e6-6053-4c95-977b-acf88f1f08ff",
   "metadata": {},
   "outputs": [],
   "source": [
    "grep rs9616985 gwas.bin.filtered.assoc.assoc.adjusted.fused"
   ]
  },
  {
   "cell_type": "code",
   "execution_count": null,
   "id": "0347e05a-78b5-4e0f-a729-0c8481011503",
   "metadata": {},
   "outputs": [],
   "source": [
    "tail -5 gwas.bin.filtered.assoc.assoc.adjusted.fused"
   ]
  },
  {
   "cell_type": "markdown",
   "id": "63118bc0-027c-42c2-bced-3517bbc85877",
   "metadata": {},
   "source": [
    "### Alternative Approach with gwaRs\n",
    "\n",
    "In R install the package with `install.packages(\"gwaRs\")`. "
   ]
  },
  {
   "cell_type": "code",
   "execution_count": null,
   "id": "5784f8be-8ad9-400f-9bd1-1d5ef9768a78",
   "metadata": {},
   "outputs": [],
   "source": [
    "R -e 'library(\"gwaRs\")'"
   ]
  },
  {
   "cell_type": "markdown",
   "id": "d457b4de-462c-4292-a69c-44089324e71e",
   "metadata": {},
   "source": [
    "Fuse *gwas.bin.filtered.assoc* and *gwas.bin.filtered.assoc.adjusted* with respect to column \"BP\""
   ]
  },
  {
   "cell_type": "code",
   "execution_count": null,
   "id": "8531c8d1-3d05-41be-af57-e2705582daae",
   "metadata": {},
   "outputs": [],
   "source": [
    "head -2 gwas.bin.filtered.assoc gwas.bin.filtered.assoc.adjusted"
   ]
  },
  {
   "cell_type": "code",
   "execution_count": null,
   "id": "84db72f9-b1ab-441e-a630-a09262894f44",
   "metadata": {},
   "outputs": [],
   "source": [
    "awk 'BEGIN{print \"CHR\",\"BP\",\"SNP\",\"P\",\"GC\",\"BONF\"; while(getline < \"gwas.bin.filtered.assoc\" > 0){snp[$2]=$3}}$1!=\"CHR\"{{print $1,snp[$2],$2,$3,$4,$5}}' gwas.bin.filtered.assoc.adjusted > gwas.bin.filtered.assoc.adjusted.fused"
   ]
  },
  {
   "cell_type": "code",
   "execution_count": null,
   "id": "549eddcd-62ed-4aaa-be42-b5bb9dea511f",
   "metadata": {},
   "outputs": [],
   "source": [
    "head  gwas.bin.filtered.assoc.adjusted.fused"
   ]
  },
  {
   "cell_type": "code",
   "execution_count": null,
   "id": "bcd9f179-9bc7-4e35-9a0d-846d9afd9dc3",
   "metadata": {},
   "outputs": [],
   "source": [
    "# Create Manhattan Plot\n",
    "R -e 'png(\"Images/man-plot.png\", width = 1000, height = 600);\n",
    "library(\"gwaRs\");\n",
    "gwas_adj<-read.table(\"gwas.bin.filtered.assoc.adjusted.fused\", header=TRUE);\n",
    "man_plot(gwas_adj, annotatePval=0.00001, highlight=gwas_adj$SNP[gwas_adj$BONF<1], chromCol=c(\"tomato\",\"lightslateblue\"));\n",
    "dev.off()'"
   ]
  },
  {
   "attachments": {},
   "cell_type": "markdown",
   "id": "8e244ab9-4c65-4191-8bc1-662a9c1f20bd",
   "metadata": {},
   "source": [
    "![Manhattan Plot](Images/man-plot.png)"
   ]
  },
  {
   "cell_type": "code",
   "execution_count": null,
   "id": "5ca114f3-7445-4ec5-a10d-ee518661a050",
   "metadata": {},
   "outputs": [],
   "source": [
    "# Create Q-Q Plot\n",
    "R -e 'png(\"Images/qq-plot.png\", width = 1000, height = 600);\n",
    "library(\"gwaRs\");\n",
    "gwas_adj<-read.table(\"gwas.bin.filtered.assoc.adjusted.fused\", header=TRUE);\n",
    "qq_plot(gwas_adj);\n",
    "dev.off()'"
   ]
  },
  {
   "attachments": {},
   "cell_type": "markdown",
   "id": "ead81bfe-1083-4b89-b826-d9abbc4f38c7",
   "metadata": {},
   "source": [
    "![qq-plot](Images/qq-plot.png)"
   ]
  },
  {
   "cell_type": "code",
   "execution_count": null,
   "id": "407d481a-14dd-4ee1-8942-0d125b60a3db",
   "metadata": {},
   "outputs": [],
   "source": [
    "# Create Karyotype Plot\n",
    "R -e 'png(\"Images/karyo-plot.png\", width = 1000, height = 600);\n",
    "library(\"gwaRs\");\n",
    "gwas_adj<-read.table(\"gwas.bin.filtered.assoc.adjusted.fused\", header=TRUE);\n",
    "karyotype_plot(gwas_adj);\n",
    "dev.off()'"
   ]
  },
  {
   "attachments": {},
   "cell_type": "markdown",
   "id": "07e979d5-b3d1-4a61-ba98-7641ec01f931",
   "metadata": {},
   "source": [
    "![karyo-plot](Images/karyo-plot.png)"
   ]
  },
  {
   "cell_type": "code",
   "execution_count": null,
   "id": "cb253a61-47a1-4667-af91-593bffbf7c11",
   "metadata": {},
   "outputs": [],
   "source": []
  }
 ],
 "metadata": {
  "kernelspec": {
   "display_name": "Bash",
   "language": "bash",
   "name": "bash"
  },
  "language_info": {
   "codemirror_mode": "shell",
   "file_extension": ".sh",
   "mimetype": "text/x-sh",
   "name": "bash"
  }
 },
 "nbformat": 4,
 "nbformat_minor": 5
}
