{
 "cells": [
  {
   "cell_type": "markdown",
   "id": "9ad25a5d-f7ca-412b-9eb9-3b38b27b15b8",
   "metadata": {},
   "source": [
    "# GWAS with PLINK and R"
   ]
  },
  {
   "cell_type": "markdown",
   "id": "172a41d2-6ccb-4d67-8e7a-7eebfcbad4de",
   "metadata": {},
   "source": [
    "## Installation\n",
    "Optional: One could additionally install **HaploView** from https://sourceforge.net/projects/haploview/ and **gPLINK** from https://zzz.bwh.harvard.edu/plink/dist/gPLINK-2.050.zip"
   ]
  },
  {
   "cell_type": "code",
   "execution_count": 20,
   "id": "ab3a06e3-3553-4688-86c1-ab46fc054969",
   "metadata": {},
   "outputs": [
    {
     "name": "stdout",
     "output_type": "stream",
     "text": [
      "Reading package lists... 0%Reading package lists... 100%Reading package lists... Done\n",
      "Building dependency tree... 0%Building dependency tree... 0%Building dependency tree... 50%Building dependency tree... 50%Building dependency tree... Done\n",
      "Reading state information... 0% Reading state information... 0%Reading state information... Done\n",
      "plink1.9 is already the newest version (1.90~b6.21-201019-1).\n",
      "The following packages were automatically installed and are no longer required:\n",
      "  dzen2 libfakekey0 libfltk1.3 libiw30 matchbox-common matchbox-desktop\n",
      "  matchbox-keyboard matchbox-keyboard-im matchbox-panel matchbox-panel-manager\n",
      "Use 'sudo apt autoremove' to remove them.\n",
      "0 upgraded, 0 newly installed, 0 to remove and 48 not upgraded.\n"
     ]
    }
   ],
   "source": [
    "sudo apt install plink1.9"
   ]
  },
  {
   "cell_type": "markdown",
   "id": "8f68e84d-f21d-4741-834f-e83fcdfc4f21",
   "metadata": {},
   "source": [
    "In R install **qqman** with `install.packages(\"qqman\")`"
   ]
  },
  {
   "cell_type": "markdown",
   "id": "b92bfe4e-28a4-4a7f-a61d-d25160281574",
   "metadata": {},
   "source": [
    "## Data"
   ]
  },
  {
   "cell_type": "markdown",
   "id": "d66bfd57-b29c-45e4-b8da-76afc303ec59",
   "metadata": {},
   "source": [
    "download example dataset by Shaun Purcell, however, it is also provided in this repository"
   ]
  },
  {
   "cell_type": "code",
   "execution_count": 1,
   "id": "2a148ca4-89ab-4c09-b1ef-263dadf620e1",
   "metadata": {},
   "outputs": [],
   "source": [
    "# wget https://zzz.bwh.harvard.edu/plink/dist/example.zip"
   ]
  },
  {
   "cell_type": "code",
   "execution_count": 2,
   "id": "604ac8a2-2d48-402d-b020-88891ce7e49f",
   "metadata": {},
   "outputs": [
    {
     "name": "stdout",
     "output_type": "stream",
     "text": [
      "/home/ubuntu/CompBiol3/GWAS\n"
     ]
    }
   ],
   "source": [
    "pwd"
   ]
  },
  {
   "cell_type": "code",
   "execution_count": 3,
   "id": "ef237e6a-4a0d-4f7f-af60-8c9fab43a300",
   "metadata": {},
   "outputs": [
    {
     "name": "stdout",
     "output_type": "stream",
     "text": [
      "total 87288\n",
      "drwxrwxr-x 2 ubuntu ubuntu     4096 Feb 25 10:49 \u001b[0m\u001b[01;34mPlayground\u001b[0m\n",
      "drwxrwxr-x 3 ubuntu ubuntu     4096 Feb 25 10:09 \u001b[01;34mShaunPurcell\u001b[0m\n",
      "-rw-rw-r-- 1 ubuntu ubuntu     1064 Feb 25 10:49 gwas.ipynb\n",
      "-rw-r--r-- 1 ubuntu ubuntu  7033003 Feb 25 10:52 gwas.org.map\n",
      "-rw-r--r-- 1 ubuntu ubuntu 82332090 Feb 25 10:52 gwas.org.ped\n"
     ]
    }
   ],
   "source": [
    "ls -l"
   ]
  },
  {
   "cell_type": "markdown",
   "id": "6fe5196a-1959-4755-ad16-6331ca43b5e7",
   "metadata": {},
   "source": [
    "## Processing"
   ]
  },
  {
   "cell_type": "markdown",
   "id": "b3558594-acd0-4b84-81f1-792f1e51599c",
   "metadata": {},
   "source": [
    "Initial creation of a binary dataset from raw genotype data for faster data access"
   ]
  },
  {
   "cell_type": "code",
   "execution_count": 87,
   "id": "3393114c-e5d5-499c-8820-18cd3faafe47",
   "metadata": {},
   "outputs": [
    {
     "name": "stdout",
     "output_type": "stream",
     "text": [
      "OpenBLAS WARNING - could not determine the L2 cache size on this system, assuming 256k\n",
      "PLINK v1.90b6.22 64-bit (3 Nov 2020)           www.cog-genomics.org/plink/1.9/\n",
      "(C) 2005-2020 Shaun Purcell, Christopher Chang   GNU General Public License v3\n",
      "Logging to gwas.bin.log.\n",
      "Options in effect:\n",
      "  --file gwas.org\n",
      "  --make-bed\n",
      "  --out gwas.bin\n",
      "\n",
      "15983 MB RAM detected; reserving 7991 MB for main workspace.\n",
      ".ped scan complete (for binary autoconversion).32425262728303132333435363738404142434445464748505152535455565758606162636465666768707172737475767778808182838485868788909192939495969798100%\n",
      "Performing single-pass .bed write (228694 variants, 90 people).\n",
      "--file: gwas.bin-temporary.bed + gwas.bin-temporary.bim +83940414243444546474849505152535455565758596061626364656667686970717273747576777879808182838485868788899091929394%\n",
      "gwas.bin-temporary.fam written.\n",
      "228694 variants loaded from .bim file.\n",
      "90 people (45 males, 45 females) loaded from .fam.\n",
      "90 phenotype values loaded from .fam.\n",
      "Using 1 thread (no multithreaded calculations invoked).\n",
      "Before main variant filters, 90 founders and 0 nonfounders present.\n",
      "Calculating allele frequencies... 10111213141516171819202122232425262728293031323334353637383940414243444546474849505152535455565758596061626364656667686970717273747576777879808182838485868788899091929394959697989 done.\n",
      "Total genotyping rate is 0.993346.\n",
      "228694 variants and 90 people pass filters and QC.\n",
      "Among remaining phenotypes, 49 are cases and 41 are controls.\n",
      "--make-bed to gwas.bin.bed + gwas.bin.bim + gwas.bin.fam ... 101112131415161718192021222324252627282930313233343536373839404142434445464748495051525354555657585960616263646566676869707172737475767778798081828384858687888990919293949596979899done.\n"
     ]
    }
   ],
   "source": [
    "plink1.9 --file gwas.org --make-bed --out gwas.bin"
   ]
  },
  {
   "cell_type": "markdown",
   "id": "e3a7adc7-558c-40d7-8209-be26bee4c66c",
   "metadata": {},
   "source": [
    "Check for missing called genotypes ..."
   ]
  },
  {
   "cell_type": "code",
   "execution_count": 72,
   "id": "3b6dc668-8210-44b0-a7c0-eae9f3ccb470",
   "metadata": {},
   "outputs": [
    {
     "name": "stdout",
     "output_type": "stream",
     "text": [
      "88 457388 2130 0.995343\n",
      "89 457388 15144 0.96689\n",
      "90 457388 89608 0.804088\n",
      "273896 41164920 0.993346\n"
     ]
    }
   ],
   "source": [
    "awk '{allels+=NF-6;for(i=7; i<=NF; i++){if($i!~/[ATGC]/){mis++;allmis++}}print NR, NF-6, mis, (NF-6-mis)/(NF-6); n=0; mis=0}END{print allmis,allels,(allels-allmis)/(allels)}' gwas.org.ped | tail -4"
   ]
  },
  {
   "cell_type": "markdown",
   "id": "4d4ad428-5ada-47a1-8203-a35bd5e5dcb8",
   "metadata": {},
   "source": [
    "### Validate converted data"
   ]
  },
  {
   "cell_type": "code",
   "execution_count": 92,
   "id": "96b5b1b7-f842-485e-a4d2-c1fbbbc9678d",
   "metadata": {},
   "outputs": [
    {
     "name": "stdout",
     "output_type": "stream",
     "text": [
      "OpenBLAS WARNING - could not determine the L2 cache size on this system, assuming 256k\n",
      "PLINK v1.90b6.22 64-bit (3 Nov 2020)           www.cog-genomics.org/plink/1.9/\n",
      "(C) 2005-2020 Shaun Purcell, Christopher Chang   GNU General Public License v3\n",
      "Logging to gwas.bin.filtered.log.\n",
      "Options in effect:\n",
      "  --bfile gwas.bin\n",
      "  --geno 0.05\n",
      "  --maf 0.01\n",
      "  --make-bed\n",
      "  --mind 0.05\n",
      "  --out gwas.bin.filtered\n",
      "  --write-snplist\n",
      "\n",
      "15983 MB RAM detected; reserving 7991 MB for main workspace.\n",
      "228694 variants loaded from .bim file.\n",
      "90 people (45 males, 45 females) loaded from .fam.\n",
      "90 phenotype values loaded from .fam.\n",
      "1 person removed due to missing genotype data (--mind).\n",
      "ID written to gwas.bin.filtered.irem .\n",
      "Using 1 thread (no multithreaded calculations invoked).\n",
      "Before main variant filters, 89 founders and 0 nonfounders present.\n",
      "Calculating allele frequencies... 10111213141516171819202122232425262728293031323334353637383940414243444546474849505152535455565758596061626364656667686970717273747576777879808182838485868788899091929394959697989 done.\n",
      "Total genotyping rate in remaining samples is 0.995473.\n",
      "2728 variants removed due to missing genotype data (--geno).\n",
      "46404 variants removed due to minor allele threshold(s)\n",
      "(--maf/--max-maf/--mac/--max-mac).\n",
      "179562 variants and 89 people pass filters and QC.\n",
      "Among remaining phenotypes, 48 are cases and 41 are controls.\n",
      "List of variant IDs written to gwas.bin.filtered.snplist .\n",
      "--make-bed to gwas.bin.filtered.bed + gwas.bin.filtered.bim +\n",
      "gwas.bin.filtered.fam ... 101112131415161718192021222324252627282930313233343536373839404142434445464748495051525354555657585960616263646566676869707172737475767778798081828384858687888990919293949596979899done.\n"
     ]
    }
   ],
   "source": [
    "plink1.9 --maf 0.01 --geno 0.05 --mind 0.05 --write-snplist --make-bed --bfile gwas.bin --out gwas.bin.filtered"
   ]
  },
  {
   "cell_type": "markdown",
   "id": "bf18229a-bb4c-430a-9132-9b482e07cac5",
   "metadata": {},
   "source": [
    "### GWAS"
   ]
  },
  {
   "cell_type": "code",
   "execution_count": 113,
   "id": "2d869b83-33f8-4d65-ae7f-638af79bf690",
   "metadata": {},
   "outputs": [
    {
     "name": "stdout",
     "output_type": "stream",
     "text": [
      "CH18526 NA18526 0 0 2 1\n",
      "CH18524 NA18524 0 0 1 1\n",
      "CH18529 NA18529 0 0 2 1\n",
      "CH18558 NA18558 0 0 1 1\n",
      "CH18532 NA18532 0 0 2 1\n"
     ]
    }
   ],
   "source": [
    "head -5 gwas.bin.fam"
   ]
  },
  {
   "cell_type": "code",
   "execution_count": 114,
   "id": "bfae3335-147c-4718-bd75-67e11b8d9413",
   "metadata": {},
   "outputs": [
    {
     "name": "stdout",
     "output_type": "stream",
     "text": [
      "     41 1\n",
      "     49 2\n"
     ]
    }
   ],
   "source": [
    "awk '{print $6}' gwas.bin.fam | sort | uniq -c"
   ]
  },
  {
   "cell_type": "code",
   "execution_count": 123,
   "id": "fc003ae4-ad53-48cb-9d3c-96c32f476276",
   "metadata": {},
   "outputs": [
    {
     "name": "stdout",
     "output_type": "stream",
     "text": [
      "OpenBLAS WARNING - could not determine the L2 cache size on this system, assuming 256k\n",
      "PLINK v1.90b6.22 64-bit (3 Nov 2020)           www.cog-genomics.org/plink/1.9/\n",
      "(C) 2005-2020 Shaun Purcell, Christopher Chang   GNU General Public License v3\n",
      "Logging to gwas.bin.filtered.log.\n",
      "Options in effect:\n",
      "  --adjust\n",
      "  --assoc\n",
      "  --bfile gwas.bin.filtered\n",
      "  --out gwas.bin.filtered\n",
      "\n",
      "15983 MB RAM detected; reserving 7991 MB for main workspace.\n",
      "179562 variants loaded from .bim file.\n",
      "89 people (44 males, 45 females) loaded from .fam.\n",
      "89 phenotype values loaded from .fam.\n",
      "Using 1 thread (no multithreaded calculations invoked).\n",
      "Before main variant filters, 89 founders and 0 nonfounders present.\n",
      "Calculating allele frequencies... 10111213141516171819202122232425262728293031323334353637383940414243444546474849505152535455565758596061626364656667686970717273747576777879808182838485868788899091929394959697989 done.\n",
      "Total genotyping rate is 0.996307.\n",
      "179562 variants and 89 people pass filters and QC.\n",
      "Among remaining phenotypes, 48 are cases and 41 are controls.\n",
      "Writing C/C --assoc report to gwas.bin.filtered.assoc ...\n",
      "101112131415161718192021222324252627282930313233343536373839404142434445464748495051525354555657585960616263646566676869707172737475767778798081828384858687888990919293949596979899done.\n",
      "--adjust: Genomic inflation est. lambda (based on median chisq) = 1.25937.\n",
      "101112131415161718192021222324252627282930313233343536373839404142434445464748495051525354555657585960616263646566676869707172737475767778798081828384858687888990919293949596979899--adjust values (179562 variants) written to gwas.bin.filtered.assoc.adjusted .\n"
     ]
    }
   ],
   "source": [
    "plink1.9 --bfile gwas.bin.filtered --assoc --adjust --out gwas.bin.filtered"
   ]
  },
  {
   "cell_type": "code",
   "execution_count": 124,
   "id": "839591d1-66a5-45ec-8d11-1be5ddb27d01",
   "metadata": {},
   "outputs": [
    {
     "name": "stdout",
     "output_type": "stream",
     "text": [
      "179563 gwas.bin.filtered.assoc\n"
     ]
    }
   ],
   "source": [
    "wc -l gwas.bin.filtered.assoc"
   ]
  },
  {
   "cell_type": "code",
   "execution_count": 125,
   "id": "58969032-6687-4b8f-9f79-69d852dc8e6b",
   "metadata": {},
   "outputs": [
    {
     "name": "stdout",
     "output_type": "stream",
     "text": [
      " CHR         SNP         BP   A1      F_A      F_U   A2        CHISQ            P           OR \n",
      "   1   rs3094315     792429    G   0.1489  0.08537    A        1.684       0.1944        1.875 \n",
      "   1   rs4040617     819185    G   0.1354  0.08537    A        1.111       0.2919        1.678 \n",
      "   1   rs4075116    1043552    C  0.04167  0.07317    T       0.8278       0.3629       0.5507 \n",
      "   1   rs9442385    1137258    T   0.3723   0.4268    G       0.5428       0.4613       0.7966 \n",
      "   1  rs11260562    1205233    A  0.02174  0.03659    G       0.3424       0.5585       0.5852 \n",
      "   1   rs6685064    1251215    C   0.3854    0.439    T       0.5253       0.4686       0.8013 \n",
      "   1   rs3766180    1563420    T   0.1771  0.09756    C        2.317        0.128        1.991 \n",
      "   1   rs6603791    1586208    A   0.1771  0.08537    G        3.189      0.07413        2.306 \n",
      "   1   rs7519837    1596068    C   0.1702  0.08537    T        2.775      0.09573        2.198 \n"
     ]
    }
   ],
   "source": [
    "head gwas.bin.filtered.assoc"
   ]
  },
  {
   "cell_type": "code",
   "execution_count": 126,
   "id": "4b546d82-ccd5-462e-a05e-38eb7c62ccc3",
   "metadata": {},
   "outputs": [
    {
     "name": "stdout",
     "output_type": "stream",
     "text": [
      " CHR         SNP         BP   A1      F_A      F_U   A2        CHISQ            P           OR \n",
      "  11   rs2513514   75922141    A   0.5208   0.1585    G        25.39    4.693e-07        5.769 \n",
      "  20   rs6110115   13911728    C   0.3085   0.6829    A        24.59    7.103e-07       0.2071 \n",
      "  11   rs2508756   75921549    A   0.5417   0.1951    G         22.5    2.105e-06        4.875 \n",
      "  15  rs16976702   54120691    G   0.5833   0.2317    C        22.43    2.183e-06        4.642 \n"
     ]
    }
   ],
   "source": [
    "sort -g -k 9 gwas.bin.filtered.assoc | head -5"
   ]
  },
  {
   "cell_type": "code",
   "execution_count": 127,
   "id": "31fd8346-7cca-4cfd-8eab-1f4735ab1336",
   "metadata": {},
   "outputs": [
    {
     "name": "stdout",
     "output_type": "stream",
     "text": [
      "13294\n"
     ]
    }
   ],
   "source": [
    "awk '$9<0.05' gwas.bin.filtered.assoc | sort -g -k 9 | wc -l"
   ]
  },
  {
   "cell_type": "code",
   "execution_count": 153,
   "id": "2ee6ea81-bb42-4516-89f8-b5d16f847a35",
   "metadata": {},
   "outputs": [
    {
     "name": "stdout",
     "output_type": "stream",
     "text": [
      " CHR         SNP      UNADJ         GC       BONF       HOLM   SIDAK_SS   SIDAK_SD     FDR_BH     FDR_BY\n",
      "  11   rs2513514  4.693e-07  7.131e-06    0.08427    0.08427    0.08081    0.08081    0.06378     0.8084 \n",
      "  20   rs6110115  7.103e-07  9.938e-06     0.1276     0.1275     0.1198     0.1198    0.06378     0.8084 \n",
      "  11   rs2508756  2.105e-06  2.373e-05      0.378     0.3779     0.3147     0.3147      0.098          1 \n",
      "  15  rs16976702  2.183e-06  2.443e-05      0.392      0.392     0.3243     0.3243      0.098          1 \n"
     ]
    }
   ],
   "source": [
    "head -5 gwas.bin.filtered.assoc.adjusted"
   ]
  },
  {
   "cell_type": "code",
   "execution_count": 128,
   "id": "f27ca04a-83b5-455f-bed2-9d3f25ebef31",
   "metadata": {},
   "outputs": [
    {
     "name": "stdout",
     "output_type": "stream",
     "text": [
      "179563 gwas.bin.filtered.assoc.adjusted\n"
     ]
    }
   ],
   "source": [
    "wc -l gwas.bin.filtered.assoc.adjusted "
   ]
  },
  {
   "cell_type": "code",
   "execution_count": 129,
   "id": "4c6a1210-0db1-4bbb-bc71-a0479979eb2e",
   "metadata": {},
   "outputs": [
    {
     "name": "stdout",
     "output_type": "stream",
     "text": [
      "CHR\tSNP\tUNADJ\tBONF\tFDR_BH\n",
      "11\trs2513514\t4.693e-07\t0.08427\t0.06378\n",
      "20\trs6110115\t7.103e-07\t0.1276\t0.06378\n",
      "11\trs2508756\t2.105e-06\t0.378\t0.098\n",
      "15\trs16976702\t2.183e-06\t0.392\t0.098\n"
     ]
    }
   ],
   "source": [
    "awk -v OFS=\"\\t\" '{print $1,$2,$3,$5,$9}' gwas.bin.filtered.assoc.adjusted | head -5"
   ]
  },
  {
   "cell_type": "code",
   "execution_count": 130,
   "id": "a2350749-7033-4d99-9677-1118a0c75e2d",
   "metadata": {},
   "outputs": [
    {
     "name": "stdout",
     "output_type": "stream",
     "text": [
      "11\trs2513514\t4.693e-07\t0.08427\t0.06378\n",
      "20\trs6110115\t7.103e-07\t0.1276\t0.06378\n",
      "11\trs2508756\t2.105e-06\t0.378\t0.098\n",
      "15\trs16976702\t2.183e-06\t0.392\t0.098\n"
     ]
    }
   ],
   "source": [
    "awk -v OFS=\"\\t\" '$9<0.1{print $1,$2,$3,$5,$9}' gwas.bin.filtered.assoc.adjusted "
   ]
  },
  {
   "cell_type": "markdown",
   "id": "e1433f4d-c998-42d2-949d-e54ed4a724d6",
   "metadata": {},
   "source": [
    "### Calculate Hardy-Weinberg"
   ]
  },
  {
   "cell_type": "code",
   "execution_count": 178,
   "id": "b1fd879c-a601-46b9-a89e-131f0ace37e6",
   "metadata": {},
   "outputs": [
    {
     "name": "stdout",
     "output_type": "stream",
     "text": [
      "OpenBLAS WARNING - could not determine the L2 cache size on this system, assuming 256k\n",
      "PLINK v1.90b6.22 64-bit (3 Nov 2020)           www.cog-genomics.org/plink/1.9/\n",
      "(C) 2005-2020 Shaun Purcell, Christopher Chang   GNU General Public License v3\n",
      "Logging to gwas.bin.filtered.hwe.log.\n",
      "Options in effect:\n",
      "  --bfile gwas.bin.filtered\n",
      "  --hwe 0.005\n",
      "  --make-bed\n",
      "  --out gwas.bin.filtered.hwe\n",
      "\n",
      "15983 MB RAM detected; reserving 7991 MB for main workspace.\n",
      "179562 variants loaded from .bim file.\n",
      "89 people (44 males, 45 females) loaded from .fam.\n",
      "89 phenotype values loaded from .fam.\n",
      "Using 1 thread (no multithreaded calculations invoked).\n",
      "Before main variant filters, 89 founders and 0 nonfounders present.\n",
      "Calculating allele frequencies... 10111213141516171819202122232425262728293031323334353637383940414243444546474849505152535455565758596061626364656667686970717273747576777879808182838485868788899091929394959697989 done.\n",
      "Total genotyping rate is 0.996307.\n",
      "--hwe: 358 variants removed due to Hardy-Weinberg exact test.\n",
      "179204 variants and 89 people pass filters and QC.\n",
      "Among remaining phenotypes, 48 are cases and 41 are controls.\n",
      "--make-bed to gwas.bin.filtered.hwe.bed + gwas.bin.filtered.hwe.bim +\n",
      "gwas.bin.filtered.hwe.fam ... 101112131415161718192021222324252627282930313233343536373839404142434445464748495051525354555657585960616263646566676869707172737475767778798081828384858687888990919293949596979899done.\n"
     ]
    }
   ],
   "source": [
    "plink1.9 --bfile gwas.bin.filtered --hwe 0.00001 --make-bed --out gwas.bin.filtered.hwe"
   ]
  },
  {
   "cell_type": "code",
   "execution_count": 174,
   "id": "98036a73-0dd8-4cc4-9857-6cc08d1e6abe",
   "metadata": {},
   "outputs": [
    {
     "name": "stdout",
     "output_type": "stream",
     "text": [
      " 179562 gwas.bin.filtered.hwe.bim\n",
      "     89 gwas.bin.filtered.hwe.fam\n",
      " 179651 total\n"
     ]
    }
   ],
   "source": [
    "wc -l gwas.bin.filtered.hwe.bim gwas.bin.filtered.hwe.fam"
   ]
  },
  {
   "cell_type": "code",
   "execution_count": 175,
   "id": "31dd634c-41f8-405b-ba31-5f3840864b0f",
   "metadata": {},
   "outputs": [
    {
     "name": "stdout",
     "output_type": "stream",
     "text": [
      "OpenBLAS WARNING - could not determine the L2 cache size on this system, assuming 256k\n",
      "PLINK v1.90b6.22 64-bit (3 Nov 2020)           www.cog-genomics.org/plink/1.9/\n",
      "(C) 2005-2020 Shaun Purcell, Christopher Chang   GNU General Public License v3\n",
      "Logging to gwas.bin.filtered.hardy.log.\n",
      "Options in effect:\n",
      "  --bfile gwas.bin.filtered\n",
      "  --hardy\n",
      "  --out gwas.bin.filtered.hardy\n",
      "\n",
      "15983 MB RAM detected; reserving 7991 MB for main workspace.\n",
      "179562 variants loaded from .bim file.\n",
      "89 people (44 males, 45 females) loaded from .fam.\n",
      "89 phenotype values loaded from .fam.\n",
      "Using 1 thread (no multithreaded calculations invoked).\n",
      "Before main variant filters, 89 founders and 0 nonfounders present.\n",
      "Calculating allele frequencies... 10111213141516171819202122232425262728293031323334353637383940414243444546474849505152535455565758596061626364656667686970717273747576777879808182838485868788899091929394959697989 done.\n",
      "Total genotyping rate is 0.996307.\n",
      "--hardy: Writing Hardy-Weinberg report (founders only) to\n",
      "gwas.bin.filtered.hardy.hwe ... 101112131415161718192021222324252627282930313233343536373839404142434445464748495051525354555657585960616263646566676869707172737475767778798081828384858687888990919293949596979899done.\n"
     ]
    }
   ],
   "source": [
    "plink1.9 --bfile gwas.bin.filtered --hardy --out gwas.bin.filtered.hardy"
   ]
  },
  {
   "cell_type": "code",
   "execution_count": 176,
   "id": "6a803eb6-4e42-4aab-989d-c647be217972",
   "metadata": {},
   "outputs": [
    {
     "name": "stdout",
     "output_type": "stream",
     "text": [
      " CHR         SNP     TEST   A1   A2                 GENO   O(HET)   E(HET)            P \n",
      "   1   rs3094315      ALL    G    A              0/21/67   0.2386   0.2102       0.6015\n",
      "   1   rs3094315      AFF    G    A              0/14/33   0.2979   0.2535       0.5702\n",
      "   1   rs3094315    UNAFF    G    A               0/7/34   0.1707   0.1562            1\n",
      "   1   rs4040617      ALL    G    A              0/20/69   0.2247   0.1995        0.592\n"
     ]
    }
   ],
   "source": [
    "head -5 gwas.bin.filtered.hardy.hwe"
   ]
  },
  {
   "cell_type": "markdown",
   "id": "5d51b19e-71e8-4afd-9855-ed93196aad73",
   "metadata": {},
   "source": [
    "Meaning of the columns:\n",
    "gwas.bin.filtered.hwe.bim"
   ]
  },
  {
   "cell_type": "code",
   "execution_count": 140,
   "id": "9416c7fd-3941-4420-bb8e-2bede0b3dd40",
   "metadata": {},
   "outputs": [
    {
     "name": "stdout",
     "output_type": "stream",
     "text": [
      "   1  rs10399820    UNAFF    C    G               3/31/5   0.7949   0.4987    0.0003653\n",
      "   2   rs2339516    UNAFF    A    G               5/5/31    0.122   0.2989    0.0009308\n",
      "   2  rs17029230    UNAFF    A    G              12/9/19    0.225   0.4847    0.0008353\n",
      "   2   rs3908093    UNAFF    A    G              11/8/21      0.2   0.4688    0.0004045\n",
      "   2   rs6719884    UNAFF    C    A              14/9/18   0.2195   0.4952    0.0003949\n"
     ]
    }
   ],
   "source": [
    "awk '$3==\"UNAFF\" && $9<0.001' gwas.bin.filtered.hardy.hwe | head -5"
   ]
  },
  {
   "cell_type": "code",
   "execution_count": 145,
   "id": "6f623bd8-26f4-4316-b3b7-f45af032fdcf",
   "metadata": {},
   "outputs": [
    {
     "name": "stdout",
     "output_type": "stream",
     "text": [
      "  11   \u001b[01;31m\u001b[Krs2508756    UNAFF\u001b[m\u001b[K    A    G              1/14/26   0.3415   0.3141            1\n",
      "  11   \u001b[01;31m\u001b[Krs2513514    UNAFF\u001b[m\u001b[K    A    G              0/13/28   0.3171   0.2668       0.5649\n",
      "  15  \u001b[01;31m\u001b[Krs16976702    UNAFF\u001b[m\u001b[K    G    C              2/15/24   0.3659    0.356            1\n",
      "  20   \u001b[01;31m\u001b[Krs6110115    UNAFF\u001b[m\u001b[K    C    A              19/18/4    0.439   0.4331            1\n"
     ]
    }
   ],
   "source": [
    "egrep '(rs2513514|rs6110115|rs2508756|rs16976702).*UNAFF' gwas.bin.filtered.hardy.hwe"
   ]
  },
  {
   "cell_type": "markdown",
   "id": "d8b957c6-d5e1-421b-b8dc-62b4ec1747e3",
   "metadata": {
    "jp-MarkdownHeadingCollapsed": true
   },
   "source": [
    "### Filter Hardy\n",
    "Filter for controls (TEXT==\"UNAFF\") and p-values <= 0.001"
   ]
  },
  {
   "cell_type": "code",
   "execution_count": 43,
   "id": "efb22670-681b-46f2-b6dc-2e2ac59b14a7",
   "metadata": {},
   "outputs": [
    {
     "name": "stdout",
     "output_type": "stream",
     "text": [
      "  15   rs7178071    UNAFF    G    A               6/3/32  0.07317   0.2989    2.377e-05\n",
      "  14   rs1242105    UNAFF    C    T               4/1/36  0.02439   0.1954    2.557e-05\n",
      "   4   rs1392554    UNAFF    T    C              12/7/22   0.1707   0.4703    4.385e-05\n"
     ]
    }
   ],
   "source": [
    "awk '$3==\"UNAFF\" && $9<=0.001{print $0}' hardy.hwe | sort -g -k 9 | head -3"
   ]
  },
  {
   "cell_type": "markdown",
   "id": "a2ffc8f4-29d1-40cd-aeaf-ddedda13d2a8",
   "metadata": {},
   "source": [
    "### Create QC-filtered Dataset"
   ]
  },
  {
   "cell_type": "code",
   "execution_count": 46,
   "id": "13c71b57-2717-49b5-85ea-85cdbdb73ca5",
   "metadata": {},
   "outputs": [
    {
     "name": "stdout",
     "output_type": "stream",
     "text": [
      "OpenBLAS WARNING - could not determine the L2 cache size on this system, assuming 256k\n"
     ]
    }
   ],
   "source": [
    "plink1.9 --maf 0.01 --geno 0.05 --mind 0.05 --hwe 0.001 --bfile gwas.bin --make-bed --out gwas.bin.filtered"
   ]
  },
  {
   "cell_type": "code",
   "execution_count": 47,
   "id": "87f724e2-c1b9-4856-b2f6-e23bd85d190d",
   "metadata": {},
   "outputs": [
    {
     "name": "stdout",
     "output_type": "stream",
     "text": [
      "PLINK v1.90b6.22 64-bit (3 Nov 2020)\n",
      "Options in effect:\n",
      "  --bfile gwas.bin\n",
      "  --geno 0.05\n",
      "  --gplink\n",
      "  --hwe 0.001\n",
      "  --maf 0.01\n",
      "  --make-bed\n",
      "  --mind 0.05\n",
      "  --out gwas.bin.filtered\n",
      "\n",
      "Hostname: rw20G\n",
      "Working directory: /home/ubuntu/CompBiol3/GWAS\n",
      "Start time: Mon Feb 26 11:16:07 2024\n",
      "\n",
      "Random number seed: 1708942567\n",
      "15983 MB RAM detected; reserving 7991 MB for main workspace.\n",
      "228694 variants loaded from .bim file.\n",
      "90 people (45 males, 45 females) loaded from .fam.\n",
      "90 phenotype values loaded from .fam.\n",
      "1 person removed due to missing genotype data (--mind).\n",
      "ID written to gwas.bin.filtered.irem .\n",
      "Using 1 thread (no multithreaded calculations invoked).\n",
      "Before main variant filters, 89 founders and 0 nonfounders present.\n",
      "Calculating allele frequencies... done.\n",
      "Total genotyping rate in remaining samples is 0.995473.\n",
      "2728 variants removed due to missing genotype data (--geno).\n",
      "--hwe: 69 variants removed due to Hardy-Weinberg exact test.\n",
      "46404 variants removed due to minor allele threshold(s)\n",
      "(--maf/--max-maf/--mac/--max-mac).\n",
      "179493 variants and 89 people pass filters and QC.\n",
      "Among remaining phenotypes, 48 are cases and 41 are controls.\n",
      "--make-bed to gwas.bin.filtered.bed + gwas.bin.filtered.bim +\n",
      "gwas.bin.filtered.fam ... done.\n",
      "\n",
      "End time: Mon Feb 26 11:16:07 2024\n"
     ]
    }
   ],
   "source": [
    "cat gwas.bin.filtered.log"
   ]
  },
  {
   "cell_type": "markdown",
   "id": "42a262fe-2ac5-4c50-8fe7-196eb662c45b",
   "metadata": {},
   "source": [
    "### Perform Basic Association Analysis of QC-Dataset"
   ]
  },
  {
   "cell_type": "code",
   "execution_count": 48,
   "id": "916b7657-c53d-4e36-8e3d-10fd28cd0a76",
   "metadata": {},
   "outputs": [
    {
     "name": "stdout",
     "output_type": "stream",
     "text": [
      "OpenBLAS WARNING - could not determine the L2 cache size on this system, assuming 256k\n"
     ]
    }
   ],
   "source": [
    "plink1.9 --bfile gwas.bin.filtered --assoc --adjust --out gwas.bin.filtered.assoc --gplink"
   ]
  },
  {
   "cell_type": "code",
   "execution_count": 49,
   "id": "f64e6e9f-b621-4dae-8c92-e25e1abc399f",
   "metadata": {},
   "outputs": [
    {
     "name": "stdout",
     "output_type": "stream",
     "text": [
      "PLINK v1.90b6.22 64-bit (3 Nov 2020)\n",
      "Options in effect:\n",
      "  --adjust\n",
      "  --assoc\n",
      "  --bfile gwas.bin.filtered\n",
      "  --gplink\n",
      "  --out gwas.bin.filtered.assoc\n",
      "\n",
      "Hostname: rw20G\n",
      "Working directory: /home/ubuntu/CompBiol3/GWAS\n",
      "Start time: Mon Feb 26 11:24:01 2024\n",
      "\n",
      "Random number seed: 1708943041\n",
      "15983 MB RAM detected; reserving 7991 MB for main workspace.\n",
      "179493 variants loaded from .bim file.\n",
      "89 people (44 males, 45 females) loaded from .fam.\n",
      "89 phenotype values loaded from .fam.\n",
      "Using 1 thread (no multithreaded calculations invoked).\n",
      "Before main variant filters, 89 founders and 0 nonfounders present.\n",
      "Calculating allele frequencies... done.\n",
      "Total genotyping rate is 0.996308.\n",
      "179493 variants and 89 people pass filters and QC.\n",
      "Among remaining phenotypes, 48 are cases and 41 are controls.\n",
      "Writing C/C --assoc report to gwas.bin.filtered.assoc.assoc ...\n",
      "done.\n",
      "--adjust: Genomic inflation est. lambda (based on median chisq) = 1.25937.\n",
      "--adjust values (179493 variants) written to\n",
      "gwas.bin.filtered.assoc.assoc.adjusted .\n",
      "\n",
      "End time: Mon Feb 26 11:24:01 2024\n"
     ]
    }
   ],
   "source": [
    "cat gwas.bin.filtered.assoc.log"
   ]
  },
  {
   "cell_type": "code",
   "execution_count": 50,
   "id": "759e66b0-5632-4a2d-aca2-2bc151a42ced",
   "metadata": {},
   "outputs": [
    {
     "name": "stdout",
     "output_type": "stream",
     "text": [
      "==> gwas.bin.filtered.assoc.assoc <==\n",
      " CHR         SNP         BP   A1      F_A      F_U   A2        CHISQ            P           OR \n",
      "   1   rs3094315     792429    G   0.1489  0.08537    A        1.684       0.1944        1.875 \n",
      "   1   rs4040617     819185    G   0.1354  0.08537    A        1.111       0.2919        1.678 \n",
      "\n",
      "==> gwas.bin.filtered.assoc.assoc.adjusted <==\n",
      " CHR         SNP      UNADJ         GC       BONF       HOLM   SIDAK_SS   SIDAK_SD     FDR_BH     FDR_BY\n",
      "  11   rs2513514  4.693e-07  7.131e-06    0.08423    0.08423    0.08078    0.08078    0.06375      0.808 \n",
      "  20   rs6110115  7.103e-07  9.938e-06     0.1275     0.1275     0.1197     0.1197    0.06375      0.808 \n"
     ]
    }
   ],
   "source": [
    "head -3 gwas.bin.filtered.assoc.assoc gwas.bin.filtered.assoc.assoc.adjusted"
   ]
  },
  {
   "cell_type": "code",
   "execution_count": 51,
   "id": "18d5b671-3bb8-4516-ab5a-fd3636b67aeb",
   "metadata": {},
   "outputs": [
    {
     "name": "stdout",
     "output_type": "stream",
     "text": [
      "  179494 gwas.bin.filtered.assoc.assoc\n",
      "  179494 gwas.bin.filtered.assoc.assoc.adjusted\n",
      "  358988 total\n"
     ]
    }
   ],
   "source": [
    "wc -l gwas.bin.filtered.assoc.assoc gwas.bin.filtered.assoc.assoc.adjusted"
   ]
  },
  {
   "attachments": {},
   "cell_type": "markdown",
   "id": "6db7ca79-797c-4f80-8ae2-98670af3dcb1",
   "metadata": {},
   "source": [
    "### Analyze in R\n",
    "```library(qqman)\n",
    "gwas<-read.table(\"gwas.bin.filtered.assoc.assoc\", header=TRUE)\n",
    "manhattan(gwas, chr=\"CHR\", bp=\"BP\", snp=\"SNP\", p=\"P\",suggestiveline=F, genomewideline=T)\n",
    "as.data.frame(table(gwas$CHR)) # number of SNPs per chromosome\n",
    "\n",
    "SNPsOfInterest<-c(\"rs2513514\",\"rs6110115\")\n",
    "manhattan(gwas, annotatePval = 0.01, highlight=SNPsOfInterest)\n",
    "manhattan(gwas, annotatePval=0.001, highlight=SNPsOfInterest)\n",
    "manhattan(gwas, annotatePval=0.0001, highlight=SNPsOfInterest)\n",
    "manhattan(gwas, annotatePval=0.00001, highlight=SNPsOfInterest)\n",
    "```\n",
    "\n",
    "Fuse *gwas.bin.filtered.assoc.assoc* and *gwas.bin.filtered.assoc.assoc.adjusted* with respect to column \"BP\""
   ]
  },
  {
   "cell_type": "code",
   "execution_count": 58,
   "id": "69a58272-39e2-40aa-954e-fd79ea906e3b",
   "metadata": {},
   "outputs": [],
   "source": [
    "awk 'BEGIN{print \"CHR\",\"BP\",\"SNP\",\"P\",\"GC\",\"BONF\"; while(getline < \"gwas.bin.filtered.assoc.assoc\" > 0){snp[$2]=$3}}{{print $1,snp[$2],$2,$3,$4,$5}}' gwas.bin.filtered.assoc.assoc.adjusted > gwas.bin.filtered.assoc.assoc.adjusted.fused"
   ]
  },
  {
   "attachments": {},
   "cell_type": "markdown",
   "id": "e9dcb824-284a-4f20-b88c-5dbfabdb2d6a",
   "metadata": {},
   "source": [
    "```\n",
    "gwas_adj<-read.table(\"gwas.bin.filtered.assoc.assoc.adjusted.fused\", header=TRUE)\n",
    "manhattan(gwas_adj, chr=\"CHR\", bp=\"BP\", snp=\"SNP\", p=\"P\",suggestiveline=T, annotatePval=0.0001, genomewideline=T)\n",
    "manhattan(subset(gwas_adj, CHR==8),xlim=c(12000000,14000000),genomewideline=T)\n",
    "qq(gwas_adj$P)\n",
    "```\n",
    "Create plot with: `manhattan(gwas_adj, genomewideline=T, annotatePval=0.00001, annotateTop=F, highlight=gwas_adj$SNP[gwas_adj$BONF<1])`\n",
    "\n",
    "![gwas.png](Images/gwas.png)\n",
    "\n",
    "Create plot with: `manhattan(subset(gwas_adj, CHR==11),xlim=c(75000000,77000000),genomewideline=T, annotatePval=0.00001, annotateTop=F)`\n",
    "\n",
    "![gwas-chr-11.png](Images/gwas-chr-11.png)\n",
    "\n",
    "Create plot with: `manhattan(subset(gwas_adj, CHR==8),xlim=c(12000000,14000000),genomewideline=T)`\n",
    "\n",
    "![gwas-chr-8.png](Images/gwas-chr-8.png)\n",
    "\n",
    "Create plot with: `qq(gwas_adj$P)`\n",
    "\n",
    "![gwas-qq.png](Images/gwas-qq.png)"
   ]
  },
  {
   "cell_type": "code",
   "execution_count": 53,
   "id": "17ac52e6-6053-4c95-977b-acf88f1f08ff",
   "metadata": {},
   "outputs": [
    {
     "name": "stdout",
     "output_type": "stream",
     "text": [
      "22 49519949 \u001b[01;31m\u001b[Krs9616985\u001b[m\u001b[K 49519949 C 0.03125\n",
      "22 49519949 \u001b[01;31m\u001b[Krs9616985\u001b[m\u001b[K 0.8441 0.8609 1\n"
     ]
    }
   ],
   "source": [
    "grep rs9616985 gwas.bin.filtered.assoc.assoc.adjusted.fused"
   ]
  },
  {
   "cell_type": "code",
   "execution_count": 55,
   "id": "0347e05a-78b5-4e0f-a729-0c8481011503",
   "metadata": {},
   "outputs": [
    {
     "name": "stdout",
     "output_type": "stream",
     "text": [
      "21 33308533 rs2211685 1 1 1\n",
      "21 39412266 rs2063972 1 1 1\n",
      "21 42413116 rs220148 1 1 1\n",
      "22 36001892 rs2267363 1 1 1\n",
      "22 37662641 rs5757391 1 1 1\n"
     ]
    }
   ],
   "source": [
    "tail -5 gwas.bin.filtered.assoc.assoc.adjusted.fused"
   ]
  },
  {
   "cell_type": "markdown",
   "id": "63118bc0-027c-42c2-bced-3517bbc85877",
   "metadata": {},
   "source": [
    "### Alternative Approach with gwaRs\n",
    "\n",
    "In R install the package with `install.packages(\"gwaRs\")`. "
   ]
  },
  {
   "cell_type": "code",
   "execution_count": 147,
   "id": "5784f8be-8ad9-400f-9bd1-1d5ef9768a78",
   "metadata": {},
   "outputs": [
    {
     "name": "stdout",
     "output_type": "stream",
     "text": [
      "OpenBLAS WARNING - could not determine the L2 cache size on this system, assuming 256k\n",
      "\n",
      "R version 4.1.2 (2021-11-01) -- \"Bird Hippie\"\n",
      "Copyright (C) 2021 The R Foundation for Statistical Computing\n",
      "Platform: x86_64-pc-linux-gnu (64-bit)\n",
      "\n",
      "R is free software and comes with ABSOLUTELY NO WARRANTY.\n",
      "You are welcome to redistribute it under certain conditions.\n",
      "Type 'license()' or 'licence()' for distribution details.\n",
      "\n",
      "R is a collaborative project with many contributors.\n",
      "Type 'contributors()' for more information and\n",
      "'citation()' on how to cite R or R packages in publications.\n",
      "\n",
      "Type 'demo()' for some demos, 'help()' for on-line help, or\n",
      "'help.start()' for an HTML browser interface to help.\n",
      "Type 'q()' to quit R.\n",
      "\n",
      "[Previously saved workspace restored]\n",
      "\n",
      "> library(\"gwaRs\")\n",
      "\u001b[?25h> \n",
      "> \n",
      "\u001b[?25h\n"
     ]
    }
   ],
   "source": [
    "R -e 'library(\"gwaRs\")'"
   ]
  },
  {
   "cell_type": "markdown",
   "id": "d457b4de-462c-4292-a69c-44089324e71e",
   "metadata": {},
   "source": [
    "Fuse *gwas.bin.filtered.assoc* and *gwas.bin.filtered.assoc.adjusted* with respect to column \"BP\""
   ]
  },
  {
   "cell_type": "code",
   "execution_count": 158,
   "id": "8531c8d1-3d05-41be-af57-e2705582daae",
   "metadata": {},
   "outputs": [
    {
     "name": "stdout",
     "output_type": "stream",
     "text": [
      "==> gwas.bin.filtered.assoc <==\n",
      " CHR         SNP         BP   A1      F_A      F_U   A2        CHISQ            P           OR \n",
      "   1   rs3094315     792429    G   0.1489  0.08537    A        1.684       0.1944        1.875 \n",
      "\n",
      "==> gwas.bin.filtered.assoc.adjusted <==\n",
      " CHR         SNP      UNADJ         GC       BONF       HOLM   SIDAK_SS   SIDAK_SD     FDR_BH     FDR_BY\n",
      "  11   rs2513514  4.693e-07  7.131e-06    0.08427    0.08427    0.08081    0.08081    0.06378     0.8084 \n"
     ]
    }
   ],
   "source": [
    "head -2 gwas.bin.filtered.assoc gwas.bin.filtered.assoc.adjusted"
   ]
  },
  {
   "cell_type": "code",
   "execution_count": 163,
   "id": "84db72f9-b1ab-441e-a630-a09262894f44",
   "metadata": {},
   "outputs": [],
   "source": [
    "awk 'BEGIN{print \"CHR\",\"BP\",\"SNP\",\"P\",\"GC\",\"BONF\"; while(getline < \"gwas.bin.filtered.assoc\" > 0){snp[$2]=$3}}$1!=\"CHR\"{{print $1,snp[$2],$2,$3,$4,$5}}' gwas.bin.filtered.assoc.adjusted > gwas.bin.filtered.assoc.adjusted.fused"
   ]
  },
  {
   "cell_type": "code",
   "execution_count": 168,
   "id": "549eddcd-62ed-4aaa-be42-b5bb9dea511f",
   "metadata": {},
   "outputs": [
    {
     "name": "stdout",
     "output_type": "stream",
     "text": [
      "CHR BP SNP P GC BONF\n",
      "11 75922141 rs2513514 4.693e-07 7.131e-06 0.08427\n",
      "20 13911728 rs6110115 7.103e-07 9.938e-06 0.1276\n",
      "11 75921549 rs2508756 2.105e-06 2.373e-05 0.378\n",
      "15 54120691 rs16976702 2.183e-06 2.443e-05 0.392\n",
      "8 12895576 rs11204005 7.882e-06 6.841e-05 1\n",
      "9 94478347 rs16910850 1.216e-05 9.688e-05 1\n",
      "12 129970575 rs1195747 1.427e-05 0.0001102 1\n",
      "17 77933018 rs7207095 1.682e-05 0.0001257 1\n",
      "15 77672467 rs16971118 1.907e-05 0.0001391 1\n"
     ]
    }
   ],
   "source": [
    "head  gwas.bin.filtered.assoc.adjusted.fused"
   ]
  },
  {
   "cell_type": "code",
   "execution_count": 169,
   "id": "bcd9f179-9bc7-4e35-9a0d-846d9afd9dc3",
   "metadata": {},
   "outputs": [
    {
     "name": "stdout",
     "output_type": "stream",
     "text": [
      "OpenBLAS WARNING - could not determine the L2 cache size on this system, assuming 256k\n",
      "\n",
      "R version 4.1.2 (2021-11-01) -- \"Bird Hippie\"\n",
      "Copyright (C) 2021 The R Foundation for Statistical Computing\n",
      "Platform: x86_64-pc-linux-gnu (64-bit)\n",
      "\n",
      "R is free software and comes with ABSOLUTELY NO WARRANTY.\n",
      "You are welcome to redistribute it under certain conditions.\n",
      "Type 'license()' or 'licence()' for distribution details.\n",
      "\n",
      "R is a collaborative project with many contributors.\n",
      "Type 'contributors()' for more information and\n",
      "'citation()' on how to cite R or R packages in publications.\n",
      "\n",
      "Type 'demo()' for some demos, 'help()' for on-line help, or\n",
      "'help.start()' for an HTML browser interface to help.\n",
      "Type 'q()' to quit R.\n",
      "\n",
      "[Previously saved workspace restored]\n",
      "\n",
      "> png(\"Images/man-plot.png\", width = 1000, height = 600);\n",
      "> library(\"gwaRs\");\n",
      "\u001b[?25h> gwas_adj<-read.table(\"gwas.bin.filtered.assoc.adjusted.fused\", header=TRUE);\n",
      "\u001b[?25h> man_plot(gwas_adj, annotatePval=0.00001, highlight=gwas_adj$SNP[gwas_adj$BONF<1], chromCol=c(\"tomato\",\"lightslateblue\"));\n",
      "\u001b[?25h> dev.off()\n",
      "null device \n",
      "          1 \n",
      "\u001b[?25h> \n",
      "> \n",
      "\u001b[?25h\n"
     ]
    }
   ],
   "source": [
    "# Create Manhattan Plot\n",
    "R -e 'png(\"Images/man-plot.png\", width = 1000, height = 600);\n",
    "library(\"gwaRs\");\n",
    "gwas_adj<-read.table(\"gwas.bin.filtered.assoc.adjusted.fused\", header=TRUE);\n",
    "man_plot(gwas_adj, annotatePval=0.00001, highlight=gwas_adj$SNP[gwas_adj$BONF<1], chromCol=c(\"tomato\",\"lightslateblue\"));\n",
    "dev.off()'"
   ]
  },
  {
   "attachments": {},
   "cell_type": "markdown",
   "id": "8e244ab9-4c65-4191-8bc1-662a9c1f20bd",
   "metadata": {},
   "source": [
    "![Manhattan Plot](Images/man-plot.png)"
   ]
  },
  {
   "cell_type": "code",
   "execution_count": 170,
   "id": "5ca114f3-7445-4ec5-a10d-ee518661a050",
   "metadata": {},
   "outputs": [
    {
     "name": "stdout",
     "output_type": "stream",
     "text": [
      "OpenBLAS WARNING - could not determine the L2 cache size on this system, assuming 256k\n",
      "\n",
      "R version 4.1.2 (2021-11-01) -- \"Bird Hippie\"\n",
      "Copyright (C) 2021 The R Foundation for Statistical Computing\n",
      "Platform: x86_64-pc-linux-gnu (64-bit)\n",
      "\n",
      "R is free software and comes with ABSOLUTELY NO WARRANTY.\n",
      "You are welcome to redistribute it under certain conditions.\n",
      "Type 'license()' or 'licence()' for distribution details.\n",
      "\n",
      "R is a collaborative project with many contributors.\n",
      "Type 'contributors()' for more information and\n",
      "'citation()' on how to cite R or R packages in publications.\n",
      "\n",
      "Type 'demo()' for some demos, 'help()' for on-line help, or\n",
      "'help.start()' for an HTML browser interface to help.\n",
      "Type 'q()' to quit R.\n",
      "\n",
      "[Previously saved workspace restored]\n",
      "\n",
      "> png(\"Images/qq-plot.png\", width = 1000, height = 600);\n",
      "> library(\"gwaRs\");\n",
      "\u001b[?25h> gwas_adj<-read.table(\"gwas.bin.filtered.assoc.adjusted.fused\", header=TRUE);\n",
      "\u001b[?25h> qq_plot(gwas_adj);\n",
      "\u001b[?25h> dev.off()\n",
      "null device \n",
      "          1 \n",
      "\u001b[?25h> \n",
      "> \n",
      "\u001b[?25h\n"
     ]
    }
   ],
   "source": [
    "# Create Q-Q Plot\n",
    "R -e 'png(\"Images/qq-plot.png\", width = 1000, height = 600);\n",
    "library(\"gwaRs\");\n",
    "gwas_adj<-read.table(\"gwas.bin.filtered.assoc.adjusted.fused\", header=TRUE);\n",
    "qq_plot(gwas_adj);\n",
    "dev.off()'"
   ]
  },
  {
   "attachments": {},
   "cell_type": "markdown",
   "id": "ead81bfe-1083-4b89-b826-d9abbc4f38c7",
   "metadata": {},
   "source": [
    "![qq-plot](Images/qq-plot.png)"
   ]
  },
  {
   "cell_type": "code",
   "execution_count": 171,
   "id": "407d481a-14dd-4ee1-8942-0d125b60a3db",
   "metadata": {},
   "outputs": [
    {
     "name": "stdout",
     "output_type": "stream",
     "text": [
      "OpenBLAS WARNING - could not determine the L2 cache size on this system, assuming 256k\n",
      "\n",
      "R version 4.1.2 (2021-11-01) -- \"Bird Hippie\"\n",
      "Copyright (C) 2021 The R Foundation for Statistical Computing\n",
      "Platform: x86_64-pc-linux-gnu (64-bit)\n",
      "\n",
      "R is free software and comes with ABSOLUTELY NO WARRANTY.\n",
      "You are welcome to redistribute it under certain conditions.\n",
      "Type 'license()' or 'licence()' for distribution details.\n",
      "\n",
      "R is a collaborative project with many contributors.\n",
      "Type 'contributors()' for more information and\n",
      "'citation()' on how to cite R or R packages in publications.\n",
      "\n",
      "Type 'demo()' for some demos, 'help()' for on-line help, or\n",
      "'help.start()' for an HTML browser interface to help.\n",
      "Type 'q()' to quit R.\n",
      "\n",
      "[Previously saved workspace restored]\n",
      "\n",
      "> png(\"Images/karyo-plot.png\", width = 1000, height = 600);\n",
      "> library(\"gwaRs\");\n",
      "\u001b[?25h> gwas_adj<-read.table(\"gwas.bin.filtered.assoc.adjusted.fused\", header=TRUE);\n",
      "\u001b[?25h> karyotype_plot(gwas_adj);\n",
      "\u001b[?25h> dev.off()\n",
      "null device \n",
      "          1 \n",
      "\u001b[?25h> \n",
      "> \n",
      "\u001b[?25h\n"
     ]
    }
   ],
   "source": [
    "# Create Karyotype Plot\n",
    "R -e 'png(\"Images/karyo-plot.png\", width = 1000, height = 600);\n",
    "library(\"gwaRs\");\n",
    "gwas_adj<-read.table(\"gwas.bin.filtered.assoc.adjusted.fused\", header=TRUE);\n",
    "karyotype_plot(gwas_adj);\n",
    "dev.off()'"
   ]
  },
  {
   "attachments": {},
   "cell_type": "markdown",
   "id": "07e979d5-b3d1-4a61-ba98-7641ec01f931",
   "metadata": {},
   "source": [
    "![karyo-plot](Images/karyo-plot.png)"
   ]
  },
  {
   "cell_type": "code",
   "execution_count": null,
   "id": "cb253a61-47a1-4667-af91-593bffbf7c11",
   "metadata": {},
   "outputs": [],
   "source": []
  }
 ],
 "metadata": {
  "kernelspec": {
   "display_name": "Bash",
   "language": "bash",
   "name": "bash"
  },
  "language_info": {
   "codemirror_mode": "shell",
   "file_extension": ".sh",
   "mimetype": "text/x-sh",
   "name": "bash"
  }
 },
 "nbformat": 4,
 "nbformat_minor": 5
}
