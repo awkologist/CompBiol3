{
 "cells": [
  {
   "cell_type": "markdown",
   "id": "705a10a6-00eb-4f96-8494-7b532dcd7d08",
   "metadata": {},
   "source": [
    "# Stream Editor Sed"
   ]
  },
  {
   "cell_type": "code",
   "execution_count": 2,
   "id": "5e5e9fd7-e033-487a-9baf-94e240fa69dc",
   "metadata": {},
   "outputs": [
    {
     "name": "stdout",
     "output_type": "stream",
     "text": [
      "\n"
     ]
    }
   ],
   "source": [
    "cat>test.file.txt\n",
    "I think most spring flowers bloom white.\n",
    "Is that caused by gene regulation?"
   ]
  },
  {
   "cell_type": "code",
   "execution_count": 5,
   "id": "abc4c3ae-ef84-4bda-851f-e84bfc46e5cf",
   "metadata": {},
   "outputs": [
    {
     "name": "stdout",
     "output_type": "stream",
     "text": [
      "I think most spring flowers bloom white.\n",
      "Is that caused by gene regulation?\n"
     ]
    }
   ],
   "source": [
    "cat test.file.txt"
   ]
  },
  {
   "cell_type": "code",
   "execution_count": 6,
   "id": "fda30f65-da84-437c-9244-441bc18c3314",
   "metadata": {},
   "outputs": [
    {
     "name": "stdout",
     "output_type": "stream",
     "text": [
      "I think few spring flowers bloom white.\n",
      "Is that caused by gene regulation?\n"
     ]
    }
   ],
   "source": [
    "sed 's/most/few/' test.file.txt"
   ]
  },
  {
   "cell_type": "code",
   "execution_count": 7,
   "id": "7e56c65e-32b8-4328-9336-2d835e4d760c",
   "metadata": {},
   "outputs": [
    {
     "name": "stdout",
     "output_type": "stream",
     "text": [
      "I think few spring flowers bloom white.\n"
     ]
    }
   ],
   "source": [
    "sed -n 's/most/few/p' test.file.txt"
   ]
  },
  {
   "cell_type": "code",
   "execution_count": 8,
   "id": "47d1ccb2-a9a4-41c6-b6ca-7b71193b3ded",
   "metadata": {},
   "outputs": [
    {
     "name": "stdout",
     "output_type": "stream",
     "text": [
      "I think most spring flowers bloom white.\n",
      "Is that caused by gene regulation?\n"
     ]
    }
   ],
   "source": [
    "sed -n 'p' test.file.txt"
   ]
  },
  {
   "cell_type": "code",
   "execution_count": 9,
   "id": "9d68acff-8624-4708-bdfa-b02469d3c3ca",
   "metadata": {},
   "outputs": [
    {
     "name": "stdout",
     "output_type": "stream",
     "text": [
      "I think most spring flowers bloom red.\n",
      "Is that caused by gene regulation?\n"
     ]
    }
   ],
   "source": [
    "sed -e 's/most/few/' -e 's/few/most/' -e 's/white/red/' test.file.txt"
   ]
  },
  {
   "cell_type": "code",
   "execution_count": 10,
   "id": "8b7d14d6-2f74-43c2-b644-2cc103d80502",
   "metadata": {},
   "outputs": [
    {
     "name": "stdout",
     "output_type": "stream",
     "text": [
      "I think most spring flowers bloom red.\n",
      "Is that caused by gene regulation?\n"
     ]
    }
   ],
   "source": [
    "sed -f edit.sed test.file.txt"
   ]
  },
  {
   "cell_type": "code",
   "execution_count": 11,
   "id": "83fbccd1-1386-425b-ba7b-a4ea369a59f2",
   "metadata": {},
   "outputs": [
    {
     "name": "stdout",
     "output_type": "stream",
     "text": [
      "Darwin never met Newton\n"
     ]
    }
   ],
   "source": [
    "echo \"Darwin meets Newton\" | sed 's/meets/never met/'"
   ]
  },
  {
   "cell_type": "code",
   "execution_count": 12,
   "id": "2b03bd2b-3409-4928-ba09-1683dd858238",
   "metadata": {},
   "outputs": [
    {
     "name": "stdout",
     "output_type": "stream",
     "text": [
      "HEADER  Hydrogenase                     23-Mar-99   1CFZ\n"
     ]
    }
   ],
   "source": [
    "sed -n '1p' structure.pdb"
   ]
  },
  {
   "cell_type": "code",
   "execution_count": 13,
   "id": "80d89081-c41d-4ccb-b7b0-afcb9af4db3d",
   "metadata": {},
   "outputs": [
    {
     "name": "stdout",
     "output_type": "stream",
     "text": [
      "COMPND  Hydrogenase Maturating Endopeptidase Hybd From\n"
     ]
    }
   ],
   "source": [
    "sed -n '2p' structure.pdb"
   ]
  },
  {
   "cell_type": "code",
   "execution_count": 14,
   "id": "0b77c5f3-7f23-4bb1-80de-5ba6cd196fe1",
   "metadata": {},
   "outputs": [
    {
     "name": "stdout",
     "output_type": "stream",
     "text": [
      "HEADER  Hydrogenase                     23-Mar-99   1CFZ\n",
      "COMPND  Hydrogenase Maturating Endopeptidase Hybd From\n",
      "SOURCE  ORGANISM_SCIENTIFIC: Escherichia coli\n"
     ]
    }
   ],
   "source": [
    "sed -n '1,3p' structure.pdb"
   ]
  },
  {
   "cell_type": "code",
   "execution_count": 15,
   "id": "f572607c-b083-42f9-ae5b-d55da3e7ca07",
   "metadata": {},
   "outputs": [
    {
     "name": "stdout",
     "output_type": "stream",
     "text": [
      "ATOM 7  O   MET A 1 47.875  25.011  52.020  1.00 54.99 O\n",
      "ATOM 8  SD  MET A 1 49.731  23.948  47.163  1.00 77.15 S\n"
     ]
    }
   ],
   "source": [
    "sed -n '/ATOM 7/,$p' structure.pdb"
   ]
  },
  {
   "cell_type": "code",
   "execution_count": 16,
   "id": "7ccfabfe-99ca-4050-9898-1703d8cd7321",
   "metadata": {},
   "outputs": [
    {
     "name": "stdout",
     "output_type": "stream",
     "text": [
      "HELIX  1 hel ILE A   18  GLN A   28\n",
      "HELIX  2 hel PRO A   92  THR A  107\n",
      "HELIX  3 hel ILE A  138  SER A  152\n"
     ]
    }
   ],
   "source": [
    "sed -n '/HELIX/p' structure.pdb"
   ]
  },
  {
   "cell_type": "code",
   "execution_count": 17,
   "id": "cfe79fd2-77d0-4705-8521-cb230d802b7b",
   "metadata": {},
   "outputs": [
    {
     "name": "stdout",
     "output_type": "stream",
     "text": [
      "HEADER  Hydrogenase                     23-Mar-99   1CFZ\n",
      "COMPND  Hydrogenase Maturating Endopeptidase Hybd From\n",
      "SOURCE  ORGANISM_SCIENTIFIC: Escherichia coli\n",
      "AUTHOR  Fritsche, Paschos, Beisel, Boeck & Huber\n"
     ]
    }
   ],
   "source": [
    "sed -n '/HEADER/,/AUTHOR/p' structure.pdb"
   ]
  },
  {
   "cell_type": "code",
   "execution_count": 19,
   "id": "b957259d-ae48-4f87-b6ad-5123b014ae21",
   "metadata": {},
   "outputs": [
    {
     "name": "stdout",
     "output_type": "stream",
     "text": [
      "c--gctacg\n"
     ]
    }
   ],
   "source": [
    "echo 'ctagctacg' | sed -E 's/(t.)/--/'"
   ]
  },
  {
   "cell_type": "code",
   "execution_count": 20,
   "id": "c85f3b45-117c-4e48-9e3a-704f060fb57a",
   "metadata": {},
   "outputs": [
    {
     "name": "stdout",
     "output_type": "stream",
     "text": [
      ">>>   Glycolysis\n",
      ">>>   CO2 fixation\n",
      ">>>   Photosystem I\n",
      ">>>   Soluble electron carriers\n"
     ]
    }
   ],
   "source": [
    "sed -n 's/^   [A-Z].*$/>>>&/p' gene-list.txt"
   ]
  },
  {
   "cell_type": "code",
   "execution_count": 21,
   "id": "27ba1507-a7cb-4080-ad63-2bac697252e3",
   "metadata": {},
   "outputs": [
    {
     "name": "stdout",
     "output_type": "stream",
     "text": [
      "--- Glycolysis ---\n",
      "--- CO2 fixation ---\n",
      "--- Photosystem I ---\n",
      "--- Soluble electron carriers ---\n"
     ]
    }
   ],
   "source": [
    "sed -n 's/^   \\([A-Z].*$\\)/--- \\1 ---/p' gene-list.txt"
   ]
  },
  {
   "cell_type": "code",
   "execution_count": 22,
   "id": "4b4662ee-b057-4540-8102-d56e4793ae70",
   "metadata": {},
   "outputs": [
    {
     "name": "stdout",
     "output_type": "stream",
     "text": [
      "total 346676\n",
      "     rw-rw-r--  1 ubuntu ubuntu   289962 Jan 12 12:13 2024-01-12-121341_1792x1120_scrot.png\n",
      "     rw-rw-r--  1 ubuntu ubuntu     2368 Dec 12 22:14 454out.fasta\n",
      "     rw-rw-r--  1 ubuntu ubuntu     4907 Dec 12 22:13 454out.fq\n",
      "     rw-rw-r--  1 ubuntu ubuntu    23192 Dec 12 22:13 454out.stat\n",
      "     rw-rw-r--  1 ubuntu ubuntu       73 Dec 18 22:33 Amelogenin.fasta\n",
      "     rw-rw-r--  1 ubuntu ubuntu       68 Dec 18 22:33 CSF1PO.fasta\n",
      "DIR: rwxrwxr-x 17 ubuntu ubuntu     4096 Mar 29 18:16 CompBiol3\n",
      "     rw-rw-r--  1 ubuntu ubuntu       70 Dec 18 22:33 D13S317.fasta\n",
      "     rw-rw-r--  1 ubuntu ubuntu       77 Dec 18 22:33 D16S539.fasta\n",
      "     rw-rw-r--  1 ubuntu ubuntu       69 Dec 18 22:33 D18S51.fasta\n",
      "     rw-rw-r--  1 ubuntu ubuntu       70 Dec 18 22:33 D21S11.fasta\n",
      "     rw-rw-r--  1 ubuntu ubuntu       64 Dec 18 22:33 D3S1358.fasta\n",
      "     rw-rw-r--  1 ubuntu ubuntu       71 Dec 18 22:33 D5S818.fasta\n",
      "     rw-rw-r--  1 ubuntu ubuntu       67 Dec 18 22:33 D7S820.fasta\n",
      "     rw-rw-r--  1 ubuntu ubuntu       84 Dec 18 22:33 D8S1179.fasta\n",
      "     rw-rw-r--  1 ubuntu ubuntu       60 Dec 18 22:33 FGA.fasta\n",
      "DIR: rwxrwxr-x  3 ubuntu ubuntu     4096 Jan 10 21:39 Nanopore\n",
      "     rw-rw-r--  1 ubuntu ubuntu      145 Dec 18 22:33 Penta.fasta\n",
      "DIR: rwxrwxr-x  3 ubuntu ubuntu     4096 Feb 26 12:43 R\n",
      "     rw-rw-r--  1 ubuntu ubuntu       61 Dec 18 22:33 TH01.fasta\n",
      "     rw-rw-r--  1 ubuntu ubuntu       56 Dec 18 22:33 TPOX.fasta\n",
      "     rw-rw-r--  1 ubuntu ubuntu       72 Jan  8 15:53 Untitled.ipynb\n",
      "     rw-rw-r--  1 ubuntu ubuntu       31 Dec 18 21:09 art-ill-out.aln\n",
      "     rw-rw-r--  1 ubuntu ubuntu        0 Dec 18 21:09 art-ill-out.fq\n",
      "     rw-rw-r--  1 ubuntu ubuntu        0 Dec 18 21:09 art-ill-out.sam\n",
      "     rw-rw-r--  1 ubuntu ubuntu    20480 Dec 21 10:50 base.ndb\n",
      "     rw-rw-r--  1 ubuntu ubuntu      130 Dec 21 10:50 base.nhr\n",
      "     rw-rw-r--  1 ubuntu ubuntu      112 Dec 21 10:50 base.nin\n",
      "     rw-rw-r--  1 ubuntu ubuntu       20 Dec 21 10:50 base.not\n",
      "     rw-rw-r--  1 ubuntu ubuntu 11690789 Dec 21 10:50 base.nsq\n",
      "     rw-rw-r--  1 ubuntu ubuntu    16384 Dec 21 10:50 base.ntf\n",
      "     rw-rw-r--  1 ubuntu ubuntu        8 Dec 21 10:50 base.nto\n",
      "     rw-r--r--  1 ubuntu ubuntu     3854 Jan  5 18:21 bashrc_old\n",
      "     rw-rw-r--  1 ubuntu ubuntu 45541496 Dec 21 10:40 chr21-ashkenazi.fasta\n",
      "     rw-rw-r--  1 ubuntu ubuntu    20480 Dec 21 10:51 chr21-ashkenazi.ndb\n",
      "     rw-rw-r--  1 ubuntu ubuntu      147 Dec 21 10:51 chr21-ashkenazi.nhr\n",
      "     rw-rw-r--  1 ubuntu ubuntu      128 Dec 21 10:51 chr21-ashkenazi.nin\n",
      "     rw-rw-r--  1 ubuntu ubuntu       20 Dec 21 10:51 chr21-ashkenazi.not\n",
      "     rw-rw-r--  1 ubuntu ubuntu 11224997 Dec 21 10:51 chr21-ashkenazi.nsq\n",
      "     rw-rw-r--  1 ubuntu ubuntu    16384 Dec 21 10:51 chr21-ashkenazi.ntf\n",
      "     rw-rw-r--  1 ubuntu ubuntu        8 Dec 21 10:51 chr21-ashkenazi.nto\n",
      "     rw-rw-r--  1 ubuntu ubuntu     7642 Dec 21 10:58 chr21-ashkenazi.tab\n",
      "     rw-rw-r--  1 ubuntu ubuntu 45187110 Dec 21 10:40 chr21-japanese.fasta\n",
      "     rw-rw-r--  1 ubuntu ubuntu    20480 Dec 21 10:51 chr21-japanese.ndb\n",
      "     rw-rw-r--  1 ubuntu ubuntu      129 Dec 21 10:51 chr21-japanese.nhr\n",
      "     rw-rw-r--  1 ubuntu ubuntu      128 Dec 21 10:51 chr21-japanese.nin\n",
      "     rw-rw-r--  1 ubuntu ubuntu       20 Dec 21 10:51 chr21-japanese.not\n",
      "     rw-rw-r--  1 ubuntu ubuntu 11159537 Dec 21 10:51 chr21-japanese.nsq\n",
      "     rw-rw-r--  1 ubuntu ubuntu    16384 Dec 21 10:51 chr21-japanese.ntf\n",
      "     rw-rw-r--  1 ubuntu ubuntu        8 Dec 21 10:51 chr21-japanese.nto\n",
      "     rw-rw-r--  1 ubuntu ubuntu     6994 Dec 21 10:58 chr21-japanese.tab\n",
      "     rw-rw-r--  1 ubuntu ubuntu 49085931 Dec 21 10:39 chr21-pongo.fasta\n",
      "     rw-rw-r--  1 ubuntu ubuntu    20480 Dec 21 10:51 chr21-pongo.ndb\n",
      "     rw-rw-r--  1 ubuntu ubuntu      131 Dec 21 10:51 chr21-pongo.nhr\n",
      "     rw-rw-r--  1 ubuntu ubuntu      120 Dec 21 10:51 chr21-pongo.nin\n",
      "     rw-rw-r--  1 ubuntu ubuntu       20 Dec 21 10:51 chr21-pongo.not\n",
      "     rw-rw-r--  1 ubuntu ubuntu 12159345 Dec 21 10:51 chr21-pongo.nsq\n",
      "     rw-rw-r--  1 ubuntu ubuntu    16384 Dec 21 10:51 chr21-pongo.ntf\n",
      "     rw-rw-r--  1 ubuntu ubuntu        8 Dec 21 10:51 chr21-pongo.nto\n",
      "     rw-rw-r--  1 ubuntu ubuntu     7178 Dec 21 10:58 chr21-pongo.tab\n",
      "     rw-rw-r--  1 ubuntu ubuntu 47377338 Dec 21 10:41 chr21-ref.fasta\n",
      "     rw-rw-r--  1 ubuntu ubuntu    20480 Dec 21 10:51 chr21-ref.ndb\n",
      "     rw-rw-r--  1 ubuntu ubuntu      130 Dec 21 10:51 chr21-ref.nhr\n",
      "     rw-rw-r--  1 ubuntu ubuntu      120 Dec 21 10:51 chr21-ref.nin\n",
      "     rw-rw-r--  1 ubuntu ubuntu       20 Dec 21 10:51 chr21-ref.not\n",
      "     rw-rw-r--  1 ubuntu ubuntu 11690789 Dec 21 10:51 chr21-ref.nsq\n",
      "     rw-rw-r--  1 ubuntu ubuntu    16384 Dec 21 10:51 chr21-ref.ntf\n",
      "     rw-rw-r--  1 ubuntu ubuntu        8 Dec 21 10:51 chr21-ref.nto\n",
      "     rw-rw-r--  1 ubuntu ubuntu     8009 Dec 21 10:58 chr21-ref.tab\n",
      "     rw-rw-r--  1 ubuntu ubuntu 34794267 Dec 21 10:40 chr21-venter.fasta\n",
      "     rw-rw-r--  1 ubuntu ubuntu    20480 Dec 21 10:51 chr21-venter.ndb\n",
      "     rw-rw-r--  1 ubuntu ubuntu      131 Dec 21 10:51 chr21-venter.nhr\n",
      "     rw-rw-r--  1 ubuntu ubuntu      120 Dec 21 10:51 chr21-venter.nin\n",
      "     rw-rw-r--  1 ubuntu ubuntu       20 Dec 21 10:51 chr21-venter.not\n",
      "     rw-rw-r--  1 ubuntu ubuntu  8582872 Dec 21 10:51 chr21-venter.nsq\n",
      "     rw-rw-r--  1 ubuntu ubuntu    16384 Dec 21 10:51 chr21-venter.ntf\n",
      "     rw-rw-r--  1 ubuntu ubuntu        8 Dec 21 10:51 chr21-venter.nto\n",
      "     rw-rw-r--  1 ubuntu ubuntu     6660 Dec 21 10:58 chr21-venter.tab\n",
      "     rw-rw-r--  1 ubuntu ubuntu 47377338 Dec 20 14:19 chr21.fasta\n",
      "     rw-rw-r--  1 ubuntu ubuntu    20480 Dec 21 10:51 chr21.ndb\n",
      "     rw-rw-r--  1 ubuntu ubuntu      130 Dec 21 10:51 chr21.nhr\n",
      "     rw-rw-r--  1 ubuntu ubuntu      112 Dec 21 10:51 chr21.nin\n",
      "     rw-rw-r--  1 ubuntu ubuntu       20 Dec 21 10:51 chr21.not\n",
      "     rw-rw-r--  1 ubuntu ubuntu 11690789 Dec 21 10:51 chr21.nsq\n",
      "     rw-rw-r--  1 ubuntu ubuntu    16384 Dec 21 10:51 chr21.ntf\n",
      "     rw-rw-r--  1 ubuntu ubuntu        8 Dec 21 10:51 chr21.nto\n",
      "     rw-rw-r--  1 ubuntu ubuntu     8009 Dec 21 10:58 chr21.tab\n",
      "DIR: rwxrwxr-x  4 ubuntu ubuntu     4096 Feb 25 11:48 igv\n",
      "     rw-rw-r--  1 ubuntu ubuntu  6379290 Feb  2  2018 mason2-2.0.9-Linux-x86_64.deb\n",
      "     rw-rw-r--  1 ubuntu ubuntu    99131 Jan  7 17:19 new.tab\n",
      "     rw-rw-r--  1 ubuntu ubuntu       62 Jan  7 15:06 new_d18s51.fasta\n",
      "     rw-rw-r--  1 ubuntu ubuntu    25321 Mar  5 18:29 output-data.csv\n",
      "     rw-rw-r--  1 ubuntu ubuntu        0 Dec 18 22:18 output.txt\n",
      "     rw-rw-r--  1 ubuntu ubuntu     2756 Dec 12 21:53 puc18c.fasta\n",
      "     rw-rw-r--  1 ubuntu ubuntu       23 Dec 12 22:42 puc18c.fasta.fai\n",
      "     rw-rw-r--  1 ubuntu ubuntu     4087 Dec 12 22:50 sanger.fasta\n",
      "     rw-rw-r--  1 ubuntu ubuntu     3261 Dec 12 22:47 sanger.fastq\n",
      "     rw-rw-r--  1 ubuntu ubuntu    27942 Dec 12 22:01 single_dat.fasta\n",
      "     rw-rw-r--  1 ubuntu ubuntu        0 Dec 12 22:04 single_dat.fq\n",
      "DIR: rwx------  4 ubuntu ubuntu     4096 Feb 25 11:31 snap\n",
      "DIR: rwx------  1 ubuntu ubuntu        0 Mar 29 15:57 thinclient_drives\n",
      "     rw-rw-r--  1 ubuntu ubuntu       79 Dec 18 22:33 vWA.fasta\n"
     ]
    }
   ],
   "source": [
    "ls -l ~ | sed 's/^d/DIR: /' | sed 's/^[^Dt]/     /'"
   ]
  },
  {
   "cell_type": "code",
   "execution_count": 34,
   "id": "4102c471-796b-4dff-b076-a06dcb281ce5",
   "metadata": {},
   "outputs": [
    {
     "name": "stdout",
     "output_type": "stream",
     "text": [
      ">seq1\n",
      "AGCTGTACG\n"
     ]
    }
   ],
   "source": [
    "echo -e '>seq1\\nCGTACAGCT' | sed '/>/!y/ACGT/TGCA/'  | sed '/>/! s/.*/echo & | rev/e'"
   ]
  },
  {
   "cell_type": "code",
   "execution_count": 35,
   "id": "a770ba3d-0f80-46a7-b156-22512ba5642f",
   "metadata": {},
   "outputs": [
    {
     "name": "stdout",
     "output_type": "stream",
     "text": [
      "Energy metabolism\n",
      "   Glycolysis\n",
      "Photosynthesis and respiration\n",
      "   CO2 fixation\n",
      "   Photosystem I\n",
      "   Soluble electron carriers\n"
     ]
    }
   ],
   "source": [
    "sed '/     /d' gene-list.txt"
   ]
  },
  {
   "cell_type": "code",
   "execution_count": 45,
   "id": "5ff4ecc3-717b-49cb-b2de-69a6ef2524c8",
   "metadata": {},
   "outputs": [
    {
     "name": "stdout",
     "output_type": "stream",
     "text": [
      "|--- Energy metabolism\n",
      "|   |--- Glycolysis\n",
      "|   |   |--- gap1\n",
      "|--- Photosynthesis and respiration\n",
      "|   |--- CO2 fixation\n",
      "|   |   |--- rbcL\n",
      "|   |   |--- rbcS\n",
      "|   |--- Photosystem I\n",
      "|   |   |--- psaD\n",
      "|   |   |--- psaK\n",
      "|   |   |--- psaE\n",
      "|   |--- Soluble electron carriers\n",
      "|   |   |--- petE\n",
      "|   |   |--- isiB\n",
      "|   |   |--- petJ\n",
      "|   |   |--- petF\n"
     ]
    }
   ],
   "source": [
    "sed -n 's/^\\([A-z]..*\\)/|--- \\1/p \n",
    "s/^   \\([A-Z]..*\\)/|   |--- \\1/p \n",
    "s/^     [A-Za-z]..*(\\(....\\))/|   |   |--- \\1/p' gene-list.txt"
   ]
  },
  {
   "cell_type": "code",
   "execution_count": 48,
   "id": "cdc08a09-6937-4ac6-9ef9-4bc5b07f13a5",
   "metadata": {},
   "outputs": [
    {
     "name": "stdout",
     "output_type": "stream",
     "text": [
      "|--- Energy metabolism\n",
      "|   |--- Glycolysis\n",
      "|   |   |--- gap1\n",
      "|--- Photosynthesis and respiration\n",
      "|   |--- CO2 fixation\n",
      "|   |   |--- rbcL\n",
      "|   |   |--- rbcS\n",
      "|   |--- Photosystem I\n",
      "|   |   |--- psaD\n",
      "|   |   |--- psaK\n",
      "|   |   |--- psaE\n",
      "|   |--- Soluble electron carriers\n",
      "|   |   |--- petE\n",
      "|   |   |--- isiB\n",
      "|   |   |--- petJ\n",
      "|   |   |--- petF\n"
     ]
    }
   ],
   "source": [
    "sed -nf gene-tree.sed gene-list.txt"
   ]
  },
  {
   "cell_type": "code",
   "execution_count": 38,
   "id": "5c348930-c2be-4eb7-a9d8-9ad35bbcc586",
   "metadata": {},
   "outputs": [],
   "source": [
    "chmod u+x tree.sed"
   ]
  },
  {
   "cell_type": "code",
   "execution_count": 49,
   "id": "5526d175-3954-40fc-af7d-705947f0bb5e",
   "metadata": {},
   "outputs": [
    {
     "name": "stdout",
     "output_type": "stream",
     "text": [
      ".\n",
      "|--- .ipynb_checkpoints\n",
      "|     |--- tree-checkpoint.sed\n",
      "|     |--- gene-tree-checkpoint.sed\n",
      "|     |--- sed-checkpoint.ipynb\n",
      "|     |--- test.file-checkpoint.txt\n",
      "|--- test.file.txt\n",
      "|--- edit.sed\n",
      "|--- sed.ipynb\n",
      "|--- gene-list.txt\n",
      "|--- structure.pdb\n",
      "|--- tree.sh\n",
      "|--- gene-tree.sed\n"
     ]
    }
   ],
   "source": [
    "./tree.sh ."
   ]
  },
  {
   "cell_type": "code",
   "execution_count": null,
   "id": "afb44eb5-6466-452e-8e60-2bfa9af1ef62",
   "metadata": {},
   "outputs": [],
   "source": []
  }
 ],
 "metadata": {
  "kernelspec": {
   "display_name": "Bash",
   "language": "bash",
   "name": "bash"
  },
  "language_info": {
   "codemirror_mode": "shell",
   "file_extension": ".sh",
   "mimetype": "text/x-sh",
   "name": "bash"
  }
 },
 "nbformat": 4,
 "nbformat_minor": 5
}
