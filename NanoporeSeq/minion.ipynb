{
 "cells": [
  {
   "cell_type": "markdown",
   "id": "0b8e3ae3-c6d7-443c-98c2-1d8b9871e84a",
   "metadata": {},
   "source": [
    "# Nanopore Sequence Analysis\n",
    "Prerequisite is the installation of some software with APT:\n",
    "\n",
    "- `sudo apt install -y hdfview hdf5-tools ont-fast5-api nanofilt dotter porechop minimap2 samtools igv`\n",
    "- `wget https://cdn.oxfordnanoportal.com/software/analysis/ont_guppy_cpu_6.3.7-1~focal_amd64.deb`\n",
    "- `sudo apt install -f ./ont_guppy_cpu_6.3.7-1~focal_amd64.deb`"
   ]
  },
  {
   "cell_type": "code",
   "execution_count": 1,
   "id": "f671cb83-444f-4863-9840-b6a4c563e8ca",
   "metadata": {},
   "outputs": [
    {
     "name": "stdout",
     "output_type": "stream",
     "text": [
      "/home/ubuntu/CompBiol3/NanoporeSeq\n"
     ]
    }
   ],
   "source": [
    "pwd"
   ]
  },
  {
   "cell_type": "markdown",
   "id": "bac98e1d-5ca2-4b05-b94d-e8f8448acc4d",
   "metadata": {},
   "source": [
    "### Download Data Files"
   ]
  },
  {
   "cell_type": "code",
   "execution_count": 2,
   "id": "ed444e88-8613-4193-9e2e-9c0ed9d929f6",
   "metadata": {},
   "outputs": [
    {
     "name": "stdout",
     "output_type": "stream",
     "text": [
      "--2024-01-10 21:44:34--  https://www.dropbox.com/s/si08bjwdvcmtuls/ALT327_c9ffe0f3_0.fast5\n",
      "Resolving www.dropbox.com (www.dropbox.com)... 162.125.66.18, 2620:100:6027:18::a27d:4812\n",
      "Connecting to www.dropbox.com (www.dropbox.com)|162.125.66.18|:443... connected.\n",
      "HTTP request sent, awaiting response... 302 Found\n",
      "Location: /s/raw/si08bjwdvcmtuls/ALT327_c9ffe0f3_0.fast5 [following]\n",
      "--2024-01-10 21:44:34--  https://www.dropbox.com/s/raw/si08bjwdvcmtuls/ALT327_c9ffe0f3_0.fast5\n",
      "Reusing existing connection to www.dropbox.com:443.\n",
      "HTTP request sent, awaiting response... 302 Found\n",
      "Location: https://uc6fbdbce8cf3b05235b11238aea.dl.dropboxusercontent.com/cd/0/inline/CLEP6wWv5g0XAp1wlv7UbtPs7J-YbOndV4LGywMnAfcVlaNui3VLmsm0fFJFKaS_X2y0Xs7ukHXb4C1w7i8yMVvx1yXTHt2GSvrok9t5IhGWEnTs-PbYJEd0Dc-jDnjXhjg/file# [following]\n",
      "--2024-01-10 21:44:35--  https://uc6fbdbce8cf3b05235b11238aea.dl.dropboxusercontent.com/cd/0/inline/CLEP6wWv5g0XAp1wlv7UbtPs7J-YbOndV4LGywMnAfcVlaNui3VLmsm0fFJFKaS_X2y0Xs7ukHXb4C1w7i8yMVvx1yXTHt2GSvrok9t5IhGWEnTs-PbYJEd0Dc-jDnjXhjg/file\n",
      "Resolving uc6fbdbce8cf3b05235b11238aea.dl.dropboxusercontent.com (uc6fbdbce8cf3b05235b11238aea.dl.dropboxusercontent.com)... 162.125.66.15, 2620:100:6027:15::a27d:480f\n",
      "Connecting to uc6fbdbce8cf3b05235b11238aea.dl.dropboxusercontent.com (uc6fbdbce8cf3b05235b11238aea.dl.dropboxusercontent.com)|162.125.66.15|:443... connected.\n",
      "HTTP request sent, awaiting response... 302 Found\n",
      "Location: /cd/0/inline2/CLHMQ3d_oDwz6otlT0_CrrqZq9zBBm4AbUzuwR4CRttwybsi4yBG_yjmpG_MgpHrQddzbTZn4VJqviR2tKLFBMfnZ5eNdZwWNwGoEDCVEiyPThjJG55t0SbItYVHTp8-ra1ghD9zNxIkYRlO9BT49WcsdZuJkZx1E0JxQz8K_vB2yHOIzwj8S-wrmMPG8WGAzdxsdFuwLZUZSjv6GA8JebjMULWxHyNIA-rkSWW3ax7E17y6noNhvqPheYGO71zjAymE3Ti5dKlQh5Siia1MP3YPe_o9WiZ2nH7RMAHnoyFXkxrPtzaZSjNTwcRoABHB9lC4Mp8OAhKxetxE1uvKWBjcn0XZUYLZU9SNfLtB5jkaEw/file [following]\n",
      "--2024-01-10 21:44:36--  https://uc6fbdbce8cf3b05235b11238aea.dl.dropboxusercontent.com/cd/0/inline2/CLHMQ3d_oDwz6otlT0_CrrqZq9zBBm4AbUzuwR4CRttwybsi4yBG_yjmpG_MgpHrQddzbTZn4VJqviR2tKLFBMfnZ5eNdZwWNwGoEDCVEiyPThjJG55t0SbItYVHTp8-ra1ghD9zNxIkYRlO9BT49WcsdZuJkZx1E0JxQz8K_vB2yHOIzwj8S-wrmMPG8WGAzdxsdFuwLZUZSjv6GA8JebjMULWxHyNIA-rkSWW3ax7E17y6noNhvqPheYGO71zjAymE3Ti5dKlQh5Siia1MP3YPe_o9WiZ2nH7RMAHnoyFXkxrPtzaZSjNTwcRoABHB9lC4Mp8OAhKxetxE1uvKWBjcn0XZUYLZU9SNfLtB5jkaEw/file\n",
      "Reusing existing connection to uc6fbdbce8cf3b05235b11238aea.dl.dropboxusercontent.com:443.\n",
      "HTTP request sent, awaiting response... 200 OK\n",
      "Length: 29015651 (28M) [application/octet-stream]\n",
      "Saving to: ‘ALT327_c9ffe0f3_0.fast5’\n",
      "\n",
      "ALT327_c9ffe0f3_0.f 100%[===================>]  27.67M  19.8MB/s    in 1.4s    \n",
      "\n",
      "2024-01-10 21:44:38 (19.8 MB/s) - ‘ALT327_c9ffe0f3_0.fast5’ saved [29015651/29015651]\n",
      "\n"
     ]
    }
   ],
   "source": [
    "wget https://www.dropbox.com/s/si08bjwdvcmtuls/ALT327_c9ffe0f3_0.fast5"
   ]
  },
  {
   "cell_type": "code",
   "execution_count": 3,
   "id": "10811370-6484-4fea-b96f-9e0c493e993a",
   "metadata": {},
   "outputs": [
    {
     "name": "stdout",
     "output_type": "stream",
     "text": [
      "--2024-01-10 21:44:58--  https://www.dropbox.com/s/88hqohg3271un21/pBR322.fasta\n",
      "Resolving www.dropbox.com (www.dropbox.com)... 162.125.66.18, 2620:100:6027:18::a27d:4812\n",
      "Connecting to www.dropbox.com (www.dropbox.com)|162.125.66.18|:443... connected.\n",
      "HTTP request sent, awaiting response... 302 Found\n",
      "Location: /s/raw/88hqohg3271un21/pBR322.fasta [following]\n",
      "--2024-01-10 21:44:59--  https://www.dropbox.com/s/raw/88hqohg3271un21/pBR322.fasta\n",
      "Reusing existing connection to www.dropbox.com:443.\n",
      "HTTP request sent, awaiting response... 302 Found\n",
      "Location: https://uc59eeadc32b5933b39c6c272b5c.dl.dropboxusercontent.com/cd/0/inline/CLGykFOYu6svixcSZR5NeM0XMT5JrPcXU2vUJrehF-xOYtwhVh2TefY7rq-dVK4YKUaXxtpWO8Qs45zrvW8cuaBZP9N_tjix9gs0BlNDJNW9vDUKANsk3rA4G9End9gD1D0/file# [following]\n",
      "--2024-01-10 21:44:59--  https://uc59eeadc32b5933b39c6c272b5c.dl.dropboxusercontent.com/cd/0/inline/CLGykFOYu6svixcSZR5NeM0XMT5JrPcXU2vUJrehF-xOYtwhVh2TefY7rq-dVK4YKUaXxtpWO8Qs45zrvW8cuaBZP9N_tjix9gs0BlNDJNW9vDUKANsk3rA4G9End9gD1D0/file\n",
      "Resolving uc59eeadc32b5933b39c6c272b5c.dl.dropboxusercontent.com (uc59eeadc32b5933b39c6c272b5c.dl.dropboxusercontent.com)... 162.125.66.15, 2620:100:6027:15::a27d:480f\n",
      "Connecting to uc59eeadc32b5933b39c6c272b5c.dl.dropboxusercontent.com (uc59eeadc32b5933b39c6c272b5c.dl.dropboxusercontent.com)|162.125.66.15|:443... connected.\n",
      "HTTP request sent, awaiting response... 200 OK\n",
      "Length: 4439 (4.3K) [text/plain]\n",
      "Saving to: ‘pBR322.fasta’\n",
      "\n",
      "pBR322.fasta        100%[===================>]   4.33K  --.-KB/s    in 0s      \n",
      "\n",
      "2024-01-10 21:45:00 (326 MB/s) - ‘pBR322.fasta’ saved [4439/4439]\n",
      "\n"
     ]
    }
   ],
   "source": [
    "wget https://www.dropbox.com/s/88hqohg3271un21/pBR322.fasta"
   ]
  },
  {
   "cell_type": "code",
   "execution_count": 4,
   "id": "4fc4aab9-647d-46f8-97d5-62c8185afce1",
   "metadata": {},
   "outputs": [
    {
     "name": "stdout",
     "output_type": "stream",
     "text": [
      "ALT327_c9ffe0f3_0.fast5  Untitled.ipynb  pBR322.fasta\n"
     ]
    }
   ],
   "source": [
    "ls"
   ]
  },
  {
   "cell_type": "markdown",
   "id": "a2571d3a-8130-4681-92b1-9a2f87775cbc",
   "metadata": {},
   "source": [
    "### Move Files to new Folder"
   ]
  },
  {
   "cell_type": "code",
   "execution_count": 5,
   "id": "9aee75c3-f12e-47d2-9aec-bd6694fca6d5",
   "metadata": {},
   "outputs": [],
   "source": [
    "mkdir OriginalFast5"
   ]
  },
  {
   "cell_type": "code",
   "execution_count": 6,
   "id": "6c25a50e-51a1-462a-9e05-af0806a333fa",
   "metadata": {},
   "outputs": [],
   "source": [
    "cp ALT327_c9ffe0f3_0.fast5 OriginalFast5"
   ]
  },
  {
   "cell_type": "markdown",
   "id": "a8bf4391-3ef3-4f87-8857-1a11901581aa",
   "metadata": {},
   "source": [
    "### Betrachten der FAST5-Dateien\n",
    "FAST5-Dateien sind Hierarchical Data Format 5 (HDF5)-Dateien mit einem spezifischen Aufbau, der von Oxford Nanopore Technologies (ONT) für die Speicherung von Sequenzierrohdaten definiert wurde und die von bspw. vom MinION erzeugt werden. Es gibt zwei FAST5-Typen: Single-FAST5 und Multi-FAST5. Eine Multi-FAST5-Datei enthält Daten zu mehreren Reads in einer einzigen Datei, während eine Single-FAST5-Datei Daten eines einzigen Reads enthält. Single-FAST5-Dateien werden kaum verwendet.\r\n",
    "Ein freies Programm zur Betrachtung der Dateien ist HDFView, dass Sie für alle Betriebssysteme bei[https://hdfgroup.or] downloaden können. Wir haben es oben bereits mit APT installiert\n",
    "\n",
    "Sie können die graphische Version mit `hdfview` im Terminal starten.\n",
    "\n",
    "Wir nutzen hier aber Command Line Tools.\n",
    "\n",
    "Dazu steht uns das Programm `h5ls` zur Verfügung , dass den Inhalt einer FAST5-Datein auflistet. Da die Datei des MinION eine Multi-FAST5-Datei ist, begrenzen wir die Ausgabe mit dem Befehl `head -3` auf drei Zeilen.\r\n",
    "."
   ]
  },
  {
   "cell_type": "code",
   "execution_count": 7,
   "id": "b1f8a5ba-4d20-47ac-9e71-711572b8809a",
   "metadata": {},
   "outputs": [
    {
     "name": "stdout",
     "output_type": "stream",
     "text": [
      "read_0048d23d-4b49-476b-b18c-d102e7a3e393 Group\n",
      "read_0077101c-2127-4fd4-96cc-9e9393bbb260 Group\n",
      "read_009ca1ca-5af2-47ec-a267-ee88d9d7ff17 Group\n"
     ]
    }
   ],
   "source": [
    "h5ls OriginalFast5/ALT327_c9ffe0f3_0.fast5 | head -3"
   ]
  },
  {
   "cell_type": "markdown",
   "id": "142c7657-0abc-404b-aa59-ed0417a68c6a",
   "metadata": {},
   "source": [
    "Um zu prüfen, was für einen einzelnen Read gespeichert ist, können Sie diesen Read mit `h5ls` wie ein Verzeichnis, also getrennt mit einem Slash, angeben:\r\n"
   ]
  },
  {
   "cell_type": "code",
   "execution_count": 8,
   "id": "76ec1e65-3430-4c1e-b5a7-79687802bf12",
   "metadata": {},
   "outputs": [
    {
     "name": "stdout",
     "output_type": "stream",
     "text": [
      "Raw                      Group\n",
      "channel_id               Group\n",
      "context_tags             Group\n",
      "tracking_id              Group\n"
     ]
    }
   ],
   "source": [
    "h5ls OriginalFast5/ALT327_c9ffe0f3_0.fast5/read_0048d23d-4b49-476b-b18c-d102e7a3e393"
   ]
  },
  {
   "cell_type": "code",
   "execution_count": 9,
   "id": "d3a83fd8-eaa0-4132-aad3-d7ddf0b86034",
   "metadata": {},
   "outputs": [
    {
     "name": "stdout",
     "output_type": "stream",
     "text": [
      "Signal                   Dataset {6991/Inf}\n"
     ]
    }
   ],
   "source": [
    "h5ls OriginalFast5/ALT327_c9ffe0f3_0.fast5/read_0048d23d-4b49-476b-b18c-d102e7a3e393/Raw/Signal"
   ]
  },
  {
   "cell_type": "markdown",
   "id": "25567396-cfb2-4988-b23b-265f0df98400",
   "metadata": {},
   "source": [
    "Mit der Option `--data` können wir uns einzelne Datensätze anzeigen lassen. In einem \"Unterverzeichnis\" sind die Rohdaten des MinIONs enthalten, also beispielsweise die Spannungsänderungen über einer Pore (Squiggle-Plot):\r\n"
   ]
  },
  {
   "cell_type": "code",
   "execution_count": 10,
   "id": "f2332611-96c1-4b4c-8af9-1ad0929622a2",
   "metadata": {},
   "outputs": [
    {
     "name": "stdout",
     "output_type": "stream",
     "text": [
      "Signal                   Dataset {6991/Inf}\n",
      "    Data:\n",
      "                 Unable to print data.\n"
     ]
    }
   ],
   "source": [
    "h5ls -d OriginalFast5/ALT327_c9ffe0f3_0.fast5/read_0048d23d-4b49-476b-b18c-d102e7a3e393/Raw/Signal | head -3"
   ]
  },
  {
   "cell_type": "markdown",
   "id": "498cc15f-f8d9-49fb-9ce6-762f7b04c377",
   "metadata": {},
   "source": [
    "**Upps**: *\"Unable to print data.\"* Da ist etwas schief gelaufen!?! Oxford Nanopore verwendet zwei unterschiedliche Verfahren, um die Rohdaten in den FAST5-Dateien zu komprimieren: vbz oder gzip. Neuerdings wird eine proprietäre VBZ-Kompression von ONT verwendet, womit wiederum ältere Analyseprogramme manchmal Probleme haben. Mit der Programmsuite `ont-fast5-api` läßt sich die Kompression umwandeln und damit das Problem nicht lesbarer Daten (siehe oben) lösen. Die Installation haben wir bereits oben abgeschlossen.\n",
    "N\r\n",
    "Anschließend erfolgt die Umwandlung der Datenkompression, wobe*i fas*t5 das Verzeichnis mit den FAST5-Dateien bezeichnet und wir mit decompressed das Ausgabeverzeichnis benennen. Dann klappt die Datenextraktion:"
   ]
  },
  {
   "cell_type": "code",
   "execution_count": 11,
   "id": "bcd5bb7d-801d-4375-b183-52ce37347f8c",
   "metadata": {},
   "outputs": [
    {
     "name": "stdout",
     "output_type": "stream",
     "text": [
      "OpenBLAS WARNING - could not determine the L2 cache size on this system, assuming 256k\n",
      "| 1 of 1|####################################################|100% Time: 0:00:13\n"
     ]
    }
   ],
   "source": [
    "compress_fast5 --input_path OriginalFast5 --save_path OriginalFast5Gzip --compression gzip"
   ]
  },
  {
   "cell_type": "code",
   "execution_count": 12,
   "id": "7d3a7903-3bdc-4617-9ef0-338cf7f11c12",
   "metadata": {},
   "outputs": [
    {
     "name": "stdout",
     "output_type": "stream",
     "text": [
      "Signal                   Dataset {6991}\n",
      "    Data:\n",
      "         727, 523, 529, 536, 542, 523, 524, 460, 460, 482, 471, 454, 481, 462,\n"
     ]
    }
   ],
   "source": [
    "h5ls -d OriginalFast5Gzip/ALT327_c9ffe0f3_0.fast5/read_0048d23d-4b49-476b-b18c-d102e7a3e393/Raw/Signal | head -3"
   ]
  },
  {
   "cell_type": "markdown",
   "id": "f0b13ad1-a4d6-4f3e-a1ee-7dd4a9412cc9",
   "metadata": {},
   "source": [
    "**Tipp**: Um die Datenanalyse zu beschleunigen können die tausend Reads in der FAST5-Datei in einzelne FAST5-Dateien aufgetrennt werden. Auch das ist mit der Programmsuite `ont-fast5-api` möglich:"
   ]
  },
  {
   "cell_type": "code",
   "execution_count": 13,
   "id": "50061006-0c61-4834-9dc1-ec1acc757af9",
   "metadata": {},
   "outputs": [
    {
     "name": "stdout",
     "output_type": "stream",
     "text": [
      "OpenBLAS WARNING - could not determine the L2 cache size on this system, assuming 256k\n",
      "| 1 of 1|####################################################|100% Time: 0:00:03\n"
     ]
    }
   ],
   "source": [
    "multi_to_single_fast5 --input OriginalFast5Gzip --save OriginalFast5GzipSingle"
   ]
  },
  {
   "cell_type": "markdown",
   "id": "b99ccf11-5bfd-4159-9c6f-ec0734a9517b",
   "metadata": {},
   "source": [
    "Dabei bezeichnet *OriginalFast5Gzip* das Verzeichnis mit den FAST5-Dateien und *OriginalFast5GzipSingle* das Ausgabeverzeichnis. Anschließend können FAST5-Dateien mit beispielsweise je hundert Reads erstellt werden:\n"
   ]
  },
  {
   "cell_type": "code",
   "execution_count": 14,
   "id": "115debfb-6882-430b-97ad-8f5cb6d896a6",
   "metadata": {},
   "outputs": [
    {
     "name": "stdout",
     "output_type": "stream",
     "text": [
      "OpenBLAS WARNING - could not determine the L2 cache size on this system, assuming 256k\n",
      "| 10 of 10|##################################################|100% Time: 0:00:07\n"
     ]
    }
   ],
   "source": [
    "single_to_multi_fast5 --input OriginalFast5GzipSingle/0 --save OriginalFast5GzipMulti100 --batch_size 100"
   ]
  },
  {
   "cell_type": "markdown",
   "id": "f8b51979-afc1-4fd4-878b-52e02fa11b6f",
   "metadata": {},
   "source": [
    "Dabei bezeichnet die Option `--save` das Ausgabeverzeichnis und die Option `--batch_size` die Anzahl der Reads pro Datei, die jeweils den Namen *batch_0.fast5*, *batch_1.fast5*, *batch_2.fast5* usw. erhalten.\n"
   ]
  },
  {
   "cell_type": "markdown",
   "id": "bd4fa1b3-1d84-4f14-9e28-43290b73334e",
   "metadata": {},
   "source": [
    "### Basecalling mit Guppy\n",
    "Guppy ist ein Programm, das die Basecalling-Algorithmen von Oxford Nanopore Technologies und mehrere bioinformatische Anwendungen für die Nachbearbeitung enthält. Dazu zählen auch das Demultiplexing, Adapter-Trimming und Alignments mit Zielsequenzen, wie dem Plasmid pBR322. Es ist für Windows-, MacOS- und Linux-Betriebssysteme von Oxford Nanopore erhältlich. Die Installation ist weiter oben beschrieben. Neben dem Pfad zu einem Verzeichnis mit unseren FAST5-Dateie(n) (Option `--input_path`) benötigt der Basecaller den Namen eines Ausgabeverzeichnisses (`--save_path`) und die verwendete Flußzellen- (`--flowcell`) und Sequenzierkit- (`--kit`) Kombination, in unserem Fall also der Flongle (FLO-FLG001) und das Rapid-Barcoding Kit (SQK-RBK004). Das Ausgabeverzeichnis wird automatisch erstellt, wenn es nicht bereits existiert.\n",
    "\n",
    "Auf meiner virtuellen Linux-Maschine in VitualBox auf einem MacBook Pro dauert das Basecallen von tausend Sequenzen rund eine Stunde mit einer CPU (3.478.643 ms entsprechen rund 58 min).\n"
   ]
  },
  {
   "cell_type": "code",
   "execution_count": 15,
   "id": "be20f8cc-8f07-4ec5-aa3b-189f47a131e8",
   "metadata": {},
   "outputs": [
    {
     "name": "stdout",
     "output_type": "stream",
     "text": [
      "CRASHPAD MESSAGE: \n",
      "ONT Guppy basecalling software version 6.3.7+532d626, minimap2 version 2.22-r1101\n",
      "config file:        /opt/ont/guppy/data/dna_r9.4.1_450bps_hac.cfg\n",
      "model file:         /opt/ont/guppy/data/template_r9.4.1_450bps_hac.jsn\n",
      "input path:         OriginalFast5\n",
      "save path:          BasecalledAll\n",
      "chunk size:         2000\n",
      "chunks per runner:  256\n",
      "minimum qscore:     9\n",
      "records per file:   4000\n",
      "num basecallers:    1\n",
      "cpu mode:           ON\n",
      "threads per caller: 4\n",
      "\n",
      "Use of this software is permitted solely under the terms of the end user license agreement (EULA).By running, copying or accessing this software, you are demonstrating your acceptance of the EULA.\n",
      "The EULA may be found in /opt/ont/guppy/bin\n",
      "Found 1 input read file to process.\n",
      "Init time: 1574 ms\n",
      "\n",
      "0%   10   20   30   40   50   60   70   80   90   100%\n",
      "|----|----|----|----|----|----|----|----|----|----|\n",
      "***************************************************\n",
      "Caller time: 3478643 ms, Samples called: 26444369, samples/s: 7601.92\n",
      "Finishing up any open output files.\n",
      "Basecalling completed successfully.\n"
     ]
    }
   ],
   "source": [
    "guppy_basecaller --input_path OriginalFast5 --flowcell FLO-FLG001 --kit SQK-RBK004 --save_path BasecalledAll"
   ]
  },
  {
   "cell_type": "markdown",
   "id": "c37ce0ed-9743-43ca-b5b7-2d55f751f361",
   "metadata": {},
   "source": [
    "### Eine erste Analyse mit Dotter\n",
    "n dem Verzeichnis *basecalled/pass* findet sich eine Datei im FASTQ-Format, in der die DNA-Sequenzen der Reads enthalten sind. Eigentlich können wir erst jetzt wirklich von Reads sprechen. Diese Datei wandeln wir jetzt in eine Datei im FASTA-Format um. Dazu nutzen wir die Programmiersprache AWK, mit der einfach Textformatierungen durchgeführt werden können. Hier weisen wir awk an ab Zeile 1 bzw. Zeile 2 jede vierte Zeilen auszugeben. Mit `head -10` begrenzen wir die Ausgabe auf zehn Zeilen. "
   ]
  },
  {
   "cell_type": "code",
   "execution_count": 16,
   "id": "3a5b5bc6-b947-4ffb-b78d-323f76e9966e",
   "metadata": {},
   "outputs": [],
   "source": [
    "awk 'NR%4==1 {print \">\"$1} NR%4==2 {print $0}' BasecalledAll/pass/fastq_runid_c9ffe0f31e537612d2cbf4c0f7e050d9b0d928a0_0_0.fastq | head -10 > rohreads10.fasta"
   ]
  },
  {
   "cell_type": "markdown",
   "id": "d5bc9919-cf83-4aee-8d2b-ccf1889afe2e",
   "metadata": {},
   "source": [
    "`dotter` ist ein grafisches Dotplot-Programm für den detaillierten Vergleich von zwei DNA-Sequenzen. Dabei wird jedes Nukleotid in einer Sequenz mit jedem Nukleotid in der anderen Sequenz verglichen. Die erste Sequenz verläuft entlang der X-Achse und die zweite Sequenz (oder mehr) entlang der Y-Achse. In Bereichen, in denen sich die beiden Sequenzen ähneln, verläuft eine Diagonale durch die Matrix. Wenn Sie eine Sequenz mit sich selbst vergleichen würden, erhielten Sie eine Winkelhalbierende. Der Programmaufruf wird von den FASTA-Dateien der Referenz- und den zu vergleichenden Sequenzen gefolgt.\n",
    "\n",
    "`dotter` starten Sie mit `dotter pBR322.fasta rohreads10.fasta` in der Kommandozeile. Es öffnet sich dann ein graphisches Fenster."
   ]
  },
  {
   "cell_type": "code",
   "execution_count": null,
   "id": "ad4f205f-90b4-4198-a848-bacbcd3b484d",
   "metadata": {},
   "outputs": [],
   "source": []
  }
 ],
 "metadata": {
  "kernelspec": {
   "display_name": "Bash",
   "language": "bash",
   "name": "bash"
  },
  "language_info": {
   "codemirror_mode": "shell",
   "file_extension": ".sh",
   "mimetype": "text/x-sh",
   "name": "bash"
  }
 },
 "nbformat": 4,
 "nbformat_minor": 5
}
