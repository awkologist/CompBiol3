{
 "cells": [
  {
   "cell_type": "markdown",
   "id": "0b8e3ae3-c6d7-443c-98c2-1d8b9871e84a",
   "metadata": {},
   "source": [
    "# Nanopore Sequenz Analyse\n",
    "\n",
    "> Sollten Sie diese Anleitung auf **GitHub** lesen, dann werden Sie merken das einige Code-Zeilen am Ende unvollstänig sind. Dennoch können Sie die Zellen vollständig in das Clipboard kopieren, wenn Sie sie durch Doppelklicken markieren.\n",
    "\n",
    "Vorbereitende Installationen mit APT:\n",
    "\n",
    "- `sudo apt install -y hdfview hdf5-tools ont-fast5-api dotter porechop minimap2 samtools igv`\n",
    "- `wget https://cdn.oxfordnanoportal.com/software/analysis/ont_guppy_cpu_6.3.7-1~focal_amd64.deb`\n",
    "- `sudo apt install -f ./ont_guppy_cpu_6.3.7-1~focal_amd64.deb`\n",
    "\n"
   ]
  },
  {
   "cell_type": "code",
   "execution_count": 1,
   "id": "f671cb83-444f-4863-9840-b6a4c563e8ca",
   "metadata": {},
   "outputs": [
    {
     "name": "stdout",
     "output_type": "stream",
     "text": [
      "/home/ubuntu/CompBiol3/NanoporeSeq\n"
     ]
    }
   ],
   "source": [
    "pwd"
   ]
  },
  {
   "cell_type": "markdown",
   "id": "bac98e1d-5ca2-4b05-b94d-e8f8448acc4d",
   "metadata": {},
   "source": [
    "### Download Data Files"
   ]
  },
  {
   "cell_type": "code",
   "execution_count": 2,
   "id": "ed444e88-8613-4193-9e2e-9c0ed9d929f6",
   "metadata": {},
   "outputs": [
    {
     "name": "stdout",
     "output_type": "stream",
     "text": [
      "--2024-01-10 21:44:34--  https://www.dropbox.com/s/si08bjwdvcmtuls/ALT327_c9ffe0f3_0.fast5\n",
      "Resolving www.dropbox.com (www.dropbox.com)... 162.125.66.18, 2620:100:6027:18::a27d:4812\n",
      "Connecting to www.dropbox.com (www.dropbox.com)|162.125.66.18|:443... connected.\n",
      "HTTP request sent, awaiting response... 302 Found\n",
      "Location: /s/raw/si08bjwdvcmtuls/ALT327_c9ffe0f3_0.fast5 [following]\n",
      "--2024-01-10 21:44:34--  https://www.dropbox.com/s/raw/si08bjwdvcmtuls/ALT327_c9ffe0f3_0.fast5\n",
      "Reusing existing connection to www.dropbox.com:443.\n",
      "HTTP request sent, awaiting response... 302 Found\n",
      "Location: https://uc6fbdbce8cf3b05235b11238aea.dl.dropboxusercontent.com/cd/0/inline/CLEP6wWv5g0XAp1wlv7UbtPs7J-YbOndV4LGywMnAfcVlaNui3VLmsm0fFJFKaS_X2y0Xs7ukHXb4C1w7i8yMVvx1yXTHt2GSvrok9t5IhGWEnTs-PbYJEd0Dc-jDnjXhjg/file# [following]\n",
      "--2024-01-10 21:44:35--  https://uc6fbdbce8cf3b05235b11238aea.dl.dropboxusercontent.com/cd/0/inline/CLEP6wWv5g0XAp1wlv7UbtPs7J-YbOndV4LGywMnAfcVlaNui3VLmsm0fFJFKaS_X2y0Xs7ukHXb4C1w7i8yMVvx1yXTHt2GSvrok9t5IhGWEnTs-PbYJEd0Dc-jDnjXhjg/file\n",
      "Resolving uc6fbdbce8cf3b05235b11238aea.dl.dropboxusercontent.com (uc6fbdbce8cf3b05235b11238aea.dl.dropboxusercontent.com)... 162.125.66.15, 2620:100:6027:15::a27d:480f\n",
      "Connecting to uc6fbdbce8cf3b05235b11238aea.dl.dropboxusercontent.com (uc6fbdbce8cf3b05235b11238aea.dl.dropboxusercontent.com)|162.125.66.15|:443... connected.\n",
      "HTTP request sent, awaiting response... 302 Found\n",
      "Location: /cd/0/inline2/CLHMQ3d_oDwz6otlT0_CrrqZq9zBBm4AbUzuwR4CRttwybsi4yBG_yjmpG_MgpHrQddzbTZn4VJqviR2tKLFBMfnZ5eNdZwWNwGoEDCVEiyPThjJG55t0SbItYVHTp8-ra1ghD9zNxIkYRlO9BT49WcsdZuJkZx1E0JxQz8K_vB2yHOIzwj8S-wrmMPG8WGAzdxsdFuwLZUZSjv6GA8JebjMULWxHyNIA-rkSWW3ax7E17y6noNhvqPheYGO71zjAymE3Ti5dKlQh5Siia1MP3YPe_o9WiZ2nH7RMAHnoyFXkxrPtzaZSjNTwcRoABHB9lC4Mp8OAhKxetxE1uvKWBjcn0XZUYLZU9SNfLtB5jkaEw/file [following]\n",
      "--2024-01-10 21:44:36--  https://uc6fbdbce8cf3b05235b11238aea.dl.dropboxusercontent.com/cd/0/inline2/CLHMQ3d_oDwz6otlT0_CrrqZq9zBBm4AbUzuwR4CRttwybsi4yBG_yjmpG_MgpHrQddzbTZn4VJqviR2tKLFBMfnZ5eNdZwWNwGoEDCVEiyPThjJG55t0SbItYVHTp8-ra1ghD9zNxIkYRlO9BT49WcsdZuJkZx1E0JxQz8K_vB2yHOIzwj8S-wrmMPG8WGAzdxsdFuwLZUZSjv6GA8JebjMULWxHyNIA-rkSWW3ax7E17y6noNhvqPheYGO71zjAymE3Ti5dKlQh5Siia1MP3YPe_o9WiZ2nH7RMAHnoyFXkxrPtzaZSjNTwcRoABHB9lC4Mp8OAhKxetxE1uvKWBjcn0XZUYLZU9SNfLtB5jkaEw/file\n",
      "Reusing existing connection to uc6fbdbce8cf3b05235b11238aea.dl.dropboxusercontent.com:443.\n",
      "HTTP request sent, awaiting response... 200 OK\n",
      "Length: 29015651 (28M) [application/octet-stream]\n",
      "Saving to: ‘ALT327_c9ffe0f3_0.fast5’\n",
      "\n",
      "ALT327_c9ffe0f3_0.f 100%[===================>]  27.67M  19.8MB/s    in 1.4s    \n",
      "\n",
      "2024-01-10 21:44:38 (19.8 MB/s) - ‘ALT327_c9ffe0f3_0.fast5’ saved [29015651/29015651]\n",
      "\n"
     ]
    }
   ],
   "source": [
    "wget https://www.dropbox.com/s/si08bjwdvcmtuls/ALT327_c9ffe0f3_0.fast5"
   ]
  },
  {
   "cell_type": "code",
   "execution_count": 3,
   "id": "10811370-6484-4fea-b96f-9e0c493e993a",
   "metadata": {},
   "outputs": [
    {
     "name": "stdout",
     "output_type": "stream",
     "text": [
      "--2024-01-10 21:44:58--  https://www.dropbox.com/s/88hqohg3271un21/pBR322.fasta\n",
      "Resolving www.dropbox.com (www.dropbox.com)... 162.125.66.18, 2620:100:6027:18::a27d:4812\n",
      "Connecting to www.dropbox.com (www.dropbox.com)|162.125.66.18|:443... connected.\n",
      "HTTP request sent, awaiting response... 302 Found\n",
      "Location: /s/raw/88hqohg3271un21/pBR322.fasta [following]\n",
      "--2024-01-10 21:44:59--  https://www.dropbox.com/s/raw/88hqohg3271un21/pBR322.fasta\n",
      "Reusing existing connection to www.dropbox.com:443.\n",
      "HTTP request sent, awaiting response... 302 Found\n",
      "Location: https://uc59eeadc32b5933b39c6c272b5c.dl.dropboxusercontent.com/cd/0/inline/CLGykFOYu6svixcSZR5NeM0XMT5JrPcXU2vUJrehF-xOYtwhVh2TefY7rq-dVK4YKUaXxtpWO8Qs45zrvW8cuaBZP9N_tjix9gs0BlNDJNW9vDUKANsk3rA4G9End9gD1D0/file# [following]\n",
      "--2024-01-10 21:44:59--  https://uc59eeadc32b5933b39c6c272b5c.dl.dropboxusercontent.com/cd/0/inline/CLGykFOYu6svixcSZR5NeM0XMT5JrPcXU2vUJrehF-xOYtwhVh2TefY7rq-dVK4YKUaXxtpWO8Qs45zrvW8cuaBZP9N_tjix9gs0BlNDJNW9vDUKANsk3rA4G9End9gD1D0/file\n",
      "Resolving uc59eeadc32b5933b39c6c272b5c.dl.dropboxusercontent.com (uc59eeadc32b5933b39c6c272b5c.dl.dropboxusercontent.com)... 162.125.66.15, 2620:100:6027:15::a27d:480f\n",
      "Connecting to uc59eeadc32b5933b39c6c272b5c.dl.dropboxusercontent.com (uc59eeadc32b5933b39c6c272b5c.dl.dropboxusercontent.com)|162.125.66.15|:443... connected.\n",
      "HTTP request sent, awaiting response... 200 OK\n",
      "Length: 4439 (4.3K) [text/plain]\n",
      "Saving to: ‘pBR322.fasta’\n",
      "\n",
      "pBR322.fasta        100%[===================>]   4.33K  --.-KB/s    in 0s      \n",
      "\n",
      "2024-01-10 21:45:00 (326 MB/s) - ‘pBR322.fasta’ saved [4439/4439]\n",
      "\n"
     ]
    }
   ],
   "source": [
    "wget https://www.dropbox.com/s/88hqohg3271un21/pBR322.fasta"
   ]
  },
  {
   "cell_type": "code",
   "execution_count": 4,
   "id": "4fc4aab9-647d-46f8-97d5-62c8185afce1",
   "metadata": {},
   "outputs": [
    {
     "name": "stdout",
     "output_type": "stream",
     "text": [
      "ALT327_c9ffe0f3_0.fast5  Untitled.ipynb  pBR322.fasta\n"
     ]
    }
   ],
   "source": [
    "ls"
   ]
  },
  {
   "cell_type": "markdown",
   "id": "a2571d3a-8130-4681-92b1-9a2f87775cbc",
   "metadata": {},
   "source": [
    "### Move Files to new Folder"
   ]
  },
  {
   "cell_type": "code",
   "execution_count": 5,
   "id": "9aee75c3-f12e-47d2-9aec-bd6694fca6d5",
   "metadata": {},
   "outputs": [],
   "source": [
    "mkdir OriginalFast5"
   ]
  },
  {
   "cell_type": "code",
   "execution_count": 6,
   "id": "6c25a50e-51a1-462a-9e05-af0806a333fa",
   "metadata": {},
   "outputs": [],
   "source": [
    "cp ALT327_c9ffe0f3_0.fast5 OriginalFast5"
   ]
  },
  {
   "cell_type": "markdown",
   "id": "a8bf4391-3ef3-4f87-8857-1a11901581aa",
   "metadata": {},
   "source": [
    "### Betrachten der FAST5-Dateien\n",
    "FAST5-Dateien sind Hierarchical Data Format 5 (HDF5)-Dateien mit einem spezifischen Aufbau, der von Oxford Nanopore Technologies (ONT) für die Speicherung von Sequenzierrohdaten definiert wurde und die von bspw. vom MinION erzeugt werden. Es gibt zwei FAST5-Typen: Single-FAST5 und Multi-FAST5. Eine Multi-FAST5-Datei enthält Daten zu mehreren Reads in einer einzigen Datei, während eine Single-FAST5-Datei Daten eines einzigen Reads enthält. Single-FAST5-Dateien werden kaum verwendet.\n",
    "Ein freies Programm zur Betrachtung der Dateien ist HDFView, dass Sie für alle Betriebssysteme bei[https://hdfgroup.or] downloaden können. Wir haben es oben bereits mit APT installiert\n",
    "\n",
    "Sie können die graphische Version mit `hdfview` im Terminal starten.\n",
    "\n",
    "Wir nutzen hier aber Command Line Tools.\n",
    "\n",
    "Dazu steht uns das Programm `h5ls` zur Verfügung , dass den Inhalt einer FAST5-Datein auflistet. Da die Datei des MinION eine Multi-FAST5-Datei ist, begrenzen wir die Ausgabe mit dem Befehl `head -3` auf drei Zeilen.\n",
    "."
   ]
  },
  {
   "cell_type": "code",
   "execution_count": 7,
   "id": "b1f8a5ba-4d20-47ac-9e71-711572b8809a",
   "metadata": {},
   "outputs": [
    {
     "name": "stdout",
     "output_type": "stream",
     "text": [
      "read_0048d23d-4b49-476b-b18c-d102e7a3e393 Group\n",
      "read_0077101c-2127-4fd4-96cc-9e9393bbb260 Group\n",
      "read_009ca1ca-5af2-47ec-a267-ee88d9d7ff17 Group\n"
     ]
    }
   ],
   "source": [
    "h5ls OriginalFast5/ALT327_c9ffe0f3_0.fast5 | head -3"
   ]
  },
  {
   "cell_type": "markdown",
   "id": "142c7657-0abc-404b-aa59-ed0417a68c6a",
   "metadata": {},
   "source": [
    "Um zu prüfen, was für einen einzelnen Read gespeichert ist, können Sie diesen Read mit `h5ls` wie ein Verzeichnis, also getrennt mit einem Slash, angeben:\n"
   ]
  },
  {
   "cell_type": "code",
   "execution_count": 8,
   "id": "76ec1e65-3430-4c1e-b5a7-79687802bf12",
   "metadata": {},
   "outputs": [
    {
     "name": "stdout",
     "output_type": "stream",
     "text": [
      "Raw                      Group\n",
      "channel_id               Group\n",
      "context_tags             Group\n",
      "tracking_id              Group\n"
     ]
    }
   ],
   "source": [
    "h5ls OriginalFast5/ALT327_c9ffe0f3_0.fast5/read_0048d23d-4b49-476b-b18c-d102e7a3e393"
   ]
  },
  {
   "cell_type": "code",
   "execution_count": 9,
   "id": "d3a83fd8-eaa0-4132-aad3-d7ddf0b86034",
   "metadata": {},
   "outputs": [
    {
     "name": "stdout",
     "output_type": "stream",
     "text": [
      "Signal                   Dataset {6991/Inf}\n"
     ]
    }
   ],
   "source": [
    "h5ls OriginalFast5/ALT327_c9ffe0f3_0.fast5/read_0048d23d-4b49-476b-b18c-d102e7a3e393/Raw/Signal"
   ]
  },
  {
   "cell_type": "markdown",
   "id": "25567396-cfb2-4988-b23b-265f0df98400",
   "metadata": {},
   "source": [
    "Mit der Option `--data` können wir uns einzelne Datensätze anzeigen lassen. In einem \"Unterverzeichnis\" sind die Rohdaten des MinIONs enthalten, also beispielsweise die Spannungsänderungen über einer Pore (Squiggle-Plot):\n"
   ]
  },
  {
   "cell_type": "code",
   "execution_count": 10,
   "id": "f2332611-96c1-4b4c-8af9-1ad0929622a2",
   "metadata": {},
   "outputs": [
    {
     "name": "stdout",
     "output_type": "stream",
     "text": [
      "Signal                   Dataset {6991/Inf}\n",
      "    Data:\n",
      "                 Unable to print data.\n"
     ]
    }
   ],
   "source": [
    "h5ls -d OriginalFast5/ALT327_c9ffe0f3_0.fast5/read_0048d23d-4b49-476b-b18c-d102e7a3e393/Raw/Signal | head -3"
   ]
  },
  {
   "cell_type": "markdown",
   "id": "498cc15f-f8d9-49fb-9ce6-762f7b04c377",
   "metadata": {},
   "source": [
    "**Upps**: *\"Unable to print data.\"* Da ist etwas schief gelaufen!?! Oxford Nanopore verwendet zwei unterschiedliche Verfahren, um die Rohdaten in den FAST5-Dateien zu komprimieren: vbz oder gzip. Neuerdings wird eine proprietäre VBZ-Kompression von ONT verwendet, womit wiederum ältere Analyseprogramme manchmal Probleme haben. Mit der Programmsuite `ont-fast5-api` läßt sich die Kompression umwandeln und damit das Problem nicht lesbarer Daten (siehe oben) lösen. Die Installation haben wir bereits oben abgeschlossen.\n",
    "N\n",
    "Anschließend erfolgt die Umwandlung der Datenkompression, wobe*i fas*t5 das Verzeichnis mit den FAST5-Dateien bezeichnet und wir mit decompressed das Ausgabeverzeichnis benennen. Dann klappt die Datenextraktion:"
   ]
  },
  {
   "cell_type": "code",
   "execution_count": 11,
   "id": "bcd5bb7d-801d-4375-b183-52ce37347f8c",
   "metadata": {},
   "outputs": [
    {
     "name": "stdout",
     "output_type": "stream",
     "text": [
      "OpenBLAS WARNING - could not determine the L2 cache size on this system, assuming 256k\n",
      "| 1 of 1|####################################################|100% Time: 0:00:13\n"
     ]
    }
   ],
   "source": [
    "compress_fast5 --input_path OriginalFast5 --save_path OriginalFast5Gzip --compression gzip"
   ]
  },
  {
   "cell_type": "code",
   "execution_count": 12,
   "id": "7d3a7903-3bdc-4617-9ef0-338cf7f11c12",
   "metadata": {},
   "outputs": [
    {
     "name": "stdout",
     "output_type": "stream",
     "text": [
      "Signal                   Dataset {6991}\n",
      "    Data:\n",
      "         727, 523, 529, 536, 542, 523, 524, 460, 460, 482, 471, 454, 481, 462,\n"
     ]
    }
   ],
   "source": [
    "h5ls -d OriginalFast5Gzip/ALT327_c9ffe0f3_0.fast5/read_0048d23d-4b49-476b-b18c-d102e7a3e393/Raw/Signal | head -3"
   ]
  },
  {
   "cell_type": "markdown",
   "id": "f0b13ad1-a4d6-4f3e-a1ee-7dd4a9412cc9",
   "metadata": {},
   "source": [
    "**Tipp**: Um die Datenanalyse zu beschleunigen können die tausend Reads in der FAST5-Datei in einzelne FAST5-Dateien aufgetrennt werden. Auch das ist mit der Programmsuite `ont-fast5-api` möglich:"
   ]
  },
  {
   "cell_type": "code",
   "execution_count": 13,
   "id": "50061006-0c61-4834-9dc1-ec1acc757af9",
   "metadata": {},
   "outputs": [
    {
     "name": "stdout",
     "output_type": "stream",
     "text": [
      "OpenBLAS WARNING - could not determine the L2 cache size on this system, assuming 256k\n",
      "| 1 of 1|####################################################|100% Time: 0:00:03\n"
     ]
    }
   ],
   "source": [
    "multi_to_single_fast5 --input OriginalFast5Gzip --save OriginalFast5GzipSingle"
   ]
  },
  {
   "cell_type": "markdown",
   "id": "b99ccf11-5bfd-4159-9c6f-ec0734a9517b",
   "metadata": {},
   "source": [
    "Dabei bezeichnet *OriginalFast5Gzip* das Verzeichnis mit den FAST5-Dateien und *OriginalFast5GzipSingle* das Ausgabeverzeichnis. Anschließend können FAST5-Dateien mit beispielsweise je hundert Reads erstellt werden:\n"
   ]
  },
  {
   "cell_type": "code",
   "execution_count": 14,
   "id": "115debfb-6882-430b-97ad-8f5cb6d896a6",
   "metadata": {},
   "outputs": [
    {
     "name": "stdout",
     "output_type": "stream",
     "text": [
      "OpenBLAS WARNING - could not determine the L2 cache size on this system, assuming 256k\n",
      "| 10 of 10|##################################################|100% Time: 0:00:07\n"
     ]
    }
   ],
   "source": [
    "single_to_multi_fast5 --input OriginalFast5GzipSingle/0 --save OriginalFast5GzipMulti100 --batch_size 100"
   ]
  },
  {
   "cell_type": "markdown",
   "id": "f8b51979-afc1-4fd4-878b-52e02fa11b6f",
   "metadata": {},
   "source": [
    "Dabei bezeichnet die Option `--save` das Ausgabeverzeichnis und die Option `--batch_size` die Anzahl der Reads pro Datei, die jeweils den Namen *batch_0.fast5*, *batch_1.fast5*, *batch_2.fast5* usw. erhalten.\n"
   ]
  },
  {
   "cell_type": "markdown",
   "id": "bd4fa1b3-1d84-4f14-9e28-43290b73334e",
   "metadata": {},
   "source": [
    "### Basecalling mit Guppy\n",
    "Guppy ist ein Programm, das die Basecalling-Algorithmen von Oxford Nanopore Technologies und mehrere bioinformatische Anwendungen für die Nachbearbeitung enthält. Dazu zählen auch das Demultiplexing, Adapter-Trimming und Alignments mit Zielsequenzen, wie dem Plasmid pBR322. Es ist für Windows-, MacOS- und Linux-Betriebssysteme von Oxford Nanopore erhältlich. Die Installation ist weiter oben beschrieben. Neben dem Pfad zu einem Verzeichnis mit unseren FAST5-Dateie(n) (Option `--input_path`) benötigt der Basecaller den Namen eines Ausgabeverzeichnisses (`--save_path`) und die verwendete Flußzellen- (`--flowcell`) und Sequenzierkit- (`--kit`) Kombination, in unserem Fall also der Flongle (FLO-FLG001) und das Rapid-Barcoding Kit (SQK-RBK004). Das Ausgabeverzeichnis wird automatisch erstellt, wenn es nicht bereits existiert.\n",
    "\n",
    "Auf meiner virtuellen Linux-Maschine in VitualBox auf einem MacBook Pro dauert das Basecallen von tausend Sequenzen rund eine Stunde mit einer CPU (3.478.643 ms entsprechen rund 58 min).\n"
   ]
  },
  {
   "cell_type": "code",
   "execution_count": 15,
   "id": "be20f8cc-8f07-4ec5-aa3b-189f47a131e8",
   "metadata": {},
   "outputs": [
    {
     "name": "stdout",
     "output_type": "stream",
     "text": [
      "CRASHPAD MESSAGE: \n",
      "ONT Guppy basecalling software version 6.3.7+532d626, minimap2 version 2.22-r1101\n",
      "config file:        /opt/ont/guppy/data/dna_r9.4.1_450bps_hac.cfg\n",
      "model file:         /opt/ont/guppy/data/template_r9.4.1_450bps_hac.jsn\n",
      "input path:         OriginalFast5\n",
      "save path:          BasecalledAll\n",
      "chunk size:         2000\n",
      "chunks per runner:  256\n",
      "minimum qscore:     9\n",
      "records per file:   4000\n",
      "num basecallers:    1\n",
      "cpu mode:           ON\n",
      "threads per caller: 4\n",
      "\n",
      "Use of this software is permitted solely under the terms of the end user license agreement (EULA).By running, copying or accessing this software, you are demonstrating your acceptance of the EULA.\n",
      "The EULA may be found in /opt/ont/guppy/bin\n",
      "Found 1 input read file to process.\n",
      "Init time: 1574 ms\n",
      "\n",
      "0%   10   20   30   40   50   60   70   80   90   100%\n",
      "|----|----|----|----|----|----|----|----|----|----|\n",
      "***************************************************\n",
      "Caller time: 3478643 ms, Samples called: 26444369, samples/s: 7601.92\n",
      "Finishing up any open output files.\n",
      "Basecalling completed successfully.\n"
     ]
    }
   ],
   "source": [
    "guppy_basecaller --input_path OriginalFast5 --flowcell FLO-FLG001 --kit SQK-RBK004 --save_path BasecalledAll"
   ]
  },
  {
   "cell_type": "markdown",
   "id": "c37ce0ed-9743-43ca-b5b7-2d55f751f361",
   "metadata": {},
   "source": [
    "### Eine erste Analyse mit Dotter\n",
    "n dem Verzeichnis *basecalled/pass* findet sich eine Datei im FASTQ-Format, in der die DNA-Sequenzen der Reads enthalten sind. Eigentlich können wir erst jetzt wirklich von Reads sprechen. Diese Datei wandeln wir jetzt in eine Datei im FASTA-Format um. Dazu nutzen wir die Programmiersprache AWK, mit der einfach Textformatierungen durchgeführt werden können. Hier weisen wir awk an ab Zeile 1 bzw. Zeile 2 jede vierte Zeilen auszugeben. Mit `head -10` begrenzen wir die Ausgabe auf zehn Zeilen. "
   ]
  },
  {
   "cell_type": "code",
   "execution_count": 18,
   "id": "3a5b5bc6-b947-4ffb-b78d-323f76e9966e",
   "metadata": {},
   "outputs": [],
   "source": [
    "awk 'NR%4==1 {print \">\"$1} NR%4==2 {print $0}' BasecalledAll/pass/fastq_runid_c9ffe0f31e537612d2cbf4c0f7e050d9b0d928a0_0_0.fastq | head -10 > rohreads10.fasta"
   ]
  },
  {
   "cell_type": "markdown",
   "id": "d5bc9919-cf83-4aee-8d2b-ccf1889afe2e",
   "metadata": {},
   "source": [
    "Dotter ist ein grafisches Dotplot-Programm für den detaillierten Vergleich von zwei DNA-Sequenzen. Dabei wird jedes Nukleotid in einer Sequenz mit jedem Nukleotid in der anderen Sequenz verglichen. Die erste Sequenz verläuft entlang der X-Achse und die zweite Sequenz (oder mehr) entlang der Y-Achse. In Bereichen, in denen sich die beiden Sequenzen ähneln, verläuft eine Diagonale durch die Matrix. Wenn Sie eine Sequenz mit sich selbst vergleichen würden, erhielten Sie eine Winkelhalbierende. Der Programmaufruf wird von den FASTA-Dateien der Referenz- und den zu vergleichenden Sequenzen gefolgt.\n",
    "\n",
    "Dotter starten Sie mit `dotter pBR322.fasta rohreads10.fasta` in der Kommandozeile. Der Terminal ist jetzt nicht mehr eingabebereit – das Eingabeprompt ($) erscheint erst wieder nach dem Schließen von Dotter. Wir erhalten in einem graphischen Fenster einen Dotplot, der uns einen ersten Eindruck zu unserem Ergebnis liefert.\n",
    "\n",
    "![dotter](dotter.png))\n",
    "\n",
    "Auf der X-Achse ist die Sequenz des Plasmids, auf den Y-Achsen jeweils durch grüne Linien getrennt die Sequenz der Reads aufgetragen. Stimmen Nukleotide auf der X- und Y-Achse überein, dann wird ein Punkt gezeichnet; daher der Name Dotplot. \n",
    "."
   ]
  },
  {
   "cell_type": "markdown",
   "id": "1eb337e1-dcaa-4e6e-927d-fa6ef4613085",
   "metadata": {},
   "source": [
    "### Demultiplexen mit PoreChop\n",
    "Wenn verschiedene Experimente durchgeführt, jeweils durch Barcodes voneinander getrennt und auf einer Flowcell sequenziert wurden, landen alle Reads in einer FAST5- bzw. FASTQ-Datei. Diese können anschließend mit dem Programm` porecho`p wieder voneinander getrennt werde:es:"
   ]
  },
  {
   "cell_type": "code",
   "execution_count": 1,
   "id": "8e4c2470-23ca-4f49-bb1e-f73c1356d1ea",
   "metadata": {},
   "outputs": [
    {
     "name": "stdout",
     "output_type": "stream",
     "text": [
      "\n",
      "\u001b[1m\u001b[4mLoading reads\u001b[0m\n",
      "BasecalledAll/pass/fastq_runid_c9ffe0f31e537612d2cbf4c0f7e050d9b0d928a0_0_0.fastq\n",
      "666 reads loaded\n",
      "\n",
      "\n",
      "\u001b[1m\u001b[4mLooking for known adapter sets\u001b[0m\n",
      "666 / 666 (100.0%)\n",
      "\n",
      "Barcodes determined to be in forward orientation\n",
      "                                        Best               \u001b[0m\n",
      "                                        read       Best    \u001b[0m\n",
      "                                        start      read end\u001b[0m\n",
      "  \u001b[4mSet                                   %ID        %ID     \u001b[0m\n",
      "  SQK-NSK007                                79.3       75.0\n",
      "  \u001b[32mRapid                                    100.0        0.0\u001b[0m\n",
      "  RBK004_upstream                           86.8        0.0\n",
      "  SQK-MAP006                                71.0       72.0\n",
      "  SQK-MAP006 short                          80.0       72.0\n",
      "  PCR adapters 1                            73.9       77.3\n",
      "  PCR adapters 2                            75.0       72.0\n",
      "  PCR adapters 3                            75.0       73.9\n",
      "  1D^2 part 1                               69.7       69.0\n",
      "  1D^2 part 2                               77.1       70.0\n",
      "  cDNA SSP                                  68.1       67.5\n",
      "  Barcode 1 (reverse)                       66.7       76.0\n",
      "  \u001b[32mBarcode 2 (reverse)                       72.0      100.0\u001b[0m\n",
      "  \u001b[32mBarcode 3 (reverse)                       71.4      100.0\u001b[0m\n",
      "  Barcode 4 (reverse)                       73.1       75.0\n",
      "  ...\n",
      "  Barcode 12 (reverse)                      73.1       71.4\n",
      "  \u001b[32mBarcode 1 (forward)                      100.0       68.0\u001b[0m\n",
      "  \u001b[32mBarcode 2 (forward)                      100.0       72.0\u001b[0m\n",
      "  \u001b[32mBarcode 3 (forward)                      100.0       70.8\u001b[0m\n",
      "  Barcode 4 (forward)                       79.2       79.2\n",
      "  ...\n",
      "  Barcode 96 (forward)                      71.0       73.1\n",
      "\n",
      "\n",
      "\u001b[1m\u001b[4mTrimming adapters from read ends\u001b[0m\n",
      "  Rapid_adapter: \u001b[31mGTTTTCGCATTTATCGTGAAACGCTTTCGCGTTTTTCGTGCGCCGCTTCA\u001b[0m\n",
      "       BC02_rev: \u001b[31mACAGACGACTACAAACGGAATCGA\u001b[0m\n",
      "           BC02: \u001b[31mTCGATTCCGTTTGTAGTCGTCTGT\u001b[0m\n",
      "       BC03_rev: \u001b[31mCCTGGTAACTGGGACACAAGACTC\u001b[0m\n",
      "           BC03: \u001b[31mGAGTCTTGTGTCCCAGTTACCAGG\u001b[0m\n",
      "           BC01: \u001b[31mAAGAAAGTTGTCGGTGTCTTTGTG\u001b[0m\n",
      "       BC01_rev: \u001b[31mCACAAAGACACCGACAACTTTCTT\u001b[0m\n",
      "           BC02: \u001b[31mTCGATTCCGTTTGTAGTCGTCTGT\u001b[0m\n",
      "       BC02_rev: \u001b[31mACAGACGACTACAAACGGAATCGA\u001b[0m\n",
      "           BC03: \u001b[31mGAGTCTTGTGTCCCAGTTACCAGG\u001b[0m\n",
      "       BC03_rev: \u001b[31mCCTGGTAACTGGGACACAAGACTC\u001b[0m\n",
      "\n",
      "666 / 666 (100.0%)\n",
      "\n",
      "649 / 666 reads had adapters trimmed from their start (70,286 bp removed)\n",
      " 82 / 666 reads had adapters trimmed from their end (850 bp removed)\n",
      "\n",
      "\n",
      "\u001b[1m\u001b[4mDiscarding reads containing middle adapters\u001b[0m\n",
      "666 / 666 (100.0%)\n",
      "\n",
      "11 / 666 reads were discarded based on middle adapters\n",
      "\n",
      "\n",
      "\u001b[1m\u001b[4mSaving trimmed reads to barcode-specific files\u001b[0m\n",
      "\n",
      "  \u001b[4mBarcode  Reads  Bases      File                  \u001b[0m\n",
      "  BC01        69    105,656  BarCodesAll/BC01.fastq\n",
      "  BC02        69     53,908  BarCodesAll/BC02.fastq\n",
      "  BC03       438  1,645,802  BarCodesAll/BC03.fastq\n",
      "  none        79    271,266  BarCodesAll/none.fastq\n",
      "\n"
     ]
    }
   ],
   "source": [
    "porechop --input BasecalledAll/pass/fastq_runid_c9ffe0f31e537612d2cbf4c0f7e050d9b0d928a0_0_0.fastq --barcode_dir BarCodesAll"
   ]
  },
  {
   "cell_type": "markdown",
   "id": "3ed1b955-496a-439a-88e0-1f8f16ab2761",
   "metadata": {},
   "source": [
    "Die Option `--barcode_dir` bezeichnet das Verzeichnis, in welchem die gefundenen Barcodes gespeichert werden. Die gesamte Ausgabe ist recht lang. Entscheidend sind die letzten Zeilen die zeigen, wieviel Reads jeweils Barcodes zugeordnet werden konnten."
   ]
  },
  {
   "cell_type": "markdown",
   "id": "a99f4272-d9f5-4257-981c-3b2336e003b7",
   "metadata": {},
   "source": [
    "### Qualitätskontrolle und Filtern der Reads\n",
    "Die Qualität der vom MinION erzeugten Reads wird variieren. Wenn die Qualität zu schlecht ist, kann eine Übereinstimmung mit der Plasmidsequenz später nicht detektiert werden. Die Qualität wird mit dem sogenannten PHRED-Quality-Score (oder einfach Quality-Score) angegeben. Er steht in einem logarithmischen Verhältnis zu den Fehlerwahrscheinlichkeiten der Basenaufrufe beim Base-Calling. Ein Quality-Score von 10 besagt, dass 90% der Basen korrekt sind; bei einem Wert von 20 sind es 99%.\n",
    "Zusätzlich zur Qualität filtern wir auch nach der Readlänge. Bei der Erstellung der Sequenzierbibliothek können sich DNA-Moleküle aneinanderlagern: Es entstehen sogenannte Konkatemere.\n",
    " \n",
    "Zunächst downloaden wir das Programm qFilter und machen es ausführbar:"
   ]
  },
  {
   "cell_type": "code",
   "execution_count": 2,
   "id": "8e57625c-5ad8-4a11-acbd-9ab570ae81c4",
   "metadata": {},
   "outputs": [
    {
     "name": "stdout",
     "output_type": "stream",
     "text": [
      "--2024-01-12 13:14:29--  https://github.com/awkologist/qfilter/raw/main/qfilter\n",
      "Resolving github.com (github.com)... 140.82.121.4\n",
      "Connecting to github.com (github.com)|140.82.121.4|:443... connected.\n",
      "HTTP request sent, awaiting response... 302 Found\n",
      "Location: https://raw.githubusercontent.com/awkologist/qfilter/main/qfilter [following]\n",
      "--2024-01-12 13:14:29--  https://raw.githubusercontent.com/awkologist/qfilter/main/qfilter\n",
      "Resolving raw.githubusercontent.com (raw.githubusercontent.com)... 185.199.109.133, 185.199.110.133, 185.199.108.133, ...\n",
      "Connecting to raw.githubusercontent.com (raw.githubusercontent.com)|185.199.109.133|:443... connected.\n",
      "HTTP request sent, awaiting response... 200 OK\n",
      "Length: 5807 (5.7K) [text/plain]\n",
      "Saving to: ‘qfilter’\n",
      "\n",
      "qfilter             100%[===================>]   5.67K  --.-KB/s    in 0.002s  \n",
      "\n",
      "2024-01-12 13:14:29 (2.25 MB/s) - ‘qfilter’ saved [5807/5807]\n",
      "\n"
     ]
    }
   ],
   "source": [
    "wget \"https://github.com/awkologist/qfilter/raw/main/qfilter\""
   ]
  },
  {
   "cell_type": "code",
   "execution_count": 3,
   "id": "805cf150-831f-40ad-b4e7-67987f67ae9d",
   "metadata": {},
   "outputs": [],
   "source": [
    "chmod u+x qfilter"
   ]
  },
  {
   "cell_type": "markdown",
   "id": "38c37c25-4da1-4a36-a167-c2743ce4f897",
   "metadata": {},
   "source": [
    "Anschließend filtern wir die Reads. Hierbei nutzen wir eine For-Schleife, mit der alle drei Dateien *BC01.fastq*, *BC02.fastq* und *BC03.fastq* nacheinander abgearbeitet werden. Die For-Schleife hat das Format: `for` Variable `in` Liste`; do` Befehl(e)`; done` Als Variable verwenden wir *i*, die nacheinander die Werte Eins bis Drei annimmt. Mit *$i* wird der Variablenwert wieder aufgerufen.\n",
    "\n",
    "Mit `-m` geben wir den minimalen durchschnittliches PHRED Score eines Reads an, mit `-x` die min. Readlänge und mit `-y` die maximale Readlänge."
   ]
  },
  {
   "cell_type": "code",
   "execution_count": 8,
   "id": "e5bf2780-2adf-4768-a640-000286b96736",
   "metadata": {},
   "outputs": [],
   "source": [
    "for i in 1 2 3; do ./qfilter -m 10 -x 1000 -y 4361 BarCodesAll/BC0$i.fastq > bc0$i.all.fastq ;done"
   ]
  },
  {
   "cell_type": "code",
   "execution_count": 9,
   "id": "d3e01f8a-e00d-4fad-9d61-b863c1d10541",
   "metadata": {},
   "outputs": [
    {
     "name": "stdout",
     "output_type": "stream",
     "text": [
      "    156 bc01.all.fastq\n",
      "     68 bc02.all.fastq\n",
      "   1604 bc03.all.fastq\n",
      "   1828 total\n"
     ]
    }
   ],
   "source": [
    "wc -l bc0[123].all.fastq"
   ]
  },
  {
   "cell_type": "markdown",
   "id": "605f81ea-6b15-4804-b565-3d30c67b65da",
   "metadata": {},
   "source": [
    "### Mappen der Reads auf das Plasmid\n",
    "Für das Mappen der Reads auf das Plasmid pBR322 verwenden wir das Programm Minimap. Mit \"mapping\" ist der Prozess gemeint, der guckt an welchen Positionen in der Plasmidsequenz die vom MinION erzeugten Reads passen. Es wird also mit jedem Read ein Sequenz-Alignment durchgeführt. Auch hier verwenden wir wieder eine For-Schleife, in diesem Fall mit Dateinamen als Liste; das Fragezeichen steht dabei als Joker für ein beliebiges Zeichen."
   ]
  },
  {
   "cell_type": "code",
   "execution_count": 10,
   "id": "a2d32c61-165e-4783-afd7-5dcc32ad4af5",
   "metadata": {},
   "outputs": [
    {
     "name": "stdout",
     "output_type": "stream",
     "text": [
      "[M::mm_idx_gen::0.007*0.46] collected minimizers\n",
      "[M::mm_idx_gen::0.008*0.61] sorted minimizers\n",
      "[M::main::0.008*0.62] loaded/built the index for 1 target sequence(s)\n",
      "[M::mm_mapopt_update::0.008*0.62] mid_occ = 10\n",
      "[M::mm_idx_stat] kmer size: 15; skip: 10; is_hpc: 0; #seq: 1\n",
      "[M::mm_idx_stat::0.008*0.62] distinct minimizers: 816 (100.00% are singletons); average occurrences: 1.000; average spacing: 5.344; total length: 4361\n",
      "[M::worker_pipeline::0.025*1.45] mapped 39 sequences\n",
      "[M::main] CMD: minimap2 -a pBR322.fasta bc01.all.fastq\n",
      "[M::main] Real time: 0.026 sec; CPU: 0.037 sec; Peak RSS: 0.005 GB\n",
      "...\n"
     ]
    }
   ],
   "source": [
    "for i in bc0?.all.fastq; do minimap2 -a pBR322.fasta $i > $i.mapped.sam; done"
   ]
  },
  {
   "cell_type": "markdown",
   "id": "df596fed-5eb2-403c-8e37-40048e105bc5",
   "metadata": {},
   "source": [
    "Die Option `-a` weist Minimap2 an, das Ergebnis im sogenannten SAM-Format auszugeben. Normalerweise würde die Ausgabe auf den Bildschirm erfolgen. Ich habe die Ausgabe wieder beschnitten. Mit der Umleitung `>` (redirection) leiten wir die Daten in eine Datei, die wir *mapped.sam* benennen."
   ]
  },
  {
   "cell_type": "markdown",
   "id": "ce47c3f8-c9ba-4260-9da9-6462a1d541fe",
   "metadata": {},
   "source": [
    "### Vorbereitung für die Visualisierung mit IGV\n",
    "Der Integrated Genome Viewer (IGV) ist ein Programm für die Betrachtung der gemappten Reads. Dazu wird zunächst die Referenz geladen (Genome) und dann die Reads (Track). Das Genom ist in unserem Fall das Plasmid pBR322 in der Datei *pBR322.fasta* und die gemappten Reads befinden sich in der zuvor mittelsMminimap2 erstellten Datei *mapped.sam*. Diese muss für IGV noch sortiert, indexiert und in ein binäres Format gewandelt werden. Das machen wir mit dem Programm `samtools`. Wieder nutzen wir die For-Schleife, um alle drei Dateien jeweils zu sortieren, in das binäre BAM-Format umzuwandeln und anschließend zu indexieren."
   ]
  },
  {
   "cell_type": "code",
   "execution_count": 11,
   "id": "c0b4960f-80a9-4d00-85ea-41f80eaab747",
   "metadata": {},
   "outputs": [],
   "source": [
    "for i in bc0?.all.fastq.mapped.sam; do samtools sort $i -o $i.sorted.bam; samtools index $i.sorted.bam; done"
   ]
  },
  {
   "cell_type": "markdown",
   "id": "2a593e6e-efc8-4b5b-a0c1-10d9d796bb20",
   "metadata": {},
   "source": [
    "Das Ergebnis ist die sortierten Dateien *bc0[123].all.fastq.mapped.sorted.bam* mit ihrem Index in der Datei *bc0[123].all.fastq.mapped.sorted.bam.bai*, die IGV im Hintergrund laden wird. Mit \"[123]\" will ich andeuten, dass es sich um jeweils drei Dateien handelt.\n",
    "Das Plasmid (Genome) indexiert IGV automatisch beim Laden :-)"
   ]
  },
  {
   "cell_type": "markdown",
   "id": "1da8fcf1-4a62-43f7-8e5d-1db52227caa6",
   "metadata": {},
   "source": [
    "### Visualisierung mit IGV\n",
    "Der Integrated Genome Viewer(`igv`) ist ein vielseitiges JAVA-Programm zur Darstellung genomischer Daten \n",
    "Nach dem Starten des Programms ist der Terminal wie bei Dotter belegt und kann erst wieder mit Befehlen gefüttert werden, wenn das IGV-Fenster geschlossen wurde.\n",
    "\n",
    "Im IGV-Fenster geben wir zunächst das Referenzgenom im Menüpunkt **Genomes > Load Genomes from File ...** an. In unserem bescheidenen Fall handelt es sich um das Plasmid pBR322, dessen Sequenz in der FASTA-Datei *pBR322.fasta* gespeichert ist. Danach laden wir die Reads der drei Experimente im BAM-Format (*bc0[123].all.fastq.mapped.ont.sam.sorted.bam*) im Menüpunlt **File > Load from File ...** Mit jedem Laden eines Datensatzes füllt sich das Fenster. Für jede BAM-Datei (respektive Barcode bzw. Experiment) sehen wir die Reads und darüber die Trefferdichte (coverage), die diese Reads erzeugen. Wundern Sie sich nicht, wenn es bei Ihnen etwas anders aussieht.\n",
    "\n",
    "![igv](igv.png)\n",
    "\n",
    "Es fällt auf, dass wir im oberen Datensatz eine Lücke bei 670 Basenpaaren sehen. Im mittleren Datensatz kommt eine Lücke bei etwa 3.760 Basenpaaren hinzu. Im unteren Datensatz dagegen ist die gesamte Plasmidsequenz von Reads abgedeckt. \n",
    "Was sagt uns das? Im\n",
    "\n",
    "- oberen Datensatz wurde das Plasmid einmal\n",
    "- im mittleren Datensatz zweimal (Cas9 und PstI)\n",
    "- und im unteren Datensatz gar nicht geschnitten (unverdaute Kontrolle)\n",
    "\n",
    "Bedenken Sie, dass keine Reads über Schnittstellen liegen können. Im oberen Datensatz finden wir eine Ausnahme: Ein Read überspannt die Schnittstelle bei 670 bp, was möglicherweise für einen teilweise unvollständigen Verdau spricht\n",
    "In der dargestellten Analyse haben wir nur die ersten tausend Reads verwendet, die nach rund zehn Minuten Sequenzierung vom MinION auf dem angeschlossenen Computer gespeichert wurden. Das ist ein Bruchteil aller Daten.\n"
   ]
  }
 ],
 "metadata": {
  "kernelspec": {
   "display_name": "Bash",
   "language": "bash",
   "name": "bash"
  },
  "language_info": {
   "codemirror_mode": "shell",
   "file_extension": ".sh",
   "mimetype": "text/x-sh",
   "name": "bash"
  }
 },
 "nbformat": 4,
 "nbformat_minor": 5
}
