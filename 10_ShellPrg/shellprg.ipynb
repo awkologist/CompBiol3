{
 "cells": [
  {
   "cell_type": "markdown",
   "id": "270d3212-b989-4ba7-afee-d8ccb715b741",
   "metadata": {},
   "source": [
    "# Chapter 10 – Shell Programming\n",
    "With this chapter, we enter a new world. Until now, you processed files by executing a number of commands. From now on, we are going to put commands together, blend them with some logic, and write our first shell scripts this way. If you work through this chapter, then you know basic programming techniques. Hello World!"
   ]
  },
  {
   "cell_type": "markdown",
   "id": "46b424ee-d929-40c5-9cf5-cf13baf7fc73",
   "metadata": {},
   "source": [
    "### Variables"
   ]
  },
  {
   "cell_type": "code",
   "execution_count": null,
   "id": "ac80d1c1-1024-4755-829c-202b8578c868",
   "metadata": {},
   "outputs": [],
   "source": [
    "plant=orchid"
   ]
  },
  {
   "cell_type": "code",
   "execution_count": null,
   "id": "f94d5973-5622-4cec-891c-ae4cebe1b733",
   "metadata": {},
   "outputs": [],
   "source": [
    "echo $plant"
   ]
  },
  {
   "cell_type": "code",
   "execution_count": null,
   "id": "036feaa0-a226-4b6c-8316-507035d5b556",
   "metadata": {},
   "outputs": [],
   "source": [
    "orchid=parasite"
   ]
  },
  {
   "cell_type": "code",
   "execution_count": null,
   "id": "50b43596-e874-4be5-967a-b5609283189f",
   "metadata": {},
   "outputs": [],
   "source": [
    "plant=$orchid"
   ]
  },
  {
   "cell_type": "code",
   "execution_count": null,
   "id": "623b0af2-e545-4341-aaab-9c88038bd0e5",
   "metadata": {},
   "outputs": [],
   "source": [
    "echo $plant"
   ]
  },
  {
   "cell_type": "code",
   "execution_count": null,
   "id": "324501d8-00d7-46d1-b1e8-d244886ca09a",
   "metadata": {},
   "outputs": [],
   "source": [
    "echo \"The value of \\$orchid is $orchid\""
   ]
  },
  {
   "cell_type": "code",
   "execution_count": null,
   "id": "39a65836-5526-4517-8a20-4e179cf0ca4d",
   "metadata": {},
   "outputs": [],
   "source": [
    "echo \"$animal\""
   ]
  },
  {
   "cell_type": "markdown",
   "id": "ba371e46-69f3-4917-a172-d0c323e45f46",
   "metadata": {},
   "source": [
    "### Input and Output"
   ]
  },
  {
   "cell_type": "code",
   "execution_count": null,
   "id": "92a654f3-b15d-4b23-9574-da5033792f9c",
   "metadata": {},
   "outputs": [],
   "source": [
    "chmod u+x text.sh"
   ]
  },
  {
   "cell_type": "code",
   "execution_count": null,
   "id": "d0b4b18e-8086-45f0-ba3b-19c105ae6da3",
   "metadata": {},
   "outputs": [],
   "source": [
    "./text.sh"
   ]
  },
  {
   "cell_type": "markdown",
   "id": "e462e57f-dff2-4f88-9cbe-d630bf63600a",
   "metadata": {},
   "source": [
    "### Substitutions and Expansions"
   ]
  },
  {
   "cell_type": "code",
   "execution_count": null,
   "id": "01a48cea-4ae0-401c-8810-8c5505edfa8a",
   "metadata": {},
   "outputs": [],
   "source": [
    "echo file.{fasta,fa,seq}"
   ]
  },
  {
   "cell_type": "code",
   "execution_count": null,
   "id": "1bdcb0fd-72ad-4d5c-949e-0f6f93956d4e",
   "metadata": {},
   "outputs": [],
   "source": [
    "enzyme=\"hydrogenase specific endopeptidase\""
   ]
  },
  {
   "cell_type": "code",
   "execution_count": null,
   "id": "bdd2b08c-cc0a-4551-9284-cfed4fc8bcfe",
   "metadata": {},
   "outputs": [],
   "source": [
    "echo $enzyme"
   ]
  },
  {
   "cell_type": "code",
   "execution_count": null,
   "id": "12188bf5-f3aa-43b4-b43d-3971597646e0",
   "metadata": {},
   "outputs": [],
   "source": [
    "echo ${enzyme:=text}"
   ]
  },
  {
   "cell_type": "code",
   "execution_count": null,
   "id": "36c169f2-9887-4173-a123-18776cf99fbc",
   "metadata": {},
   "outputs": [],
   "source": [
    "echo ${enzyme:+text}"
   ]
  },
  {
   "cell_type": "code",
   "execution_count": null,
   "id": "9b7b8e74-7812-4c7a-94c5-4a44629caa2d",
   "metadata": {},
   "outputs": [],
   "source": [
    "echo $gene"
   ]
  },
  {
   "cell_type": "code",
   "execution_count": null,
   "id": "b6c3ecb0-fb8e-43df-866b-dbcdbd0a17ac",
   "metadata": {},
   "outputs": [],
   "source": [
    "echo ${gene:-gene not discovered}"
   ]
  },
  {
   "cell_type": "code",
   "execution_count": null,
   "id": "2f14dca7-69a6-4dcd-ab2c-2b2d4d428fa5",
   "metadata": {},
   "outputs": [],
   "source": [
    "echo $gene"
   ]
  },
  {
   "cell_type": "code",
   "execution_count": null,
   "id": "ab7aa523-6b23-4427-99e0-57691ada76e2",
   "metadata": {},
   "outputs": [],
   "source": [
    "echo ${gene:=ATG...TAA}"
   ]
  },
  {
   "cell_type": "code",
   "execution_count": null,
   "id": "91aaa557-bcb8-4509-88e3-7f8790b09fee",
   "metadata": {},
   "outputs": [],
   "source": [
    "echo $gene"
   ]
  },
  {
   "cell_type": "code",
   "execution_count": null,
   "id": "21be0a47-9de2-4fb0-8cc8-c436998b30e7",
   "metadata": {},
   "outputs": [],
   "source": [
    "echo ${#gene}"
   ]
  },
  {
   "cell_type": "code",
   "execution_count": null,
   "id": "6b166382-36b7-4310-a4b5-c71ffa2f6edc",
   "metadata": {},
   "outputs": [],
   "source": [
    "echo ${gene:3:3}"
   ]
  },
  {
   "cell_type": "code",
   "execution_count": null,
   "id": "fb82dd68-71a0-42a0-847f-d4f4855dee4e",
   "metadata": {},
   "outputs": [],
   "source": [
    "echo ${gene:3}"
   ]
  },
  {
   "cell_type": "code",
   "execution_count": null,
   "id": "c0f6b8ff-9f1e-4356-997a-8393c634fd6c",
   "metadata": {},
   "outputs": [],
   "source": [
    "echo $(date)"
   ]
  },
  {
   "cell_type": "code",
   "execution_count": null,
   "id": "d3aa06bc-0c41-46ae-8c96-1ccc70c17f5b",
   "metadata": {},
   "outputs": [],
   "source": [
    "echo `date`"
   ]
  },
  {
   "cell_type": "markdown",
   "id": "77dfe1ff-5f35-4934-a7a6-23698f98bffa",
   "metadata": {},
   "source": [
    "### Quoting"
   ]
  },
  {
   "cell_type": "code",
   "execution_count": null,
   "id": "0e6f1a2e-2efa-4007-af73-829f87ba673f",
   "metadata": {},
   "outputs": [],
   "source": [
    "echo \"Research costs some $s\""
   ]
  },
  {
   "cell_type": "code",
   "execution_count": null,
   "id": "b6d89565-21d6-436d-ac0f-4503c1d6d466",
   "metadata": {},
   "outputs": [],
   "source": [
    "echo \"Research costs some \\$s\""
   ]
  },
  {
   "cell_type": "code",
   "execution_count": null,
   "id": "02dc18b6-d7a9-4107-9b47-e47177f25540",
   "metadata": {},
   "outputs": [],
   "source": [
    "echo 'Research costs some $s'"
   ]
  },
  {
   "cell_type": "code",
   "execution_count": null,
   "id": "80c3e7a4-bcb6-4e41-bbd6-c221b0827c88",
   "metadata": {},
   "outputs": [],
   "source": [
    "echo 'Research costs some \\$s'"
   ]
  },
  {
   "cell_type": "markdown",
   "id": "2ca9b8dc-d15c-4089-b960-c64eb7450e72",
   "metadata": {},
   "source": [
    "### Decisions - Flow Control"
   ]
  },
  {
   "cell_type": "code",
   "execution_count": null,
   "id": "254386b5-0f84-49b1-9ad7-ec33e7a097db",
   "metadata": {},
   "outputs": [],
   "source": [
    "./if-ls.sh test.txt"
   ]
  },
  {
   "cell_type": "code",
   "execution_count": null,
   "id": "cbf1269f-712c-4d3b-978e-1cb12c794c36",
   "metadata": {},
   "outputs": [],
   "source": [
    "test 2 -eq 2; echo $?"
   ]
  },
  {
   "cell_type": "code",
   "execution_count": null,
   "id": "e165542f-c175-4a7b-9376-51383b63a61c",
   "metadata": {},
   "outputs": [],
   "source": [
    "test 2 -eq 3; echo $?"
   ]
  },
  {
   "cell_type": "code",
   "execution_count": null,
   "id": "8a2c2dd4-e907-4856-a8d6-ec5b5f361453",
   "metadata": {},
   "outputs": [],
   "source": [
    "test $USER; echo $?"
   ]
  },
  {
   "cell_type": "code",
   "execution_count": null,
   "id": "0ca6300a-f359-4f55-b17f-e81b14596fef",
   "metadata": {},
   "outputs": [],
   "source": [
    "./test-par.sh"
   ]
  },
  {
   "cell_type": "code",
   "execution_count": null,
   "id": "a75bfa62-cf90-48f8-b624-789723047b6a",
   "metadata": {},
   "outputs": [],
   "source": [
    "./triplet.sh gctacgatgctagtcagct"
   ]
  },
  {
   "cell_type": "code",
   "execution_count": null,
   "id": "5339ad37-a35d-4faa-bb78-372ba9b7196e",
   "metadata": {},
   "outputs": [],
   "source": [
    "./para.sh eins zwei drei"
   ]
  },
  {
   "cell_type": "code",
   "execution_count": null,
   "id": "8b24e106-0ffd-4f4a-99c9-ebbda6532599",
   "metadata": {},
   "outputs": [],
   "source": [
    "./triplet-stop.sh atacgtatgactagcatc"
   ]
  },
  {
   "cell_type": "code",
   "execution_count": null,
   "id": "f7774517-d07e-43bd-ad6f-05e162e29b9e",
   "metadata": {},
   "outputs": [],
   "source": [
    "./triplet-until.sh tacgtatgactagcatc"
   ]
  },
  {
   "cell_type": "code",
   "execution_count": null,
   "id": "34c60383-0e0f-425a-b456-89eeac12d8e0",
   "metadata": {},
   "outputs": [],
   "source": [
    "./for1.sh"
   ]
  },
  {
   "cell_type": "code",
   "execution_count": null,
   "id": "6d7a4500-d20d-47c6-b276-8f8f5428935e",
   "metadata": {},
   "outputs": [],
   "source": [
    "./for-num.sh"
   ]
  },
  {
   "cell_type": "code",
   "execution_count": null,
   "id": "553b8f37-5ea8-40df-888d-eb2fa4d5966a",
   "metadata": {},
   "outputs": [],
   "source": [
    "./for-ls.sh"
   ]
  },
  {
   "cell_type": "code",
   "execution_count": null,
   "id": "9645c6f7-6705-4940-813b-c421e4484884",
   "metadata": {},
   "outputs": [],
   "source": [
    "./for-par.sh eins zwei drei"
   ]
  },
  {
   "cell_type": "code",
   "execution_count": null,
   "id": "d547dc32-5d72-44e7-89aa-e6e5cf3eaea1",
   "metadata": {},
   "outputs": [],
   "source": [
    "./date-vx.sh"
   ]
  },
  {
   "cell_type": "code",
   "execution_count": null,
   "id": "ae6b71dc-50b2-4222-a58a-64b56143aaf1",
   "metadata": {},
   "outputs": [],
   "source": [
    "./date-set.sh"
   ]
  },
  {
   "cell_type": "code",
   "execution_count": null,
   "id": "75d45174-5632-418f-a3a9-bdd6fd6e5958",
   "metadata": {},
   "outputs": [],
   "source": [
    "echo \"2\" | ./select.sh"
   ]
  },
  {
   "cell_type": "code",
   "execution_count": null,
   "id": "253680fc-e6b1-4125-a86e-4a2adc5edb9b",
   "metadata": {},
   "outputs": [],
   "source": [
    "./dna-test.sh text.sh"
   ]
  },
  {
   "cell_type": "code",
   "execution_count": null,
   "id": "40065b77-0a5f-42e2-b6e0-698ad4dba7be",
   "metadata": {},
   "outputs": [],
   "source": [
    "./time-signal.sh"
   ]
  }
 ],
 "metadata": {
  "kernelspec": {
   "display_name": "Bash",
   "language": "bash",
   "name": "bash"
  },
  "language_info": {
   "codemirror_mode": "shell",
   "file_extension": ".sh",
   "mimetype": "text/x-sh",
   "name": "bash"
  }
 },
 "nbformat": 4,
 "nbformat_minor": 5
}
