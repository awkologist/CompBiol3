{
 "cells": [
  {
   "cell_type": "markdown",
   "id": "18f30d09-a8f8-477e-866c-ac4f07380ccf",
   "metadata": {},
   "source": [
    "# Using the Shell "
   ]
  },
  {
   "cell_type": "code",
   "execution_count": 1,
   "id": "5945a8ff-b161-4526-961e-883ef2415cfc",
   "metadata": {},
   "outputs": [
    {
     "name": "stdout",
     "output_type": "stream",
     "text": [
      "  955  awk 'BEGIN{a[1]=1;a[2]=5;a[3]=3;a\u001b[01;31m\u001b[Ksort\u001b[m\u001b[K(a)}'\n",
      "  956  awk 'BEGIN{a[1]=1;a[2]=5;a[3]=3;a\u001b[01;31m\u001b[Ksort\u001b[m\u001b[K(a)print a[1]}'\n",
      "  957  awk 'BEGIN{a[1]=1;a[2]=5;a[3]=3;a\u001b[01;31m\u001b[Ksort\u001b[m\u001b[K(a);print a[1]}'\n",
      "  958  awk 'BEGIN{a[1]=1;a[2]=5;a[3]=3;a\u001b[01;31m\u001b[Ksort\u001b[m\u001b[K(a);print a[3]}'\n",
      "  960  awk '$3==100 && $4>10 && $7==9606{print $1,$2,$5,$6,$8}' test.tab | awk '{if($1~/f_/){fprimer[NR]=$1; fstart[NR]=$3; fend[NR]=$4; fstrand[NR]=$5; facc[NR]=$2}else{rprimer[NR]=$1; rstart[NR]=$3; rend[NR]=$4; rstrand[NR]=$5; racc[NR]=$2}}END{for(x in fstart){for(y in rstart){z=fstart[x]-rstart[y]; if(z<0){z=z*-1}; if(z<400 && facc[x]==racc[y]){bp[1]=fstart[x];bp[2]=fend[x];bp[3]=rstart[y];bp[4]=rend[y];a\u001b[01;31m\u001b[Ksort\u001b[m\u001b[K(bp);print fprimer[x],facc[x],racc[y],fstart[x],fend[x],rstart[y],rend[y],bp[1],bp[4]}}}}'\n",
      "  961  awk '$3==100 && $4>10 && $7==9606{print $1,$2,$5,$6,$8}' test.tab | awk '{if($1~/f_/){fprimer[NR]=$1; fstart[NR]=$3; fend[NR]=$4; fstrand[NR]=$5; facc[NR]=$2}else{rprimer[NR]=$1; rstart[NR]=$3; rend[NR]=$4; rstrand[NR]=$5; racc[NR]=$2}}END{for(x in fstart){for(y in rstart){z=fstart[x]-rstart[y]; if(z<0){z=z*-1}; if(z<400 && facc[x]==racc[y]){bp[1]=fstart[x];bp[2]=fend[x];bp[3]=rstart[y];bp[4]=rend[y];a\u001b[01;31m\u001b[Ksort\u001b[m\u001b[K(bp);print fprimer[x],facc[x],racc[y],bp[1],bp[4]}}}}'\n",
      " 1467  awk '/[0-9]/ {data[$1]=$2} END{a\u001b[01;31m\u001b[Ksort\u001b[m\u001b[K(data)for (x in data) print \"Index=\"x, \"  Value=\"data[x]}' enzyme.txt\n",
      " 1469  awk '/[0-9]/{data[$1]=$2}END{a\u001b[01;31m\u001b[Ksort\u001b[m\u001b[K(data);for (x in data) print \"Index=\"x, \"  Value=\"data[x]}' enzyme.txt\n",
      " 1471  awk '/[0-9]/{data[$1]=$2}END{a\u001b[01;31m\u001b[Ksort\u001b[m\u001b[K(data);for (x in data){print \"Index=\"x, \"  Value=\"data[x]}}' enzyme.txt\n",
      " 1579  awk 'BEGIN{target=\"atgctagctagctgc\"; n=split(target,array,/g.t/); a\u001b[01;31m\u001b[Ksort\u001b[m\u001b[K(array); for (i=1; i<=n; i++){printf \"%s\", array[i]\"  \"}; print \"\"}'\n",
      " 1581  awk 'BEGIN{target=\"atgctagctagctgc\"; n=split(target,array,/g.t/); a\u001b[01;31m\u001b[Ksort\u001b[m\u001b[K(array); for (i=1; i<=n; i++){printf \"%s\", array[i]\"  \"} print \"\"}'\n",
      " 1633  awk -f \u001b[01;31m\u001b[Ksort\u001b[m\u001b[K-array-elements.awk enzyme.txt\n",
      " 1676  history | egrep -i '\u001b[01;31m\u001b[Ksort\u001b[m\u001b[K'\n"
     ]
    }
   ],
   "source": [
    "history | egrep -i 'sort'"
   ]
  },
  {
   "cell_type": "code",
   "execution_count": 4,
   "id": "3ea0214c-f5c1-4baf-bd67-5acfd1cb75ee",
   "metadata": {},
   "outputs": [
    {
     "name": "stdout",
     "output_type": "stream",
     "text": [
      "Fri Apr 19 07:54:42 CEST 2024\n",
      "some output\n"
     ]
    }
   ],
   "source": [
    "date && echo \"some output\""
   ]
  },
  {
   "cell_type": "code",
   "execution_count": 5,
   "id": "5ddff8fc-8a25-42cf-93f4-a8c9e5752be6",
   "metadata": {},
   "outputs": [
    {
     "name": "stdout",
     "output_type": "stream",
     "text": [
      "datum: command not found\n"
     ]
    },
    {
     "ename": "",
     "evalue": "127",
     "output_type": "error",
     "traceback": []
    }
   ],
   "source": [
    "datum && echo \"some output\""
   ]
  },
  {
   "cell_type": "code",
   "execution_count": 6,
   "id": "b34d22ed-3b70-44a5-8157-bff1b7bf63a6",
   "metadata": {},
   "outputs": [
    {
     "name": "stdout",
     "output_type": "stream",
     "text": [
      "Fri Apr 19 07:55:24 CEST 2024\n"
     ]
    }
   ],
   "source": [
    "date || echo \"some output\""
   ]
  },
  {
   "cell_type": "code",
   "execution_count": 7,
   "id": "e03c77a9-ab19-4751-a172-54872636cea8",
   "metadata": {},
   "outputs": [
    {
     "name": "stdout",
     "output_type": "stream",
     "text": [
      "datum: command not found\n",
      "some output\n"
     ]
    }
   ],
   "source": [
    "datum || echo \"some output\""
   ]
  },
  {
   "cell_type": "markdown",
   "id": "a8798d05-e098-4b31-b01c-547bd1a19418",
   "metadata": {},
   "source": [
    "### Functions"
   ]
  },
  {
   "cell_type": "code",
   "execution_count": 10,
   "id": "f3dd48ca-fb21-4e95-bf2c-7b2673c033c1",
   "metadata": {},
   "outputs": [],
   "source": [
    "llc() { ls -l | wc -l; }"
   ]
  },
  {
   "cell_type": "code",
   "execution_count": 11,
   "id": "74b2ff7e-72a3-419d-bccb-ba0374e07c41",
   "metadata": {},
   "outputs": [
    {
     "name": "stdout",
     "output_type": "stream",
     "text": [
      "2\n"
     ]
    }
   ],
   "source": [
    "llc"
   ]
  },
  {
   "cell_type": "code",
   "execution_count": 12,
   "id": "4ab3d552-5a88-4242-9e40-c724d12a0dec",
   "metadata": {},
   "outputs": [],
   "source": [
    "revcomp() { tr AGTCagtc TCAGtcag | rev; }"
   ]
  },
  {
   "cell_type": "code",
   "execution_count": 13,
   "id": "0f24b16d-603c-4c55-9707-adea40a5d4ea",
   "metadata": {},
   "outputs": [
    {
     "name": "stdout",
     "output_type": "stream",
     "text": [
      "AATACCGT\n"
     ]
    }
   ],
   "source": [
    "echo \"ACGGTATT\" | revcomp"
   ]
  },
  {
   "cell_type": "markdown",
   "id": "a06b5aa5-d8ae-4206-b8ef-50c8448e508a",
   "metadata": {},
   "source": [
    "### Batch Jobs"
   ]
  },
  {
   "cell_type": "code",
   "execution_count": 14,
   "id": "6a002a36-eb84-4894-89a5-2060dabcc816",
   "metadata": {},
   "outputs": [],
   "source": [
    "mkdir Batch; cd Batch"
   ]
  },
  {
   "cell_type": "code",
   "execution_count": 15,
   "id": "4070ed09-ddac-4201-87c3-9df48aaf4206",
   "metadata": {},
   "outputs": [],
   "source": [
    "cp ~/CompBiol3/TextEdit/genomes.txt ."
   ]
  },
  {
   "cell_type": "code",
   "execution_count": 16,
   "id": "483f6e44-3e90-46d8-82bb-cb4a31d69868",
   "metadata": {},
   "outputs": [],
   "source": [
    "cp ~/CompBiol3/TextEdit/edit.vi ."
   ]
  },
  {
   "cell_type": "code",
   "execution_count": 23,
   "id": "fcf73b8e-66fe-4dd7-8d4e-2ba72e282d8d",
   "metadata": {},
   "outputs": [],
   "source": [
    "cp genomes.txt genomes-3.txt"
   ]
  },
  {
   "cell_type": "code",
   "execution_count": 30,
   "id": "6f267b5f-95ed-4cd0-b32e-9b8669a90b10",
   "metadata": {},
   "outputs": [
    {
     "ename": "",
     "evalue": "1",
     "output_type": "error",
     "traceback": []
    }
   ],
   "source": [
    "for i in *.txt; do vim -e $i < edit.vi; done"
   ]
  },
  {
   "cell_type": "code",
   "execution_count": 31,
   "id": "34c8551d-64bc-40a5-a45e-df68f99f5cab",
   "metadata": {},
   "outputs": [
    {
     "name": "stdout",
     "output_type": "stream",
     "text": [
      "H. sapiens (human) - 3,400,000,000 bp - 30,000 genes\n",
      "A. thaliana (plant) - 100,000,000 bp - 25,000 genes\n",
      "S. cerevisiae (yeast) - 12,100,000 bp - 6034 genes\n",
      "E. coli (bacteria) - 4,670,000 bp - 3237 genes\n",
      "4 lines text?\n",
      "4 lines text?\n",
      "203 characters?\n"
     ]
    }
   ],
   "source": [
    "head genomes.txt"
   ]
  },
  {
   "cell_type": "code",
   "execution_count": 33,
   "id": "e7dfbc4a-06cf-4aaa-8a7e-1655511d6776",
   "metadata": {},
   "outputs": [
    {
     "name": "stdout",
     "output_type": "stream",
     "text": [
      "H. sapiens (human) - 3,400,000,000 bp - 30,000 genes\n",
      "A. thaliana (plant) - 100,000,000 bp - 25,000 genes\n",
      "S. cerevisiae (yeast) - 12,100,000 bp - 6034 genes\n",
      "E. coli (bacteria) - 4,670,000 bp - 3237 genes\n",
      "4 lines text?\n",
      "4 lines text?\n",
      "203 characters?\n"
     ]
    }
   ],
   "source": [
    "head  genomes-2.txt"
   ]
  },
  {
   "cell_type": "code",
   "execution_count": 29,
   "id": "169f9555-1a17-48c6-a281-3e3a020b70f1",
   "metadata": {},
   "outputs": [
    {
     "name": "stdout",
     "output_type": "stream",
     "text": [
      ":g/^[^A-Z]/d\n",
      ":%s/,/./g\n",
      ":%s/ - /\\t/g\n",
      ":w %<.new \n",
      ":q \n"
     ]
    }
   ],
   "source": [
    "cat edit.vi"
   ]
  },
  {
   "cell_type": "code",
   "execution_count": null,
   "id": "6e0b141f-050d-421c-8a32-4eade18aae03",
   "metadata": {},
   "outputs": [],
   "source": []
  }
 ],
 "metadata": {
  "kernelspec": {
   "display_name": "Bash",
   "language": "bash",
   "name": "bash"
  },
  "language_info": {
   "codemirror_mode": "shell",
   "file_extension": ".sh",
   "mimetype": "text/x-sh",
   "name": "bash"
  }
 },
 "nbformat": 4,
 "nbformat_minor": 5
}
