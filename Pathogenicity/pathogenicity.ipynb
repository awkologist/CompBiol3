{
 "cells": [
  {
   "cell_type": "markdown",
   "id": "34a27d03-66f4-4a42-ab2a-9abca7495481",
   "metadata": {},
   "source": [
    "# Pathogenicity"
   ]
  },
  {
   "cell_type": "markdown",
   "id": "eddcd5f1-8a48-46e1-a59b-e08b283b229b",
   "metadata": {},
   "source": [
    "Installation of NCBI Datasets and BLAST required."
   ]
  },
  {
   "cell_type": "markdown",
   "id": "160a167e-8071-473d-8fa3-b2a3e24ca5c5",
   "metadata": {},
   "source": [
    "## Downloading Proteoms"
   ]
  },
  {
   "cell_type": "code",
   "execution_count": 1,
   "id": "7bcffcdd-473d-43bd-a55e-cd348713c884",
   "metadata": {
    "scrolled": true
   },
   "outputs": [
    {
     "name": "stdout",
     "output_type": "stream",
     "text": [
      "Collecting 1 genome record [------------------------------------------------]   0% 0/1\n",
      "\u001b[1A\u001b[2K\u001b[1A\u001b[2KCollecting 1 genome record [------------------------------------------------]   0% 0/1\n",
      "\u001b[1A\u001b[2K\u001b[1A\u001b[2KCollecting 1 genome record [------------------------------------------------]   0% 0/1\n",
      "\u001b[1A\u001b[2K\u001b[1A\u001b[2KCollecting 1 genome record [------------------------------------------------]   0% 0/1\n",
      "\u001b[1A\u001b[2K\u001b[1A\u001b[2KCollecting 1 genome record [------------------------------------------------]   0% 0/1\n",
      "\u001b[1A\u001b[2K\u001b[1A\u001b[2KCollecting 1 genome record [------------------------------------------------]   0% 0/1\n",
      "\u001b[1A\u001b[2K\u001b[1A\u001b[2KCollecting 1 genome record [------------------------------------------------]   0% 0/1\n",
      "\u001b[1A\u001b[2K\u001b[1A\u001b[2KCollecting 1 genome record [------------------------------------------------]   0% 0/1\n",
      "\u001b[1A\u001b[2K\u001b[1A\u001b[2KCollecting 1 genome record [------------------------------------------------]   0% 0/1\n",
      "\u001b[1A\u001b[2K\u001b[1A\u001b[2KCollecting 1 genome record [------------------------------------------------]   0% 0/1\n",
      "\u001b[1A\u001b[2K\u001b[1A\u001b[2KCollecting 1 genome record [------------------------------------------------]   0% 0/1\n",
      "\u001b[1A\u001b[2K\u001b[1A\u001b[2KCollecting 1 genome record [------------------------------------------------]   0% 0/1\n",
      "\u001b[1A\u001b[2K\u001b[1A\u001b[2KCollecting 1 genome record [------------------------------------------------]   0% 0/1\n",
      "\u001b[1A\u001b[2K\u001b[1A\u001b[2KCollecting 1 genome record [------------------------------------------------]   0% 0/1\n",
      "\u001b[1A\u001b[2K\u001b[1A\u001b[2KCollecting 1 genome record [------------------------------------------------]   0% 0/1\n",
      "\u001b[1A\u001b[2K\u001b[1A\u001b[2KCollecting 1 genome record [------------------------------------------------]   0% 0/1\n",
      "\u001b[1A\u001b[2K\u001b[1A\u001b[2KCollecting 1 genome record [------------------------------------------------]   0% 0/1\n",
      "\u001b[1A\u001b[2K\u001b[1A\u001b[2KCollecting 1 genome record [------------------------------------------------]   0% 0/1\n",
      "\u001b[1A\u001b[2K\u001b[1A\u001b[2KCollecting 1 genome record [------------------------------------------------]   0% 0/1\n",
      "\u001b[1A\u001b[2K\u001b[1A\u001b[2KCollecting 1 genome record [------------------------------------------------]   0% 0/1\n",
      "\u001b[1A\u001b[2K\u001b[1A\u001b[2KCollecting 1 genome record [------------------------------------------------]   0% 0/1\n",
      "\u001b[1A\u001b[2K\u001b[1A\u001b[2KCollecting 1 genome record [------------------------------------------------]   0% 0/1\n",
      "\u001b[1A\u001b[2K\u001b[1A\u001b[2KCollecting 1 genome record [------------------------------------------------]   0% 0/1\n",
      "\u001b[1A\u001b[2K\u001b[1A\u001b[2KCollecting 1 genome record [------------------------------------------------]   0% 0/1\n",
      "\u001b[1A\u001b[2K\u001b[1A\u001b[2KCollecting 1 genome record [------------------------------------------------]   0% 0/1\n",
      "\u001b[1A\u001b[2K\u001b[1A\u001b[2KCollecting 1 genome record [------------------------------------------------]   0% 0/1\n",
      "\u001b[1A\u001b[2K\u001b[1A\u001b[2KCollecting 1 genome record [------------------------------------------------]   0% 0/1\n",
      "\u001b[1A\u001b[2K\u001b[1A\u001b[2KCollecting 1 genome record [------------------------------------------------]   0% 0/1\n",
      "\u001b[1A\u001b[2K\u001b[1A\u001b[2KCollecting 1 genome record [------------------------------------------------]   0% 0/1\n",
      "\u001b[1A\u001b[2K\u001b[1A\u001b[2KCollecting 1 genome record [------------------------------------------------]   0% 0/1\n",
      "\u001b[1A\u001b[2K\u001b[1A\u001b[2KCollecting 1 genome record [------------------------------------------------]   0% 0/1\n",
      "\u001b[1A\u001b[2K\u001b[1A\u001b[2KCollecting 1 genome record [------------------------------------------------]   0% 0/1\n",
      "\u001b[1A\u001b[2K\u001b[1A\u001b[2KCollecting 1 genome record [------------------------------------------------]   0% 0/1\n",
      "\u001b[1A\u001b[2K\u001b[1A\u001b[2KCollecting 1 genome record [================================================] 100% 1/1\n",
      "\u001b[1A\u001b[2K\u001b[1A\u001b[2KCollecting 1 genome record [================================================] 100% 1/1\n",
      "\u001b[1A\u001b[2K\u001b[1A\u001b[2KCollecting 1 genome record [================================================] 100% 1/1\n",
      "\u001b[1A\u001b[2K\u001b[1A\u001b[2KCollecting 1 genome record [================================================] 100% 1/1\n",
      "\u001b[1A\u001b[2K\u001b[1A\u001b[2KCollecting 1 genome record [================================================] 100% 1/1\n",
      "\u001b[1A\u001b[2K\u001b[1A\u001b[2KCollecting 1 genome record [================================================] 100% 1/1\n",
      "\u001b[1A\u001b[2K\u001b[1A\u001b[2KCollecting 1 genome record [================================================] 100% 1/1\n",
      "\u001b[1A\u001b[2K\u001b[1A\u001b[2KCollecting 1 genome record [================================================] 100% 1/1\n",
      "\u001b[1A\u001b[2K\u001b[1A\u001b[2KCollecting 1 genome record [================================================] 100% 1/1\n",
      "\u001b[1A\u001b[2K\u001b[1A\u001b[2KCollecting 1 genome record [================================================] 100% 1/1\n",
      "\u001b[1A\u001b[2K\u001b[1A\u001b[2KCollecting 1 genome record [================================================] 100% 1/1\n",
      "\u001b[1A\u001b[2K\u001b[1A\u001b[2KCollecting 1 genome record [================================================] 100% 1/1\n",
      "\u001b[1A\u001b[2K\u001b[1A\u001b[2KCollecting 1 genome record [================================================] 100% 1/1\n",
      "\u001b[1A\u001b[2K\u001b[1A\u001b[2KCollecting 1 genome record [================================================] 100% 1/1\n",
      "\u001b[1A\u001b[2K\u001b[1A\u001b[2KCollecting 1 genome record [================================================] 100% 1/1\n",
      "\u001b[1A\u001b[2K\u001b[1A\u001b[2KCollecting 1 genome record [================================================] 100% 1/1\n",
      "\u001b[1A\u001b[2K\u001b[1A\u001b[2KCollecting 1 genome record [================================================] 100% 1/1\n",
      "\u001b[1A\u001b[2K\u001b[1A\u001b[2KCollecting 1 genome record [================================================] 100% 1/1\n",
      "\u001b[1A\u001b[2K\u001b[1A\u001b[2KCollecting 1 genome record [================================================] 100% 1/1\n",
      "\u001b[1A\u001b[2K\u001b[1A\u001b[2KCollecting 1 genome record [================================================] 100% 1/1\n",
      "\u001b[1A\u001b[2K\u001b[1A\u001b[2KCollecting 1 genome record [================================================] 100% 1/1\n",
      "\u001b[1A\u001b[2K\u001b[1A\u001b[2KCollecting 1 genome record [================================================] 100% 1/1\n",
      "\u001b[1A\u001b[2K\u001b[1A\u001b[2KCollecting 1 genome record [================================================] 100% 1/1\n",
      "\u001b[1A\u001b[2K\u001b[1A\u001b[2KCollecting 1 genome record [================================================] 100% 1/1\n",
      "Downloading: GCF_000005845.2.zip    2.4kB 26.8MB/s\n",
      "\u001b[1A\u001b[2K\u001b[1A\u001b[2K\u001b[1A\u001b[2KCollecting 1 genome record [================================================] 100% 1/1\n",
      "Downloading: GCF_000005845.2.zip    2.4kB 26.8MB/s\n",
      "\u001b[1A\u001b[2K\u001b[1A\u001b[2K\u001b[1A\u001b[2KCollecting 1 genome record [================================================] 100% 1/1\n",
      "Downloading: GCF_000005845.2.zip    2.4kB 26.8MB/s\n",
      "\u001b[1A\u001b[2K\u001b[1A\u001b[2K\u001b[1A\u001b[2KCollecting 1 genome record [================================================] 100% 1/1\n",
      "Downloading: GCF_000005845.2.zip    2.4kB 26.8MB/s\n",
      "\u001b[1A\u001b[2K\u001b[1A\u001b[2K\u001b[1A\u001b[2KCollecting 1 genome record [================================================] 100% 1/1\n",
      "Downloading: GCF_000005845.2.zip    2.4kB 26.8MB/s\n",
      "\u001b[1A\u001b[2K\u001b[1A\u001b[2K\u001b[1A\u001b[2KCollecting 1 genome record [================================================] 100% 1/1\n",
      "Downloading: GCF_000005845.2.zip    2.4kB 26.8MB/s\n",
      "\u001b[1A\u001b[2K\u001b[1A\u001b[2K\u001b[1A\u001b[2KCollecting 1 genome record [================================================] 100% 1/1\n",
      "Downloading: GCF_000005845.2.zip    2.49kB 41.1kB/s\n",
      "\u001b[1A\u001b[2K\u001b[1A\u001b[2K\u001b[1A\u001b[2KCollecting 1 genome record [================================================] 100% 1/1\n",
      "Downloading: GCF_000005845.2.zip    2.49kB 41.1kB/s\n",
      "\u001b[1A\u001b[2K\u001b[1A\u001b[2K\u001b[1A\u001b[2KCollecting 1 genome record [================================================] 100% 1/1\n",
      "Downloading: GCF_000005845.2.zip    2.49kB 41.1kB/s\n",
      "\u001b[1A\u001b[2K\u001b[1A\u001b[2K\u001b[1A\u001b[2KCollecting 1 genome record [================================================] 100% 1/1\n",
      "Downloading: GCF_000005845.2.zip    2.49kB 41.1kB/s\n",
      "\u001b[1A\u001b[2K\u001b[1A\u001b[2K\u001b[1A\u001b[2KCollecting 1 genome record [================================================] 100% 1/1\n",
      "Downloading: GCF_000005845.2.zip    2.49kB 41.1kB/s\n",
      "\u001b[1A\u001b[2K\u001b[1A\u001b[2K\u001b[1A\u001b[2KCollecting 1 genome record [================================================] 100% 1/1\n",
      "Downloading: GCF_000005845.2.zip    2.49kB 41.1kB/s\n",
      "\u001b[1A\u001b[2K\u001b[1A\u001b[2K\u001b[1A\u001b[2KCollecting 1 genome record [================================================] 100% 1/1\n",
      "Downloading: GCF_000005845.2.zip    2.49kB 41.1kB/s\n",
      "\u001b[1A\u001b[2K\u001b[1A\u001b[2K\u001b[1A\u001b[2KCollecting 1 genome record [================================================] 100% 1/1\n",
      "Downloading: GCF_000005845.2.zip    2.49kB 41.1kB/s\n",
      "\u001b[1A\u001b[2K\u001b[1A\u001b[2K\u001b[1A\u001b[2KCollecting 1 genome record [================================================] 100% 1/1\n",
      "Downloading: GCF_000005845.2.zip    2.49kB 41.1kB/s\n",
      "\u001b[1A\u001b[2K\u001b[1A\u001b[2K\u001b[1A\u001b[2KCollecting 1 genome record [================================================] 100% 1/1\n",
      "Downloading: GCF_000005845.2.zip    2.49kB 41.1kB/s\n",
      "\u001b[1A\u001b[2K\u001b[1A\u001b[2K\u001b[1A\u001b[2KCollecting 1 genome record [================================================] 100% 1/1\n",
      "Downloading: GCF_000005845.2.zip    2.49kB 41.1kB/s\n",
      "\u001b[1A\u001b[2K\u001b[1A\u001b[2K\u001b[1A\u001b[2KCollecting 1 genome record [================================================] 100% 1/1\n",
      "Downloading: GCF_000005845.2.zip    2.49kB 41.1kB/s\n",
      "\u001b[1A\u001b[2K\u001b[1A\u001b[2K\u001b[1A\u001b[2KCollecting 1 genome record [================================================] 100% 1/1\n",
      "Downloading: GCF_000005845.2.zip    2.49kB 41.1kB/s\n",
      "\u001b[1A\u001b[2K\u001b[1A\u001b[2K\u001b[1A\u001b[2KCollecting 1 genome record [================================================] 100% 1/1\n",
      "Downloading: GCF_000005845.2.zip    2.49kB 41.1kB/s\n",
      "\u001b[1A\u001b[2K\u001b[1A\u001b[2K\u001b[1A\u001b[2KCollecting 1 genome record [================================================] 100% 1/1\n",
      "Downloading: GCF_000005845.2.zip    32.8kB 153kB/s\n",
      "\u001b[1A\u001b[2K\u001b[1A\u001b[2K\u001b[1A\u001b[2KCollecting 1 genome record [================================================] 100% 1/1\n",
      "Downloading: GCF_000005845.2.zip    32.8kB 153kB/s\n",
      "\u001b[1A\u001b[2K\u001b[1A\u001b[2K\u001b[1A\u001b[2KCollecting 1 genome record [================================================] 100% 1/1\n",
      "Downloading: GCF_000005845.2.zip    32.8kB 153kB/s\n",
      "\u001b[1A\u001b[2K\u001b[1A\u001b[2K\u001b[1A\u001b[2KCollecting 1 genome record [================================================] 100% 1/1\n",
      "Downloading: GCF_000005845.2.zip    32.8kB 153kB/s\n",
      "\u001b[1A\u001b[2K\u001b[1A\u001b[2K\u001b[1A\u001b[2KCollecting 1 genome record [================================================] 100% 1/1\n",
      "Downloading: GCF_000005845.2.zip    32.8kB 153kB/s\n",
      "\u001b[1A\u001b[2K\u001b[1A\u001b[2K\u001b[1A\u001b[2KCollecting 1 genome record [================================================] 100% 1/1\n",
      "Downloading: GCF_000005845.2.zip    32.8kB 153kB/s\n",
      "\u001b[1A\u001b[2K\u001b[1A\u001b[2K\u001b[1A\u001b[2KCollecting 1 genome record [================================================] 100% 1/1\n",
      "Downloading: GCF_000005845.2.zip    32.8kB 153kB/s\n",
      "\u001b[1A\u001b[2K\u001b[1A\u001b[2K\u001b[1A\u001b[2KCollecting 1 genome record [================================================] 100% 1/1\n",
      "Downloading: GCF_000005845.2.zip    32.8kB 153kB/s\n",
      "\u001b[1A\u001b[2K\u001b[1A\u001b[2K\u001b[1A\u001b[2KCollecting 1 genome record [================================================] 100% 1/1\n",
      "Downloading: GCF_000005845.2.zip    32.8kB 153kB/s\n",
      "\u001b[1A\u001b[2K\u001b[1A\u001b[2K\u001b[1A\u001b[2KCollecting 1 genome record [================================================] 100% 1/1\n",
      "Downloading: GCF_000005845.2.zip    32.8kB 153kB/s\n",
      "\u001b[1A\u001b[2K\u001b[1A\u001b[2K\u001b[1A\u001b[2KCollecting 1 genome record [================================================] 100% 1/1\n",
      "Downloading: GCF_000005845.2.zip    32.8kB 153kB/s\n",
      "\u001b[1A\u001b[2K\u001b[1A\u001b[2K\u001b[1A\u001b[2KCollecting 1 genome record [================================================] 100% 1/1\n",
      "Downloading: GCF_000005845.2.zip    32.8kB 153kB/s\n",
      "\u001b[1A\u001b[2K\u001b[1A\u001b[2K\u001b[1A\u001b[2KCollecting 1 genome record [================================================] 100% 1/1\n",
      "Downloading: GCF_000005845.2.zip    65.5kB 186kB/s\n",
      "\u001b[1A\u001b[2K\u001b[1A\u001b[2K\u001b[1A\u001b[2KCollecting 1 genome record [================================================] 100% 1/1\n",
      "Downloading: GCF_000005845.2.zip    65.5kB 186kB/s\n",
      "\u001b[1A\u001b[2K\u001b[1A\u001b[2K\u001b[1A\u001b[2KCollecting 1 genome record [================================================] 100% 1/1\n",
      "Downloading: GCF_000005845.2.zip    65.5kB 186kB/s\n",
      "\u001b[1A\u001b[2K\u001b[1A\u001b[2K\u001b[1A\u001b[2KCollecting 1 genome record [================================================] 100% 1/1\n",
      "Downloading: GCF_000005845.2.zip    65.5kB 186kB/s\n",
      "\u001b[1A\u001b[2K\u001b[1A\u001b[2K\u001b[1A\u001b[2KCollecting 1 genome record [================================================] 100% 1/1\n",
      "Downloading: GCF_000005845.2.zip    65.5kB 186kB/s\n",
      "\u001b[1A\u001b[2K\u001b[1A\u001b[2K\u001b[1A\u001b[2KCollecting 1 genome record [================================================] 100% 1/1\n",
      "Downloading: GCF_000005845.2.zip    65.5kB 186kB/s\n",
      "\u001b[1A\u001b[2K\u001b[1A\u001b[2K\u001b[1A\u001b[2KCollecting 1 genome record [================================================] 100% 1/1\n",
      "Downloading: GCF_000005845.2.zip    98.3kB 234kB/s\n",
      "\u001b[1A\u001b[2K\u001b[1A\u001b[2K\u001b[1A\u001b[2KCollecting 1 genome record [================================================] 100% 1/1\n",
      "Downloading: GCF_000005845.2.zip    98.3kB 234kB/s\n",
      "\u001b[1A\u001b[2K\u001b[1A\u001b[2K\u001b[1A\u001b[2KCollecting 1 genome record [================================================] 100% 1/1\n",
      "Downloading: GCF_000005845.2.zip    98.3kB 234kB/s\n",
      "\u001b[1A\u001b[2K\u001b[1A\u001b[2K\u001b[1A\u001b[2KCollecting 1 genome record [================================================] 100% 1/1\n",
      "Downloading: GCF_000005845.2.zip    98.3kB 234kB/s\n",
      "\u001b[1A\u001b[2K\u001b[1A\u001b[2K\u001b[1A\u001b[2KCollecting 1 genome record [================================================] 100% 1/1\n",
      "Downloading: GCF_000005845.2.zip    98.3kB 234kB/s\n",
      "\u001b[1A\u001b[2K\u001b[1A\u001b[2K\u001b[1A\u001b[2KCollecting 1 genome record [================================================] 100% 1/1\n",
      "Downloading: GCF_000005845.2.zip    98.3kB 234kB/s\n",
      "\u001b[1A\u001b[2K\u001b[1A\u001b[2K\u001b[1A\u001b[2KCollecting 1 genome record [================================================] 100% 1/1\n",
      "Downloading: GCF_000005845.2.zip    98.3kB 234kB/s\n",
      "\u001b[1A\u001b[2K\u001b[1A\u001b[2K\u001b[1A\u001b[2KCollecting 1 genome record [================================================] 100% 1/1\n",
      "Downloading: GCF_000005845.2.zip    98.3kB 234kB/s\n",
      "\u001b[1A\u001b[2K\u001b[1A\u001b[2K\u001b[1A\u001b[2KCollecting 1 genome record [================================================] 100% 1/1\n",
      "Downloading: GCF_000005845.2.zip    197kB 393kB/s\n",
      "\u001b[1A\u001b[2K\u001b[1A\u001b[2K\u001b[1A\u001b[2KCollecting 1 genome record [================================================] 100% 1/1\n",
      "Downloading: GCF_000005845.2.zip    197kB 393kB/s\n",
      "\u001b[1A\u001b[2K\u001b[1A\u001b[2K\u001b[1A\u001b[2KCollecting 1 genome record [================================================] 100% 1/1\n",
      "Downloading: GCF_000005845.2.zip    197kB 393kB/s\n",
      "\u001b[1A\u001b[2K\u001b[1A\u001b[2K\u001b[1A\u001b[2KCollecting 1 genome record [================================================] 100% 1/1\n",
      "Downloading: GCF_000005845.2.zip    197kB 393kB/s\n",
      "\u001b[1A\u001b[2K\u001b[1A\u001b[2K\u001b[1A\u001b[2KCollecting 1 genome record [================================================] 100% 1/1\n",
      "Downloading: GCF_000005845.2.zip    197kB 393kB/s\n",
      "\u001b[1A\u001b[2K\u001b[1A\u001b[2K\u001b[1A\u001b[2KCollecting 1 genome record [================================================] 100% 1/1\n",
      "Downloading: GCF_000005845.2.zip    229kB 413kB/s\n",
      "\u001b[1A\u001b[2K\u001b[1A\u001b[2K\u001b[1A\u001b[2KCollecting 1 genome record [================================================] 100% 1/1\n",
      "Downloading: GCF_000005845.2.zip    229kB 413kB/s\n",
      "\u001b[1A\u001b[2K\u001b[1A\u001b[2K\u001b[1A\u001b[2KCollecting 1 genome record [================================================] 100% 1/1\n",
      "Downloading: GCF_000005845.2.zip    229kB 413kB/s\n",
      "\u001b[1A\u001b[2K\u001b[1A\u001b[2K\u001b[1A\u001b[2KCollecting 1 genome record [================================================] 100% 1/1\n",
      "Downloading: GCF_000005845.2.zip    229kB 413kB/s\n",
      "\u001b[1A\u001b[2K\u001b[1A\u001b[2K\u001b[1A\u001b[2KCollecting 1 genome record [================================================] 100% 1/1\n",
      "Downloading: GCF_000005845.2.zip    229kB 413kB/s\n",
      "\u001b[1A\u001b[2K\u001b[1A\u001b[2K\u001b[1A\u001b[2KCollecting 1 genome record [================================================] 100% 1/1\n",
      "Downloading: GCF_000005845.2.zip    229kB 413kB/s\n",
      "\u001b[1A\u001b[2K\u001b[1A\u001b[2K\u001b[1A\u001b[2KCollecting 1 genome record [================================================] 100% 1/1\n",
      "Downloading: GCF_000005845.2.zip    229kB 413kB/s\n",
      "\u001b[1A\u001b[2K\u001b[1A\u001b[2K\u001b[1A\u001b[2KCollecting 1 genome record [================================================] 100% 1/1\n",
      "Downloading: GCF_000005845.2.zip    393kB 619kB/s\n",
      "\u001b[1A\u001b[2K\u001b[1A\u001b[2K\u001b[1A\u001b[2KCollecting 1 genome record [================================================] 100% 1/1\n",
      "Downloading: GCF_000005845.2.zip    393kB 619kB/s\n",
      "\u001b[1A\u001b[2K\u001b[1A\u001b[2K\u001b[1A\u001b[2KCollecting 1 genome record [================================================] 100% 1/1\n",
      "Downloading: GCF_000005845.2.zip    393kB 619kB/s\n",
      "\u001b[1A\u001b[2K\u001b[1A\u001b[2K\u001b[1A\u001b[2KCollecting 1 genome record [================================================] 100% 1/1\n",
      "Downloading: GCF_000005845.2.zip    393kB 619kB/s\n",
      "\u001b[1A\u001b[2K\u001b[1A\u001b[2K\u001b[1A\u001b[2KCollecting 1 genome record [================================================] 100% 1/1\n",
      "Downloading: GCF_000005845.2.zip    393kB 619kB/s\n",
      "\u001b[1A\u001b[2K\u001b[1A\u001b[2K\u001b[1A\u001b[2KCollecting 1 genome record [================================================] 100% 1/1\n",
      "Downloading: GCF_000005845.2.zip    393kB 619kB/s\n",
      "\u001b[1A\u001b[2K\u001b[1A\u001b[2K\u001b[1A\u001b[2KCollecting 1 genome record [================================================] 100% 1/1\n",
      "Downloading: GCF_000005845.2.zip    459kB 653kB/s\n",
      "\u001b[1A\u001b[2K\u001b[1A\u001b[2K\u001b[1A\u001b[2KCollecting 1 genome record [================================================] 100% 1/1\n",
      "Downloading: GCF_000005845.2.zip    459kB 653kB/s\n",
      "\u001b[1A\u001b[2K\u001b[1A\u001b[2K\u001b[1A\u001b[2KCollecting 1 genome record [================================================] 100% 1/1\n",
      "Downloading: GCF_000005845.2.zip    459kB 653kB/s\n",
      "\u001b[1A\u001b[2K\u001b[1A\u001b[2K\u001b[1A\u001b[2KCollecting 1 genome record [================================================] 100% 1/1\n",
      "Downloading: GCF_000005845.2.zip    459kB 653kB/s\n",
      "\u001b[1A\u001b[2K\u001b[1A\u001b[2K\u001b[1A\u001b[2KCollecting 1 genome record [================================================] 100% 1/1\n",
      "Downloading: GCF_000005845.2.zip    459kB 653kB/s\n",
      "\u001b[1A\u001b[2K\u001b[1A\u001b[2K\u001b[1A\u001b[2KCollecting 1 genome record [================================================] 100% 1/1\n",
      "Downloading: GCF_000005845.2.zip    459kB 653kB/s\n",
      "\u001b[1A\u001b[2K\u001b[1A\u001b[2K\u001b[1A\u001b[2KCollecting 1 genome record [================================================] 100% 1/1\n",
      "Downloading: GCF_000005845.2.zip    459kB 653kB/s\n",
      "\u001b[1A\u001b[2K\u001b[1A\u001b[2K\u001b[1A\u001b[2KCollecting 1 genome record [================================================] 100% 1/1\n",
      "Downloading: GCF_000005845.2.zip    459kB 653kB/s\n",
      "\u001b[1A\u001b[2K\u001b[1A\u001b[2K\u001b[1A\u001b[2KCollecting 1 genome record [================================================] 100% 1/1\n",
      "Downloading: GCF_000005845.2.zip    557kB 715kB/s\n",
      "\u001b[1A\u001b[2K\u001b[1A\u001b[2K\u001b[1A\u001b[2KCollecting 1 genome record [================================================] 100% 1/1\n",
      "Downloading: GCF_000005845.2.zip    557kB 715kB/s\n",
      "\u001b[1A\u001b[2K\u001b[1A\u001b[2K\u001b[1A\u001b[2KCollecting 1 genome record [================================================] 100% 1/1\n",
      "Downloading: GCF_000005845.2.zip    557kB 715kB/s\n",
      "\u001b[1A\u001b[2K\u001b[1A\u001b[2K\u001b[1A\u001b[2KCollecting 1 genome record [================================================] 100% 1/1\n",
      "Downloading: GCF_000005845.2.zip    557kB 715kB/s\n",
      "\u001b[1A\u001b[2K\u001b[1A\u001b[2K\u001b[1A\u001b[2KCollecting 1 genome record [================================================] 100% 1/1\n",
      "Downloading: GCF_000005845.2.zip    557kB 715kB/s\n",
      "\u001b[1A\u001b[2K\u001b[1A\u001b[2K\u001b[1A\u001b[2KCollecting 1 genome record [================================================] 100% 1/1\n",
      "Downloading: GCF_000005845.2.zip    557kB 715kB/s\n",
      "\u001b[1A\u001b[2K\u001b[1A\u001b[2K\u001b[1A\u001b[2KCollecting 1 genome record [================================================] 100% 1/1\n",
      "Downloading: GCF_000005845.2.zip    557kB 715kB/s\n",
      "\u001b[1A\u001b[2K\u001b[1A\u001b[2K\u001b[1A\u001b[2KCollecting 1 genome record [================================================] 100% 1/1\n",
      "Downloading: GCF_000005845.2.zip    557kB 715kB/s\n",
      "\u001b[1A\u001b[2K\u001b[1A\u001b[2K\u001b[1A\u001b[2KCollecting 1 genome record [================================================] 100% 1/1\n",
      "Downloading: GCF_000005845.2.zip    557kB 715kB/s\n",
      "\u001b[1A\u001b[2K\u001b[1A\u001b[2K\u001b[1A\u001b[2KCollecting 1 genome record [================================================] 100% 1/1\n",
      "Downloading: GCF_000005845.2.zip    557kB 715kB/s\n",
      "\u001b[1A\u001b[2K\u001b[1A\u001b[2K\u001b[1A\u001b[2KCollecting 1 genome record [================================================] 100% 1/1\n",
      "Downloading: GCF_000005845.2.zip    557kB 715kB/s\n",
      "\u001b[1A\u001b[2K\u001b[1A\u001b[2K\u001b[1A\u001b[2KCollecting 1 genome record [================================================] 100% 1/1\n",
      "Downloading: GCF_000005845.2.zip    557kB 715kB/s\n",
      "\u001b[1A\u001b[2K\u001b[1A\u001b[2K\u001b[1A\u001b[2KCollecting 1 genome record [================================================] 100% 1/1\n",
      "Downloading: GCF_000005845.2.zip    590kB 642kB/s\n",
      "\u001b[1A\u001b[2K\u001b[1A\u001b[2K\u001b[1A\u001b[2KCollecting 1 genome record [================================================] 100% 1/1\n",
      "Downloading: GCF_000005845.2.zip    905kB valid zip structure -- files not checked\n",
      "Validating package [================================================] 100% 4/4\n",
      "Collecting 1 genome record [------------------------------------------------]   0% 0/1\n",
      "\u001b[1A\u001b[2K\u001b[1A\u001b[2KCollecting 1 genome record [------------------------------------------------]   0% 0/1\n",
      "\u001b[1A\u001b[2K\u001b[1A\u001b[2KCollecting 1 genome record [------------------------------------------------]   0% 0/1\n",
      "\u001b[1A\u001b[2K\u001b[1A\u001b[2KCollecting 1 genome record [------------------------------------------------]   0% 0/1\n",
      "\u001b[1A\u001b[2K\u001b[1A\u001b[2KCollecting 1 genome record [------------------------------------------------]   0% 0/1\n",
      "\u001b[1A\u001b[2K\u001b[1A\u001b[2KCollecting 1 genome record [------------------------------------------------]   0% 0/1\n",
      "\u001b[1A\u001b[2K\u001b[1A\u001b[2KCollecting 1 genome record [------------------------------------------------]   0% 0/1\n",
      "\u001b[1A\u001b[2K\u001b[1A\u001b[2KCollecting 1 genome record [------------------------------------------------]   0% 0/1\n",
      "\u001b[1A\u001b[2K\u001b[1A\u001b[2KCollecting 1 genome record [------------------------------------------------]   0% 0/1\n",
      "\u001b[1A\u001b[2K\u001b[1A\u001b[2KCollecting 1 genome record [------------------------------------------------]   0% 0/1\n",
      "\u001b[1A\u001b[2K\u001b[1A\u001b[2KCollecting 1 genome record [------------------------------------------------]   0% 0/1\n",
      "\u001b[1A\u001b[2K\u001b[1A\u001b[2KCollecting 1 genome record [------------------------------------------------]   0% 0/1\n",
      "\u001b[1A\u001b[2K\u001b[1A\u001b[2KCollecting 1 genome record [------------------------------------------------]   0% 0/1\n",
      "\u001b[1A\u001b[2K\u001b[1A\u001b[2KCollecting 1 genome record [------------------------------------------------]   0% 0/1\n",
      "\u001b[1A\u001b[2K\u001b[1A\u001b[2KCollecting 1 genome record [------------------------------------------------]   0% 0/1\n",
      "\u001b[1A\u001b[2K\u001b[1A\u001b[2KCollecting 1 genome record [------------------------------------------------]   0% 0/1\n",
      "\u001b[1A\u001b[2K\u001b[1A\u001b[2KCollecting 1 genome record [================================================] 100% 1/1\n",
      "\u001b[1A\u001b[2K\u001b[1A\u001b[2KCollecting 1 genome record [================================================] 100% 1/1\n",
      "\u001b[1A\u001b[2K\u001b[1A\u001b[2KCollecting 1 genome record [================================================] 100% 1/1\n",
      "\u001b[1A\u001b[2K\u001b[1A\u001b[2KCollecting 1 genome record [================================================] 100% 1/1\n",
      "\u001b[1A\u001b[2K\u001b[1A\u001b[2KCollecting 1 genome record [================================================] 100% 1/1\n",
      "\u001b[1A\u001b[2K\u001b[1A\u001b[2KCollecting 1 genome record [================================================] 100% 1/1\n",
      "\u001b[1A\u001b[2K\u001b[1A\u001b[2KCollecting 1 genome record [================================================] 100% 1/1\n",
      "\u001b[1A\u001b[2K\u001b[1A\u001b[2KCollecting 1 genome record [================================================] 100% 1/1\n",
      "\u001b[1A\u001b[2K\u001b[1A\u001b[2KCollecting 1 genome record [================================================] 100% 1/1\n",
      "\u001b[1A\u001b[2K\u001b[1A\u001b[2KCollecting 1 genome record [================================================] 100% 1/1\n",
      "\u001b[1A\u001b[2K\u001b[1A\u001b[2KCollecting 1 genome record [================================================] 100% 1/1\n",
      "\u001b[1A\u001b[2K\u001b[1A\u001b[2KCollecting 1 genome record [================================================] 100% 1/1\n",
      "\u001b[1A\u001b[2K\u001b[1A\u001b[2KCollecting 1 genome record [================================================] 100% 1/1\n",
      "\u001b[1A\u001b[2K\u001b[1A\u001b[2KCollecting 1 genome record [================================================] 100% 1/1\n",
      "\u001b[1A\u001b[2K\u001b[1A\u001b[2KCollecting 1 genome record [================================================] 100% 1/1\n",
      "\u001b[1A\u001b[2K\u001b[1A\u001b[2KCollecting 1 genome record [================================================] 100% 1/1\n",
      "\u001b[1A\u001b[2K\u001b[1A\u001b[2KCollecting 1 genome record [================================================] 100% 1/1\n",
      "\u001b[1A\u001b[2K\u001b[1A\u001b[2KCollecting 1 genome record [================================================] 100% 1/1\n",
      "\u001b[1A\u001b[2K\u001b[1A\u001b[2KCollecting 1 genome record [================================================] 100% 1/1\n",
      "\u001b[1A\u001b[2K\u001b[1A\u001b[2KCollecting 1 genome record [================================================] 100% 1/1\n",
      "\u001b[1A\u001b[2K\u001b[1A\u001b[2KCollecting 1 genome record [================================================] 100% 1/1\n",
      "\u001b[1A\u001b[2K\u001b[1A\u001b[2KCollecting 1 genome record [================================================] 100% 1/1\n",
      "\u001b[1A\u001b[2K\u001b[1A\u001b[2KCollecting 1 genome record [================================================] 100% 1/1\n",
      "Downloading: GCF_000008865.2.zip    3.6kB 7.53MB/s\n",
      "\u001b[1A\u001b[2K\u001b[1A\u001b[2K\u001b[1A\u001b[2KCollecting 1 genome record [================================================] 100% 1/1\n",
      "Downloading: GCF_000008865.2.zip    3.7kB 370kB/s\n",
      "\u001b[1A\u001b[2K\u001b[1A\u001b[2K\u001b[1A\u001b[2KCollecting 1 genome record [================================================] 100% 1/1\n",
      "Downloading: GCF_000008865.2.zip    3.7kB 370kB/s\n",
      "\u001b[1A\u001b[2K\u001b[1A\u001b[2K\u001b[1A\u001b[2KCollecting 1 genome record [================================================] 100% 1/1\n",
      "Downloading: GCF_000008865.2.zip    3.7kB 370kB/s\n",
      "\u001b[1A\u001b[2K\u001b[1A\u001b[2K\u001b[1A\u001b[2KCollecting 1 genome record [================================================] 100% 1/1\n",
      "Downloading: GCF_000008865.2.zip    3.7kB 370kB/s\n",
      "\u001b[1A\u001b[2K\u001b[1A\u001b[2K\u001b[1A\u001b[2KCollecting 1 genome record [================================================] 100% 1/1\n",
      "Downloading: GCF_000008865.2.zip    3.7kB 370kB/s\n",
      "\u001b[1A\u001b[2K\u001b[1A\u001b[2K\u001b[1A\u001b[2KCollecting 1 genome record [================================================] 100% 1/1\n",
      "Downloading: GCF_000008865.2.zip    3.7kB 370kB/s\n",
      "\u001b[1A\u001b[2K\u001b[1A\u001b[2K\u001b[1A\u001b[2KCollecting 1 genome record [================================================] 100% 1/1\n",
      "Downloading: GCF_000008865.2.zip    3.7kB 370kB/s\n",
      "\u001b[1A\u001b[2K\u001b[1A\u001b[2K\u001b[1A\u001b[2KCollecting 1 genome record [================================================] 100% 1/1\n",
      "Downloading: GCF_000008865.2.zip    3.7kB 370kB/s\n",
      "\u001b[1A\u001b[2K\u001b[1A\u001b[2K\u001b[1A\u001b[2KCollecting 1 genome record [================================================] 100% 1/1\n",
      "Downloading: GCF_000008865.2.zip    3.7kB 370kB/s\n",
      "\u001b[1A\u001b[2K\u001b[1A\u001b[2K\u001b[1A\u001b[2KCollecting 1 genome record [================================================] 100% 1/1\n",
      "Downloading: GCF_000008865.2.zip    3.7kB 370kB/s\n",
      "\u001b[1A\u001b[2K\u001b[1A\u001b[2K\u001b[1A\u001b[2KCollecting 1 genome record [================================================] 100% 1/1\n",
      "Downloading: GCF_000008865.2.zip    3.7kB 370kB/s\n",
      "\u001b[1A\u001b[2K\u001b[1A\u001b[2K\u001b[1A\u001b[2KCollecting 1 genome record [================================================] 100% 1/1\n",
      "Downloading: GCF_000008865.2.zip    3.7kB 370kB/s\n",
      "\u001b[1A\u001b[2K\u001b[1A\u001b[2K\u001b[1A\u001b[2KCollecting 1 genome record [================================================] 100% 1/1\n",
      "Downloading: GCF_000008865.2.zip    3.7kB 370kB/s\n",
      "\u001b[1A\u001b[2K\u001b[1A\u001b[2K\u001b[1A\u001b[2KCollecting 1 genome record [================================================] 100% 1/1\n",
      "Downloading: GCF_000008865.2.zip    3.7kB 370kB/s\n",
      "\u001b[1A\u001b[2K\u001b[1A\u001b[2K\u001b[1A\u001b[2KCollecting 1 genome record [================================================] 100% 1/1\n",
      "Downloading: GCF_000008865.2.zip    32.8kB 209kB/s\n",
      "\u001b[1A\u001b[2K\u001b[1A\u001b[2K\u001b[1A\u001b[2KCollecting 1 genome record [================================================] 100% 1/1\n",
      "Downloading: GCF_000008865.2.zip    32.8kB 209kB/s\n",
      "\u001b[1A\u001b[2K\u001b[1A\u001b[2K\u001b[1A\u001b[2KCollecting 1 genome record [================================================] 100% 1/1\n",
      "Downloading: GCF_000008865.2.zip    32.8kB 209kB/s\n",
      "\u001b[1A\u001b[2K\u001b[1A\u001b[2K\u001b[1A\u001b[2KCollecting 1 genome record [================================================] 100% 1/1\n",
      "Downloading: GCF_000008865.2.zip    32.8kB 209kB/s\n",
      "\u001b[1A\u001b[2K\u001b[1A\u001b[2K\u001b[1A\u001b[2KCollecting 1 genome record [================================================] 100% 1/1\n",
      "Downloading: GCF_000008865.2.zip    32.8kB 209kB/s\n",
      "\u001b[1A\u001b[2K\u001b[1A\u001b[2K\u001b[1A\u001b[2KCollecting 1 genome record [================================================] 100% 1/1\n",
      "Downloading: GCF_000008865.2.zip    32.8kB 209kB/s\n",
      "\u001b[1A\u001b[2K\u001b[1A\u001b[2K\u001b[1A\u001b[2KCollecting 1 genome record [================================================] 100% 1/1\n",
      "Downloading: GCF_000008865.2.zip    32.8kB 209kB/s\n",
      "\u001b[1A\u001b[2K\u001b[1A\u001b[2K\u001b[1A\u001b[2KCollecting 1 genome record [================================================] 100% 1/1\n",
      "Downloading: GCF_000008865.2.zip    32.8kB 209kB/s\n",
      "\u001b[1A\u001b[2K\u001b[1A\u001b[2K\u001b[1A\u001b[2KCollecting 1 genome record [================================================] 100% 1/1\n",
      "Downloading: GCF_000008865.2.zip    32.8kB 209kB/s\n",
      "\u001b[1A\u001b[2K\u001b[1A\u001b[2K\u001b[1A\u001b[2KCollecting 1 genome record [================================================] 100% 1/1\n",
      "Downloading: GCF_000008865.2.zip    32.8kB 209kB/s\n",
      "\u001b[1A\u001b[2K\u001b[1A\u001b[2K\u001b[1A\u001b[2KCollecting 1 genome record [================================================] 100% 1/1\n",
      "Downloading: GCF_000008865.2.zip    32.8kB 209kB/s\n",
      "\u001b[1A\u001b[2K\u001b[1A\u001b[2K\u001b[1A\u001b[2KCollecting 1 genome record [================================================] 100% 1/1\n",
      "Downloading: GCF_000008865.2.zip    32.8kB 209kB/s\n",
      "\u001b[1A\u001b[2K\u001b[1A\u001b[2K\u001b[1A\u001b[2KCollecting 1 genome record [================================================] 100% 1/1\n",
      "Downloading: GCF_000008865.2.zip    32.8kB 209kB/s\n",
      "\u001b[1A\u001b[2K\u001b[1A\u001b[2K\u001b[1A\u001b[2KCollecting 1 genome record [================================================] 100% 1/1\n",
      "Downloading: GCF_000008865.2.zip    65.5kB 219kB/s\n",
      "\u001b[1A\u001b[2K\u001b[1A\u001b[2K\u001b[1A\u001b[2KCollecting 1 genome record [================================================] 100% 1/1\n",
      "Downloading: GCF_000008865.2.zip    65.5kB 219kB/s\n",
      "\u001b[1A\u001b[2K\u001b[1A\u001b[2K\u001b[1A\u001b[2KCollecting 1 genome record [================================================] 100% 1/1\n",
      "Downloading: GCF_000008865.2.zip    65.5kB 219kB/s\n",
      "\u001b[1A\u001b[2K\u001b[1A\u001b[2K\u001b[1A\u001b[2KCollecting 1 genome record [================================================] 100% 1/1\n",
      "Downloading: GCF_000008865.2.zip    65.5kB 219kB/s\n",
      "\u001b[1A\u001b[2K\u001b[1A\u001b[2K\u001b[1A\u001b[2KCollecting 1 genome record [================================================] 100% 1/1\n",
      "Downloading: GCF_000008865.2.zip    65.5kB 219kB/s\n",
      "\u001b[1A\u001b[2K\u001b[1A\u001b[2K\u001b[1A\u001b[2KCollecting 1 genome record [================================================] 100% 1/1\n",
      "Downloading: GCF_000008865.2.zip    65.5kB 219kB/s\n",
      "\u001b[1A\u001b[2K\u001b[1A\u001b[2K\u001b[1A\u001b[2KCollecting 1 genome record [================================================] 100% 1/1\n",
      "Downloading: GCF_000008865.2.zip    65.5kB 219kB/s\n",
      "\u001b[1A\u001b[2K\u001b[1A\u001b[2K\u001b[1A\u001b[2KCollecting 1 genome record [================================================] 100% 1/1\n",
      "Downloading: GCF_000008865.2.zip    65.5kB 219kB/s\n",
      "\u001b[1A\u001b[2K\u001b[1A\u001b[2K\u001b[1A\u001b[2KCollecting 1 genome record [================================================] 100% 1/1\n",
      "Downloading: GCF_000008865.2.zip    65.5kB 219kB/s\n",
      "\u001b[1A\u001b[2K\u001b[1A\u001b[2K\u001b[1A\u001b[2KCollecting 1 genome record [================================================] 100% 1/1\n",
      "Downloading: GCF_000008865.2.zip    65.5kB 219kB/s\n",
      "\u001b[1A\u001b[2K\u001b[1A\u001b[2K\u001b[1A\u001b[2KCollecting 1 genome record [================================================] 100% 1/1\n",
      "Downloading: GCF_000008865.2.zip    65.5kB 219kB/s\n",
      "\u001b[1A\u001b[2K\u001b[1A\u001b[2K\u001b[1A\u001b[2KCollecting 1 genome record [================================================] 100% 1/1\n",
      "Downloading: GCF_000008865.2.zip    131kB 306kB/s\n",
      "\u001b[1A\u001b[2K\u001b[1A\u001b[2K\u001b[1A\u001b[2KCollecting 1 genome record [================================================] 100% 1/1\n",
      "Downloading: GCF_000008865.2.zip    164kB 376kB/s\n",
      "\u001b[1A\u001b[2K\u001b[1A\u001b[2K\u001b[1A\u001b[2KCollecting 1 genome record [================================================] 100% 1/1\n",
      "Downloading: GCF_000008865.2.zip    164kB 376kB/s\n",
      "\u001b[1A\u001b[2K\u001b[1A\u001b[2K\u001b[1A\u001b[2KCollecting 1 genome record [================================================] 100% 1/1\n",
      "Downloading: GCF_000008865.2.zip    164kB 376kB/s\n",
      "\u001b[1A\u001b[2K\u001b[1A\u001b[2K\u001b[1A\u001b[2KCollecting 1 genome record [================================================] 100% 1/1\n",
      "Downloading: GCF_000008865.2.zip    164kB 376kB/s\n",
      "\u001b[1A\u001b[2K\u001b[1A\u001b[2K\u001b[1A\u001b[2KCollecting 1 genome record [================================================] 100% 1/1\n",
      "Downloading: GCF_000008865.2.zip    197kB 405kB/s\n",
      "\u001b[1A\u001b[2K\u001b[1A\u001b[2K\u001b[1A\u001b[2KCollecting 1 genome record [================================================] 100% 1/1\n",
      "Downloading: GCF_000008865.2.zip    197kB 405kB/s\n",
      "\u001b[1A\u001b[2K\u001b[1A\u001b[2K\u001b[1A\u001b[2KCollecting 1 genome record [================================================] 100% 1/1\n",
      "Downloading: GCF_000008865.2.zip    197kB 405kB/s\n",
      "\u001b[1A\u001b[2K\u001b[1A\u001b[2K\u001b[1A\u001b[2KCollecting 1 genome record [================================================] 100% 1/1\n",
      "Downloading: GCF_000008865.2.zip    197kB 405kB/s\n",
      "\u001b[1A\u001b[2K\u001b[1A\u001b[2K\u001b[1A\u001b[2KCollecting 1 genome record [================================================] 100% 1/1\n",
      "Downloading: GCF_000008865.2.zip    197kB 405kB/s\n",
      "\u001b[1A\u001b[2K\u001b[1A\u001b[2K\u001b[1A\u001b[2KCollecting 1 genome record [================================================] 100% 1/1\n",
      "Downloading: GCF_000008865.2.zip    197kB 405kB/s\n",
      "\u001b[1A\u001b[2K\u001b[1A\u001b[2K\u001b[1A\u001b[2KCollecting 1 genome record [================================================] 100% 1/1\n",
      "Downloading: GCF_000008865.2.zip    197kB 405kB/s\n",
      "\u001b[1A\u001b[2K\u001b[1A\u001b[2K\u001b[1A\u001b[2KCollecting 1 genome record [================================================] 100% 1/1\n",
      "Downloading: GCF_000008865.2.zip    197kB 405kB/s\n",
      "\u001b[1A\u001b[2K\u001b[1A\u001b[2K\u001b[1A\u001b[2KCollecting 1 genome record [================================================] 100% 1/1\n",
      "Downloading: GCF_000008865.2.zip    295kB 521kB/s\n",
      "\u001b[1A\u001b[2K\u001b[1A\u001b[2K\u001b[1A\u001b[2KCollecting 1 genome record [================================================] 100% 1/1\n",
      "Downloading: GCF_000008865.2.zip    393kB 680kB/s\n",
      "\u001b[1A\u001b[2K\u001b[1A\u001b[2K\u001b[1A\u001b[2KCollecting 1 genome record [================================================] 100% 1/1\n",
      "Downloading: GCF_000008865.2.zip    393kB 680kB/s\n",
      "\u001b[1A\u001b[2K\u001b[1A\u001b[2K\u001b[1A\u001b[2KCollecting 1 genome record [================================================] 100% 1/1\n",
      "Downloading: GCF_000008865.2.zip    393kB 680kB/s\n",
      "\u001b[1A\u001b[2K\u001b[1A\u001b[2K\u001b[1A\u001b[2KCollecting 1 genome record [================================================] 100% 1/1\n",
      "Downloading: GCF_000008865.2.zip    393kB 680kB/s\n",
      "\u001b[1A\u001b[2K\u001b[1A\u001b[2K\u001b[1A\u001b[2KCollecting 1 genome record [================================================] 100% 1/1\n",
      "Downloading: GCF_000008865.2.zip    426kB 683kB/s\n",
      "\u001b[1A\u001b[2K\u001b[1A\u001b[2K\u001b[1A\u001b[2KCollecting 1 genome record [================================================] 100% 1/1\n",
      "Downloading: GCF_000008865.2.zip    426kB 683kB/s\n",
      "\u001b[1A\u001b[2K\u001b[1A\u001b[2K\u001b[1A\u001b[2KCollecting 1 genome record [================================================] 100% 1/1\n",
      "Downloading: GCF_000008865.2.zip    426kB 683kB/s\n",
      "\u001b[1A\u001b[2K\u001b[1A\u001b[2K\u001b[1A\u001b[2KCollecting 1 genome record [================================================] 100% 1/1\n",
      "Downloading: GCF_000008865.2.zip    426kB 683kB/s\n",
      "\u001b[1A\u001b[2K\u001b[1A\u001b[2K\u001b[1A\u001b[2KCollecting 1 genome record [================================================] 100% 1/1\n",
      "Downloading: GCF_000008865.2.zip    426kB 683kB/s\n",
      "\u001b[1A\u001b[2K\u001b[1A\u001b[2K\u001b[1A\u001b[2KCollecting 1 genome record [================================================] 100% 1/1\n",
      "Downloading: GCF_000008865.2.zip    426kB 683kB/s\n",
      "\u001b[1A\u001b[2K\u001b[1A\u001b[2K\u001b[1A\u001b[2KCollecting 1 genome record [================================================] 100% 1/1\n",
      "Downloading: GCF_000008865.2.zip    426kB 683kB/s\n",
      "\u001b[1A\u001b[2K\u001b[1A\u001b[2K\u001b[1A\u001b[2KCollecting 1 genome record [================================================] 100% 1/1\n",
      "Downloading: GCF_000008865.2.zip    426kB 683kB/s\n",
      "\u001b[1A\u001b[2K\u001b[1A\u001b[2K\u001b[1A\u001b[2KCollecting 1 genome record [================================================] 100% 1/1\n",
      "Downloading: GCF_000008865.2.zip    524kB 736kB/s\n",
      "\u001b[1A\u001b[2K\u001b[1A\u001b[2K\u001b[1A\u001b[2KCollecting 1 genome record [================================================] 100% 1/1\n",
      "Downloading: GCF_000008865.2.zip    524kB 736kB/s\n",
      "\u001b[1A\u001b[2K\u001b[1A\u001b[2K\u001b[1A\u001b[2KCollecting 1 genome record [================================================] 100% 1/1\n",
      "Downloading: GCF_000008865.2.zip    524kB 736kB/s\n",
      "\u001b[1A\u001b[2K\u001b[1A\u001b[2K\u001b[1A\u001b[2KCollecting 1 genome record [================================================] 100% 1/1\n",
      "Downloading: GCF_000008865.2.zip    524kB 736kB/s\n",
      "\u001b[1A\u001b[2K\u001b[1A\u001b[2K\u001b[1A\u001b[2KCollecting 1 genome record [================================================] 100% 1/1\n",
      "Downloading: GCF_000008865.2.zip    524kB 736kB/s\n",
      "\u001b[1A\u001b[2K\u001b[1A\u001b[2K\u001b[1A\u001b[2KCollecting 1 genome record [================================================] 100% 1/1\n",
      "Downloading: GCF_000008865.2.zip    524kB 736kB/s\n",
      "\u001b[1A\u001b[2K\u001b[1A\u001b[2K\u001b[1A\u001b[2KCollecting 1 genome record [================================================] 100% 1/1\n",
      "Downloading: GCF_000008865.2.zip    524kB 736kB/s\n",
      "\u001b[1A\u001b[2K\u001b[1A\u001b[2K\u001b[1A\u001b[2KCollecting 1 genome record [================================================] 100% 1/1\n",
      "Downloading: GCF_000008865.2.zip    524kB 736kB/s\n",
      "\u001b[1A\u001b[2K\u001b[1A\u001b[2K\u001b[1A\u001b[2KCollecting 1 genome record [================================================] 100% 1/1\n",
      "Downloading: GCF_000008865.2.zip    524kB 736kB/s\n",
      "\u001b[1A\u001b[2K\u001b[1A\u001b[2K\u001b[1A\u001b[2KCollecting 1 genome record [================================================] 100% 1/1\n",
      "Downloading: GCF_000008865.2.zip    524kB 736kB/s\n",
      "\u001b[1A\u001b[2K\u001b[1A\u001b[2K\u001b[1A\u001b[2KCollecting 1 genome record [================================================] 100% 1/1\n",
      "Downloading: GCF_000008865.2.zip    524kB 736kB/s\n",
      "\u001b[1A\u001b[2K\u001b[1A\u001b[2K\u001b[1A\u001b[2KCollecting 1 genome record [================================================] 100% 1/1\n",
      "Downloading: GCF_000008865.2.zip    524kB 736kB/s\n",
      "\u001b[1A\u001b[2K\u001b[1A\u001b[2K\u001b[1A\u001b[2KCollecting 1 genome record [================================================] 100% 1/1\n",
      "Downloading: GCF_000008865.2.zip    524kB 736kB/s\n",
      "\u001b[1A\u001b[2K\u001b[1A\u001b[2K\u001b[1A\u001b[2KCollecting 1 genome record [================================================] 100% 1/1\n",
      "Downloading: GCF_000008865.2.zip    721kB 840kB/s\n",
      "\u001b[1A\u001b[2K\u001b[1A\u001b[2K\u001b[1A\u001b[2KCollecting 1 genome record [================================================] 100% 1/1\n",
      "Downloading: GCF_000008865.2.zip    786kB 915kB/s\n",
      "\u001b[1A\u001b[2K\u001b[1A\u001b[2K\u001b[1A\u001b[2KCollecting 1 genome record [================================================] 100% 1/1\n",
      "Downloading: GCF_000008865.2.zip    786kB 915kB/s\n",
      "\u001b[1A\u001b[2K\u001b[1A\u001b[2K\u001b[1A\u001b[2KCollecting 1 genome record [================================================] 100% 1/1\n",
      "Downloading: GCF_000008865.2.zip    786kB 915kB/s\n",
      "\u001b[1A\u001b[2K\u001b[1A\u001b[2K\u001b[1A\u001b[2KCollecting 1 genome record [================================================] 100% 1/1\n",
      "Downloading: GCF_000008865.2.zip    786kB 915kB/s\n",
      "\u001b[1A\u001b[2K\u001b[1A\u001b[2K\u001b[1A\u001b[2KCollecting 1 genome record [================================================] 100% 1/1\n",
      "Downloading: GCF_000008865.2.zip    1.05MB valid zip structure -- files not checked\n",
      "Validating package [================================================] 100% 4/4\n"
     ]
    }
   ],
   "source": [
    "for i in GCF_000005845.2 GCF_000008865.2; do ./datasets download genome accession $i --include protein --filename $i.zip; done"
   ]
  },
  {
   "cell_type": "code",
   "execution_count": 4,
   "id": "a9bb37ff-b131-4489-80d9-008063d3ba56",
   "metadata": {},
   "outputs": [
    {
     "name": "stdout",
     "output_type": "stream",
     "text": [
      "Archive:  GCF_000005845.2.zip\n",
      "replace README.md? [y]es, [n]o, [A]ll, [N]one, [r]ename: \n"
     ]
    }
   ],
   "source": [
    "unzip GCF_000005845.2.zip"
   ]
  },
  {
   "cell_type": "code",
   "execution_count": 5,
   "id": "d66de5c2-645d-438f-a25b-cbe6da4f785d",
   "metadata": {},
   "outputs": [
    {
     "name": "stdout",
     "output_type": "stream",
     "text": [
      "Archive:  GCF_000008865.2.zip\n",
      "replace README.md? [y]es, [n]o, [A]ll, [N]one, [r]ename: \n"
     ]
    }
   ],
   "source": [
    "unzip GCF_000008865.2"
   ]
  },
  {
   "cell_type": "code",
   "execution_count": 8,
   "id": "cbaee64b-c7d1-49f7-a910-868b2edcc55e",
   "metadata": {},
   "outputs": [
    {
     "name": "stdout",
     "output_type": "stream",
     "text": [
      "\u001b[35m\u001b[Kec-h7.fasta\u001b[m\u001b[K\u001b[36m\u001b[K:\u001b[m\u001b[K5155\n",
      "\u001b[35m\u001b[Kec-k12.fasta\u001b[m\u001b[K\u001b[36m\u001b[K:\u001b[m\u001b[K4298\n"
     ]
    }
   ],
   "source": [
    "grep -c \">\" ec*.fasta"
   ]
  },
  {
   "cell_type": "markdown",
   "id": "6fcd0c07-8e47-411d-8f48-919672a52cbf",
   "metadata": {},
   "source": [
    "## Creating BLAST DB"
   ]
  },
  {
   "cell_type": "code",
   "execution_count": 9,
   "id": "888ec810-e873-45ba-bd6c-f783f24b04e3",
   "metadata": {},
   "outputs": [
    {
     "name": "stdout",
     "output_type": "stream",
     "text": [
      "\n",
      "\n",
      "Building a new DB, current time: 01/31/2024 19:52:34\n",
      "New DB name:   /home/ubuntu/CompBiol3/Pathogenicity/ecolik12\n",
      "New DB title:  Escherichia coli K12\n",
      "Sequence type: Protein\n",
      "Keep MBits: T\n",
      "Maximum file size: 1000000000B\n",
      "Adding sequences from FASTA; added 4298 sequences in 0.186935 seconds.\n",
      "\n",
      "\n"
     ]
    }
   ],
   "source": [
    "makeblastdb -in ec-k12.fasta -dbtype prot -title \"Escherichia coli K12\" -out ecolik12 -parse_seqids"
   ]
  },
  {
   "cell_type": "code",
   "execution_count": 12,
   "id": "5bb1f0d8-08f6-47ed-b50c-b05574609c82",
   "metadata": {},
   "outputs": [
    {
     "name": "stdout",
     "output_type": "stream",
     "text": [
      "-rw-rw-r-- 1 ubuntu ubuntu  253952 Jan 31 19:52 ecolik12.pdb\n",
      "-rw-rw-r-- 1 ubuntu ubuntu  595183 Jan 31 19:52 ecolik12.phr\n",
      "-rw-rw-r-- 1 ubuntu ubuntu   34488 Jan 31 19:52 ecolik12.pin\n",
      "-rw-rw-r-- 1 ubuntu ubuntu   17224 Jan 31 19:52 ecolik12.pog\n",
      "-rw-rw-r-- 1 ubuntu ubuntu   86595 Jan 31 19:52 ecolik12.pos\n",
      "-rw-rw-r-- 1 ubuntu ubuntu   51584 Jan 31 19:52 ecolik12.pot\n",
      "-rw-rw-r-- 1 ubuntu ubuntu 1334279 Jan 31 19:52 ecolik12.psq\n",
      "-rw-rw-r-- 1 ubuntu ubuntu   16384 Jan 31 19:52 ecolik12.ptf\n",
      "-rw-rw-r-- 1 ubuntu ubuntu   17196 Jan 31 19:52 ecolik12.pto\n"
     ]
    }
   ],
   "source": [
    "ls -l ecolik12*"
   ]
  },
  {
   "cell_type": "markdown",
   "id": "acc24c31-05e4-42d2-b1f0-12c9ca93385a",
   "metadata": {},
   "source": [
    "## BLASTing"
   ]
  },
  {
   "cell_type": "code",
   "execution_count": 13,
   "id": "975dcce7-f241-42e5-a744-9fed974f6217",
   "metadata": {},
   "outputs": [
    {
     "name": "stdout",
     "output_type": "stream",
     "text": [
      "\n",
      "real\t2m18.252s\n",
      "user\t2m17.538s\n",
      "sys\t0m0.559s\n"
     ]
    }
   ],
   "source": [
    "time blastp -db ecolik12 -query ec-h7.fasta -out h7vsk12.txt -evalue .00001"
   ]
  },
  {
   "cell_type": "code",
   "execution_count": 15,
   "id": "d8e3771d-d59c-4f37-b404-4ccda2bcd28f",
   "metadata": {},
   "outputs": [
    {
     "name": "stdout",
     "output_type": "stream",
     "text": [
      "-rw------- 1 ubuntu ubuntu 2.0M Jan 31 12:48 ec-h7.fasta\n",
      "-rw------- 1 ubuntu ubuntu 1.7M Jan 31 12:48 ec-k12.fasta\n",
      "-rw-rw-r-- 1 ubuntu ubuntu  31M Jan 31 22:01 h7vsk12.txt\n"
     ]
    }
   ],
   "source": [
    "ls -lh ec-* h7*"
   ]
  },
  {
   "cell_type": "code",
   "execution_count": 16,
   "id": "467f76b7-4fc4-4ece-902c-91266ea0fdc4",
   "metadata": {},
   "outputs": [
    {
     "name": "stdout",
     "output_type": "stream",
     "text": [
      "702235 h7vsk12.txt\n"
     ]
    }
   ],
   "source": [
    "wc -l h7vsk12.txt"
   ]
  },
  {
   "cell_type": "markdown",
   "id": "cf0f8308-81a7-427e-94a6-afc50283a271",
   "metadata": {},
   "source": [
    "## Processing the BLAST Result File"
   ]
  },
  {
   "cell_type": "code",
   "execution_count": 17,
   "id": "c0c6c623-292e-43c9-bfdc-95f2242d239d",
   "metadata": {},
   "outputs": [
    {
     "name": "stdout",
     "output_type": "stream",
     "text": [
      "Query= NP_052604.1 plasmid mobilization (plasmid) [Escherichia coli O157:H7\n",
      "***** No hits found *****\n",
      "Query= NP_052605.1 hypothetical protein pOSAK1_02 (plasmid) [Escherichia\n",
      "***** No hits found *****\n",
      "Query= NP_052606.1 hypothetical protein pOSAK1_03 (plasmid) [Escherichia\n",
      "Query= NP_052607.1 ToxR-regulated lipoprotein (plasmid) [Escherichia coli\n",
      "***** No hits found *****\n",
      "Query= NP_052608.1 EtpC (plasmid) [Escherichia coli O157:H7 str. Sakai]\n",
      "Query= NP_052609.1 EtpD (plasmid) [Escherichia coli O157:H7 str. Sakai]\n",
      "Query= NP_052610.1 EtpE (plasmid) [Escherichia coli O157:H7 str. Sakai]\n",
      "Query= NP_052611.1 EtpF (plasmid) [Escherichia coli O157:H7 str. Sakai]\n",
      "Query= NP_052612.1 EtpG (plasmid) [Escherichia coli O157:H7 str. Sakai]\n",
      "Query= NP_052613.1 EtpH (plasmid) [Escherichia coli O157:H7 str. Sakai]\n",
      "Query= NP_052614.1 EtpI (plasmid) [Escherichia coli O157:H7 str. Sakai]\n",
      "Query= NP_052615.1 EptJ (plasmid) [Escherichia coli O157:H7 str. Sakai]\n",
      "Query= NP_052616.1 EtpK (plasmid) [Escherichia coli O157:H7 str. Sakai]\n",
      "Query= NP_052617.1 EtpL (plasmid) [Escherichia coli O157:H7 str. Sakai]\n",
      "Query= NP_052618.1 EtpM (plasmid) [Escherichia coli O157:H7 str. Sakai]\n",
      "Query= NP_052619.1 EptN (plasmid) [Escherichia coli O157:H7 str. Sakai]\n",
      "Query= NP_052620.1 EptO (plasmid) [Escherichia coli O157:H7 str. Sakai]\n"
     ]
    }
   ],
   "source": [
    "awk '/Query=/ || /No hits/{print}' h7vsk12.txt | head -20"
   ]
  },
  {
   "cell_type": "code",
   "execution_count": 18,
   "id": "2e40dae4-f31a-4bd1-a018-585e74a0ecca",
   "metadata": {},
   "outputs": [
    {
     "name": "stdout",
     "output_type": "stream",
     "text": [
      "Query= NP_052604.1 plasmid mobilization (plasmid) [Escherichia coli O157:H7\n",
      "Query= NP_052605.1 hypothetical protein pOSAK1_02 (plasmid) [Escherichia\n",
      "Query= NP_052607.1 ToxR-regulated lipoprotein (plasmid) [Escherichia coli\n",
      "Query= NP_052620.1 EptO (plasmid) [Escherichia coli O157:H7 str. Sakai]\n",
      "Query= NP_052621.1 hypothetical protein pO157p15 (plasmid) [Escherichia\n",
      "Query= NP_052623.1 hemolysin C (plasmid) [Escherichia coli O157:H7 str.\n",
      "Query= NP_052624.1 hemolysin A (plasmid) [Escherichia coli O157:H7 str.\n",
      "Query= NP_052626.1 hemolysin D (plasmid) [Escherichia coli O157:H7 str.\n",
      "Query= NP_052629.1 hypothetical protein pO157p23 (plasmid) [Escherichia\n",
      "Query= NP_052630.2 RepFIB (plasmid) [Escherichia coli O157:H7 str. Sakai]\n"
     ]
    }
   ],
   "source": [
    "awk '/Query=/ || /No hits/{print $0}' h7vsk12.txt | awk '{line[NR]=$0; if($0~/No hits/){print line[NR-1]}}' | head"
   ]
  },
  {
   "cell_type": "code",
   "execution_count": 19,
   "id": "a77164b4-f493-4c75-bf4d-973c3f989a8a",
   "metadata": {},
   "outputs": [
    {
     "name": "stdout",
     "output_type": "stream",
     "text": [
      "981\n"
     ]
    }
   ],
   "source": [
    "awk '/Query=/ || /No hits/{print $0}' h7vsk12.txt | awk '{line[NR]=$0; if($0~/No hits/){print line[NR-1]}}' | wc -l"
   ]
  },
  {
   "cell_type": "code",
   "execution_count": 20,
   "id": "a26a643b-1131-4623-8230-126806c1e2ca",
   "metadata": {},
   "outputs": [
    {
     "name": "stdout",
     "output_type": "stream",
     "text": [
      "Query= NP_052604.1 plasmid mobilization (plasmid) [Escherichia coli O157:H7\n",
      "Query= NP_052607.1 ToxR-regulated lipoprotein (plasmid) [Escherichia coli\n",
      "Query= NP_052620.1 EptO (plasmid) [Escherichia coli O157:H7 str. Sakai]\n",
      "Query= NP_052623.1 hemolysin C (plasmid) [Escherichia coli O157:H7 str.\n",
      "Query= NP_052624.1 hemolysin A (plasmid) [Escherichia coli O157:H7 str.\n",
      "Query= NP_052626.1 hemolysin D (plasmid) [Escherichia coli O157:H7 str.\n",
      "Query= NP_052630.2 RepFIB (plasmid) [Escherichia coli O157:H7 str. Sakai]\n",
      "Query= NP_052633.1 KfrAs (plasmid) [Escherichia coli O157:H7 str. Sakai]\n",
      "Query= NP_052634.1 plasmid maintenance protein CcdA (plasmid) [Escherichia\n",
      "Query= NP_052635.1 plasmid maintenance protein CcdB (plasmid) [Escherichia\n",
      "Query= NP_052640.1 plasmid-partitioning protein SopA (plasmid) [Escherichia\n",
      "Query= NP_052641.1 plasmid-partitioning protein (plasmid) [Escherichia coli\n",
      "Query= NP_052658.1 plasmid SOS inhibition protein B (plasmid) [Escherichia\n",
      "Query= NP_052659.1 plasmid SOS inhibition protein A (plasmid) [Escherichia\n",
      "Query= NP_052661.1 NikB (plasmid) [Escherichia coli O157:H7 str. Sakai]\n",
      "Query= NP_052664.1 transposase (plasmid) [Escherichia coli O157:H7 str.\n",
      "Query= NP_052665.1 toxin B (plasmid) [Escherichia coli O157:H7 str. Sakai]\n",
      "Query= NP_052669.1 conjugal transfer pilus acetylation protein TraX\n",
      "Query= NP_052671.1 conjugal transfer fertility inhibition protein FinO\n",
      "Query= NP_052672.1 hypothetica protein (plasmid) [Escherichia coli O157:H7\n"
     ]
    }
   ],
   "source": [
    "awk '/Query=/ || /No hits/{print $0}' h7vsk12.txt | awk '{line[NR]=$0; if($0~/No hits/){print line[NR-1]}}' | egrep -v \"([Uu]nknown| [Pp]utative|[Hh]ypothetical|[Uu]ncharacterized)\" | head -20"
   ]
  },
  {
   "cell_type": "code",
   "execution_count": 21,
   "id": "f6816222-a73e-4eb5-99e5-0c4924926034",
   "metadata": {},
   "outputs": [
    {
     "name": "stdout",
     "output_type": "stream",
     "text": [
      "603\n"
     ]
    }
   ],
   "source": [
    "awk '/Query=/ || /No hits/{print $0}' h7vsk12.txt | awk '{line[NR]=$0; if($0~/No hits/){print line[NR-1]}}' | egrep -v \"([Uu]nknown| [Pp]utative|[Hh]ypothetical|[Uu]ncharacterized)\" | wc -l"
   ]
  },
  {
   "cell_type": "markdown",
   "id": "1890315a-c7c5-4a92-aed1-306fe74a44f3",
   "metadata": {},
   "source": [
    "## Playing with the E-Value"
   ]
  },
  {
   "cell_type": "markdown",
   "id": "5ec3cb12-3b62-4cef-b231-cada8a05213b",
   "metadata": {},
   "source": [
    "``` \n",
    "#!/bin/bash\r\n",
    "# save as autoblast.sh\r\n",
    "# loops through E-value\r\n",
    "for i in 1 0.001 0.00001\r\n",
    "do\r\n",
    "echo \"Working on h7vsk12-$i.txt\"\r\n",
    "blastp -db ecolik12 -query ec-h7.faa -out h7vsk12-$i.txt -evalue $i\r\n",
    "done"
   ]
  },
  {
   "cell_type": "code",
   "execution_count": 23,
   "id": "5d6adecc-20b0-4214-baf2-c8a74ab0a128",
   "metadata": {},
   "outputs": [
    {
     "name": "stdout",
     "output_type": "stream",
     "text": [
      "Working on h7vsk12-1.txt\n",
      "Working on h7vsk12-0.001.txt\n",
      "Working on h7vsk12-0.00001.txt\n",
      "\n",
      "real\t5m22.424s\n",
      "user\t5m21.410s\n",
      "sys\t0m0.920s\n"
     ]
    }
   ],
   "source": [
    "time ./autoblast.sh"
   ]
  },
  {
   "cell_type": "code",
   "execution_count": 24,
   "id": "87795079-d224-47ee-874d-1d44fb8eea69",
   "metadata": {},
   "outputs": [
    {
     "name": "stdout",
     "output_type": "stream",
     "text": [
      "h7vsk12-0.00001.txt  h7vsk12-0.001.txt  h7vsk12-1.txt  h7vsk12.txt\n"
     ]
    }
   ],
   "source": [
    "ls h7vsk12*"
   ]
  },
  {
   "cell_type": "code",
   "execution_count": 25,
   "id": "e42dd48b-c460-408e-a3ca-d2c854419d13",
   "metadata": {},
   "outputs": [
    {
     "name": "stdout",
     "output_type": "stream",
     "text": [
      "   702235 h7vsk12-0.00001.txt\n",
      "   759626 h7vsk12-0.001.txt\n",
      "   931852 h7vsk12-1.txt\n",
      "   702235 h7vsk12.txt\n",
      "  3095948 total\n"
     ]
    }
   ],
   "source": [
    "wc -l h7vsk12*"
   ]
  },
  {
   "cell_type": "code",
   "execution_count": 26,
   "id": "fa70dd3c-d288-42fe-a7bb-27c2edcb0e6e",
   "metadata": {},
   "outputs": [
    {
     "name": "stdout",
     "output_type": "stream",
     "text": [
      "h7vsk12-0.00001.txt : 981\n",
      "h7vsk12-0.001.txt : 939\n",
      "h7vsk12-1.txt : 423\n"
     ]
    }
   ],
   "source": [
    "for i in h7vsk12-*; do echo -n $i\" : \"; awk '/Query=/ || /No hits/{print $0}' $i | awk '{line[NR]=$0; if($0~/No hits/){print line[NR-1]}}' | wc -l; done"
   ]
  },
  {
   "cell_type": "code",
   "execution_count": 27,
   "id": "64b0263d-bb2f-40ac-8783-c9d9e010bb0c",
   "metadata": {},
   "outputs": [
    {
     "name": "stdout",
     "output_type": "stream",
     "text": [
      "h7vsk12-0.00001.txt : 603\n",
      "h7vsk12-0.001.txt : 573\n",
      "h7vsk12-1.txt : 241\n"
     ]
    }
   ],
   "source": [
    "for i in h7vsk12-*; do echo -n $i\" : \"; awk '/Query=/ || /No hits/{print $0}' $i | awk '{line[NR]=$0; if($0~/No hits/){print line[NR-1]}}' | egrep -v \"([Uu]nknown|[Pp]utative|[Hh]ypothetical)|[Uu]ncharacterized)\" | wc -l; done"
   ]
  },
  {
   "cell_type": "code",
   "execution_count": null,
   "id": "447630be-6a09-42dd-a3f9-e4a94819ce45",
   "metadata": {},
   "outputs": [],
   "source": []
  }
 ],
 "metadata": {
  "kernelspec": {
   "display_name": "Bash",
   "language": "bash",
   "name": "bash"
  },
  "language_info": {
   "codemirror_mode": "shell",
   "file_extension": ".sh",
   "mimetype": "text/x-sh",
   "name": "bash"
  }
 },
 "nbformat": 4,
 "nbformat_minor": 5
}
