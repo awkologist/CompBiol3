{
 "cells": [
  {
   "cell_type": "markdown",
   "id": "1edad80f-922c-481a-b4f4-95354c0915db",
   "metadata": {},
   "source": [
    "# AWK"
   ]
  },
  {
   "cell_type": "code",
   "execution_count": 10,
   "id": "121573b1-153e-4605-8a83-9709acf2d32a",
   "metadata": {},
   "outputs": [
    {
     "name": "stdout",
     "output_type": "stream",
     "text": [
      "\n"
     ]
    }
   ],
   "source": [
    "cat>enzyme.txt\n",
    "Enzyme      Km\n",
    "Protease    2.5\n",
    "Hydrolase   0.4\n",
    "ATPase      1.2"
   ]
  },
  {
   "cell_type": "code",
   "execution_count": 4,
   "id": "652d126e-a725-430c-b526-030687a0f76c",
   "metadata": {},
   "outputs": [
    {
     "name": "stdout",
     "output_type": "stream",
     "text": [
      "Enzyme      Km\n",
      "Protease    2.5\n",
      "Hydrolase   0.4\n",
      "ATPase      1.2\n"
     ]
    }
   ],
   "source": [
    "cat enzyme.txt"
   ]
  },
  {
   "cell_type": "code",
   "execution_count": 5,
   "id": "162329ba-3db2-430d-a551-1a428a1bb1fc",
   "metadata": {},
   "outputs": [
    {
     "name": "stdout",
     "output_type": "stream",
     "text": [
      "Hydrolase\n"
     ]
    }
   ],
   "source": [
    "awk '$2 < 1 {print $1}' enzyme.txt"
   ]
  },
  {
   "cell_type": "code",
   "execution_count": 7,
   "id": "e690abed-f07b-4f35-805b-d545e5b201b9",
   "metadata": {},
   "outputs": [
    {
     "name": "stdout",
     "output_type": "stream",
     "text": [
      "ubuntu:x:1000:1000:Ubuntu:/home/ubuntu:/bin/bash\n"
     ]
    }
   ],
   "source": [
    "awk -F\":\" '/ubuntu/ {print $0}' /etc/passwd"
   ]
  },
  {
   "cell_type": "code",
   "execution_count": 8,
   "id": "3eb2cdc1-b25c-4693-8615-c8f81059e77a",
   "metadata": {},
   "outputs": [
    {
     "name": "stdout",
     "output_type": "stream",
     "text": [
      "ubuntu uses /bin/bash\n"
     ]
    }
   ],
   "source": [
    "awk -F\":\" '/ubuntu/ {print $1 \" uses \" $7}' /etc/passwd"
   ]
  },
  {
   "cell_type": "code",
   "execution_count": 12,
   "id": "740dbf85-fada-483d-b9e8-7a96f16eb92b",
   "metadata": {},
   "outputs": [
    {
     "name": "stdout",
     "output_type": "stream",
     "text": [
      "H. sapiens (human) - 3400000000 bp - 30000 genes\n",
      "A. thaliana (plant) - 100000000 bp - 25000 genes\n",
      "S. cerevisiae (yeast) - 12100000 bp - 6034 genes\n",
      "E. coli (bacteria) - 4670000 bp - 3237 genes\n"
     ]
    }
   ],
   "source": [
    "sed -n '/\\?/!s/,//gp' genomes.txt"
   ]
  },
  {
   "cell_type": "code",
   "execution_count": 13,
   "id": "1cdcd970-e373-4e2d-bb0f-687dad229f0b",
   "metadata": {},
   "outputs": [],
   "source": [
    "sed -n '/\\?/!s/,//gp' genomes.txt > genomes2.txt"
   ]
  },
  {
   "cell_type": "code",
   "execution_count": 15,
   "id": "27dc82ec-af87-4562-b8ab-8f644c847248",
   "metadata": {},
   "outputs": [
    {
     "name": "stdout",
     "output_type": "stream",
     "text": [
      "Enzyme      Km\n",
      "Protease    2.5\n",
      "Hydrolase   0.4\n",
      "ATPase      1.2\n"
     ]
    }
   ],
   "source": [
    "cat enzyme.txt"
   ]
  },
  {
   "cell_type": "code",
   "execution_count": 16,
   "id": "bcb129c9-02aa-4394-8e90-9b76f16d8595",
   "metadata": {},
   "outputs": [
    {
     "name": "stdout",
     "output_type": "stream",
     "text": [
      "Protease\n",
      "ATPase\n"
     ]
    }
   ],
   "source": [
    "awk '/2/ {print $1}' enzyme.txt"
   ]
  },
  {
   "cell_type": "code",
   "execution_count": 17,
   "id": "42488ece-2493-4f17-810b-3cc73f0605be",
   "metadata": {},
   "outputs": [
    {
     "name": "stdout",
     "output_type": "stream",
     "text": [
      "Enzyme\n",
      "Hydrolase\n"
     ]
    }
   ],
   "source": [
    "awk '!/2/ {print $1}' enzyme.txt"
   ]
  },
  {
   "cell_type": "code",
   "execution_count": 18,
   "id": "e0da9dd0-f101-4079-98b3-cf4d6416679e",
   "metadata": {},
   "outputs": [
    {
     "name": "stdout",
     "output_type": "stream",
     "text": [
      "Enzyme      Km\n"
     ]
    }
   ],
   "source": [
    "awk '$1 !~ /ase/' enzyme.txt"
   ]
  },
  {
   "cell_type": "code",
   "execution_count": 19,
   "id": "67fa832a-3177-4bd4-a31c-3b4ef9c3dc8d",
   "metadata": {},
   "outputs": [
    {
     "name": "stdout",
     "output_type": "stream",
     "text": [
      "root\n",
      "ubuntu\n"
     ]
    }
   ],
   "source": [
    "awk -F\":\" '$7 ~ /bash/ {print $1}' /etc/passwd"
   ]
  },
  {
   "cell_type": "code",
   "execution_count": 20,
   "id": "526519bc-6cc0-4c95-a0d0-5790336f309c",
   "metadata": {},
   "outputs": [
    {
     "name": "stdout",
     "output_type": "stream",
     "text": [
      "Apple\n",
      "A\n"
     ]
    }
   ],
   "source": [
    "awk '$0 < \"a\"' chars.txt"
   ]
  },
  {
   "cell_type": "code",
   "execution_count": 21,
   "id": "eca9e9b7-9b1d-437f-9ed8-fdb76e4ff4a0",
   "metadata": {},
   "outputs": [],
   "source": [
    "awk '$0 < \"A\"' chars.txt"
   ]
  },
  {
   "cell_type": "code",
   "execution_count": 22,
   "id": "46b51517-12d0-4f77-b033-e345ce5ed794",
   "metadata": {},
   "outputs": [
    {
     "name": "stdout",
     "output_type": "stream",
     "text": [
      "A\n"
     ]
    }
   ],
   "source": [
    "awk '$0 <= \"A\"' chars.txt"
   ]
  },
  {
   "cell_type": "code",
   "execution_count": 23,
   "id": "d8d3aafd-01dc-470c-92e4-267515414b1a",
   "metadata": {},
   "outputs": [
    {
     "name": "stdout",
     "output_type": "stream",
     "text": [
      "Apple\n",
      "apple\n",
      "a\n",
      "A\n"
     ]
    }
   ],
   "source": [
    "awk '$0 >= \"A\"' chars.txt"
   ]
  },
  {
   "cell_type": "code",
   "execution_count": 24,
   "id": "49017c39-90aa-4ac9-b0cf-a348454ee4f2",
   "metadata": {},
   "outputs": [
    {
     "name": "stdout",
     "output_type": "stream",
     "text": [
      "Apple\n",
      "apple\n",
      "a\n"
     ]
    }
   ],
   "source": [
    "awk '$0 > \"A\"' chars.txt"
   ]
  },
  {
   "cell_type": "code",
   "execution_count": 25,
   "id": "64eed782-cc76-4d85-a6ab-b686dcaae721",
   "metadata": {},
   "outputs": [
    {
     "name": "stdout",
     "output_type": "stream",
     "text": [
      "apple\n"
     ]
    }
   ],
   "source": [
    "awk '$0 > \"a\"' chars.txt"
   ]
  },
  {
   "cell_type": "code",
   "execution_count": 26,
   "id": "d6ee5893-50bb-41e1-b6d7-33b6987c7393",
   "metadata": {},
   "outputs": [
    {
     "name": "stdout",
     "output_type": "stream",
     "text": [
      "Protease    2.5\n",
      "Hydrolase   0.4\n"
     ]
    }
   ],
   "source": [
    "awk 'length($1) > 6' enzyme.txt"
   ]
  },
  {
   "cell_type": "code",
   "execution_count": 27,
   "id": "1a4da36e-6f12-4c4d-99b5-95f1a132db64",
   "metadata": {},
   "outputs": [
    {
     "name": "stdout",
     "output_type": "stream",
     "text": [
      "Enzyme      Km\n",
      "Protease    2.5\n"
     ]
    }
   ],
   "source": [
    "awk '$2 > 2' enzyme.txt"
   ]
  },
  {
   "cell_type": "code",
   "execution_count": 28,
   "id": "09002d03-4213-4ad3-9eca-a7f79f132874",
   "metadata": {},
   "outputs": [
    {
     "name": "stdout",
     "output_type": "stream",
     "text": [
      "Enzyme      Km\n",
      "Protease    2.5\n",
      "Hydrolase   0.4\n"
     ]
    }
   ],
   "source": [
    "awk '/En/,/Hy/' enzyme.txt"
   ]
  },
  {
   "cell_type": "code",
   "execution_count": 30,
   "id": "2c8b2f1d-d534-4c41-b057-93667d8d3b17",
   "metadata": {},
   "outputs": [
    {
     "name": "stdout",
     "output_type": "stream",
     "text": [
      "SEQRES 4 A  162  ASP GLY GLY THR ALA GLY MET GLU LEU LEU\n",
      "HELIX  1 hel ILE A   18  GLN A   28\n",
      "ATOM 4  CE  MET A 1 51.349  24.403  47.765  1.00 71.39 C\n",
      "ATOM 5  CG  MET A 1 48.708  24.106  48.629  1.00 66.70 C\n",
      "ATOM 6  N   MET A 1 50.347  23.578  52.116  1.00 62.03 N\n",
      "ATOM 7  O   MET A 1 47.875  25.011  52.020  1.00 54.99 O\n",
      "ATOM 8  SD  MET A 1 49.731  23.948  47.163  1.00 77.15 S\n"
     ]
    }
   ],
   "source": [
    "awk '$2+0 > 3, $2+0 < 2' structure.pdb"
   ]
  },
  {
   "cell_type": "code",
   "execution_count": 35,
   "id": "36d74369-6b54-4147-92a5-16ab950e3165",
   "metadata": {},
   "outputs": [
    {
     "name": "stdout",
     "output_type": "stream",
     "text": [
      "0\n"
     ]
    }
   ],
   "source": [
    "awk 'BEGIN{print \"s2\"+0}'"
   ]
  },
  {
   "cell_type": "code",
   "execution_count": 36,
   "id": "ed2ab745-3310-48cb-a188-d29b4e30186f",
   "metadata": {},
   "outputs": [
    {
     "name": "stdout",
     "output_type": "stream",
     "text": [
      "Enzyme      Km\n",
      "Protease    2.5\n",
      "Hydrolase   0.4\n"
     ]
    }
   ],
   "source": [
    "awk '/En/,/Hy/' enzyme.txt"
   ]
  },
  {
   "cell_type": "code",
   "execution_count": 37,
   "id": "f3b2412c-2bcd-416e-8986-0bbc9f1765d6",
   "metadata": {},
   "outputs": [
    {
     "name": "stdout",
     "output_type": "stream",
     "text": [
      "Species in the file:\n",
      "\tH. sapiens (human) \n",
      "\tA. thaliana (plant) \n",
      "\tS. cerevisiae (yeast) \n",
      "\tE. coli (bacteria) \n",
      "Job finished\n"
     ]
    }
   ],
   "source": [
    "awk '\n",
    "BEGIN {FS=\"-\"; print \"Species in the file:\"}\n",
    "{print \"\\t\" $1}\n",
    "END {print \"Job finished\"}\n",
    "' genomes2.txt"
   ]
  },
  {
   "cell_type": "code",
   "execution_count": 38,
   "id": "6169b75e-ad28-43b3-ac43-e6709c503109",
   "metadata": {},
   "outputs": [
    {
     "name": "stdout",
     "output_type": "stream",
     "text": [
      "H.sapiens   A.thaliana   S.cerevisiae   E.coli   \n",
      " have 64271 genes altogether\n"
     ]
    }
   ],
   "source": [
    "awk '{species=species $1 $2 \"   \"; genes+=$8} END{print species \"\\n have \" genes \" genes altogether\"}' genomes2.txt"
   ]
  },
  {
   "cell_type": "code",
   "execution_count": 39,
   "id": "32346fcf-8691-4ab2-82dc-1d7162651ab1",
   "metadata": {},
   "outputs": [
    {
     "name": "stdout",
     "output_type": "stream",
     "text": [
      "x=1 y=1\n",
      "x++=1 ++y=2 x=2 y=2\n"
     ]
    }
   ],
   "source": [
    "awk 'BEGIN{x=1; y=1; print \"x=\"x, \"y=\"y; print \"x++=\"x++, \"++y=\"++y, \"x=\"x, \"y=\"y}'"
   ]
  },
  {
   "cell_type": "code",
   "execution_count": 40,
   "id": "750f4dae-8fd0-4ecf-8484-f543fb40cc41",
   "metadata": {},
   "outputs": [
    {
     "name": "stdout",
     "output_type": "stream",
     "text": [
      "-\n"
     ]
    }
   ],
   "source": [
    "echo \"test\" | awk '{print FILENAME}'"
   ]
  },
  {
   "cell_type": "code",
   "execution_count": 41,
   "id": "1cfc0fb4-8860-4962-b791-3abcbd55562e",
   "metadata": {},
   "outputs": [
    {
     "name": "stdout",
     "output_type": "stream",
     "text": [
      "Enzyme      Km:\n",
      " Enz yme      \n",
      "Protease    2.5:\n",
      " Pro teas e   \n",
      "Hydrolase   0.4:\n",
      " Hyd rola se  \n",
      "ATPase      1.2:\n",
      " ATP ase      \n"
     ]
    }
   ],
   "source": [
    "awk 'BEGIN{FIELDWIDTHS=\"3 4 3\"}{print $0\":\\n\", $1, $2, $3, $4}' enzyme.txt"
   ]
  },
  {
   "cell_type": "code",
   "execution_count": 42,
   "id": "031abb55-013f-4886-a3c2-59667b0c08dd",
   "metadata": {},
   "outputs": [
    {
     "name": "stdout",
     "output_type": "stream",
     "text": [
      "Hello---World\n"
     ]
    }
   ],
   "source": [
    "awk 'BEGIN{OFS=\"---\"; print \"Hello\", \"World\"}'"
   ]
  },
  {
   "cell_type": "code",
   "execution_count": 44,
   "id": "65d0e448-bf89-48a7-b8d4-a1ab83eeff4f",
   "metadata": {},
   "outputs": [
    {
     "name": "stdout",
     "output_type": "stream",
     "text": [
      "One---Two<<<\n"
     ]
    }
   ],
   "source": [
    "awk -v OFS=\"---\" 'BEGIN{ORS=\"<<<\"; print \"One\", \"Two\"}'"
   ]
  },
  {
   "cell_type": "code",
   "execution_count": 45,
   "id": "b9f67020-b904-4d82-862f-93ace4e0d1c5",
   "metadata": {},
   "outputs": [
    {
     "name": "stdout",
     "output_type": "stream",
     "text": [
      "Lines & Fields in Files:\n",
      "enzyme.txt: \t 1 - 2 \t total:1\n",
      "enzyme.txt: \t 2 - 2 \t total:2\n",
      "enzyme.txt: \t 3 - 2 \t total:3\n",
      "enzyme.txt: \t 4 - 2 \t total:4\n",
      "genomes2.txt: \t 1 - 9 \t total:5\n",
      "genomes2.txt: \t 2 - 9 \t total:6\n",
      "genomes2.txt: \t 3 - 9 \t total:7\n",
      "genomes2.txt: \t 4 - 9 \t total:8\n"
     ]
    }
   ],
   "source": [
    "awk 'BEGIN {print \"Lines & Fields in Files:\"}{print FILENAME \": \\t\", FNR\" - \"NF, \"\\t total:\" NR}' enzyme.txt genomes2.txt"
   ]
  },
  {
   "cell_type": "code",
   "execution_count": 53,
   "id": "ab29a366-d02a-4590-aee2-c4acd124c46a",
   "metadata": {},
   "outputs": [
    {
     "name": "stdout",
     "output_type": "stream",
     "text": [
      "Protease    2.5\n"
     ]
    }
   ],
   "source": [
    "awk 'BEGIN{item=ARGV[1]; ARGV[1]=\"\"}$1~item{print $0}' rotea enzyme.txt"
   ]
  },
  {
   "cell_type": "code",
   "execution_count": 57,
   "id": "e4a034d4-4a4b-47f2-828a-7d059d6a13a3",
   "metadata": {},
   "outputs": [
    {
     "name": "stdout",
     "output_type": "stream",
     "text": [
      "awk\n",
      "awk\n",
      "awk\n",
      "awk\n"
     ]
    }
   ],
   "source": [
    "awk 'BEGIN{x=ARGV[0];ARGV[0]=\"\";ARGV[1]=\"\";ARGV[2]=\"\"}{print x}' par1 par2 enzyme.txt"
   ]
  },
  {
   "cell_type": "code",
   "execution_count": 58,
   "id": "520f66dc-6f76-4b58-8ee8-b3a67f9258c7",
   "metadata": {},
   "outputs": [
    {
     "name": "stdout",
     "output_type": "stream",
     "text": [
      "/home/ubuntu\n"
     ]
    }
   ],
   "source": [
    "awk 'BEGIN{print ENVIRON[\"HOME\"]}'"
   ]
  },
  {
   "cell_type": "code",
   "execution_count": 59,
   "id": "419a9d0b-c40f-4998-a81d-fbc93b05cc2b",
   "metadata": {},
   "outputs": [
    {
     "name": "stdout",
     "output_type": "stream",
     "text": [
      "MET VAL\n"
     ]
    }
   ],
   "source": [
    "echo \"atgccg\" | awk 'BEGIN{codon[\"atg\"]=\"MET\"; codon[\"ccg\"]=\"VAL\"; FIELDWIDTHS=\"3 3\"}{print codon[$1], codon[$2]}'"
   ]
  },
  {
   "cell_type": "code",
   "execution_count": 60,
   "id": "0b30ec9f-567b-400d-908a-2d5fc68d94bd",
   "metadata": {},
   "outputs": [
    {
     "name": "stdout",
     "output_type": "stream",
     "text": [
      "1 pieces have been saved\n",
      "Integer: Km\tDecimal: \n",
      "2 pieces have been saved\n",
      "Integer: 2\tDecimal: 5\n",
      "2 pieces have been saved\n",
      "Integer: 0\tDecimal: 4\n",
      "2 pieces have been saved\n",
      "Integer: 1\tDecimal: 2\n"
     ]
    }
   ],
   "source": [
    "awk '{pieces=split($2,data,\".\")}{print pieces, \"pieces have been saved\"}{print \"Integer: \"data[1]\"\\tDecimal: \"data[2]}' enzyme.txt"
   ]
  },
  {
   "cell_type": "code",
   "execution_count": 61,
   "id": "f91b3089-8b3d-4484-ac88-4229bca6c039",
   "metadata": {},
   "outputs": [
    {
     "name": "stdout",
     "output_type": "stream",
     "text": [
      "2\n"
     ]
    }
   ],
   "source": [
    "echo \"1234\" | awk '{split($0,a,\"\"); print a[2]}'"
   ]
  },
  {
   "cell_type": "code",
   "execution_count": 62,
   "id": "1fffa40c-e6c6-4a11-b181-2abeba6b590c",
   "metadata": {},
   "outputs": [
    {
     "name": "stdout",
     "output_type": "stream",
     "text": [
      "Index=Hydrolase  Value=0.4\n",
      "Index=Protease  Value=2.5\n",
      "Index=ATPase  Value=1.2\n"
     ]
    }
   ],
   "source": [
    "awk '/[0-9]/ {data[$1]=$2}END{for (x in data) print \"Index=\"x, \" Value=\"data[x]}' enzyme.txt"
   ]
  },
  {
   "cell_type": "code",
   "execution_count": 65,
   "id": "a89ba52d-58d0-4bc8-957b-72c2782aca54",
   "metadata": {},
   "outputs": [
    {
     "name": "stdout",
     "output_type": "stream",
     "text": [
      "Index=1   Value=0.4\n",
      "Index=2   Value=1.2\n",
      "Index=3   Value=2.5\n"
     ]
    }
   ],
   "source": [
    "awk '/[0-9]/{data[$1]=$2}END{asort(data);for (x in data){print \"Index=\"x, \"  Value=\"data[x]}}' enzyme.txt"
   ]
  },
  {
   "cell_type": "code",
   "execution_count": 66,
   "id": "148d1c88-9fd0-4fd3-95b6-da753c311a9e",
   "metadata": {},
   "outputs": [
    {
     "name": "stdout",
     "output_type": "stream",
     "text": [
      "Sum of numbers greater than or equal 2: 1.6\n",
      "sum of numbers smaller than 2         : 2.5\n"
     ]
    }
   ],
   "source": [
    "awk -f if-else.awk enzyme.txt"
   ]
  },
  {
   "cell_type": "code",
   "execution_count": null,
   "id": "9bcc72a5-7b01-472a-b1cb-c23416a020f5",
   "metadata": {},
   "outputs": [],
   "source": []
  }
 ],
 "metadata": {
  "kernelspec": {
   "display_name": "Bash",
   "language": "bash",
   "name": "bash"
  },
  "language_info": {
   "codemirror_mode": "shell",
   "file_extension": ".sh",
   "mimetype": "text/x-sh",
   "name": "bash"
  }
 },
 "nbformat": 4,
 "nbformat_minor": 5
}
