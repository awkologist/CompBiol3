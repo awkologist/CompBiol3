{
 "cells": [
  {
   "cell_type": "markdown",
   "id": "1edad80f-922c-481a-b4f4-95354c0915db",
   "metadata": {},
   "source": [
    "# AWK"
   ]
  },
  {
   "cell_type": "code",
   "execution_count": null,
   "id": "121573b1-153e-4605-8a83-9709acf2d32a",
   "metadata": {},
   "outputs": [],
   "source": [
    "cat>enzyme.txt\n",
    "Enzyme      Km\n",
    "Protease    2.5\n",
    "Hydrolase   0.4\n",
    "ATPase      1.2"
   ]
  },
  {
   "cell_type": "code",
   "execution_count": null,
   "id": "652d126e-a725-430c-b526-030687a0f76c",
   "metadata": {},
   "outputs": [],
   "source": [
    "cat enzyme.txt"
   ]
  },
  {
   "cell_type": "code",
   "execution_count": null,
   "id": "162329ba-3db2-430d-a551-1a428a1bb1fc",
   "metadata": {},
   "outputs": [],
   "source": [
    "awk '$2 < 1 {print $1}' enzyme.txt"
   ]
  },
  {
   "cell_type": "code",
   "execution_count": null,
   "id": "e690abed-f07b-4f35-805b-d545e5b201b9",
   "metadata": {},
   "outputs": [],
   "source": [
    "awk -F\":\" '/ubuntu/ {print $0}' /etc/passwd"
   ]
  },
  {
   "cell_type": "code",
   "execution_count": null,
   "id": "3eb2cdc1-b25c-4693-8615-c8f81059e77a",
   "metadata": {},
   "outputs": [],
   "source": [
    "awk -F\":\" '/ubuntu/ {print $1 \" uses \" $7}' /etc/passwd"
   ]
  },
  {
   "cell_type": "code",
   "execution_count": null,
   "id": "740dbf85-fada-483d-b9e8-7a96f16eb92b",
   "metadata": {},
   "outputs": [],
   "source": [
    "sed -n '/\\?/!s/,//gp' genomes.txt"
   ]
  },
  {
   "cell_type": "code",
   "execution_count": null,
   "id": "1cdcd970-e373-4e2d-bb0f-687dad229f0b",
   "metadata": {},
   "outputs": [],
   "source": [
    "sed -n '/\\?/!s/,//gp' genomes.txt > genomes2.txt"
   ]
  },
  {
   "cell_type": "code",
   "execution_count": null,
   "id": "27dc82ec-af87-4562-b8ab-8f644c847248",
   "metadata": {},
   "outputs": [],
   "source": [
    "cat enzyme.txt"
   ]
  },
  {
   "cell_type": "code",
   "execution_count": null,
   "id": "bcb129c9-02aa-4394-8e90-9b76f16d8595",
   "metadata": {},
   "outputs": [],
   "source": [
    "awk '/2/ {print $1}' enzyme.txt"
   ]
  },
  {
   "cell_type": "code",
   "execution_count": null,
   "id": "42488ece-2493-4f17-810b-3cc73f0605be",
   "metadata": {},
   "outputs": [],
   "source": [
    "awk '!/2/ {print $1}' enzyme.txt"
   ]
  },
  {
   "cell_type": "code",
   "execution_count": null,
   "id": "e0da9dd0-f101-4079-98b3-cf4d6416679e",
   "metadata": {},
   "outputs": [],
   "source": [
    "awk '$1 !~ /ase/' enzyme.txt"
   ]
  },
  {
   "cell_type": "code",
   "execution_count": null,
   "id": "67fa832a-3177-4bd4-a31c-3b4ef9c3dc8d",
   "metadata": {},
   "outputs": [],
   "source": [
    "awk -F\":\" '$7 ~ /bash/ {print $1}' /etc/passwd"
   ]
  },
  {
   "cell_type": "code",
   "execution_count": null,
   "id": "526519bc-6cc0-4c95-a0d0-5790336f309c",
   "metadata": {},
   "outputs": [],
   "source": [
    "awk '$0 < \"a\"' chars.txt"
   ]
  },
  {
   "cell_type": "code",
   "execution_count": null,
   "id": "eca9e9b7-9b1d-437f-9ed8-fdb76e4ff4a0",
   "metadata": {},
   "outputs": [],
   "source": [
    "awk '$0 < \"A\"' chars.txt"
   ]
  },
  {
   "cell_type": "code",
   "execution_count": null,
   "id": "46b51517-12d0-4f77-b033-e345ce5ed794",
   "metadata": {},
   "outputs": [],
   "source": [
    "awk '$0 <= \"A\"' chars.txt"
   ]
  },
  {
   "cell_type": "code",
   "execution_count": null,
   "id": "d8d3aafd-01dc-470c-92e4-267515414b1a",
   "metadata": {},
   "outputs": [],
   "source": [
    "awk '$0 >= \"A\"' chars.txt"
   ]
  },
  {
   "cell_type": "code",
   "execution_count": null,
   "id": "49017c39-90aa-4ac9-b0cf-a348454ee4f2",
   "metadata": {},
   "outputs": [],
   "source": [
    "awk '$0 > \"A\"' chars.txt"
   ]
  },
  {
   "cell_type": "code",
   "execution_count": null,
   "id": "64eed782-cc76-4d85-a6ab-b686dcaae721",
   "metadata": {},
   "outputs": [],
   "source": [
    "awk '$0 > \"a\"' chars.txt"
   ]
  },
  {
   "cell_type": "code",
   "execution_count": null,
   "id": "d6ee5893-50bb-41e1-b6d7-33b6987c7393",
   "metadata": {},
   "outputs": [],
   "source": [
    "awk 'length($1) > 6' enzyme.txt"
   ]
  },
  {
   "cell_type": "code",
   "execution_count": null,
   "id": "1a4da36e-6f12-4c4d-99b5-95f1a132db64",
   "metadata": {},
   "outputs": [],
   "source": [
    "awk '$2 > 2' enzyme.txt"
   ]
  },
  {
   "cell_type": "code",
   "execution_count": null,
   "id": "09002d03-4213-4ad3-9eca-a7f79f132874",
   "metadata": {},
   "outputs": [],
   "source": [
    "awk '/En/,/Hy/' enzyme.txt"
   ]
  },
  {
   "cell_type": "code",
   "execution_count": null,
   "id": "2c8b2f1d-d534-4c41-b057-93667d8d3b17",
   "metadata": {},
   "outputs": [],
   "source": [
    "awk '$2+0 > 3, $2+0 < 2' structure.pdb"
   ]
  },
  {
   "cell_type": "code",
   "execution_count": null,
   "id": "36d74369-6b54-4147-92a5-16ab950e3165",
   "metadata": {},
   "outputs": [],
   "source": [
    "awk 'BEGIN{print \"s2\"+0}'"
   ]
  },
  {
   "cell_type": "code",
   "execution_count": null,
   "id": "ed2ab745-3310-48cb-a188-d29b4e30186f",
   "metadata": {},
   "outputs": [],
   "source": [
    "awk '/En/,/Hy/' enzyme.txt"
   ]
  },
  {
   "cell_type": "code",
   "execution_count": null,
   "id": "f3b2412c-2bcd-416e-8986-0bbc9f1765d6",
   "metadata": {},
   "outputs": [],
   "source": [
    "awk '\n",
    "BEGIN {FS=\"-\"; print \"Species in the file:\"}\n",
    "{print \"\\t\" $1}\n",
    "END {print \"Job finished\"}\n",
    "' genomes2.txt"
   ]
  },
  {
   "cell_type": "code",
   "execution_count": null,
   "id": "6169b75e-ad28-43b3-ac43-e6709c503109",
   "metadata": {},
   "outputs": [],
   "source": [
    "awk '{species=species $1 $2 \"   \"; genes+=$8} END{print species \"\\n have \" genes \" genes altogether\"}' genomes2.txt"
   ]
  },
  {
   "cell_type": "code",
   "execution_count": null,
   "id": "32346fcf-8691-4ab2-82dc-1d7162651ab1",
   "metadata": {},
   "outputs": [],
   "source": [
    "awk 'BEGIN{x=1; y=1; print \"x=\"x, \"y=\"y; print \"x++=\"x++, \"++y=\"++y, \"x=\"x, \"y=\"y}'"
   ]
  },
  {
   "cell_type": "code",
   "execution_count": null,
   "id": "750f4dae-8fd0-4ecf-8484-f543fb40cc41",
   "metadata": {},
   "outputs": [],
   "source": [
    "echo \"test\" | awk '{print FILENAME}'"
   ]
  },
  {
   "cell_type": "code",
   "execution_count": null,
   "id": "1cfc0fb4-8860-4962-b791-3abcbd55562e",
   "metadata": {},
   "outputs": [],
   "source": [
    "awk 'BEGIN{FIELDWIDTHS=\"3 4 3\"}{print $0\":\\n\", $1, $2, $3, $4}' enzyme.txt"
   ]
  },
  {
   "cell_type": "code",
   "execution_count": null,
   "id": "031abb55-013f-4886-a3c2-59667b0c08dd",
   "metadata": {},
   "outputs": [],
   "source": [
    "awk 'BEGIN{OFS=\"---\"; print \"Hello\", \"World\"}'"
   ]
  },
  {
   "cell_type": "code",
   "execution_count": null,
   "id": "65d0e448-bf89-48a7-b8d4-a1ab83eeff4f",
   "metadata": {},
   "outputs": [],
   "source": [
    "awk -v OFS=\"---\" 'BEGIN{ORS=\"<<<\"; print \"One\", \"Two\"}'"
   ]
  },
  {
   "cell_type": "code",
   "execution_count": null,
   "id": "b9f67020-b904-4d82-862f-93ace4e0d1c5",
   "metadata": {},
   "outputs": [],
   "source": [
    "awk 'BEGIN {print \"Lines & Fields in Files:\"}{print FILENAME \": \\t\", FNR\" - \"NF, \"\\t total:\" NR}' enzyme.txt genomes2.txt"
   ]
  },
  {
   "cell_type": "code",
   "execution_count": null,
   "id": "ab29a366-d02a-4590-aee2-c4acd124c46a",
   "metadata": {},
   "outputs": [],
   "source": [
    "awk 'BEGIN{item=ARGV[1]; ARGV[1]=\"\"}$1~item{print $0}' rotea enzyme.txt"
   ]
  },
  {
   "cell_type": "code",
   "execution_count": null,
   "id": "e4a034d4-4a4b-47f2-828a-7d059d6a13a3",
   "metadata": {},
   "outputs": [],
   "source": [
    "awk 'BEGIN{x=ARGV[0];ARGV[0]=\"\";ARGV[1]=\"\";ARGV[2]=\"\"}{print x}' par1 par2 enzyme.txt"
   ]
  },
  {
   "cell_type": "code",
   "execution_count": null,
   "id": "520f66dc-6f76-4b58-8ee8-b3a67f9258c7",
   "metadata": {},
   "outputs": [],
   "source": [
    "awk 'BEGIN{print ENVIRON[\"HOME\"]}'"
   ]
  },
  {
   "cell_type": "code",
   "execution_count": null,
   "id": "419a9d0b-c40f-4998-a81d-fbc93b05cc2b",
   "metadata": {},
   "outputs": [],
   "source": [
    "echo \"atgccg\" | awk 'BEGIN{codon[\"atg\"]=\"MET\"; codon[\"ccg\"]=\"VAL\"; FIELDWIDTHS=\"3 3\"}{print codon[$1], codon[$2]}'"
   ]
  },
  {
   "cell_type": "code",
   "execution_count": null,
   "id": "0b30ec9f-567b-400d-908a-2d5fc68d94bd",
   "metadata": {},
   "outputs": [],
   "source": [
    "awk '{pieces=split($2,data,\".\")}{print pieces, \"pieces have been saved\"}{print \"Integer: \"data[1]\"\\tDecimal: \"data[2]}' enzyme.txt"
   ]
  },
  {
   "cell_type": "code",
   "execution_count": null,
   "id": "f91b3089-8b3d-4484-ac88-4229bca6c039",
   "metadata": {},
   "outputs": [],
   "source": [
    "echo \"1234\" | awk '{split($0,a,\"\"); print a[2]}'"
   ]
  },
  {
   "cell_type": "code",
   "execution_count": null,
   "id": "1fffa40c-e6c6-4a11-b181-2abeba6b590c",
   "metadata": {},
   "outputs": [],
   "source": [
    "awk '/[0-9]/ {data[$1]=$2}END{for (x in data) print \"Index=\"x, \" Value=\"data[x]}' enzyme.txt"
   ]
  },
  {
   "cell_type": "code",
   "execution_count": null,
   "id": "a89ba52d-58d0-4bc8-957b-72c2782aca54",
   "metadata": {},
   "outputs": [],
   "source": [
    "awk '/[0-9]/{data[$1]=$2}END{asort(data);for (x in data){print \"Index=\"x, \"  Value=\"data[x]}}' enzyme.txt"
   ]
  },
  {
   "cell_type": "code",
   "execution_count": null,
   "id": "148d1c88-9fd0-4fd3-95b6-da753c311a9e",
   "metadata": {},
   "outputs": [],
   "source": [
    "awk -f if-else.awk enzyme.txt"
   ]
  },
  {
   "cell_type": "code",
   "execution_count": null,
   "id": "9bcc72a5-7b01-472a-b1cb-c23416a020f5",
   "metadata": {},
   "outputs": [],
   "source": [
    "awk 'BEGIN{while(1==1){print \"yes\"; break}}'"
   ]
  },
  {
   "cell_type": "code",
   "execution_count": null,
   "id": "50f9e3a6-3c25-428d-bc56-6938e96a3e30",
   "metadata": {},
   "outputs": [],
   "source": [
    "awk 'BEGIN{i=1;do{i++;print \"yes\"}while(i<3)}'"
   ]
  },
  {
   "cell_type": "code",
   "execution_count": null,
   "id": "256e050c-3337-47ac-a877-91a31b11c28d",
   "metadata": {},
   "outputs": [],
   "source": [
    "awk 'BEGIN{for(i=1;i<3;i++){print i}}'"
   ]
  },
  {
   "cell_type": "code",
   "execution_count": null,
   "id": "c4e248f6-6c2b-4428-af50-39694eed1c3d",
   "metadata": {},
   "outputs": [],
   "source": [
    "awk 'BEGIN{i[1]=\"one\";i[2]=\"two\";i[3]=\"three\";for(x in i){print x\" -> \"i[x]}}'"
   ]
  },
  {
   "cell_type": "code",
   "execution_count": null,
   "id": "df46d6f9-d904-4897-b5b0-4e1c5fd07c59",
   "metadata": {},
   "outputs": [],
   "source": [
    "awk -f for.awk"
   ]
  },
  {
   "cell_type": "code",
   "execution_count": null,
   "id": "b8af4d93-2c2d-4049-944f-75b1ff31f395",
   "metadata": {},
   "outputs": [],
   "source": [
    "awk '{print $1\"\\b\\b\\bx\"}' enzyme.txt"
   ]
  },
  {
   "cell_type": "code",
   "execution_count": null,
   "id": "0fb0e818-5488-4c0e-8527-e353b5e4684e",
   "metadata": {},
   "outputs": [],
   "source": [
    "awk '/Enzyme/{print $1\"\\b\\b\\vx\"}' enzyme.txt"
   ]
  },
  {
   "cell_type": "code",
   "execution_count": null,
   "id": "6762cd29-e16c-44ec-830f-a018f86e3f8c",
   "metadata": {},
   "outputs": [],
   "source": [
    "awk 'BEGIN{printf(\"%g\\n\", 10.63, 5.0)}'"
   ]
  },
  {
   "cell_type": "code",
   "execution_count": null,
   "id": "684c4b34-ff32-4a52-915b-507823054f33",
   "metadata": {},
   "outputs": [],
   "source": [
    "awk 'BEGIN{printf(\"%g%g\\n\", 10.63, 5.0)}'"
   ]
  },
  {
   "cell_type": "code",
   "execution_count": null,
   "id": "222f398a-97d6-47be-906d-17707980a009",
   "metadata": {},
   "outputs": [],
   "source": [
    "awk 'BEGIN{printf(\"%g - %g\\n\", 10.63, 5.0)}'"
   ]
  },
  {
   "cell_type": "code",
   "execution_count": null,
   "id": "b91ac05e-7279-427f-a65e-0314b28ecd13",
   "metadata": {},
   "outputs": [],
   "source": [
    "awk 'BEGIN{printf(\"%s - %f\\n\", \"chlorophyll\", 123.456789)}'"
   ]
  },
  {
   "cell_type": "code",
   "execution_count": null,
   "id": "649a213d-ceb4-4585-b124-ef58e521df94",
   "metadata": {},
   "outputs": [],
   "source": [
    "awk 'BEGIN{printf(\"%6s - %6f\\n\", \"chlorophyll\", 123.456789)}'"
   ]
  },
  {
   "cell_type": "code",
   "execution_count": null,
   "id": "8c530b7e-b6f2-4591-8115-4206ba829921",
   "metadata": {},
   "outputs": [],
   "source": [
    "awk 'BEGIN{printf(\"%15s - %15f\\n\", \"chlorophyll\", 123.456789)}'"
   ]
  },
  {
   "cell_type": "code",
   "execution_count": null,
   "id": "cec2593f-56ee-43d2-aff0-b9a5140eb4ba",
   "metadata": {},
   "outputs": [],
   "source": [
    "awk 'BEGIN{printf(\"%-15s - %-15f\\n\", \"chlorophyll\", 123.456789)}'"
   ]
  },
  {
   "cell_type": "code",
   "execution_count": null,
   "id": "d6132454-f08e-4d31-b4cb-01de92ef53e4",
   "metadata": {},
   "outputs": [],
   "source": [
    "awk 'BEGIN{printf(\"%+15s - %+15f\\n\", \"chlorophyll\", 123.456789)}'"
   ]
  },
  {
   "cell_type": "code",
   "execution_count": null,
   "id": "adcb49f7-1c29-43b2-8a5b-ed85698054b2",
   "metadata": {},
   "outputs": [],
   "source": [
    "awk 'BEGIN{printf(\"%.6s - %.6f\\n\", \"chlorophyll\", 123.456789)}'"
   ]
  },
  {
   "cell_type": "code",
   "execution_count": null,
   "id": "590f19ca-b11d-4157-9dce-dd875a480d4e",
   "metadata": {},
   "outputs": [],
   "source": [
    "awk 'BEGIN{printf(\"%15.6s - %15.6f\\n\", \"chlorophyll\", 123.456789)}'"
   ]
  },
  {
   "cell_type": "code",
   "execution_count": null,
   "id": "a60c4722-b872-4ec5-a566-083ca45094b9",
   "metadata": {},
   "outputs": [],
   "source": [
    "awk 'BEGIN{printf(\"%-15.6s - %-15.6f\\n\", \"chlorophyll\", 123.456789)}'"
   ]
  },
  {
   "cell_type": "code",
   "execution_count": null,
   "id": "6246f96f-9f00-4af6-88e2-b5707745c498",
   "metadata": {},
   "outputs": [],
   "source": [
    "awk 'BEGIN{out=sprintf(\"%s\",\"Hello World\"); print out}'"
   ]
  },
  {
   "cell_type": "code",
   "execution_count": null,
   "id": "99e3b526-e808-4182-b8e9-fc89f7a4c813",
   "metadata": {},
   "outputs": [],
   "source": [
    "awk 'BEGIN{srand(); print log(100), sin(0.5), int(5*rand()), 3**2}'"
   ]
  },
  {
   "cell_type": "markdown",
   "id": "ec25c5c2-8bca-4335-8206-2cbcca2a1239",
   "metadata": {},
   "source": [
    "### String Manipulation"
   ]
  },
  {
   "cell_type": "code",
   "execution_count": null,
   "id": "fe934040-ea2f-43eb-a73b-8fe58cf335b5",
   "metadata": {},
   "outputs": [],
   "source": [
    "awk 'BEGIN{target=\"atgctagctagctgc\"; print substr(target,7,3); print target}'"
   ]
  },
  {
   "cell_type": "code",
   "execution_count": null,
   "id": "2da0a073-7be2-46ad-a3e8-721219b5c322",
   "metadata": {},
   "outputs": [],
   "source": [
    "awk 'BEGIN{target=\"atgctagctagctgc\"; print gsub(/g.t/,\">&<\",target); print target}'"
   ]
  },
  {
   "cell_type": "code",
   "execution_count": null,
   "id": "7f943317-b49c-432a-a9de-7ccaf17648a3",
   "metadata": {},
   "outputs": [],
   "source": [
    "awk 'BEGIN{target=\"atgctagctagctgc\"; print sub(/g.t/,\">&<\",target); print target}'"
   ]
  },
  {
   "cell_type": "code",
   "execution_count": null,
   "id": "c2e7b261-fcc6-4484-ae1a-803dc96268dc",
   "metadata": {},
   "outputs": [],
   "source": [
    "awk 'BEGIN{target=\"atg&tagctagctgc\"; print sub(/\\&/,\"-\",target); print target}'"
   ]
  },
  {
   "cell_type": "code",
   "execution_count": null,
   "id": "415b93f5-bc8b-4fdf-b0a4-4698637769c8",
   "metadata": {},
   "outputs": [],
   "source": [
    "awk 'BEGIN{target=\"atgctagctagctgc\"; print gensub(/g.t/,\">&<\",2,target); print target}'"
   ]
  },
  {
   "cell_type": "code",
   "execution_count": null,
   "id": "0d58f040-6e04-4ab6-b503-4881a8b60ed3",
   "metadata": {},
   "outputs": [],
   "source": [
    "awk 'BEGIN{target=\"atgctagctagctgc\"; print index(target,\"gct\"); print target}'"
   ]
  },
  {
   "cell_type": "code",
   "execution_count": null,
   "id": "eccaca9c-a317-4b7e-8893-068673a6fb1e",
   "metadata": {},
   "outputs": [],
   "source": [
    "awk 'BEGIN{target=\"atgctagctagctgc\"; print length(target); print target}'"
   ]
  },
  {
   "cell_type": "code",
   "execution_count": null,
   "id": "d0ecb565-e2a0-46b9-bab0-7232f9e7bdb2",
   "metadata": {},
   "outputs": [],
   "source": [
    "awk 'BEGIN{target=\"atgctagctagctgc\"; print match(target,/(g.(.*).t)/,array); print \"Target: \"target; print \"0: \"array[0], \"1: \"array[1], \"2: \"array[2]}'"
   ]
  },
  {
   "cell_type": "code",
   "execution_count": null,
   "id": "63475484-4608-4f3d-99b2-609a8c5e48d9",
   "metadata": {},
   "outputs": [],
   "source": [
    "awk 'BEGIN{target=\"atgctagctagctgc\"; n=split(target,array,/g.t/); for (i=1; i<=n; i++){printf \"%s\", array[i]\"  \"}; print \"\"}'"
   ]
  },
  {
   "cell_type": "code",
   "execution_count": null,
   "id": "c9a20db8-de9c-4655-ab53-9b1903490d5f",
   "metadata": {},
   "outputs": [],
   "source": [
    "awk 'BEGIN{target=\"atgctagctagctgc\"; n=split(target,array,/g.t/); asort(array); for (i=1; i<=n; i++){printf \"%s\", array[i]\"  \"} print \"\"}'"
   ]
  },
  {
   "cell_type": "code",
   "execution_count": null,
   "id": "42a4eb01-c76c-4c80-b2db-7029a5e95405",
   "metadata": {},
   "outputs": [],
   "source": [
    "echo \"12,3\" | awk '{print strtonum($0)}'"
   ]
  },
  {
   "cell_type": "code",
   "execution_count": null,
   "id": "e23e0639-98fd-4461-abc2-7ef16680d5b5",
   "metadata": {},
   "outputs": [],
   "source": [
    "echo \"12.3\" | awk '{print strtonum($0)}'"
   ]
  },
  {
   "cell_type": "code",
   "execution_count": null,
   "id": "43a38a05-637e-4051-aa04-2f5fb267ce81",
   "metadata": {},
   "outputs": [],
   "source": [
    "echo \"alpha12.3\" | awk '{print strtonum($0)}'"
   ]
  },
  {
   "cell_type": "code",
   "execution_count": null,
   "id": "aa59c8e0-210d-4288-af35-3e6122e220f2",
   "metadata": {},
   "outputs": [],
   "source": [
    "awk 'BEGIN{target=\"atgctagctagctgc\"; print toupper(target); print target}'"
   ]
  },
  {
   "cell_type": "markdown",
   "id": "cb850e07-1d1d-4fb4-8dea-ce0975ff19ef",
   "metadata": {},
   "source": [
    "### System Calls"
   ]
  },
  {
   "cell_type": "code",
   "execution_count": null,
   "id": "08540572-324e-4567-a4e2-a57828e23189",
   "metadata": {},
   "outputs": [],
   "source": [
    "awk 'BEGIN{system(\"pwd\")}'"
   ]
  },
  {
   "cell_type": "code",
   "execution_count": null,
   "id": "1ec9b145-4995-4101-8351-3ce096425477",
   "metadata": {},
   "outputs": [],
   "source": [
    "awk 'BEGIN{print system(\"pwd\")}'"
   ]
  },
  {
   "cell_type": "code",
   "execution_count": null,
   "id": "a56d1ac8-16de-4eeb-b9ac-8a95d96d3a77",
   "metadata": {},
   "outputs": [],
   "source": [
    "awk 'BEGIN{print system(\"pwdd\")}'"
   ]
  },
  {
   "cell_type": "code",
   "execution_count": null,
   "id": "19ee695c-f9eb-46d6-9dfb-c85a119035b0",
   "metadata": {},
   "outputs": [],
   "source": [
    "awk 'BEGIN{print \"pwd\" | \"/bin/bash\"}'"
   ]
  },
  {
   "cell_type": "code",
   "execution_count": null,
   "id": "81de2f81-f890-407e-95fc-c5848e2e8df4",
   "metadata": {},
   "outputs": [],
   "source": [
    "awk 'function out() {printf \"%-5s %-10s\\n\", $2, $1}{out()}' enzyme.txt"
   ]
  },
  {
   "cell_type": "code",
   "execution_count": null,
   "id": "e24c8f0f-1952-46d9-af1b-4fca5b65bef9",
   "metadata": {},
   "outputs": [],
   "source": [
    "awk 'function out(pre) {printf pre\"%-5s %-10s\\n\", $2,$1}{out(\"-> \");out(\"#  \")}' enzyme.txt"
   ]
  },
  {
   "cell_type": "code",
   "execution_count": null,
   "id": "7d4b52e6-ef02-4f4b-a147-8c5a4569f3e4",
   "metadata": {},
   "outputs": [],
   "source": [
    "awk 'BEGIN{a=\"alpha\"; print \"a:\", a; fun(); print \"b:\", b} function fun(){print a; b=\"beta\"}'"
   ]
  },
  {
   "cell_type": "code",
   "execution_count": null,
   "id": "83a9ab1d-b713-4c86-927f-6744e75e4756",
   "metadata": {},
   "outputs": [],
   "source": [
    "awk -f fun_1.awk"
   ]
  },
  {
   "cell_type": "code",
   "execution_count": null,
   "id": "8a6325d7-fb6c-4f8c-82f9-c361184a106b",
   "metadata": {},
   "outputs": [],
   "source": [
    "awk -f fun_2.awk"
   ]
  },
  {
   "cell_type": "code",
   "execution_count": null,
   "id": "f84ed33e-3caa-49f2-a7c4-41c186602a7d",
   "metadata": {},
   "outputs": [],
   "source": [
    "awk 'function square(x,a){y=x**2+23x-a; return y}{print $1\" --- \"$2\" --- \"square($2,5)}' enzyme.txt"
   ]
  },
  {
   "cell_type": "code",
   "execution_count": null,
   "id": "b09ed8a6-93e0-4afc-ba05-5c54e329bcef",
   "metadata": {},
   "outputs": [],
   "source": [
    "awk 'function square(x,a){y=x**2+23x-a}{print $1\" --- \"$2\" --- \"square($2,5)y}' enzyme.txt"
   ]
  },
  {
   "cell_type": "code",
   "execution_count": null,
   "id": "a08422cb-3fc0-4873-8cf4-436e0346f23c",
   "metadata": {},
   "outputs": [],
   "source": [
    "awk 'function square(x,a){if (x~/[A-Z]/){return (\"\\\"\"x\"\\\" no number\")}else{y=x**2+23x-a; return y}}{print $1\" --- \"$2\" --- \"square($2,5)}' enzyme.txt"
   ]
  },
  {
   "cell_type": "markdown",
   "id": "ed0a5770-82c6-4045-a00b-de6851dee3cd",
   "metadata": {},
   "source": [
    "### Getline"
   ]
  },
  {
   "cell_type": "code",
   "execution_count": null,
   "id": "9dddbe3d-5da8-45a1-ad59-a80b769821ae",
   "metadata": {},
   "outputs": [],
   "source": [
    "awk -f enzyme-class.awk enzyme.txt"
   ]
  },
  {
   "cell_type": "code",
   "execution_count": null,
   "id": "a6bf18f3-332d-41dc-831a-1f5a32fe0ce7",
   "metadata": {},
   "outputs": [],
   "source": [
    "awk '{getline class < \"class.txt\"; print class\" <> \" $0}' enzyme.txt"
   ]
  },
  {
   "cell_type": "code",
   "execution_count": null,
   "id": "e6ff8174-1085-4ff4-9cc0-525fd9c15960",
   "metadata": {},
   "outputs": [],
   "source": [
    "awk 'BEGIN{\"date\" | getline; \"pwd\" | getline pwd; print \"Date & Time: \" $0; print \"Current Directory: \" pwd}'"
   ]
  },
  {
   "cell_type": "code",
   "execution_count": null,
   "id": "2d9af8c4-10f8-4aa0-970d-c6c09997651b",
   "metadata": {},
   "outputs": [],
   "source": [
    "awk 'BEGIN{while (\"ls\" | getline >0){print $0}}'"
   ]
  },
  {
   "cell_type": "code",
   "execution_count": null,
   "id": "5c840459-7bca-432c-beb1-cffe6e4e0ceb",
   "metadata": {},
   "outputs": [],
   "source": [
    "awk -f sort-array-elements.awk enzyme.txt"
   ]
  },
  {
   "cell_type": "code",
   "execution_count": null,
   "id": "19f9f3bd-69bd-4f54-be3c-6dd814865182",
   "metadata": {},
   "outputs": [],
   "source": [
    "awk -f atom-sum.awk structure.pdb"
   ]
  },
  {
   "cell_type": "code",
   "execution_count": null,
   "id": "c2af6b2b-e513-4e0f-a46a-e78f68d51178",
   "metadata": {},
   "outputs": [],
   "source": [
    "cat seq.fasta"
   ]
  },
  {
   "cell_type": "code",
   "execution_count": null,
   "id": "245d57d4-a002-4fcb-85f7-3c98cf83bb4b",
   "metadata": {},
   "outputs": [],
   "source": [
    "awk -f fasta2tbl.awk seq.fasta"
   ]
  },
  {
   "cell_type": "code",
   "execution_count": null,
   "id": "2a655416-d251-4c01-aa37-14046a9475c8",
   "metadata": {},
   "outputs": [],
   "source": [
    "awk -f fasta2tbl.awk seq.fasta | awk -f tbl2fasta.awk"
   ]
  },
  {
   "cell_type": "code",
   "execution_count": null,
   "id": "24333f68-e9dc-4ec1-b949-e0ee1e45b0d9",
   "metadata": {},
   "outputs": [],
   "source": [
    "awk -f fasta2tbl.awk seq.fasta | awk -f mutator.awk"
   ]
  },
  {
   "cell_type": "code",
   "execution_count": null,
   "id": "e9a2a349-d46c-4070-a954-9e3ebc381ded",
   "metadata": {},
   "outputs": [],
   "source": [
    "echo \"gatatgctggtagct\" | awk -f dna2prot.awk"
   ]
  },
  {
   "cell_type": "code",
   "execution_count": null,
   "id": "76701c55-c4fd-45a4-b028-8cb4ced0ed6a",
   "metadata": {},
   "outputs": [],
   "source": [
    "awk -f aacomp.awk proteins.seq"
   ]
  },
  {
   "cell_type": "code",
   "execution_count": null,
   "id": "e9cceffd-c3e2-4868-8fee-35cfd980d7ae",
   "metadata": {},
   "outputs": [],
   "source": [
    "awk -f levenshtein.awk atgctatgtcgtgg tcatcgtacgtacg"
   ]
  },
  {
   "cell_type": "code",
   "execution_count": null,
   "id": "86acfd4e-5702-4eb6-b354-a19db2da8628",
   "metadata": {},
   "outputs": [],
   "source": [
    "cat aa_atoms.txt"
   ]
  },
  {
   "cell_type": "code",
   "execution_count": null,
   "id": "ae390759-3885-420c-8ed6-c49db703c369",
   "metadata": {},
   "outputs": [],
   "source": [
    "cat lines.txt"
   ]
  },
  {
   "cell_type": "code",
   "execution_count": null,
   "id": "c3fd4821-3bbf-4395-95ee-c46b25cd5387",
   "metadata": {},
   "outputs": [],
   "source": [
    "awk '{ORS=\"\"}NR%3==1{print $0\" - \"}NR%3==0{print $0\"\\n\"}' lines.txt"
   ]
  },
  {
   "cell_type": "code",
   "execution_count": null,
   "id": "89c5fb16-4f6a-4403-8777-2945be186608",
   "metadata": {},
   "outputs": [],
   "source": []
  }
 ],
 "metadata": {
  "kernelspec": {
   "display_name": "Bash",
   "language": "bash",
   "name": "bash"
  },
  "language_info": {
   "codemirror_mode": "shell",
   "file_extension": ".sh",
   "mimetype": "text/x-sh",
   "name": "bash"
  }
 },
 "nbformat": 4,
 "nbformat_minor": 5
}
