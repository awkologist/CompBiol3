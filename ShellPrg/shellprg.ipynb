{
 "cells": [
  {
   "cell_type": "markdown",
   "id": "270d3212-b989-4ba7-afee-d8ccb715b741",
   "metadata": {},
   "source": [
    "# Shell Programming"
   ]
  },
  {
   "cell_type": "markdown",
   "id": "46b424ee-d929-40c5-9cf5-cf13baf7fc73",
   "metadata": {},
   "source": [
    "### Variables"
   ]
  },
  {
   "cell_type": "code",
   "execution_count": 13,
   "id": "ac80d1c1-1024-4755-829c-202b8578c868",
   "metadata": {},
   "outputs": [],
   "source": [
    "plant=orchid"
   ]
  },
  {
   "cell_type": "code",
   "execution_count": 14,
   "id": "f94d5973-5622-4cec-891c-ae4cebe1b733",
   "metadata": {},
   "outputs": [
    {
     "name": "stdout",
     "output_type": "stream",
     "text": [
      "orchid\n"
     ]
    }
   ],
   "source": [
    "echo $plant"
   ]
  },
  {
   "cell_type": "code",
   "execution_count": 3,
   "id": "036feaa0-a226-4b6c-8316-507035d5b556",
   "metadata": {},
   "outputs": [],
   "source": [
    "orchid=parasite"
   ]
  },
  {
   "cell_type": "code",
   "execution_count": 4,
   "id": "50b43596-e874-4be5-967a-b5609283189f",
   "metadata": {},
   "outputs": [],
   "source": [
    "plant=$orchid"
   ]
  },
  {
   "cell_type": "code",
   "execution_count": 5,
   "id": "623b0af2-e545-4341-aaab-9c88038bd0e5",
   "metadata": {},
   "outputs": [
    {
     "name": "stdout",
     "output_type": "stream",
     "text": [
      "parasite\n"
     ]
    }
   ],
   "source": [
    "echo $plant"
   ]
  },
  {
   "cell_type": "code",
   "execution_count": 6,
   "id": "324501d8-00d7-46d1-b1e8-d244886ca09a",
   "metadata": {},
   "outputs": [
    {
     "name": "stdout",
     "output_type": "stream",
     "text": [
      "The value of $orchid is parasite\n"
     ]
    }
   ],
   "source": [
    "echo \"The value of \\$orchid is $orchid\""
   ]
  },
  {
   "cell_type": "code",
   "execution_count": 7,
   "id": "39a65836-5526-4517-8a20-4e179cf0ca4d",
   "metadata": {},
   "outputs": [
    {
     "name": "stdout",
     "output_type": "stream",
     "text": [
      "\n"
     ]
    }
   ],
   "source": [
    "echo \"$animal\""
   ]
  },
  {
   "cell_type": "markdown",
   "id": "ba371e46-69f3-4917-a172-d0c323e45f46",
   "metadata": {},
   "source": [
    "### Input and Output"
   ]
  },
  {
   "cell_type": "code",
   "execution_count": 15,
   "id": "92a654f3-b15d-4b23-9574-da5033792f9c",
   "metadata": {},
   "outputs": [],
   "source": [
    "chmod u+x text.sh"
   ]
  },
  {
   "cell_type": "code",
   "execution_count": 17,
   "id": "d0b4b18e-8086-45f0-ba3b-19c105ae6da3",
   "metadata": {},
   "outputs": [
    {
     "name": "stdout",
     "output_type": "stream",
     "text": [
      "Here comes a lot of text.\n",
      "My home directory is /home/ubuntu - cool.\n",
      "Let us use some tabulators:\n",
      "        tab1\n",
      "        tab2\n",
      "This looks like a nice list.\n",
      "Here comes more text, however, backslashed.\n",
      "My home directory is $HOME - ui.\n"
     ]
    }
   ],
   "source": [
    "./text.sh"
   ]
  },
  {
   "cell_type": "markdown",
   "id": "e462e57f-dff2-4f88-9cbe-d630bf63600a",
   "metadata": {},
   "source": [
    "### Substitutions and Expansions"
   ]
  },
  {
   "cell_type": "code",
   "execution_count": 18,
   "id": "01a48cea-4ae0-401c-8810-8c5505edfa8a",
   "metadata": {},
   "outputs": [
    {
     "name": "stdout",
     "output_type": "stream",
     "text": [
      "file.fasta file.fa file.seq\n"
     ]
    }
   ],
   "source": [
    "echo file.{fasta,fa,seq}"
   ]
  },
  {
   "cell_type": "code",
   "execution_count": 19,
   "id": "1bdcb0fd-72ad-4d5c-949e-0f6f93956d4e",
   "metadata": {},
   "outputs": [],
   "source": [
    "enzyme=\"hydrogenase specific endopeptidase\""
   ]
  },
  {
   "cell_type": "code",
   "execution_count": 21,
   "id": "bdd2b08c-cc0a-4551-9284-cfed4fc8bcfe",
   "metadata": {},
   "outputs": [
    {
     "name": "stdout",
     "output_type": "stream",
     "text": [
      "hydrogenase specific endopeptidase\n"
     ]
    }
   ],
   "source": [
    "echo $enzyme"
   ]
  },
  {
   "cell_type": "code",
   "execution_count": 22,
   "id": "12188bf5-f3aa-43b4-b43d-3971597646e0",
   "metadata": {},
   "outputs": [
    {
     "name": "stdout",
     "output_type": "stream",
     "text": [
      "hydrogenase specific endopeptidase\n"
     ]
    }
   ],
   "source": [
    "echo ${enzyme:=text}"
   ]
  },
  {
   "cell_type": "code",
   "execution_count": 23,
   "id": "36c169f2-9887-4173-a123-18776cf99fbc",
   "metadata": {},
   "outputs": [
    {
     "name": "stdout",
     "output_type": "stream",
     "text": [
      "text\n"
     ]
    }
   ],
   "source": [
    "echo ${enzyme:+text}"
   ]
  },
  {
   "cell_type": "code",
   "execution_count": 24,
   "id": "9b7b8e74-7812-4c7a-94c5-4a44629caa2d",
   "metadata": {},
   "outputs": [
    {
     "name": "stdout",
     "output_type": "stream",
     "text": [
      "\n"
     ]
    }
   ],
   "source": [
    "echo $gene"
   ]
  },
  {
   "cell_type": "code",
   "execution_count": 25,
   "id": "b6c3ecb0-fb8e-43df-866b-dbcdbd0a17ac",
   "metadata": {},
   "outputs": [
    {
     "name": "stdout",
     "output_type": "stream",
     "text": [
      "gene not discovered\n"
     ]
    }
   ],
   "source": [
    "echo ${gene:-gene not discovered}"
   ]
  },
  {
   "cell_type": "code",
   "execution_count": 26,
   "id": "2f14dca7-69a6-4dcd-ab2c-2b2d4d428fa5",
   "metadata": {},
   "outputs": [
    {
     "name": "stdout",
     "output_type": "stream",
     "text": [
      "\n"
     ]
    }
   ],
   "source": [
    "echo $gene"
   ]
  },
  {
   "cell_type": "code",
   "execution_count": 27,
   "id": "ab7aa523-6b23-4427-99e0-57691ada76e2",
   "metadata": {},
   "outputs": [
    {
     "name": "stdout",
     "output_type": "stream",
     "text": [
      "ATG...TAA\n"
     ]
    }
   ],
   "source": [
    "echo ${gene:=ATG...TAA}"
   ]
  },
  {
   "cell_type": "code",
   "execution_count": 28,
   "id": "91aaa557-bcb8-4509-88e3-7f8790b09fee",
   "metadata": {},
   "outputs": [
    {
     "name": "stdout",
     "output_type": "stream",
     "text": [
      "ATG...TAA\n"
     ]
    }
   ],
   "source": [
    "echo $gene"
   ]
  },
  {
   "cell_type": "code",
   "execution_count": 29,
   "id": "21be0a47-9de2-4fb0-8cc8-c436998b30e7",
   "metadata": {},
   "outputs": [
    {
     "name": "stdout",
     "output_type": "stream",
     "text": [
      "9\n"
     ]
    }
   ],
   "source": [
    "echo ${#gene}"
   ]
  },
  {
   "cell_type": "code",
   "execution_count": 30,
   "id": "6b166382-36b7-4310-a4b5-c71ffa2f6edc",
   "metadata": {},
   "outputs": [
    {
     "name": "stdout",
     "output_type": "stream",
     "text": [
      "...\n"
     ]
    }
   ],
   "source": [
    "echo ${gene:3:3}"
   ]
  },
  {
   "cell_type": "code",
   "execution_count": 31,
   "id": "fb82dd68-71a0-42a0-847f-d4f4855dee4e",
   "metadata": {},
   "outputs": [
    {
     "name": "stdout",
     "output_type": "stream",
     "text": [
      "...TAA\n"
     ]
    }
   ],
   "source": [
    "echo ${gene:3}"
   ]
  },
  {
   "cell_type": "code",
   "execution_count": 32,
   "id": "c0f6b8ff-9f1e-4356-997a-8393c634fd6c",
   "metadata": {},
   "outputs": [
    {
     "name": "stdout",
     "output_type": "stream",
     "text": [
      "Mon Mar 18 20:23:31 CET 2024\n"
     ]
    }
   ],
   "source": [
    "echo $(date)"
   ]
  },
  {
   "cell_type": "code",
   "execution_count": 33,
   "id": "d3aa06bc-0c41-46ae-8c96-1ccc70c17f5b",
   "metadata": {},
   "outputs": [
    {
     "name": "stdout",
     "output_type": "stream",
     "text": [
      "Mon Mar 18 20:23:50 CET 2024\n"
     ]
    }
   ],
   "source": [
    "echo `date`"
   ]
  },
  {
   "cell_type": "markdown",
   "id": "77dfe1ff-5f35-4934-a7a6-23698f98bffa",
   "metadata": {},
   "source": [
    "### Quoting"
   ]
  },
  {
   "cell_type": "code",
   "execution_count": 34,
   "id": "0e6f1a2e-2efa-4007-af73-829f87ba673f",
   "metadata": {},
   "outputs": [
    {
     "name": "stdout",
     "output_type": "stream",
     "text": [
      "Research costs some \n"
     ]
    }
   ],
   "source": [
    "echo \"Research costs some $s\""
   ]
  },
  {
   "cell_type": "code",
   "execution_count": 35,
   "id": "b6d89565-21d6-436d-ac0f-4503c1d6d466",
   "metadata": {},
   "outputs": [
    {
     "name": "stdout",
     "output_type": "stream",
     "text": [
      "Research costs some $s\n"
     ]
    }
   ],
   "source": [
    "echo \"Research costs some \\$s\""
   ]
  },
  {
   "cell_type": "code",
   "execution_count": 36,
   "id": "02dc18b6-d7a9-4107-9b47-e47177f25540",
   "metadata": {},
   "outputs": [
    {
     "name": "stdout",
     "output_type": "stream",
     "text": [
      "Research costs some $s\n"
     ]
    }
   ],
   "source": [
    "echo 'Research costs some $s'"
   ]
  },
  {
   "cell_type": "code",
   "execution_count": 37,
   "id": "80c3e7a4-bcb6-4e41-bbd6-c221b0827c88",
   "metadata": {},
   "outputs": [
    {
     "name": "stdout",
     "output_type": "stream",
     "text": [
      "Research costs some \\$s\n"
     ]
    }
   ],
   "source": [
    "echo 'Research costs some \\$s'"
   ]
  },
  {
   "cell_type": "markdown",
   "id": "2ca9b8dc-d15c-4089-b960-c64eb7450e72",
   "metadata": {},
   "source": [
    "### Decisions - Flow Control"
   ]
  },
  {
   "cell_type": "code",
   "execution_count": 2,
   "id": "254386b5-0f84-49b1-9ad7-ec33e7a097db",
   "metadata": {},
   "outputs": [
    {
     "name": "stdout",
     "output_type": "stream",
     "text": [
      "test.txt does not exist\n"
     ]
    }
   ],
   "source": [
    "./if-ls.sh test.txt"
   ]
  },
  {
   "cell_type": "code",
   "execution_count": 4,
   "id": "cbf1269f-712c-4d3b-978e-1cb12c794c36",
   "metadata": {},
   "outputs": [
    {
     "name": "stdout",
     "output_type": "stream",
     "text": [
      "0\n"
     ]
    }
   ],
   "source": [
    "test 2 -eq 2; echo $?"
   ]
  },
  {
   "cell_type": "code",
   "execution_count": 5,
   "id": "e165542f-c175-4a7b-9376-51383b63a61c",
   "metadata": {},
   "outputs": [
    {
     "name": "stdout",
     "output_type": "stream",
     "text": [
      "1\n"
     ]
    }
   ],
   "source": [
    "test 2 -eq 3; echo $?"
   ]
  },
  {
   "cell_type": "code",
   "execution_count": 6,
   "id": "8a2c2dd4-e907-4856-a8d6-ec5b5f361453",
   "metadata": {},
   "outputs": [
    {
     "name": "stdout",
     "output_type": "stream",
     "text": [
      "0\n"
     ]
    }
   ],
   "source": [
    "test $USER; echo $?"
   ]
  },
  {
   "cell_type": "code",
   "execution_count": 8,
   "id": "0ca6300a-f359-4f55-b17f-e81b14596fef",
   "metadata": {},
   "outputs": [
    {
     "name": "stdout",
     "output_type": "stream",
     "text": [
      "Program needs exactly 1 parameter\n",
      "bye bye\n"
     ]
    },
    {
     "ename": "",
     "evalue": "1",
     "output_type": "error",
     "traceback": []
    }
   ],
   "source": [
    "./test-par.sh"
   ]
  },
  {
   "cell_type": "code",
   "execution_count": 10,
   "id": "a75bfa62-cf90-48f8-b624-789723047b6a",
   "metadata": {},
   "outputs": [
    {
     "name": "stdout",
     "output_type": "stream",
     "text": [
      "gct acg atg cta gtc agc t \n"
     ]
    }
   ],
   "source": [
    "./triplet.sh gctacgatgctagtcagct"
   ]
  },
  {
   "cell_type": "code",
   "execution_count": 13,
   "id": "5339ad37-a35d-4faa-bb78-372ba9b7196e",
   "metadata": {},
   "outputs": [
    {
     "name": "stdout",
     "output_type": "stream",
     "text": [
      "$#=3 - $0= ./para.sh - $1=eins\n",
      "$#=2 - $0= ./para.sh - $1=zwei\n",
      "$#=1 - $0= ./para.sh - $1=drei\n"
     ]
    }
   ],
   "source": [
    "./para.sh eins zwei drei"
   ]
  },
  {
   "cell_type": "code",
   "execution_count": 17,
   "id": "8b24e106-0ffd-4f4a-99c9-ebbda6532599",
   "metadata": {},
   "outputs": [
    {
     "name": "stdout",
     "output_type": "stream",
     "text": [
      "./triplet-stop.sh: line 8: [: ==: unary operator expected\n",
      "./triplet-stop.sh: line 8: [: ==: unary operator expected\n",
      "ata cgt atg act agc atc \n"
     ]
    }
   ],
   "source": [
    "./triplet-stop.sh atacgtatgactagcatc"
   ]
  },
  {
   "cell_type": "code",
   "execution_count": 19,
   "id": "f7774517-d07e-43bd-ad6f-05e162e29b9e",
   "metadata": {},
   "outputs": [
    {
     "name": "stdout",
     "output_type": "stream",
     "text": [
      "tac gta tga cta gca tc \n"
     ]
    }
   ],
   "source": [
    "./triplet-until.sh tacgtatgactagcatc"
   ]
  },
  {
   "cell_type": "code",
   "execution_count": 20,
   "id": "34c60383-0e0f-425a-b456-89eeac12d8e0",
   "metadata": {},
   "outputs": [
    {
     "name": "stdout",
     "output_type": "stream",
     "text": [
      "one\n",
      "two\n",
      "three\n"
     ]
    }
   ],
   "source": [
    "./for1.sh"
   ]
  },
  {
   "cell_type": "code",
   "execution_count": 21,
   "id": "6d7a4500-d20d-47c6-b276-8f8f5428935e",
   "metadata": {},
   "outputs": [
    {
     "name": "stdout",
     "output_type": "stream",
     "text": [
      "1\n",
      "2\n",
      "3\n",
      "4\n",
      "5\n",
      "6\n",
      "7\n",
      "8\n",
      "9\n",
      "10\n"
     ]
    }
   ],
   "source": [
    "./for-num.sh"
   ]
  },
  {
   "cell_type": "code",
   "execution_count": 22,
   "id": "553b8f37-5ea8-40df-888d-eb2fa4d5966a",
   "metadata": {},
   "outputs": [
    {
     "name": "stdout",
     "output_type": "stream",
     "text": [
      "File: chg-pwd.sh\n",
      "File: chmod_files.sh\n",
      "File: con-sh-exe.sh\n",
      "File: for-ls.sh\n",
      "File: for-num.sh\n",
      "File: for1.sh\n",
      "File: grep_file_seq.sh\n",
      "File: if-ls.sh\n",
      "File: para.sh\n",
      "File: test-par.sh\n",
      "File: text.sh\n",
      "File: triplet-stop.sh\n",
      "File: triplet-until.sh\n",
      "File: triplet.sh\n"
     ]
    }
   ],
   "source": [
    "./for-ls.sh"
   ]
  },
  {
   "cell_type": "code",
   "execution_count": 24,
   "id": "9645c6f7-6705-4940-813b-c421e4484884",
   "metadata": {},
   "outputs": [
    {
     "name": "stdout",
     "output_type": "stream",
     "text": [
      "$#=3 - $0=./for-par.sh - $i=eins\n",
      "$#=3 - $0=./for-par.sh - $i=zwei\n",
      "$#=3 - $0=./for-par.sh - $i=drei\n"
     ]
    }
   ],
   "source": [
    "./for-par.sh eins zwei drei"
   ]
  },
  {
   "cell_type": "code",
   "execution_count": 26,
   "id": "d547dc32-5d72-44e7-89aa-e6e5cf3eaea1",
   "metadata": {},
   "outputs": [
    {
     "name": "stdout",
     "output_type": "stream",
     "text": [
      "#!/bin/bash -vx\n",
      "# save as date-vx.sh\n",
      "# demonstrates debugging\n",
      "date\n",
      "+ date\n",
      "Tue Mar 26 19:52:14 CET 2024\n",
      "lss\n",
      "+ lss\n",
      "./date-vx.sh: line 5: lss: command not found\n",
      "now=$(date)\n",
      "++ date\n",
      "+ now='Tue Mar 26 19:52:14 CET 2024'\n",
      "echo \"bye bye\"\n",
      "+ echo 'bye bye'\n",
      "bye bye\n"
     ]
    }
   ],
   "source": [
    "./date-vx.sh"
   ]
  },
  {
   "cell_type": "code",
   "execution_count": 27,
   "id": "ae6b71dc-50b2-4222-a58a-64b56143aaf1",
   "metadata": {},
   "outputs": [
    {
     "name": "stdout",
     "output_type": "stream",
     "text": [
      "Tue Mar 26 19:57:22 CET 2024\n",
      "./date-set.sh: line 5: lss: command not found\n",
      "now=$(date)\n",
      "++ date\n",
      "+ now='Tue Mar 26 19:57:22 CET 2024'\n",
      "set +vx\n",
      "+ set +vx\n",
      "bye bye\n"
     ]
    }
   ],
   "source": [
    "./date-set.sh"
   ]
  },
  {
   "cell_type": "code",
   "execution_count": 28,
   "id": "75d45174-5632-418f-a3a9-bdd6fd6e5958",
   "metadata": {},
   "outputs": [
    {
     "name": "stdout",
     "output_type": "stream",
     "text": [
      "1) Protein\n",
      "2) DNA\n",
      "3) RNA\n",
      "Select item: You selected DNA\n",
      "bye bye\n"
     ]
    }
   ],
   "source": [
    "echo \"2\" | ./select.sh"
   ]
  },
  {
   "cell_type": "code",
   "execution_count": 29,
   "id": "253680fc-e6b1-4125-a86e-4a2adc5edb9b",
   "metadata": {},
   "outputs": [
    {
     "name": "stdout",
     "output_type": "stream",
     "text": [
      "File text.sh does not contain pure DNA sequence\n"
     ]
    }
   ],
   "source": [
    "./dna-test.sh text.sh"
   ]
  },
  {
   "cell_type": "code",
   "execution_count": 30,
   "id": "40065b77-0a5f-42e2-b6e0-698ad4dba7be",
   "metadata": {},
   "outputs": [
    {
     "name": "stdout",
     "output_type": "stream",
     "text": [
      "\u0007\n",
      "\u0007\n",
      "\u0007\n",
      "\u0007\n",
      "\u0007\n",
      "\u0007\n",
      "\u0007\n",
      "\u0007\n"
     ]
    }
   ],
   "source": [
    "./time-signal.sh"
   ]
  },
  {
   "cell_type": "code",
   "execution_count": null,
   "id": "784c4c3e-0f92-46bc-8d21-92a08db601c3",
   "metadata": {},
   "outputs": [],
   "source": []
  }
 ],
 "metadata": {
  "kernelspec": {
   "display_name": "Bash",
   "language": "bash",
   "name": "bash"
  },
  "language_info": {
   "codemirror_mode": "shell",
   "file_extension": ".sh",
   "mimetype": "text/x-sh",
   "name": "bash"
  }
 },
 "nbformat": 4,
 "nbformat_minor": 5
}
