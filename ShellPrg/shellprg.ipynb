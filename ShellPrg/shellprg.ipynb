{
 "cells": [
  {
   "cell_type": "markdown",
   "id": "270d3212-b989-4ba7-afee-d8ccb715b741",
   "metadata": {},
   "source": [
    "# Shell Programming"
   ]
  },
  {
   "cell_type": "markdown",
   "id": "46b424ee-d929-40c5-9cf5-cf13baf7fc73",
   "metadata": {},
   "source": [
    "### Variables"
   ]
  },
  {
   "cell_type": "code",
   "execution_count": 13,
   "id": "ac80d1c1-1024-4755-829c-202b8578c868",
   "metadata": {},
   "outputs": [],
   "source": [
    "plant=orchid"
   ]
  },
  {
   "cell_type": "code",
   "execution_count": 14,
   "id": "f94d5973-5622-4cec-891c-ae4cebe1b733",
   "metadata": {},
   "outputs": [
    {
     "name": "stdout",
     "output_type": "stream",
     "text": [
      "orchid\n"
     ]
    }
   ],
   "source": [
    "echo $plant"
   ]
  },
  {
   "cell_type": "code",
   "execution_count": 3,
   "id": "036feaa0-a226-4b6c-8316-507035d5b556",
   "metadata": {},
   "outputs": [],
   "source": [
    "orchid=parasite"
   ]
  },
  {
   "cell_type": "code",
   "execution_count": 4,
   "id": "50b43596-e874-4be5-967a-b5609283189f",
   "metadata": {},
   "outputs": [],
   "source": [
    "plant=$orchid"
   ]
  },
  {
   "cell_type": "code",
   "execution_count": 5,
   "id": "623b0af2-e545-4341-aaab-9c88038bd0e5",
   "metadata": {},
   "outputs": [
    {
     "name": "stdout",
     "output_type": "stream",
     "text": [
      "parasite\n"
     ]
    }
   ],
   "source": [
    "echo $plant"
   ]
  },
  {
   "cell_type": "code",
   "execution_count": 6,
   "id": "324501d8-00d7-46d1-b1e8-d244886ca09a",
   "metadata": {},
   "outputs": [
    {
     "name": "stdout",
     "output_type": "stream",
     "text": [
      "The value of $orchid is parasite\n"
     ]
    }
   ],
   "source": [
    "echo \"The value of \\$orchid is $orchid\""
   ]
  },
  {
   "cell_type": "code",
   "execution_count": 7,
   "id": "39a65836-5526-4517-8a20-4e179cf0ca4d",
   "metadata": {},
   "outputs": [
    {
     "name": "stdout",
     "output_type": "stream",
     "text": [
      "\n"
     ]
    }
   ],
   "source": [
    "echo \"$animal\""
   ]
  },
  {
   "cell_type": "markdown",
   "id": "ba371e46-69f3-4917-a172-d0c323e45f46",
   "metadata": {},
   "source": [
    "### Input and Output"
   ]
  },
  {
   "cell_type": "code",
   "execution_count": 15,
   "id": "92a654f3-b15d-4b23-9574-da5033792f9c",
   "metadata": {},
   "outputs": [],
   "source": [
    "chmod u+x text.sh"
   ]
  },
  {
   "cell_type": "code",
   "execution_count": 17,
   "id": "d0b4b18e-8086-45f0-ba3b-19c105ae6da3",
   "metadata": {},
   "outputs": [
    {
     "name": "stdout",
     "output_type": "stream",
     "text": [
      "Here comes a lot of text.\n",
      "My home directory is /home/ubuntu - cool.\n",
      "Let us use some tabulators:\n",
      "        tab1\n",
      "        tab2\n",
      "This looks like a nice list.\n",
      "Here comes more text, however, backslashed.\n",
      "My home directory is $HOME - ui.\n"
     ]
    }
   ],
   "source": [
    "./text.sh"
   ]
  },
  {
   "cell_type": "markdown",
   "id": "e462e57f-dff2-4f88-9cbe-d630bf63600a",
   "metadata": {},
   "source": [
    "### Substitutions and Expansions"
   ]
  },
  {
   "cell_type": "code",
   "execution_count": 18,
   "id": "01a48cea-4ae0-401c-8810-8c5505edfa8a",
   "metadata": {},
   "outputs": [
    {
     "name": "stdout",
     "output_type": "stream",
     "text": [
      "file.fasta file.fa file.seq\n"
     ]
    }
   ],
   "source": [
    "echo file.{fasta,fa,seq}"
   ]
  },
  {
   "cell_type": "code",
   "execution_count": 19,
   "id": "1bdcb0fd-72ad-4d5c-949e-0f6f93956d4e",
   "metadata": {},
   "outputs": [],
   "source": [
    "enzyme=\"hydrogenase specific endopeptidase\""
   ]
  },
  {
   "cell_type": "code",
   "execution_count": 21,
   "id": "bdd2b08c-cc0a-4551-9284-cfed4fc8bcfe",
   "metadata": {},
   "outputs": [
    {
     "name": "stdout",
     "output_type": "stream",
     "text": [
      "hydrogenase specific endopeptidase\n"
     ]
    }
   ],
   "source": [
    "echo $enzyme"
   ]
  },
  {
   "cell_type": "code",
   "execution_count": 22,
   "id": "12188bf5-f3aa-43b4-b43d-3971597646e0",
   "metadata": {},
   "outputs": [
    {
     "name": "stdout",
     "output_type": "stream",
     "text": [
      "hydrogenase specific endopeptidase\n"
     ]
    }
   ],
   "source": [
    "echo ${enzyme:=text}"
   ]
  },
  {
   "cell_type": "code",
   "execution_count": 23,
   "id": "36c169f2-9887-4173-a123-18776cf99fbc",
   "metadata": {},
   "outputs": [
    {
     "name": "stdout",
     "output_type": "stream",
     "text": [
      "text\n"
     ]
    }
   ],
   "source": [
    "echo ${enzyme:+text}"
   ]
  },
  {
   "cell_type": "code",
   "execution_count": 24,
   "id": "9b7b8e74-7812-4c7a-94c5-4a44629caa2d",
   "metadata": {},
   "outputs": [
    {
     "name": "stdout",
     "output_type": "stream",
     "text": [
      "\n"
     ]
    }
   ],
   "source": [
    "echo $gene"
   ]
  },
  {
   "cell_type": "code",
   "execution_count": 25,
   "id": "b6c3ecb0-fb8e-43df-866b-dbcdbd0a17ac",
   "metadata": {},
   "outputs": [
    {
     "name": "stdout",
     "output_type": "stream",
     "text": [
      "gene not discovered\n"
     ]
    }
   ],
   "source": [
    "echo ${gene:-gene not discovered}"
   ]
  },
  {
   "cell_type": "code",
   "execution_count": 26,
   "id": "2f14dca7-69a6-4dcd-ab2c-2b2d4d428fa5",
   "metadata": {},
   "outputs": [
    {
     "name": "stdout",
     "output_type": "stream",
     "text": [
      "\n"
     ]
    }
   ],
   "source": [
    "echo $gene"
   ]
  },
  {
   "cell_type": "code",
   "execution_count": 27,
   "id": "ab7aa523-6b23-4427-99e0-57691ada76e2",
   "metadata": {},
   "outputs": [
    {
     "name": "stdout",
     "output_type": "stream",
     "text": [
      "ATG...TAA\n"
     ]
    }
   ],
   "source": [
    "echo ${gene:=ATG...TAA}"
   ]
  },
  {
   "cell_type": "code",
   "execution_count": 28,
   "id": "91aaa557-bcb8-4509-88e3-7f8790b09fee",
   "metadata": {},
   "outputs": [
    {
     "name": "stdout",
     "output_type": "stream",
     "text": [
      "ATG...TAA\n"
     ]
    }
   ],
   "source": [
    "echo $gene"
   ]
  },
  {
   "cell_type": "code",
   "execution_count": 29,
   "id": "21be0a47-9de2-4fb0-8cc8-c436998b30e7",
   "metadata": {},
   "outputs": [
    {
     "name": "stdout",
     "output_type": "stream",
     "text": [
      "9\n"
     ]
    }
   ],
   "source": [
    "echo ${#gene}"
   ]
  },
  {
   "cell_type": "code",
   "execution_count": 30,
   "id": "6b166382-36b7-4310-a4b5-c71ffa2f6edc",
   "metadata": {},
   "outputs": [
    {
     "name": "stdout",
     "output_type": "stream",
     "text": [
      "...\n"
     ]
    }
   ],
   "source": [
    "echo ${gene:3:3}"
   ]
  },
  {
   "cell_type": "code",
   "execution_count": 31,
   "id": "fb82dd68-71a0-42a0-847f-d4f4855dee4e",
   "metadata": {},
   "outputs": [
    {
     "name": "stdout",
     "output_type": "stream",
     "text": [
      "...TAA\n"
     ]
    }
   ],
   "source": [
    "echo ${gene:3}"
   ]
  },
  {
   "cell_type": "code",
   "execution_count": 32,
   "id": "c0f6b8ff-9f1e-4356-997a-8393c634fd6c",
   "metadata": {},
   "outputs": [
    {
     "name": "stdout",
     "output_type": "stream",
     "text": [
      "Mon Mar 18 20:23:31 CET 2024\n"
     ]
    }
   ],
   "source": [
    "echo $(date)"
   ]
  },
  {
   "cell_type": "code",
   "execution_count": 33,
   "id": "d3aa06bc-0c41-46ae-8c96-1ccc70c17f5b",
   "metadata": {},
   "outputs": [
    {
     "name": "stdout",
     "output_type": "stream",
     "text": [
      "Mon Mar 18 20:23:50 CET 2024\n"
     ]
    }
   ],
   "source": [
    "echo `date`"
   ]
  },
  {
   "cell_type": "markdown",
   "id": "77dfe1ff-5f35-4934-a7a6-23698f98bffa",
   "metadata": {},
   "source": [
    "### Quoting"
   ]
  },
  {
   "cell_type": "code",
   "execution_count": 34,
   "id": "0e6f1a2e-2efa-4007-af73-829f87ba673f",
   "metadata": {},
   "outputs": [
    {
     "name": "stdout",
     "output_type": "stream",
     "text": [
      "Research costs some \n"
     ]
    }
   ],
   "source": [
    "echo \"Research costs some $s\""
   ]
  },
  {
   "cell_type": "code",
   "execution_count": 35,
   "id": "b6d89565-21d6-436d-ac0f-4503c1d6d466",
   "metadata": {},
   "outputs": [
    {
     "name": "stdout",
     "output_type": "stream",
     "text": [
      "Research costs some $s\n"
     ]
    }
   ],
   "source": [
    "echo \"Research costs some \\$s\""
   ]
  },
  {
   "cell_type": "code",
   "execution_count": 36,
   "id": "02dc18b6-d7a9-4107-9b47-e47177f25540",
   "metadata": {},
   "outputs": [
    {
     "name": "stdout",
     "output_type": "stream",
     "text": [
      "Research costs some $s\n"
     ]
    }
   ],
   "source": [
    "echo 'Research costs some $s'"
   ]
  },
  {
   "cell_type": "code",
   "execution_count": 37,
   "id": "80c3e7a4-bcb6-4e41-bbd6-c221b0827c88",
   "metadata": {},
   "outputs": [
    {
     "name": "stdout",
     "output_type": "stream",
     "text": [
      "Research costs some \\$s\n"
     ]
    }
   ],
   "source": [
    "echo 'Research costs some \\$s'"
   ]
  },
  {
   "cell_type": "markdown",
   "id": "2ca9b8dc-d15c-4089-b960-c64eb7450e72",
   "metadata": {},
   "source": [
    "### Decisions - Flow Control"
   ]
  },
  {
   "cell_type": "code",
   "execution_count": null,
   "id": "254386b5-0f84-49b1-9ad7-ec33e7a097db",
   "metadata": {},
   "outputs": [],
   "source": []
  }
 ],
 "metadata": {
  "kernelspec": {
   "display_name": "Bash",
   "language": "bash",
   "name": "bash"
  },
  "language_info": {
   "codemirror_mode": "shell",
   "file_extension": ".sh",
   "mimetype": "text/x-sh",
   "name": "bash"
  }
 },
 "nbformat": 4,
 "nbformat_minor": 5
}
