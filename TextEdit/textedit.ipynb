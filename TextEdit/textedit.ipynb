{
 "cells": [
  {
   "cell_type": "markdown",
   "id": "3fd1e9bc-b5fd-42ac-bc0a-ae514fb1dd86",
   "metadata": {},
   "source": [
    "# Text Editing and Analysis"
   ]
  },
  {
   "cell_type": "code",
   "execution_count": 1,
   "id": "55135b74-dfc1-4b92-b05f-2d8d2ad2505c",
   "metadata": {},
   "outputs": [
    {
     "name": "stdout",
     "output_type": "stream",
     "text": [
      "H. sapiens (human) - 3,400,000,000 bp - 30,000 genes\n",
      "A. thaliana (plant) - 100,000,000 bp - 25,000 genes\n",
      "S. cerevisiae (yeast) - 12,100,000 bp - 6034 genes\n",
      "E. coli (bacteria) - 4,670,000 bp - 3237 genes\n",
      "4 lines text?\n",
      "4 lines text?\n",
      "203 characters?\n"
     ]
    }
   ],
   "source": [
    "cat genomes.txt"
   ]
  },
  {
   "cell_type": "code",
   "execution_count": 5,
   "id": "40efc282-89a4-493f-92ca-96f1c7b35ee8",
   "metadata": {},
   "outputs": [
    {
     "name": "stdout",
     "output_type": "stream",
     "text": [
      "H. sapiens (human) - 3,400,000,000 bp - 30,000 genes\n",
      "4 lines text?\n",
      "203 characters?\n"
     ]
    }
   ],
   "source": [
    "sort -u -n genomes.txt"
   ]
  },
  {
   "cell_type": "code",
   "execution_count": 3,
   "id": "54cba12d-81be-4d3e-bece-61626bf7b519",
   "metadata": {},
   "outputs": [
    {
     "name": "stdout",
     "output_type": "stream",
     "text": [
      "203 characters?\n",
      "4 lines text?\n",
      "A. thaliana (plant) - 100,000,000 bp - 25,000 genes\n",
      "E. coli (bacteria) - 4,670,000 bp - 3237 genes\n",
      "H. sapiens (human) - 3,400,000,000 bp - 30,000 genes\n",
      "S. cerevisiae (yeast) - 12,100,000 bp - 6034 genes\n"
     ]
    }
   ],
   "source": [
    "sort -n genomes.txt | sort -u"
   ]
  },
  {
   "cell_type": "code",
   "execution_count": 6,
   "id": "9f27ac6f-ddaf-4920-8e7e-9c29d16da92f",
   "metadata": {},
   "outputs": [
    {
     "name": "stdout",
     "output_type": "stream",
     "text": [
      "203 characters?\n",
      "4 lines text?\n",
      "4 lines text?\n",
      "A. thaliana (plant) - 100,000,000 bp - 25,000 genes\n",
      "H. sapiens (human) - 3,400,000,000 bp - 30,000 genes\n",
      "E. coli (bacteria) - 4,670,000 bp - 3237 genes\n",
      "S. cerevisiae (yeast) - 12,100,000 bp - 6034 genes\n"
     ]
    }
   ],
   "source": [
    "sort -t - -k 3 -n genomes.txt"
   ]
  },
  {
   "cell_type": "code",
   "execution_count": 7,
   "id": "1104614c-ef18-4875-a9d4-ebd408fff6b2",
   "metadata": {},
   "outputs": [
    {
     "name": "stdout",
     "output_type": "stream",
     "text": [
      "  6  44 246 genomes.txt\n"
     ]
    }
   ],
   "source": [
    "wc genomes.txt"
   ]
  },
  {
   "cell_type": "code",
   "execution_count": 8,
   "id": "68f1101c-8172-4ee6-8496-e6a864e837fe",
   "metadata": {},
   "outputs": [],
   "source": [
    "split -l 2 genomes.txt genomes."
   ]
  },
  {
   "cell_type": "code",
   "execution_count": 9,
   "id": "72573064-17d1-4c74-a61f-95b40f2e2160",
   "metadata": {},
   "outputs": [
    {
     "name": "stdout",
     "output_type": "stream",
     "text": [
      "total 24\n",
      "-rw-rw-r-- 1 ubuntu ubuntu  105 Apr 18 12:00 genomes.aa\n",
      "-rw-rw-r-- 1 ubuntu ubuntu   98 Apr 18 12:00 genomes.ab\n",
      "-rw-rw-r-- 1 ubuntu ubuntu   28 Apr 18 12:00 genomes.ac\n",
      "-rw-rw-r-- 1 ubuntu ubuntu   15 Apr 18 12:00 genomes.ad\n",
      "-rw-rw-r-- 1 ubuntu ubuntu  246 Apr 17 21:19 genomes.txt\n",
      "-rw-rw-r-- 1 ubuntu ubuntu 3130 Apr 18 11:56 textedit.ipynb\n"
     ]
    }
   ],
   "source": [
    "ls -l"
   ]
  },
  {
   "cell_type": "code",
   "execution_count": 10,
   "id": "95c143d9-85ed-4a68-8c77-bfa725e99acc",
   "metadata": {},
   "outputs": [
    {
     "name": "stdout",
     "output_type": "stream",
     "text": [
      "H. sapiens (human) - 3,400,000,000 bp - 30,000 genes\n",
      "A. thaliana (plant) - 100,000,000 bp - 25,000 genes\n"
     ]
    }
   ],
   "source": [
    "cat genomes.aa"
   ]
  },
  {
   "cell_type": "code",
   "execution_count": 11,
   "id": "580933a8-6545-4235-b035-b70e6369a784",
   "metadata": {},
   "outputs": [
    {
     "name": "stdout",
     "output_type": "stream",
     "text": [
      "H. sapiens (human) - 30,000 genes\n",
      "A. thaliana (plant) - 25,000 genes\n",
      "S. cerevisiae (yeast) - 6034 genes\n",
      "E. coli (bacteria) - 3237 genes\n",
      "4 lines text?\n",
      "4 lines text?\n",
      "203 characters?\n"
     ]
    }
   ],
   "source": [
    "cut -f 1,3 -d \"-\" genomes.txt"
   ]
  },
  {
   "cell_type": "code",
   "execution_count": 12,
   "id": "e8c34658-0c67-4e3f-a91b-d38315536312",
   "metadata": {},
   "outputs": [
    {
     "name": "stdout",
     "output_type": "stream",
     "text": [
      "H. sapiens (human) - 3,400,000,000 bp - 30,000 genes\tA. thaliana (plant) - 100,000,000 bp - 25,000 genes\tS. cerevisiae (yeast) - 12,100,000 bp - 6034 genes\tE. coli (bacteria) - 4,670,000 bp - 3237 genes\t4 lines text?\t4 lines text?\t203 characters?\n"
     ]
    }
   ],
   "source": [
    "paste -s genomes.txt"
   ]
  },
  {
   "cell_type": "code",
   "execution_count": 13,
   "id": "08a7c25c-bca0-4df2-a2aa-285e0715fef1",
   "metadata": {},
   "outputs": [
    {
     "name": "stdout",
     "output_type": "stream",
     "text": [
      "1 2 3\n",
      "4 5 6\n",
      "7 8 9\n"
     ]
    }
   ],
   "source": [
    "cat numbers.txt"
   ]
  },
  {
   "cell_type": "code",
   "execution_count": 17,
   "id": "57ba757a-5249-423a-9af2-e438231ecb56",
   "metadata": {},
   "outputs": [
    {
     "name": "stdout",
     "output_type": "stream",
     "text": [
      "1 2 3\t4 5 6\t7 8 9\n"
     ]
    }
   ],
   "source": [
    "paste -s numbers.txt"
   ]
  },
  {
   "cell_type": "code",
   "execution_count": 21,
   "id": "e3cd6a52-18b5-4073-abcf-a9dc9c2a7b3a",
   "metadata": {},
   "outputs": [
    {
     "name": "stdout",
     "output_type": "stream",
     "text": [
      "H. sapiens (\u001b[01;31m\u001b[Khuman\u001b[m\u001b[K) - 3,400,000,000 bp - 30,000 genes\n"
     ]
    }
   ],
   "source": [
    "egrep human genomes.txt"
   ]
  },
  {
   "cell_type": "code",
   "execution_count": 20,
   "id": "d279f7e0-fcc0-463e-9ab2-d88744210248",
   "metadata": {},
   "outputs": [
    {
     "name": "stdout",
     "output_type": "stream",
     "text": [
      "H. sapiens (\u001b[01;31m\u001b[Khuman\u001b[m\u001b[K) - 3,400,000,000 bp - 30,000 genes\n",
      "E. coli (\u001b[01;31m\u001b[Kbacteria\u001b[m\u001b[K) - 4,670,000 bp - 3237 genes\n"
     ]
    }
   ],
   "source": [
    "egrep 'bacteria|human' genomes.txt"
   ]
  },
  {
   "cell_type": "code",
   "execution_count": 22,
   "id": "145155ff-3167-4bfc-95e3-c0b9a9499c28",
   "metadata": {},
   "outputs": [
    {
     "name": "stdout",
     "output_type": "stream",
     "text": [
      "4\n"
     ]
    }
   ],
   "source": [
    "egrep -c genes genomes.txt"
   ]
  },
  {
   "cell_type": "code",
   "execution_count": 24,
   "id": "511b9027-a25a-41fc-847c-814923d0a376",
   "metadata": {},
   "outputs": [
    {
     "name": "stdout",
     "output_type": "stream",
     "text": [
      "1,3c1,2\n",
      "< These amino acids are polar:\n",
      "< Serine\n",
      "< Tyrosine\n",
      "---\n",
      "> These amino acids are polar and charged:\n",
      "> Lysine\n"
     ]
    },
    {
     "ename": "",
     "evalue": "1",
     "output_type": "error",
     "traceback": []
    }
   ],
   "source": [
    "diff amino-1.txt amino-2.txt"
   ]
  },
  {
   "cell_type": "code",
   "execution_count": 31,
   "id": "619a767d-fc79-4490-8983-dfba1f48cd5e",
   "metadata": {},
   "outputs": [
    {
     "name": "stdout",
     "output_type": "stream",
     "text": [
      "--- amino-1.txt\t2024-04-18 16:42:56.725698441 +0200\n",
      "+++ amino-2.txt\t2024-04-18 16:35:20.281715004 +0200\n",
      "@@ -1,4 +1,3 @@\n",
      "-These amino acids are polar:\n",
      "-Serine\n",
      "-Tyrosine\n",
      "+These amino acids are polar and charged:\n",
      "+Lysine\n",
      " Arginine\n",
      "\\ No newline at end of file\n"
     ]
    },
    {
     "ename": "",
     "evalue": "1",
     "output_type": "error",
     "traceback": []
    }
   ],
   "source": [
    "diff -u1 amino-1.txt amino-2.txt"
   ]
  },
  {
   "cell_type": "code",
   "execution_count": 32,
   "id": "ff743ded-5ff9-4961-964c-ca7dd7a2b2f4",
   "metadata": {},
   "outputs": [],
   "source": [
    "sort amino-1.txt > amino-1.txt.sorted"
   ]
  },
  {
   "cell_type": "code",
   "execution_count": 33,
   "id": "d949bbd0-a2b6-42cb-86e5-2ba70c3fa5aa",
   "metadata": {},
   "outputs": [],
   "source": [
    "sort amino-2.txt > amino-2.txt.sorted"
   ]
  },
  {
   "cell_type": "code",
   "execution_count": 34,
   "id": "c954e072-0e07-466e-9330-52c4fa608a81",
   "metadata": {},
   "outputs": [
    {
     "name": "stdout",
     "output_type": "stream",
     "text": [
      "\t\tArginine\n",
      "\tLysine\n",
      "Serine\n",
      "\tThese amino acids are polar and charged:\n",
      "These amino acids are polar:\n",
      "Tyrosine\n"
     ]
    }
   ],
   "source": [
    "comm amino-1.txt.sorted amino-2.txt.sorted"
   ]
  },
  {
   "cell_type": "code",
   "execution_count": 35,
   "id": "b0e5c932-58f0-4063-8057-6d65204557bd",
   "metadata": {},
   "outputs": [
    {
     "name": "stdout",
     "output_type": "stream",
     "text": [
      "Arginine\n"
     ]
    }
   ],
   "source": [
    "comm -12 amino-1.txt.sorted amino-2.txt.sorted"
   ]
  },
  {
   "cell_type": "code",
   "execution_count": 36,
   "id": "3cc3c3fa-5ff2-4290-b331-6a7d6e071fa1",
   "metadata": {},
   "outputs": [],
   "source": [
    "vim -e genomes.txt < edit.vi"
   ]
  },
  {
   "cell_type": "code",
   "execution_count": 38,
   "id": "15e5619e-0a67-4adb-a6a9-477f195b5dae",
   "metadata": {},
   "outputs": [
    {
     "name": "stdout",
     "output_type": "stream",
     "text": [
      "H. sapiens (human)\t3.400.000.000 bp\t30.000 genes\n",
      "A. thaliana (plant)\t100.000.000 bp\t25.000 genes\n",
      "S. cerevisiae (yeast)\t12.100.000 bp\t6034 genes\n",
      "E. coli (bacteria)\t4.670.000 bp\t3237 genes\n"
     ]
    }
   ],
   "source": [
    "cat genomes.new"
   ]
  },
  {
   "cell_type": "code",
   "execution_count": 39,
   "id": "053d3dee-afe9-497f-9fd5-907a3b9c945d",
   "metadata": {},
   "outputs": [
    {
     "name": "stdout",
     "output_type": "stream",
     "text": [
      "{ echo $?; } 2>/dev/null\n",
      "0\n"
     ]
    }
   ],
   "source": [
    "!!"
   ]
  },
  {
   "cell_type": "code",
   "execution_count": null,
   "id": "fbb349de-dfa0-4847-ba7a-34036147abc8",
   "metadata": {},
   "outputs": [],
   "source": []
  }
 ],
 "metadata": {
  "kernelspec": {
   "display_name": "Bash",
   "language": "bash",
   "name": "bash"
  },
  "language_info": {
   "codemirror_mode": "shell",
   "file_extension": ".sh",
   "mimetype": "text/x-sh",
   "name": "bash"
  }
 },
 "nbformat": 4,
 "nbformat_minor": 5
}
