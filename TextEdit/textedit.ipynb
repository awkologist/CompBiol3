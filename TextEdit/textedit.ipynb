{
 "cells": [
  {
   "cell_type": "markdown",
   "id": "3fd1e9bc-b5fd-42ac-bc0a-ae514fb1dd86",
   "metadata": {},
   "source": [
    "# Text Editing and Analysis"
   ]
  },
  {
   "cell_type": "code",
   "execution_count": null,
   "id": "55135b74-dfc1-4b92-b05f-2d8d2ad2505c",
   "metadata": {},
   "outputs": [],
   "source": []
  }
 ],
 "metadata": {
  "kernelspec": {
   "display_name": "Bash",
   "language": "bash",
   "name": "bash"
  },
  "language_info": {
   "codemirror_mode": "shell",
   "file_extension": ".sh",
   "mimetype": "text/x-sh",
   "name": "bash"
  }
 },
 "nbformat": 4,
 "nbformat_minor": 5
}
