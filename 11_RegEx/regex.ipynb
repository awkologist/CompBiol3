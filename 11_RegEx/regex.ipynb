{
 "cells": [
  {
   "cell_type": "markdown",
   "id": "c7ba66f3-16c7-4e1f-8cce-a8751b1add60",
   "metadata": {},
   "source": [
    "# Chapter 11 – Regular Expressions\n",
    "Regular expressions are extremely useful and I cannot overemphasize the word \"extremely\". Regular expressions provide a brief, flexible, and comprehensive way to specify or recognize text strings, e.g., character patterns. They are available in virtually all Linux tools and programming languages. A must read chapter."
   ]
  },
  {
   "cell_type": "code",
   "execution_count": null,
   "id": "18559bd4-4f98-45df-a0d8-624739da661d",
   "metadata": {},
   "outputs": [],
   "source": [
    "egrep 'GL.' structure.pdb"
   ]
  },
  {
   "cell_type": "code",
   "execution_count": null,
   "id": "0984aa21-2773-4458-b1b5-fc3373ab0405",
   "metadata": {},
   "outputs": [],
   "source": [
    "egrep 'GLN' structure.pdb"
   ]
  },
  {
   "cell_type": "code",
   "execution_count": null,
   "id": "a9cba8e6-e126-4015-945d-794ebf9d97ae",
   "metadata": {},
   "outputs": [],
   "source": [
    "egrep 'GLY' structure.pdb"
   ]
  },
  {
   "cell_type": "code",
   "execution_count": null,
   "id": "8b36ae54-be18-402c-b31b-048e97ddcb1f",
   "metadata": {},
   "outputs": [],
   "source": [
    "egrep 'GL[YU]' structure.pdb"
   ]
  },
  {
   "cell_type": "code",
   "execution_count": null,
   "id": "1b3bb2d8-a826-4baa-a523-4eb25d4574d8",
   "metadata": {},
   "outputs": [],
   "source": [
    "egrep 'ATG.*TAA' sequence.dna"
   ]
  },
  {
   "cell_type": "code",
   "execution_count": null,
   "id": "4c96d9cd-5e87-41d2-a23d-0c2fdb127c5b",
   "metadata": {},
   "outputs": [],
   "source": [
    "egrep '[CGT]AAA?[CGT]' sequence.dna"
   ]
  },
  {
   "cell_type": "code",
   "execution_count": null,
   "id": "2d240018-a8c7-47b4-b96b-4312f247f1be",
   "metadata": {},
   "outputs": [],
   "source": [
    "egrep '[^A]AAA?[^A]' sequence.dna"
   ]
  },
  {
   "cell_type": "code",
   "execution_count": null,
   "id": "b4d7c674-aa38-45c7-8104-fb978598660b",
   "metadata": {},
   "outputs": [],
   "source": [
    "egrep '[^A]AA+[^A]' sequence.dna"
   ]
  },
  {
   "cell_type": "code",
   "execution_count": null,
   "id": "fd9d3beb-1035-457b-93ea-1d4bbd31bc65",
   "metadata": {},
   "outputs": [],
   "source": [
    "egrep 'A{4,}' sequence.dna"
   ]
  },
  {
   "cell_type": "code",
   "execution_count": null,
   "id": "dd2eb36a-8a99-449d-aa66-8f3d8dcf6965",
   "metadata": {},
   "outputs": [],
   "source": [
    "egrep 'AT(AT)+' sequence.dna"
   ]
  },
  {
   "cell_type": "code",
   "execution_count": null,
   "id": "0f99ed26-e1b1-4485-946f-c5e5b12ed03c",
   "metadata": {},
   "outputs": [],
   "source": [
    "egrep '(GLY ){2,}' structure.pdb"
   ]
  },
  {
   "cell_type": "code",
   "execution_count": null,
   "id": "cd312a59-124a-4080-a86a-930819d6ac30",
   "metadata": {},
   "outputs": [],
   "source": [
    "egrep 'G\\>' structure.pdb"
   ]
  },
  {
   "cell_type": "code",
   "execution_count": null,
   "id": "f2c69375-1e38-40d8-9f41-53b7a55c2e0f",
   "metadata": {},
   "outputs": [],
   "source": [
    "egrep '^H' structure.pdb"
   ]
  },
  {
   "cell_type": "code",
   "execution_count": null,
   "id": "09c92283-735a-47c8-ace6-9f0bedc4e69f",
   "metadata": {},
   "outputs": [],
   "source": [
    "egrep '^$' sequence.dna"
   ]
  },
  {
   "cell_type": "code",
   "execution_count": null,
   "id": "3701c1ee-9942-4523-a5ed-9bd5fdf4ec8b",
   "metadata": {},
   "outputs": [],
   "source": [
    "egrep '^ *$' sequence.dna"
   ]
  },
  {
   "cell_type": "code",
   "execution_count": null,
   "id": "85e4c204-8c56-42f4-b29e-005034c07172",
   "metadata": {},
   "outputs": [],
   "source": [
    "ls -l  | egrep '^d'"
   ]
  },
  {
   "cell_type": "code",
   "execution_count": null,
   "id": "fe05e8a0-3be4-4e1e-a0f6-266b6c4e8232",
   "metadata": {},
   "outputs": [],
   "source": [
    "ls -l ../ShellPrg/ | egrep '^.{7}r'"
   ]
  },
  {
   "cell_type": "code",
   "execution_count": null,
   "id": "b4bd2916-700f-4225-8cb0-b6e2d5fa1988",
   "metadata": {},
   "outputs": [],
   "source": [
    "egrep '(GLY|GLN)' structure.pdb"
   ]
  },
  {
   "cell_type": "code",
   "execution_count": null,
   "id": "b10463a8-fc55-4322-b840-421e761e8784",
   "metadata": {},
   "outputs": [],
   "source": [
    "egrep '(GLY|GLN|ILE)' structure.pdb"
   ]
  },
  {
   "cell_type": "code",
   "execution_count": null,
   "id": "036a9730-a3a1-4fb5-a6ac-f6da4c5f6b04",
   "metadata": {},
   "outputs": [],
   "source": [
    "egrep '([A-Za-z])\\1' structure.pdb"
   ]
  },
  {
   "cell_type": "code",
   "execution_count": null,
   "id": "bc1e6f36-b99e-483c-8986-969f21ce77d3",
   "metadata": {},
   "outputs": [],
   "source": [
    "egrep '([ACTG][ACTG])\\1\\1' sequence.dna"
   ]
  },
  {
   "cell_type": "code",
   "execution_count": null,
   "id": "87463b91-3bdf-494e-9e84-db240275ca5d",
   "metadata": {},
   "outputs": [],
   "source": [
    "echo \"aebccabc\" | grep -P 'a.*?b'"
   ]
  }
 ],
 "metadata": {
  "kernelspec": {
   "display_name": "Bash",
   "language": "bash",
   "name": "bash"
  },
  "language_info": {
   "codemirror_mode": "shell",
   "file_extension": ".sh",
   "mimetype": "text/x-sh",
   "name": "bash"
  }
 },
 "nbformat": 4,
 "nbformat_minor": 5
}
