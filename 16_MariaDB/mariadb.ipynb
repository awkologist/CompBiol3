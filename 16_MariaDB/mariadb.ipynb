{
 "cells": [
  {
   "cell_type": "markdown",
   "id": "c3640450-9cbd-4512-8e61-c9e63b5160d7",
   "metadata": {},
   "source": [
    "# MariaDB\n",
    "## Istallation\n",
    "The following command installs both, the server and the client:\n",
    "```\n",
    "sudo apt install mariadb-server\n",
    "```\n",
    "\n",
    "## Create User Account\n",
    "```\n",
    "GRANT ALL ON compbiol.* TO awkologist@localhost IDENTIFIED BY \"awkology\";\n",
    "```\n",
    "\n",
    "## Create Tables\n",
    "```\n",
    "CREATE TABLE annotation (gene VARCHAR(7), function VARCHAR(30), metabolism VARCHAR(30));\n",
    "CREATE TABLE expression(gene VARCHAR(7), expr_value INT);\n",
    "```"
   ]
  },
  {
   "cell_type": "markdown",
   "id": "fb437fa3-e907-4da6-ba49-6ea358d0d90e",
   "metadata": {},
   "source": [
    "## Download Data Files"
   ]
  },
  {
   "cell_type": "code",
   "execution_count": null,
   "id": "1c2cecea-f571-4c43-a093-c9c56e49f60c",
   "metadata": {},
   "outputs": [],
   "source": [
    "wget 'https://github.com/awkologist/CompBiol3/raw/main/MariaDB/annotation.tab'"
   ]
  },
  {
   "cell_type": "code",
   "execution_count": null,
   "id": "e05bb36e-c38d-4280-a4c5-3ceabffb3aaf",
   "metadata": {},
   "outputs": [],
   "source": [
    "wget 'https://github.com/awkologist/CompBiol3/raw/main/MariaDB/expression.tab'"
   ]
  },
  {
   "cell_type": "markdown",
   "id": "81d8d7b8-de70-42ca-bdc6-00ecd29c4ffa",
   "metadata": {},
   "source": [
    "## Populate Tables\n",
    "```\n",
    "mariadb-import --delete --ignore-lines=1 compbiol annotation.tab\n",
    "mariadb-import --delete --ignore-lines=1 compbiol expression.tab\n",
    "```"
   ]
  },
  {
   "cell_type": "markdown",
   "id": "c85fb19b-a1e6-49ea-87b4-2d92b274b16d",
   "metadata": {},
   "source": [
    "## Querying"
   ]
  },
  {
   "cell_type": "code",
   "execution_count": null,
   "id": "b85373a8-6268-4d02-9a60-5f58e4869bb5",
   "metadata": {},
   "outputs": [],
   "source": [
    "mariadb -e 'SELECT * FROM expression LIMIT 3;'"
   ]
  },
  {
   "cell_type": "code",
   "execution_count": null,
   "id": "34caa6a7-bc98-489f-b42f-daafd318efb8",
   "metadata": {},
   "outputs": [],
   "source": [
    "mariadb -e 'SELECT * FROM expression WHERE expr_value < 1000;'"
   ]
  },
  {
   "cell_type": "code",
   "execution_count": null,
   "id": "f257e10c-142b-4d31-89c7-d0c09b15ac92",
   "metadata": {},
   "outputs": [],
   "source": [
    "mariadb -e 'SELECT * FROM expression WHERE expr_value < 1000  ORDER BY expr_value;'"
   ]
  },
  {
   "cell_type": "code",
   "execution_count": null,
   "id": "4c4871d8-b9bc-436b-8422-20726d3286fd",
   "metadata": {},
   "outputs": [],
   "source": [
    "mariadb -e 'SELECT * FROM annotation WHERE function LIKE \"%ase%\";'"
   ]
  },
  {
   "cell_type": "code",
   "execution_count": null,
   "id": "c468ee6d-688f-4770-9d3c-bcbfe8a63ee2",
   "metadata": {},
   "outputs": [],
   "source": [
    "mariadb -e 'SELECT * FROM annotation WHERE metabolism REGEXP \"(Purine|Pyrimidine) biosynthesis\";'"
   ]
  },
  {
   "cell_type": "code",
   "execution_count": null,
   "id": "c2f83461-3655-4157-b782-aab546bfc15a",
   "metadata": {},
   "outputs": [],
   "source": [
    "mariadb -e 'SELECT gene, function FROM annotation WHERE metabolism REGEXP \"(Purine|Pyrimidine) biosynthesis\"\\G'"
   ]
  },
  {
   "cell_type": "code",
   "execution_count": null,
   "id": "20fc53e4-e842-4ee5-b908-f1629a5f096b",
   "metadata": {},
   "outputs": [],
   "source": [
    "mariadb -e 'SELECT MIN(expr_value) FROM expression;'"
   ]
  },
  {
   "cell_type": "code",
   "execution_count": null,
   "id": "874e2274-1ad4-404a-9e91-4aa5e8ac71a4",
   "metadata": {},
   "outputs": [],
   "source": [
    "mariadb -e 'SELECT annotation.gene, annotation.function, expression.expr_value FROM annotation, expression WHERE annotation.gene = expression.gene AND annotation.metabolism REGEXP \"(Purine|Pyrimidine) biosynthesis\" AND expression.expr_value < 5000;'"
   ]
  },
  {
   "cell_type": "code",
   "execution_count": null,
   "id": "23c07dcf-3cf3-43f4-8ad3-e95a7aade290",
   "metadata": {},
   "outputs": [],
   "source": [
    "mariadb -e 'SELECT a.gene, a.function, e.expr_value FROM annotation AS a, expression AS e WHERE a.gene = e.gene AND a.metabolism REGEXP \"(Purine|Pyrimidine) biosynthesis\" AND e.expr_value < 5000;'"
   ]
  },
  {
   "cell_type": "code",
   "execution_count": null,
   "id": "4edc96d6-4b37-46a2-93fc-38e91a879459",
   "metadata": {},
   "outputs": [],
   "source": [
    "mariadb -e 'SELECT a.gene, a.function, e.expr_value FROM annotation AS a LEFT JOIN expression AS e ON a.gene = e.gene WHERE a.metabolism REGEXP \"(Purine|Pyrimidine) biosynthesis\" AND e.expr_value < 5000;'"
   ]
  },
  {
   "cell_type": "markdown",
   "id": "03753e1a-a777-4445-b4f7-6529802f6a6e",
   "metadata": {},
   "source": [
    "Create the following file:\n",
    "```\n",
    "# save as query.sql\n",
    "USE compbiol\n",
    "SELECT a.function, e.expr_value \n",
    "FROM annotation AS a LEFT JOIN expression AS e ON a.gene = e.gene \n",
    "WHERE e.expr_value < 5000;"
   ]
  },
  {
   "cell_type": "code",
   "execution_count": null,
   "id": "c8caf93e-ca37-41a8-9fbf-d737593090ed",
   "metadata": {},
   "outputs": [],
   "source": [
    "mariadb < query.sql"
   ]
  },
  {
   "cell_type": "code",
   "execution_count": null,
   "id": "ade2731a-1393-49fc-807c-bb9ac42127ce",
   "metadata": {},
   "outputs": [],
   "source": [
    "mariadb < query.sql | sed '1d' | awk -F\"\\t\" '{print $1}'"
   ]
  },
  {
   "cell_type": "code",
   "execution_count": null,
   "id": "e149b994-2a02-402d-9424-b467b477abc8",
   "metadata": {},
   "outputs": [],
   "source": []
  }
 ],
 "metadata": {
  "kernelspec": {
   "display_name": "Bash",
   "language": "bash",
   "name": "bash"
  },
  "language_info": {
   "codemirror_mode": "shell",
   "file_extension": ".sh",
   "mimetype": "text/x-sh",
   "name": "bash"
  }
 },
 "nbformat": 4,
 "nbformat_minor": 5
}
