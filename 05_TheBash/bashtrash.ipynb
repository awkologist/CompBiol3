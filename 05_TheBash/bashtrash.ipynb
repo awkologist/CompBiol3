{
 "cells": [
  {
   "cell_type": "markdown",
   "id": "a66a1884-b811-4e1a-8257-7c6ff76a1a6c",
   "metadata": {},
   "source": [
    "# The Bash"
   ]
  },
  {
   "cell_type": "code",
   "execution_count": null,
   "id": "83127f5e-c23f-4db0-a48b-50c25294f841",
   "metadata": {},
   "outputs": [],
   "source": [
    "date"
   ]
  },
  {
   "cell_type": "code",
   "execution_count": null,
   "id": "4225f337-48a1-41fd-98c0-85fbced52572",
   "metadata": {},
   "outputs": [],
   "source": [
    "date > file-with-date.txt"
   ]
  },
  {
   "cell_type": "code",
   "execution_count": null,
   "id": "56eb8aed-5859-46d1-8991-6aa7610a4e17",
   "metadata": {},
   "outputs": [],
   "source": [
    "date | tee file-with-date.txt"
   ]
  },
  {
   "cell_type": "code",
   "execution_count": null,
   "id": "7f45673e-a013-4ca8-bf8d-3b87efd5e292",
   "metadata": {},
   "outputs": [],
   "source": [
    "cat file-with-date.txt"
   ]
  },
  {
   "cell_type": "code",
   "execution_count": null,
   "id": "75fd1e6b-c413-4a0a-bc8d-826b065592bd",
   "metadata": {},
   "outputs": [],
   "source": [
    "date | tee -a file-with-date.txt"
   ]
  },
  {
   "cell_type": "code",
   "execution_count": null,
   "id": "04f06ab6-85a7-43d7-b95e-f6eab3b44f92",
   "metadata": {},
   "outputs": [],
   "source": [
    "cat -n file-with-date.txt"
   ]
  },
  {
   "cell_type": "code",
   "execution_count": null,
   "id": "8928d1a2-5af8-4330-9fc6-2d4104a19031",
   "metadata": {},
   "outputs": [],
   "source": [
    "date > file-with-date.txt"
   ]
  },
  {
   "cell_type": "code",
   "execution_count": null,
   "id": "3b6f176e-c268-4c62-a50f-ca71de79b471",
   "metadata": {},
   "outputs": [],
   "source": [
    "cat -n file-with-date.txt"
   ]
  },
  {
   "cell_type": "code",
   "execution_count": null,
   "id": "5329571f-658a-4b26-af8e-72ca90fbd5da",
   "metadata": {},
   "outputs": [],
   "source": [
    "for i in {1..5}; do date >> file-with-date.txt; done"
   ]
  },
  {
   "cell_type": "code",
   "execution_count": null,
   "id": "0aedee17-32f4-4ba7-b811-78e80291f1e8",
   "metadata": {},
   "outputs": [],
   "source": [
    "cat -n file-with-date.txt"
   ]
  },
  {
   "cell_type": "code",
   "execution_count": null,
   "id": "705ea6a2-b9fa-47ba-b830-71cc5d1c4645",
   "metadata": {},
   "outputs": [],
   "source": [
    "sort file-with-date.txt"
   ]
  },
  {
   "cell_type": "code",
   "execution_count": null,
   "id": "8fa39a1f-b4ad-480a-bd96-fec224e8bcff",
   "metadata": {},
   "outputs": [],
   "source": [
    "sort -o sorted-file.txt file-with-date.txt"
   ]
  },
  {
   "cell_type": "code",
   "execution_count": null,
   "id": "ff84c6ee-ba45-4e35-a6c3-12879dfde060",
   "metadata": {},
   "outputs": [],
   "source": [
    "head -2 sorted-file.txt"
   ]
  },
  {
   "cell_type": "code",
   "execution_count": null,
   "id": "0692d1e5-5271-426f-8399-8dfbb1a395af",
   "metadata": {},
   "outputs": [],
   "source": [
    "pwd"
   ]
  },
  {
   "cell_type": "code",
   "execution_count": null,
   "id": "f6dd656e-72de-4e8f-829b-a5d3b818cb23",
   "metadata": {},
   "outputs": [],
   "source": [
    "mkdir Awk_Programs"
   ]
  },
  {
   "cell_type": "code",
   "execution_count": null,
   "id": "d5da05bd-ce64-4c0e-992b-c6568901d53d",
   "metadata": {},
   "outputs": [],
   "source": [
    "mkdir Text"
   ]
  },
  {
   "cell_type": "code",
   "execution_count": null,
   "id": "d6c650c5-9d5b-41ff-9877-178e8356b8a5",
   "metadata": {},
   "outputs": [],
   "source": [
    "mkdir .hidden"
   ]
  },
  {
   "cell_type": "code",
   "execution_count": null,
   "id": "87133699-2cf8-48d3-aef6-b955e2bc9054",
   "metadata": {},
   "outputs": [],
   "source": [
    "date > the.date"
   ]
  },
  {
   "cell_type": "code",
   "execution_count": null,
   "id": "2842544c-7073-40e6-bafe-532b4ecb1ebf",
   "metadata": {},
   "outputs": [],
   "source": [
    "date > Text/the.date"
   ]
  },
  {
   "cell_type": "code",
   "execution_count": null,
   "id": "798edc7e-527a-4564-9250-4438d501dc85",
   "metadata": {},
   "outputs": [],
   "source": [
    "ls"
   ]
  },
  {
   "cell_type": "code",
   "execution_count": null,
   "id": "02c4266c-733c-4bf6-8c5d-57ba98ce4826",
   "metadata": {},
   "outputs": [],
   "source": [
    "ls -a"
   ]
  },
  {
   "cell_type": "code",
   "execution_count": null,
   "id": "35c363cc-5e75-4953-a726-6e8fc655f8e7",
   "metadata": {},
   "outputs": [],
   "source": [
    "ls -l"
   ]
  },
  {
   "cell_type": "code",
   "execution_count": null,
   "id": "7d8c5471-de27-4b3d-917f-c04ee7c1c45e",
   "metadata": {},
   "outputs": [],
   "source": [
    "ls -lh | head -2"
   ]
  },
  {
   "cell_type": "code",
   "execution_count": null,
   "id": "e2fa626f-4ec5-4627-9eb7-597ae9e7b06b",
   "metadata": {},
   "outputs": [],
   "source": [
    "ls Text"
   ]
  },
  {
   "cell_type": "code",
   "execution_count": null,
   "id": "966c48a2-2c69-4d9a-a6c5-349d67953db7",
   "metadata": {},
   "outputs": [],
   "source": [
    "mkdir F1 F2"
   ]
  },
  {
   "cell_type": "markdown",
   "id": "96ac9000-55cc-4159-97f2-d6b859281839",
   "metadata": {},
   "source": [
    "## Navigation"
   ]
  },
  {
   "cell_type": "code",
   "execution_count": null,
   "id": "266d24e2-59ea-4ec0-8766-4033bd45bd89",
   "metadata": {},
   "outputs": [],
   "source": [
    "pwd"
   ]
  },
  {
   "cell_type": "code",
   "execution_count": null,
   "id": "8d0247c2-b489-470b-af8f-458936d3601c",
   "metadata": {},
   "outputs": [],
   "source": [
    "mkdir Playground; cd Playground"
   ]
  },
  {
   "cell_type": "code",
   "execution_count": null,
   "id": "606498bd-b7a9-415a-87bd-e8101ee08b6b",
   "metadata": {},
   "outputs": [],
   "source": [
    "mkdir Folder-A Folder-B"
   ]
  },
  {
   "cell_type": "code",
   "execution_count": null,
   "id": "a8b2ae95-9d05-4dcb-883c-5bc60fb2b249",
   "metadata": {},
   "outputs": [],
   "source": [
    "date > today.txt"
   ]
  },
  {
   "cell_type": "code",
   "execution_count": null,
   "id": "cdb8796b-2366-4072-b2a5-11f7fbc03755",
   "metadata": {},
   "outputs": [],
   "source": [
    "ls -l"
   ]
  },
  {
   "cell_type": "code",
   "execution_count": null,
   "id": "96600168-5974-4ecb-b574-dab38203580f",
   "metadata": {},
   "outputs": [],
   "source": [
    "cd Folder-B "
   ]
  },
  {
   "cell_type": "code",
   "execution_count": null,
   "id": "333d3b86-64f3-41d8-982d-b0b67907b233",
   "metadata": {},
   "outputs": [],
   "source": [
    "cp ../today.txt ."
   ]
  },
  {
   "cell_type": "code",
   "execution_count": null,
   "id": "8e308826-a62d-4c3c-b207-8a2caafc725f",
   "metadata": {},
   "outputs": [],
   "source": [
    "ls"
   ]
  },
  {
   "cell_type": "code",
   "execution_count": null,
   "id": "5868f6a5-2550-4394-a18a-db1a7bd12f8b",
   "metadata": {},
   "outputs": [],
   "source": [
    "mv today.txt now.txt"
   ]
  },
  {
   "cell_type": "code",
   "execution_count": null,
   "id": "ca4b26a6-c926-4a6f-9744-c425c66529ca",
   "metadata": {},
   "outputs": [],
   "source": [
    "ls"
   ]
  },
  {
   "cell_type": "code",
   "execution_count": null,
   "id": "7717d3ea-0db8-42be-a34b-42165d57ead6",
   "metadata": {},
   "outputs": [],
   "source": [
    "mv now.txt ../Folder-A"
   ]
  },
  {
   "cell_type": "code",
   "execution_count": null,
   "id": "6b19f53e-6d77-4dce-a2d0-a03d0a0b7b31",
   "metadata": {},
   "outputs": [],
   "source": [
    "ls"
   ]
  },
  {
   "cell_type": "code",
   "execution_count": null,
   "id": "f1d2ab37-86e8-4328-b7e3-3760ea98b5d6",
   "metadata": {},
   "outputs": [],
   "source": [
    "cd ../Folder-A"
   ]
  },
  {
   "cell_type": "code",
   "execution_count": null,
   "id": "08e0e026-6002-4ac0-8af9-43e1d42dc694",
   "metadata": {},
   "outputs": [],
   "source": [
    "ls"
   ]
  },
  {
   "cell_type": "code",
   "execution_count": null,
   "id": "22ddcb53-3680-4db7-8148-0eed1a3553cb",
   "metadata": {},
   "outputs": [],
   "source": [
    "rm now.txt"
   ]
  },
  {
   "cell_type": "code",
   "execution_count": null,
   "id": "49f3d9d6-93a1-4320-905b-3a7e183a503a",
   "metadata": {},
   "outputs": [],
   "source": [
    "cd .."
   ]
  },
  {
   "cell_type": "code",
   "execution_count": null,
   "id": "05a60a0d-3495-4083-ad30-cfc18b6b0153",
   "metadata": {},
   "outputs": [],
   "source": [
    "ls "
   ]
  },
  {
   "cell_type": "code",
   "execution_count": null,
   "id": "b8f10f78-5895-4dde-8c33-6f187e77ac52",
   "metadata": {},
   "outputs": [],
   "source": [
    "rm -r Folder-*"
   ]
  },
  {
   "cell_type": "code",
   "execution_count": null,
   "id": "6d68c206-9194-4c14-b16f-2b888dda1265",
   "metadata": {},
   "outputs": [],
   "source": [
    "ls"
   ]
  },
  {
   "cell_type": "code",
   "execution_count": null,
   "id": "1f69b8ce-e14a-4587-8191-1fe74467a9bb",
   "metadata": {},
   "outputs": [],
   "source": [
    "stat today.txt"
   ]
  },
  {
   "cell_type": "code",
   "execution_count": null,
   "id": "0456117c-40b0-47d2-84cb-317cf2ca5bf7",
   "metadata": {},
   "outputs": [],
   "source": [
    "file today.txt"
   ]
  },
  {
   "cell_type": "code",
   "execution_count": null,
   "id": "24e711fe-3037-4c53-9286-7a297c60e676",
   "metadata": {},
   "outputs": [],
   "source": [
    "id"
   ]
  },
  {
   "cell_type": "code",
   "execution_count": null,
   "id": "721c55bb-821b-4de3-9c15-dccd9a9d2251",
   "metadata": {},
   "outputs": [],
   "source": [
    "date > today.txt"
   ]
  },
  {
   "cell_type": "code",
   "execution_count": null,
   "id": "6d466374-430b-4533-b289-e690c096eb05",
   "metadata": {},
   "outputs": [],
   "source": [
    "ls -l today.txt"
   ]
  },
  {
   "cell_type": "code",
   "execution_count": null,
   "id": "7b479fb2-bacc-4e45-a6e6-a602bed29bf2",
   "metadata": {},
   "outputs": [],
   "source": [
    "chmod g-w,o-r,a+x today.txt"
   ]
  },
  {
   "cell_type": "code",
   "execution_count": null,
   "id": "61935ffd-2639-4edf-b2c1-0f526d5a2dce",
   "metadata": {},
   "outputs": [],
   "source": [
    "ls -l today.txt"
   ]
  },
  {
   "cell_type": "code",
   "execution_count": null,
   "id": "ec9d0551-a16f-454c-bb55-dae9659005df",
   "metadata": {},
   "outputs": [],
   "source": [
    "chmod g=w today.txt"
   ]
  },
  {
   "cell_type": "code",
   "execution_count": null,
   "id": "5bf8cf3a-cff4-4589-92be-ab700fbe096c",
   "metadata": {},
   "outputs": [],
   "source": [
    "ls -l today.txt"
   ]
  },
  {
   "cell_type": "code",
   "execution_count": null,
   "id": "d05d1b96-0059-4bd0-8453-7ed597ff1146",
   "metadata": {},
   "outputs": [],
   "source": [
    "chmod 664 today.txt"
   ]
  },
  {
   "cell_type": "code",
   "execution_count": null,
   "id": "789e1c04-b34c-4cec-922f-6beacd321d39",
   "metadata": {},
   "outputs": [],
   "source": [
    "ls -l today.txt"
   ]
  },
  {
   "cell_type": "code",
   "execution_count": null,
   "id": "4650c6f6-36c3-45a8-a6b6-4568633104ea",
   "metadata": {},
   "outputs": [],
   "source": [
    "touch testfile"
   ]
  },
  {
   "cell_type": "code",
   "execution_count": null,
   "id": "902cc0a9-2035-43be-99cb-b819a0b90e98",
   "metadata": {},
   "outputs": [],
   "source": [
    "chmod 777 testfile"
   ]
  },
  {
   "cell_type": "code",
   "execution_count": null,
   "id": "3e88b562-be72-4667-b729-a54ba0b93eef",
   "metadata": {},
   "outputs": [],
   "source": [
    "ls -l testfile"
   ]
  },
  {
   "cell_type": "code",
   "execution_count": null,
   "id": "b35f9a9c-8a53-4b96-afbb-f1d5cac52e8a",
   "metadata": {},
   "outputs": [],
   "source": [
    "chmod a-x,g-wx,o= testfile"
   ]
  },
  {
   "cell_type": "code",
   "execution_count": null,
   "id": "9478fba3-fea3-4f7f-ba5e-d6f6711994c7",
   "metadata": {},
   "outputs": [],
   "source": [
    "ls -l testfile"
   ]
  },
  {
   "cell_type": "code",
   "execution_count": null,
   "id": "53063772-7612-483c-9324-8d43cc240afa",
   "metadata": {},
   "outputs": [],
   "source": [
    "chmod ag+x,o+r testfile"
   ]
  },
  {
   "cell_type": "code",
   "execution_count": null,
   "id": "e3c9c84b-4042-4ee7-884d-4b9b18548603",
   "metadata": {},
   "outputs": [],
   "source": [
    "ls -l testfile"
   ]
  },
  {
   "cell_type": "markdown",
   "id": "eb11f388-68cb-46b7-b415-028544f12bfb",
   "metadata": {},
   "source": [
    "## File Archives"
   ]
  },
  {
   "cell_type": "code",
   "execution_count": null,
   "id": "816afb36-bfce-480a-ac85-cf12f0fcbf94",
   "metadata": {},
   "outputs": [],
   "source": [
    "mkdir Playarea"
   ]
  },
  {
   "cell_type": "code",
   "execution_count": null,
   "id": "d2051332-a3c9-4c15-8a98-9b34ed9ba15e",
   "metadata": {},
   "outputs": [],
   "source": [
    "cd Playarea"
   ]
  },
  {
   "cell_type": "code",
   "execution_count": null,
   "id": "631598d5-3e82-40cc-b1f7-f8cb475d84e7",
   "metadata": {},
   "outputs": [],
   "source": [
    "touch file-{1,2,3}.{txt,fa,seq}"
   ]
  },
  {
   "cell_type": "code",
   "execution_count": null,
   "id": "a8d089ea-e096-4fd8-952b-4563829fed9d",
   "metadata": {},
   "outputs": [],
   "source": [
    "ls"
   ]
  },
  {
   "cell_type": "code",
   "execution_count": null,
   "id": "c617521e-0355-4baa-b949-6a37066f57fe",
   "metadata": {},
   "outputs": [],
   "source": [
    "tar -cf fasta.tar *.{fa,seq}"
   ]
  },
  {
   "cell_type": "code",
   "execution_count": null,
   "id": "2140814e-5392-4271-a76c-54c10bf6d956",
   "metadata": {},
   "outputs": [],
   "source": [
    "ls"
   ]
  },
  {
   "cell_type": "code",
   "execution_count": null,
   "id": "6ab3baeb-b406-4ace-b761-587558736068",
   "metadata": {},
   "outputs": [],
   "source": [
    "gzip fasta.tar"
   ]
  },
  {
   "cell_type": "code",
   "execution_count": null,
   "id": "5608e642-fe4c-4f7b-9237-67a090364c2f",
   "metadata": {},
   "outputs": [],
   "source": [
    "ls -l fasta.*"
   ]
  },
  {
   "cell_type": "code",
   "execution_count": null,
   "id": "324b43b7-15e9-4f90-862b-7aef3869bad9",
   "metadata": {},
   "outputs": [],
   "source": [
    "mkdir Fasta"
   ]
  },
  {
   "cell_type": "code",
   "execution_count": null,
   "id": "735169fd-18eb-4d1a-ae9a-751bc98ee48a",
   "metadata": {},
   "outputs": [],
   "source": [
    "mv fasta.tar.gz Fasta"
   ]
  },
  {
   "cell_type": "code",
   "execution_count": null,
   "id": "9301bb42-1f73-40cd-a725-5febadb848b3",
   "metadata": {},
   "outputs": [],
   "source": [
    "cd Fasta; ls"
   ]
  },
  {
   "cell_type": "code",
   "execution_count": null,
   "id": "27e82dd4-b935-4015-8f2c-474e688a95ee",
   "metadata": {},
   "outputs": [],
   "source": [
    "tar -tf fasta.tar.gz"
   ]
  },
  {
   "cell_type": "code",
   "execution_count": null,
   "id": "8a575b2b-6cd7-4e6f-af4e-ab18d837907c",
   "metadata": {},
   "outputs": [],
   "source": [
    "tar --wildcards -xf fasta.tar.gz *.fa"
   ]
  },
  {
   "cell_type": "code",
   "execution_count": null,
   "id": "1d06c20c-1e3f-4f2f-b5dc-b4942a0c6887",
   "metadata": {},
   "outputs": [],
   "source": [
    "ls"
   ]
  },
  {
   "cell_type": "code",
   "execution_count": null,
   "id": "9e37716b-2bd2-48c9-bfb8-64dbabc7b074",
   "metadata": {},
   "outputs": [],
   "source": [
    "gunzip fasta*"
   ]
  },
  {
   "cell_type": "code",
   "execution_count": null,
   "id": "6eb4ebb5-99c8-4032-bb9a-d8b7d033240c",
   "metadata": {},
   "outputs": [],
   "source": [
    "ls -l fasta*"
   ]
  },
  {
   "cell_type": "code",
   "execution_count": null,
   "id": "b41fe53b-c51b-47bc-86cc-b9715a76907f",
   "metadata": {},
   "outputs": [],
   "source": [
    "ls"
   ]
  },
  {
   "cell_type": "code",
   "execution_count": null,
   "id": "c896e6ea-1952-4584-8b1f-9704972fc015",
   "metadata": {},
   "outputs": [],
   "source": [
    "stat file-1.fa"
   ]
  },
  {
   "cell_type": "code",
   "execution_count": null,
   "id": "2cc378cd-4221-48dc-8f7b-9a60b73c1148",
   "metadata": {},
   "outputs": [],
   "source": [
    "tar -tvf fasta.tar"
   ]
  },
  {
   "cell_type": "code",
   "execution_count": null,
   "id": "3a5e118f-980c-4223-9b91-a10011dd6896",
   "metadata": {},
   "outputs": [],
   "source": [
    "pwd"
   ]
  },
  {
   "cell_type": "markdown",
   "id": "8141db8b-74d6-416c-8bf9-61ae02c5d95e",
   "metadata": {},
   "source": [
    "## Find"
   ]
  },
  {
   "cell_type": "code",
   "execution_count": null,
   "id": "8a68415e-e759-4303-b83f-53ade1d48615",
   "metadata": {},
   "outputs": [],
   "source": [
    "pwd"
   ]
  },
  {
   "cell_type": "code",
   "execution_count": null,
   "id": "a582f1ff-bebb-4b07-8a9c-b4286e3707c3",
   "metadata": {},
   "outputs": [],
   "source": [
    "mkdir -p Findtest/Sub"
   ]
  },
  {
   "cell_type": "code",
   "execution_count": null,
   "id": "506bdcc4-afa3-49f4-ae24-008c8cab05da",
   "metadata": {},
   "outputs": [],
   "source": [
    "cd Findtest"
   ]
  },
  {
   "cell_type": "code",
   "execution_count": null,
   "id": "39b40001-2a7c-4c35-a469-909b39b7b5ab",
   "metadata": {},
   "outputs": [],
   "source": [
    "touch file-1.txt file-2.txt Sub/file-3.doc"
   ]
  },
  {
   "cell_type": "code",
   "execution_count": null,
   "id": "c49fa86c-9018-4ac8-b666-62f22f391ac8",
   "metadata": {},
   "outputs": [],
   "source": [
    "find . -type f -size -6 -name \"*.txt\""
   ]
  },
  {
   "cell_type": "code",
   "execution_count": null,
   "id": "63a507cc-18ae-4c58-aa30-ddcc2fb7f191",
   "metadata": {},
   "outputs": [],
   "source": [
    "find . -type f -size -6 -name \"*[0-9]*\""
   ]
  },
  {
   "cell_type": "code",
   "execution_count": null,
   "id": "bc720983-4113-445c-aa46-7c7487b81c37",
   "metadata": {},
   "outputs": [],
   "source": [
    "find . -type f -size +6 -name \"*[0-9]*\""
   ]
  },
  {
   "cell_type": "code",
   "execution_count": null,
   "id": "57592086-9cf0-47ca-9919-e57ecc9418a7",
   "metadata": {},
   "outputs": [],
   "source": [
    "find . -type f -size -6 -name \"*[0-9]*\" -name \"*.doc\""
   ]
  },
  {
   "cell_type": "code",
   "execution_count": null,
   "id": "00baf81f-fa00-45a6-a31e-af5b3ecefdfc",
   "metadata": {},
   "outputs": [],
   "source": [
    "mkdir Found"
   ]
  },
  {
   "cell_type": "code",
   "execution_count": null,
   "id": "dea3028a-61ed-4f09-a2ed-ebcdb910e778",
   "metadata": {},
   "outputs": [],
   "source": [
    "find . -type f -size -6 -name \"*[0-9]*\" -name \"*.txt\" -execdir cp {} Found/{}.backup \\;"
   ]
  },
  {
   "cell_type": "code",
   "execution_count": null,
   "id": "22ee6ff0-0b20-4a21-bb69-c34378f7f79d",
   "metadata": {},
   "outputs": [],
   "source": [
    "ls Found"
   ]
  },
  {
   "cell_type": "code",
   "execution_count": null,
   "id": "107bdd21-c9c4-44ff-9487-60c858b590d4",
   "metadata": {},
   "outputs": [],
   "source": []
  },
  {
   "cell_type": "code",
   "execution_count": null,
   "id": "ab356a71-6a72-40f3-b657-c90b6679c1b5",
   "metadata": {},
   "outputs": [],
   "source": [
    "find . -type f -size -6 -name \"*[0-9]*\""
   ]
  },
  {
   "cell_type": "code",
   "execution_count": null,
   "id": "042a75d8-4ae9-4831-989a-ac9ce5282adb",
   "metadata": {},
   "outputs": [],
   "source": []
  }
 ],
 "metadata": {
  "kernelspec": {
   "display_name": "Bash",
   "language": "bash",
   "name": "bash"
  },
  "language_info": {
   "codemirror_mode": "shell",
   "file_extension": ".sh",
   "mimetype": "text/x-sh",
   "name": "bash"
  }
 },
 "nbformat": 4,
 "nbformat_minor": 5
}
