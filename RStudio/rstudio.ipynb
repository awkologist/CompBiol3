{
 "cells": [
  {
   "cell_type": "markdown",
   "id": "86ef9886-37a5-4136-8caf-f83f7c516126",
   "metadata": {},
   "source": [
    "# Computing with R\n",
    "\n",
    "## Installation of R\n",
    "Use: `"
   ]
  },
  {
   "cell_type": "markdown",
   "id": "2a0064e8-83de-4311-a67a-bd7496d7f43f",
   "metadata": {},
   "source": [
    "### Check Ubuntu Release and Install RStudio\n",
    "Download the right version from https://posit.co/download/rstudio-desktop/ "
   ]
  },
  {
   "cell_type": "code",
   "execution_count": 1,
   "id": "3aea7263-852e-430c-a85f-e0097f4b787d",
   "metadata": {},
   "outputs": [
    {
     "name": "stdout",
     "output_type": "stream",
     "text": [
      "No LSB modules are available.\n",
      "Distributor ID:\tUbuntu\n",
      "Description:\tUbuntu 22.04.3 LTS\n",
      "Release:\t22.04\n",
      "Codename:\tjammy\n"
     ]
    }
   ],
   "source": [
    "lsb_release -a"
   ]
  },
  {
   "cell_type": "code",
   "execution_count": 2,
   "id": "443df5ab-3f2a-4304-a898-b9ccdfe87daf",
   "metadata": {},
   "outputs": [
    {
     "name": "stdout",
     "output_type": "stream",
     "text": [
      "--2024-03-05 07:45:31--  https://download1.rstudio.org/electron/jammy/amd64/rstudio-2023.12.1-402-amd64.deb\n",
      "Resolving download1.rstudio.org (download1.rstudio.org)... 18.64.119.59, 18.64.119.26, 18.64.119.30, ...\n",
      "Connecting to download1.rstudio.org (download1.rstudio.org)|18.64.119.59|:443... connected.\n",
      "HTTP request sent, awaiting response... 200 OK\n",
      "Length: 149955068 (143M) [application/octet-stream]\n",
      "Saving to: ‘rstudio-2023.12.1-402-amd64.deb’\n",
      "\n",
      "rstudio-2023.12.1-4 100%[===================>] 143.01M  3.18MB/s    in 43s     \n",
      "\n",
      "2024-03-05 07:46:15 (3.30 MB/s) - ‘rstudio-2023.12.1-402-amd64.deb’ saved [149955068/149955068]\n",
      "\n"
     ]
    }
   ],
   "source": [
    "wget 'https://download1.rstudio.org/electron/jammy/amd64/rstudio-2023.12.1-402-amd64.deb'"
   ]
  },
  {
   "cell_type": "markdown",
   "id": "cd87e4bb-eb94-495c-a833-1e11ea00c4e6",
   "metadata": {},
   "source": [
    "Install with `sudo apt install -f ./rstudio-2023.12.1-402-amd64.deb`\n",
    "\n",
    "Start RStudio with `rstudio &`"
   ]
  },
  {
   "cell_type": "code",
   "execution_count": null,
   "id": "b31d0724-8aff-42d3-8055-f747cccc958d",
   "metadata": {},
   "outputs": [],
   "source": []
  }
 ],
 "metadata": {
  "kernelspec": {
   "display_name": "Bash",
   "language": "bash",
   "name": "bash"
  },
  "language_info": {
   "codemirror_mode": "shell",
   "file_extension": ".sh",
   "mimetype": "text/x-sh",
   "name": "bash"
  }
 },
 "nbformat": 4,
 "nbformat_minor": 5
}
