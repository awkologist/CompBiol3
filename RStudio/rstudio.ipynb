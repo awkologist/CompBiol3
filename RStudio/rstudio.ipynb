{
 "cells": [
  {
   "cell_type": "markdown",
   "id": "86ef9886-37a5-4136-8caf-f83f7c516126",
   "metadata": {},
   "source": [
    "# Computing with R\n",
    "\n",
    "## Installation of R\n",
    "Use: `"
   ]
  },
  {
   "cell_type": "markdown",
   "id": "2a0064e8-83de-4311-a67a-bd7496d7f43f",
   "metadata": {},
   "source": [
    "### Check Ubuntu Release and Install RStudio\n",
    "Download the right version from https://posit.co/download/rstudio-desktop/ "
   ]
  },
  {
   "cell_type": "code",
   "execution_count": 1,
   "id": "3aea7263-852e-430c-a85f-e0097f4b787d",
   "metadata": {},
   "outputs": [
    {
     "name": "stdout",
     "output_type": "stream",
     "text": [
      "No LSB modules are available.\n",
      "Distributor ID:\tUbuntu\n",
      "Description:\tUbuntu 22.04.3 LTS\n",
      "Release:\t22.04\n",
      "Codename:\tjammy\n"
     ]
    }
   ],
   "source": [
    "lsb_release -a"
   ]
  },
  {
   "cell_type": "code",
   "execution_count": 2,
   "id": "443df5ab-3f2a-4304-a898-b9ccdfe87daf",
   "metadata": {},
   "outputs": [
    {
     "name": "stdout",
     "output_type": "stream",
     "text": [
      "--2024-03-05 07:45:31--  https://download1.rstudio.org/electron/jammy/amd64/rstudio-2023.12.1-402-amd64.deb\n",
      "Resolving download1.rstudio.org (download1.rstudio.org)... 18.64.119.59, 18.64.119.26, 18.64.119.30, ...\n",
      "Connecting to download1.rstudio.org (download1.rstudio.org)|18.64.119.59|:443... connected.\n",
      "HTTP request sent, awaiting response... 200 OK\n",
      "Length: 149955068 (143M) [application/octet-stream]\n",
      "Saving to: ‘rstudio-2023.12.1-402-amd64.deb’\n",
      "\n",
      "rstudio-2023.12.1-4 100%[===================>] 143.01M  3.18MB/s    in 43s     \n",
      "\n",
      "2024-03-05 07:46:15 (3.30 MB/s) - ‘rstudio-2023.12.1-402-amd64.deb’ saved [149955068/149955068]\n",
      "\n"
     ]
    }
   ],
   "source": [
    "wget 'https://download1.rstudio.org/electron/jammy/amd64/rstudio-2023.12.1-402-amd64.deb'"
   ]
  },
  {
   "cell_type": "markdown",
   "id": "cd87e4bb-eb94-495c-a833-1e11ea00c4e6",
   "metadata": {},
   "source": [
    "Install with `sudo apt install -f ./rstudio-2023.12.1-402-amd64.deb`\n",
    "\n",
    "Start RStudio with `rstudio &`"
   ]
  },
  {
   "cell_type": "code",
   "execution_count": 5,
   "id": "b31d0724-8aff-42d3-8055-f747cccc958d",
   "metadata": {},
   "outputs": [
    {
     "name": "stdout",
     "output_type": "stream",
     "text": [
      "OpenBLAS WARNING - could not determine the L2 cache size on this system, assuming 256k\n",
      "> a<-1:10; b<-c(23,56,67:72,98,65); length(a); length(b)\n",
      "[1] 10\n",
      "[1] 10\n",
      "> \n",
      "> \n"
     ]
    }
   ],
   "source": [
    "R --save -q -e 'a<-1:10; b<-c(23,56,67:72,98,65); length(a); length(b)'"
   ]
  },
  {
   "cell_type": "markdown",
   "id": "c20db0f2-1aad-4cb5-af00-db2167afc547",
   "metadata": {},
   "source": [
    "The following command saves the plot in file *Rplots.pdf* in the current directory."
   ]
  },
  {
   "cell_type": "code",
   "execution_count": 6,
   "id": "8ad7697c-561d-4231-9a1f-d7aa62c8b0b0",
   "metadata": {},
   "outputs": [
    {
     "name": "stdout",
     "output_type": "stream",
     "text": [
      "OpenBLAS WARNING - could not determine the L2 cache size on this system, assuming 256k\n",
      "> plot(a,b); c<-seq(from=10,to=100,by=10); points(a,c,col=\"red\",pch=2); lines(a,c,col=\"blue\")\n",
      "> \n",
      "> \n"
     ]
    }
   ],
   "source": [
    "R --save -q -e 'plot(a,b); c<-seq(from=10,to=100,by=10); points(a,c,col=\"red\",pch=2); lines(a,c,col=\"blue\")'"
   ]
  },
  {
   "cell_type": "code",
   "execution_count": 7,
   "id": "810f77f1-9ff6-4d6d-9a9c-1b8b5e940f5d",
   "metadata": {},
   "outputs": [
    {
     "name": "stdout",
     "output_type": "stream",
     "text": [
      "OpenBLAS WARNING - could not determine the L2 cache size on this system, assuming 256k\n",
      "> b[3]; b<=70; which(b<=70)\n",
      "[1] 67\n",
      " [1]  TRUE  TRUE  TRUE  TRUE  TRUE  TRUE FALSE FALSE FALSE  TRUE\n",
      "[1]  1  2  3  4  5  6 10\n",
      "> \n",
      "> \n"
     ]
    }
   ],
   "source": [
    "R --save -q -e 'b[3]; b<=70; which(b<=70)'"
   ]
  },
  {
   "cell_type": "code",
   "execution_count": 9,
   "id": "f6135dac-2caf-46e1-b478-34467ceff19a",
   "metadata": {},
   "outputs": [
    {
     "name": "stdout",
     "output_type": "stream",
     "text": [
      "OpenBLAS WARNING - could not determine the L2 cache size on this system, assuming 256k\n",
      "> a <- seq(from=1,to=100,by=5); \n",
      "> b <- 0; for (i in 1:length(a)) {b[i] <- i*i}; \n",
      "> r <- 0; for (i in 1:length(a)) {r[i] <- runif(1, -50, 50)};  \n",
      "> min(a); max(a); min(b+r); max(b+r)\n",
      "[1] 1\n",
      "[1] 96\n",
      "[1] -7.287671\n",
      "[1] 367.588\n",
      "> \n",
      "> \n"
     ]
    }
   ],
   "source": [
    "R --save -q -e '\n",
    "a <- seq(from=1,to=100,by=5); \n",
    "b <- 0; for (i in 1:length(a)) {b[i] <- i*i}; \n",
    "r <- 0; for (i in 1:length(a)) {r[i] <- runif(1, -50, 50)};  \n",
    "min(a); max(a); min(b+r); max(b+r)'"
   ]
  },
  {
   "cell_type": "code",
   "execution_count": 12,
   "id": "c4c6de7e-6398-4e11-a374-cf7272ff3796",
   "metadata": {},
   "outputs": [
    {
     "name": "stdout",
     "output_type": "stream",
     "text": [
      "OpenBLAS WARNING - could not determine the L2 cache size on this system, assuming 256k\n",
      "> plot(13, 42, xlim=c(0,100), type=\"n\", ylim=c(-30,430), xlab=\"Variable a\", ylab=\"\", main=\"Root and Random\")\n",
      "> \n",
      "> \n"
     ]
    }
   ],
   "source": [
    "R --save -q -e '\n",
    "plot(13, 42, xlim=c(0,100), type=\"n\", ylim=c(-30,430), xlab=\"Variable a\", ylab=\"\", main=\"Root and Random\")'"
   ]
  },
  {
   "cell_type": "code",
   "execution_count": 19,
   "id": "db948067-cc14-445d-9ef5-b9a8aa788de9",
   "metadata": {},
   "outputs": [
    {
     "name": "stdout",
     "output_type": "stream",
     "text": [
      "OpenBLAS WARNING - could not determine the L2 cache size on this system, assuming 256k\n",
      "> \n",
      "> plot(13, 42, xlim=c(0,100), type=\"n\", ylim=c(-30,430), xlab=\"Variable a\", ylab=\"\", main=\"Root and Random\");\n",
      "> points(a, b, col=\"blue\", pch=1);\n",
      "> points(a, b+r, col=\"red\", pch=2, type=\"b\");\n",
      "> points(a, r, col=\"black\", pch=3, type=\"l\");\n",
      "> legend(c(100,300), c(\"a\", \"a^2\", \"r\"), pch=c(1,2,NA), lty=c(NA,1,1), col=c(\"blue\", \"red\", \"black\"))\n",
      "> \n",
      "> \n"
     ]
    }
   ],
   "source": [
    "R --save -q -e '\n",
    "plot(13, 42, xlim=c(0,100), type=\"n\", ylim=c(-30,430), xlab=\"Variable a\", ylab=\"\", main=\"Root and Random\");\n",
    "points(a, b, col=\"blue\", pch=1);\n",
    "points(a, b+r, col=\"red\", pch=2, type=\"b\");\n",
    "points(a, r, col=\"black\", pch=3, type=\"l\");\n",
    "legend(c(100,300), c(\"a\", \"a^2\", \"r\"), pch=c(1,2,NA), lty=c(NA,1,1), col=c(\"blue\", \"red\", \"black\"))'"
   ]
  },
  {
   "cell_type": "code",
   "execution_count": null,
   "id": "6232f908-d9ec-4118-845f-bd6605450035",
   "metadata": {},
   "outputs": [],
   "source": []
  }
 ],
 "metadata": {
  "kernelspec": {
   "display_name": "Bash",
   "language": "bash",
   "name": "bash"
  },
  "language_info": {
   "codemirror_mode": "shell",
   "file_extension": ".sh",
   "mimetype": "text/x-sh",
   "name": "bash"
  }
 },
 "nbformat": 4,
 "nbformat_minor": 5
}
