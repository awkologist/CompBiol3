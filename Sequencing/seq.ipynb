{
 "cells": [
  {
   "cell_type": "markdown",
   "id": "631addb0-7136-47b1-a992-751e2e050281",
   "metadata": {},
   "source": [
    "# Virtual Sequencing\n",
    "## Installation of Sequencer\n",
    "Install virtual sequencer with `sudo apt install mason2`\n",
    "## Assembler Installation\n",
    "Run `sudo apt install velvet`\n"
   ]
  },
  {
   "cell_type": "code",
   "execution_count": 1,
   "id": "a47a33ca-3678-421b-b2f7-68807bc770f8",
   "metadata": {},
   "outputs": [
    {
     "name": "stdout",
     "output_type": "stream",
     "text": [
      "mason_simulator - Read Simulation\n",
      "=================================\n",
      "    \u001b[1mmason_simulator\u001b[0m [OPTIONS] \u001b[1m-ir\u001b[0m \u001b[4mIN.fa\u001b[0m \u001b[1m-n\u001b[0m \u001b[4mNUM\u001b[0m [\u001b[1m-iv\u001b[0m \u001b[4mIN.vcf\u001b[0m] \u001b[1m-o\u001b[0m \u001b[4mLEFT.fq\u001b[0m [\u001b[1m-or\u001b[0m\n",
      "    \u001b[4mRIGHT.fq\u001b[0m]\n",
      "    Try 'mason_simulator --help' for more information.\n",
      "\n",
      "\u001b[1mVERSION\u001b[0m\n",
      "    \u001b[1mLast update: \u001b[0m2018-02-02_13:03:05_+0100\n",
      "    \u001b[1mmason_simulator version: \u001b[0m2.0.9 [e165baf]\n",
      "    \u001b[1mSeqAn version: \u001b[0m2.4.0\n"
     ]
    }
   ],
   "source": [
    "mason_simulator"
   ]
  },
  {
   "cell_type": "markdown",
   "id": "e3819e17-b17f-4f4f-8b0c-7e2f070a5713",
   "metadata": {},
   "source": [
    "## Download DNA"
   ]
  },
  {
   "cell_type": "code",
   "execution_count": 2,
   "id": "1608c587-410b-4726-9b4b-b66dcb4200a7",
   "metadata": {},
   "outputs": [],
   "source": [
    "efetch -db nuccore -id AM948965 -format fasta > mtDNAneander.fasta"
   ]
  },
  {
   "cell_type": "code",
   "execution_count": 3,
   "id": "038e3c3a-a081-49e6-9cc8-b5ead4b2770a",
   "metadata": {},
   "outputs": [
    {
     "name": "stdout",
     "output_type": "stream",
     "text": [
      ">AM948965.1 Homo sapiens neanderthalensis complete mitochondrial genome\n",
      "GATCACAGGTCTATCACCCTATTAACCACTCACGGGAGCTCTCCATGCATTTGGTATTTTCGTCTGGGGG\n",
      "GTGTGCACGCGATAGCATTGCGAGACGCTGGAGCCGGAGCACCCTATGTCGCAGTATCTGTCTTTGATTC\n"
     ]
    }
   ],
   "source": [
    "head -3 mtDNAneander.fasta"
   ]
  },
  {
   "cell_type": "markdown",
   "id": "6d3d5e20-5108-453b-9608-bbd69d33bf54",
   "metadata": {},
   "source": [
    "## Simulate Sequences"
   ]
  },
  {
   "cell_type": "code",
   "execution_count": 64,
   "id": "c123d6a8-0a99-43ac-a6e2-4700ce32e2b1",
   "metadata": {},
   "outputs": [],
   "source": [
    "mason_simulator --ir mtDNAneander.fasta --out sanger-100.fastq --fragment-mean-size 700 -n 100 --seq-technology sanger"
   ]
  },
  {
   "cell_type": "code",
   "execution_count": 26,
   "id": "37bdcbdf-a6ad-4cec-b545-baea79869257",
   "metadata": {},
   "outputs": [
    {
     "name": "stdout",
     "output_type": "stream",
     "text": [
      "@simulated.1\n",
      "CACTGGCCCCCAACAGGCATCACCCCGCTAAATCCCCTAAGAAGTCCCACTCCTAAACACATCCGTATTACTCGCATCAGGAGTATCAATCACCTGAGCTCACCATAGTCTAATAGAAAACAACCGAAACCAAATAATTCAAGCACTGCTTATTACAATTTTACTGGGTCTCTATTTTACCCTCCTACAAGCCTCAGAGTACTTCGAATCTCCCTTCACCATTTCCGACGGCATCTACGGCTCAACATTTNTTTGCTAGCCACAGGCTTCCACGGACTTCTACGTCATTATTGGCTCAACTTTCCTCAACTATCTGCTTCATCCGTCAACTAATATTTCACTTTACATCCAAACATCACTTTGGCTTCGAAGCCGCCGCCTGATACTGGCATTTTGTAGATGTGG\n",
      "+\n",
      "=???;:A?;>=>@<@?<=A>?:?@>;>>>><AA;BA;:<I>>?;=<===A:=8?=>=:=::>8?9<?7?>>;<A<@;<=><:;9@>;8;@9===?><:<=7?=:9=;?=><86>>=>?:;3A?8?886??4<=<;;9::9>?98:?:85::<;;7===>97@;=:;;999<8?::686=@::<7<@::<9:188;2;:39:9539:::6=:6847415<9>89>88:6::4>;:83@3:;:94::763?5H:>:=E97;77:;4>;<27637:6:8;79:I69>=14?852339=<4?;;61;8@43E=4281<5652:76664652:9;599691935>876400549;834<=36:,6:5259-71864C32?1997=7347-867,<45<91?628<3?785\n"
     ]
    }
   ],
   "source": [
    "head -4 sanger-100.fastq"
   ]
  },
  {
   "cell_type": "code",
   "execution_count": 32,
   "id": "b147e31b-6598-48a3-9037-5dd6e04eb45b",
   "metadata": {},
   "outputs": [
    {
     "name": "stdout",
     "output_type": "stream",
     "text": [
      "400 sanger-100.fastq\n"
     ]
    }
   ],
   "source": [
    "wc -l sanger-100.fastq"
   ]
  },
  {
   "cell_type": "code",
   "execution_count": 33,
   "id": "1dfbddf3-9b08-49a8-9485-affc9f4c9e7a",
   "metadata": {},
   "outputs": [],
   "source": [
    "bioawk -c fastx '{print \">\"$name\"\\n\"$seq}' sanger-100.fastq > sanger-100.fasta"
   ]
  },
  {
   "cell_type": "code",
   "execution_count": 37,
   "id": "6728d855-9099-48bb-a551-904589d42abb",
   "metadata": {},
   "outputs": [
    {
     "name": "stdout",
     "output_type": "stream",
     "text": [
      "[0.000023] Reading FastQ file sanger-100.fastq;\n",
      "[0.001689] 100 sequences found\n",
      "[0.001893] Done\n",
      "[0.001961] Reading read set file Assembly/Sequences;\n",
      "[0.002063] 100 sequences found\n",
      "[0.002848] Done\n",
      "[0.003032] 100 sequences in total.\n",
      "[0.003224] Writing into roadmap file Assembly/Roadmaps...\n",
      "[0.004063] Inputting sequences...\n",
      "[0.004215] Inputting sequence 0 / 100\n",
      "[0.132792]  === Sequences loaded in 0.128732 s\n",
      "[0.132917] Done inputting sequences\n",
      "[0.132945] Destroying splay table\n",
      "[0.141931] Splay table destroyed\n"
     ]
    }
   ],
   "source": [
    "velveth Assembly 19 -long -fastq sanger-100.fastq"
   ]
  },
  {
   "cell_type": "code",
   "execution_count": 38,
   "id": "e8d26ca1-43c9-4678-90b7-627ea62769dc",
   "metadata": {},
   "outputs": [
    {
     "name": "stdout",
     "output_type": "stream",
     "text": [
      "total 60\n",
      "-rw-rw-r-- 1 ubuntu ubuntu   355 Mar  9 18:34 Log\n",
      "-rw-rw-r-- 1 ubuntu ubuntu  8670 Mar  9 18:34 Roadmaps\n",
      "-rw-rw-r-- 1 ubuntu ubuntu 42885 Mar  9 18:34 Sequences\n"
     ]
    }
   ],
   "source": [
    "ls -l Assembly"
   ]
  },
  {
   "cell_type": "code",
   "execution_count": 44,
   "id": "4ad6061c-6936-406f-b40a-68c5ca0b4c14",
   "metadata": {},
   "outputs": [],
   "source": [
    "velvetg Assembly"
   ]
  },
  {
   "cell_type": "code",
   "execution_count": 40,
   "id": "778a190f-cf92-470b-8b97-75058daa30ae",
   "metadata": {},
   "outputs": [
    {
     "name": "stdout",
     "output_type": "stream",
     "text": [
      "total 208\n",
      "-rw-rw-r-- 1 ubuntu ubuntu 37251 Mar  9 18:36 Graph\n",
      "-rw-rw-r-- 1 ubuntu ubuntu 37251 Mar  9 18:36 LastGraph\n",
      "-rw-rw-r-- 1 ubuntu ubuntu   761 Mar  9 18:36 Log\n",
      "-rw-rw-r-- 1 ubuntu ubuntu 43444 Mar  9 18:36 PreGraph\n",
      "-rw-rw-r-- 1 ubuntu ubuntu  8670 Mar  9 18:34 Roadmaps\n",
      "-rw-rw-r-- 1 ubuntu ubuntu 42885 Mar  9 18:34 Sequences\n",
      "-rw-rw-r-- 1 ubuntu ubuntu 16128 Mar  9 18:36 contigs.fa\n",
      "-rw-rw-r-- 1 ubuntu ubuntu  7011 Mar  9 18:36 stats.txt\n"
     ]
    }
   ],
   "source": [
    "ls -l Assembly"
   ]
  },
  {
   "cell_type": "code",
   "execution_count": 36,
   "id": "1c3c306c-034d-4ed6-8b12-689cb9126743",
   "metadata": {},
   "outputs": [
    {
     "name": "stdout",
     "output_type": "stream",
     "text": [
      "58\n"
     ]
    }
   ],
   "source": [
    "egrep -c '>' Assembly/contigs.fa"
   ]
  },
  {
   "cell_type": "code",
   "execution_count": 42,
   "id": "ee6d94a2-7108-4ab2-ad65-c2cfff5c12c2",
   "metadata": {},
   "outputs": [],
   "source": [
    "chmod u+x autorun.sh"
   ]
  },
  {
   "cell_type": "code",
   "execution_count": 87,
   "id": "684263c5-730c-405e-bbae-1015d280fd25",
   "metadata": {},
   "outputs": [
    {
     "name": "stdout",
     "output_type": "stream",
     "text": [
      "./autorun.sh: line 3: 59709 Aborted                 (core dumped) mason_simulator --ir mtDNAneander.fasta --out sanger.fastq --fragment-mean-size $s -n $n --seq-technology sanger 2> /dev/null\n",
      "./autorun.sh: line 3: 59722 Aborted                 (core dumped) mason_simulator --ir mtDNAneander.fasta --out sanger.fastq --fragment-mean-size $s -n $n --seq-technology sanger 2> /dev/null\n"
     ]
    }
   ],
   "source": [
    "./autorun.sh > count.tab"
   ]
  },
  {
   "cell_type": "code",
   "execution_count": 67,
   "id": "a26fcff4-2bfb-4a89-889a-5907f20e546e",
   "metadata": {
    "jp-MarkdownHeadingCollapsed": true
   },
   "outputs": [
    {
     "name": "stdout",
     "output_type": "stream",
     "text": [
      "MASON SIMULATOR\n",
      "===============\n",
      "\n",
      "____INITIALIZING______________________________________________________________\n",
      "\n",
      "Opening reference and variants file ... OK\n",
      "Initializing fragment-to-contig distribution ... OK\n",
      "Initializing simulation threads ... OK\n",
      "Opening output file sanger.fastq ... OK\n",
      "\n",
      "____READ SIMULATION___________________________________________________________\n",
      "\n",
      "Distributing fragments to 1 contigs (1 haplotypes each) ... OK\n",
      "\n",
      "Simulating Reads:\n",
      "  AM948965.1 (allele 1) .. (24 fragments) OK\n",
      "  Done simulating reads.\n",
      "\n",
      "Joining temporary files ... OK\n"
     ]
    }
   ],
   "source": [
    "mason_simulator --ir mtDNAneander.fasta --out sanger.fastq --fragment-mean-size 900 -n 24 --seq-technology sanger"
   ]
  },
  {
   "cell_type": "code",
   "execution_count": null,
   "id": "e002eec6-942f-4b73-b8dc-4dbe8338f8af",
   "metadata": {},
   "outputs": [],
   "source": []
  }
 ],
 "metadata": {
  "kernelspec": {
   "display_name": "Bash",
   "language": "bash",
   "name": "bash"
  },
  "language_info": {
   "codemirror_mode": "shell",
   "file_extension": ".sh",
   "mimetype": "text/x-sh",
   "name": "bash"
  }
 },
 "nbformat": 4,
 "nbformat_minor": 5
}
