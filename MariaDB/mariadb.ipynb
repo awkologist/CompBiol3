{
 "cells": [
  {
   "cell_type": "markdown",
   "id": "c3640450-9cbd-4512-8e61-c9e63b5160d7",
   "metadata": {},
   "source": [
    "# MariaDB\n",
    "## Istallation\n",
    "The following command installs both, the server and the client:\n",
    "```\n",
    "sudo apt install mariadb-server\n",
    "```\n",
    "\n",
    "## Create User Account\n",
    "```\n",
    "GRANT ALL ON compbiol.* TO awkologist@localhost IDENTIFIED BY \"awkology\";\n",
    "```\n",
    "\n",
    "## Create Tables\n",
    "```\n",
    "CREATE TABLE annotation (gene VARCHAR(7), function VARCHAR(30), metabolism VARCHAR(30));\n"
   ]
  },
  {
   "cell_type": "code",
   "execution_count": null,
   "id": "0f0f4f74-c3ac-4dc7-8892-b2d441dc7dab",
   "metadata": {},
   "outputs": [],
   "source": [
    "sudo apt install mariadb-server"
   ]
  }
 ],
 "metadata": {
  "kernelspec": {
   "display_name": "Bash",
   "language": "bash",
   "name": "bash"
  },
  "language_info": {
   "codemirror_mode": "shell",
   "file_extension": ".sh",
   "mimetype": "text/x-sh",
   "name": "bash"
  }
 },
 "nbformat": 4,
 "nbformat_minor": 5
}
