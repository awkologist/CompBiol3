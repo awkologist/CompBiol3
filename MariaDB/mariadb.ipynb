{
 "cells": [
  {
   "cell_type": "markdown",
   "id": "c3640450-9cbd-4512-8e61-c9e63b5160d7",
   "metadata": {},
   "source": [
    "# MariaDB\n",
    "## Istallation\n",
    "The following command installs both, the server and the client:\n",
    "```\n",
    "sudo apt install mariadb-server\n",
    "```\n",
    "\n",
    "## Create User Account\n",
    "```\n",
    "GRANT ALL ON compbiol.* TO awkologist@localhost IDENTIFIED BY \"awkology\";\n",
    "```\n",
    "\n",
    "## Create Tables\n",
    "```\n",
    "CREATE TABLE annotation (gene VARCHAR(7), function VARCHAR(30), metabolism VARCHAR(30));\n",
    "CREATE TABLE expression(gene VARCHAR(7), expr_value INT);\n",
    "```"
   ]
  },
  {
   "cell_type": "markdown",
   "id": "fb437fa3-e907-4da6-ba49-6ea358d0d90e",
   "metadata": {},
   "source": [
    "## Download Data Files"
   ]
  },
  {
   "cell_type": "code",
   "execution_count": 2,
   "id": "1c2cecea-f571-4c43-a093-c9c56e49f60c",
   "metadata": {},
   "outputs": [
    {
     "name": "stdout",
     "output_type": "stream",
     "text": [
      "--2024-03-04 16:46:34--  https://github.com/awkologist/CompBiol3/raw/main/MariaDB/annotation.tab\n",
      "Resolving github.com (github.com)... 140.82.121.4\n",
      "Connecting to github.com (github.com)|140.82.121.4|:443... connected.\n",
      "HTTP request sent, awaiting response... 302 Found\n",
      "Location: https://raw.githubusercontent.com/awkologist/CompBiol3/main/MariaDB/annotation.tab [following]\n",
      "--2024-03-04 16:46:35--  https://raw.githubusercontent.com/awkologist/CompBiol3/main/MariaDB/annotation.tab\n",
      "Resolving raw.githubusercontent.com (raw.githubusercontent.com)... 185.199.111.133, 185.199.110.133, 185.199.109.133, ...\n",
      "Connecting to raw.githubusercontent.com (raw.githubusercontent.com)|185.199.111.133|:443... connected.\n",
      "HTTP request sent, awaiting response... 200 OK\n",
      "Length: 368 [text/plain]\n",
      "Saving to: ‘annotation.tab.1’\n",
      "\n",
      "annotation.tab.1    100%[===================>]     368  --.-KB/s    in 0s      \n",
      "\n",
      "2024-03-04 16:46:35 (1.16 MB/s) - ‘annotation.tab.1’ saved [368/368]\n",
      "\n"
     ]
    }
   ],
   "source": [
    "wget 'https://github.com/awkologist/CompBiol3/raw/main/MariaDB/annotation.tab'"
   ]
  },
  {
   "cell_type": "code",
   "execution_count": null,
   "id": "e05bb36e-c38d-4280-a4c5-3ceabffb3aaf",
   "metadata": {},
   "outputs": [],
   "source": [
    "wget 'https://github.com/awkologist/CompBiol3/raw/main/MariaDB/expression.tab'"
   ]
  },
  {
   "cell_type": "markdown",
   "id": "81d8d7b8-de70-42ca-bdc6-00ecd29c4ffa",
   "metadata": {},
   "source": [
    "## Populate Tables\n",
    "```\n",
    "mariadb-import --delete --ignore-lines=1 compbiol annotation.tab\n",
    "mariadb-import --delete --ignore-lines=1 compbiol expression.tab\n",
    "```"
   ]
  },
  {
   "cell_type": "markdown",
   "id": "c85fb19b-a1e6-49ea-87b4-2d92b274b16d",
   "metadata": {},
   "source": [
    "## Querying"
   ]
  },
  {
   "cell_type": "code",
   "execution_count": 4,
   "id": "b85373a8-6268-4d02-9a60-5f58e4869bb5",
   "metadata": {},
   "outputs": [
    {
     "name": "stdout",
     "output_type": "stream",
     "text": [
      "+---------+------------+\n",
      "| gene    | expr_value |\n",
      "+---------+------------+\n",
      "| alr1207 |       8303 |\n",
      "| alr2938 |      10323 |\n",
      "| alr3395 |       1432 |\n",
      "+---------+------------+\n"
     ]
    }
   ],
   "source": [
    "mariadb -e 'SELECT * FROM expression LIMIT 3;'"
   ]
  },
  {
   "cell_type": "code",
   "execution_count": 5,
   "id": "34caa6a7-bc98-489f-b42f-daafd318efb8",
   "metadata": {},
   "outputs": [
    {
     "name": "stdout",
     "output_type": "stream",
     "text": [
      "+---------+------------+\n",
      "| gene    | expr_value |\n",
      "+---------+------------+\n",
      "| alr4392 |        729 |\n",
      "| alr4851 |        633 |\n",
      "+---------+------------+\n"
     ]
    }
   ],
   "source": [
    "mariadb -e 'SELECT * FROM expression WHERE expr_value < 1000;'"
   ]
  },
  {
   "cell_type": "code",
   "execution_count": 6,
   "id": "f257e10c-142b-4d31-89c7-d0c09b15ac92",
   "metadata": {},
   "outputs": [
    {
     "name": "stdout",
     "output_type": "stream",
     "text": [
      "+---------+------------+\n",
      "| gene    | expr_value |\n",
      "+---------+------------+\n",
      "| alr4851 |        633 |\n",
      "| alr4392 |        729 |\n",
      "+---------+------------+\n"
     ]
    }
   ],
   "source": [
    "mariadb -e 'SELECT * FROM expression WHERE expr_value < 1000  ORDER BY expr_value;'"
   ]
  },
  {
   "cell_type": "code",
   "execution_count": 8,
   "id": "4c4871d8-b9bc-436b-8422-20726d3286fd",
   "metadata": {},
   "outputs": [
    {
     "name": "stdout",
     "output_type": "stream",
     "text": [
      "+---------+--------------------------------+-------------------------------+\n",
      "| gene    | function                       | metabolism                    |\n",
      "+---------+--------------------------------+-------------------------------+\n",
      "| alr2938 | iron superoxide dismutase      | Detoxification                |\n",
      "| alr4851 | preprotein translocase subunit | Protein and peptide secretion |\n",
      "| alr3395 | adenylosuccinate lyase         | Purine biosynthesis           |\n",
      "| alr1207 | uridylate kinase               | Pyrimidine biosynthesis       |\n",
      "| alr5000 | CTP synthetase                 | Pyrimidine biosynthesis       |\n",
      "| all3556 | succinate-dehydrogenase        | TCA cycle                     |\n",
      "+---------+--------------------------------+-------------------------------+\n"
     ]
    }
   ],
   "source": [
    "mariadb -e 'SELECT * FROM annotation WHERE function LIKE \"%ase%\";'"
   ]
  },
  {
   "cell_type": "code",
   "execution_count": 9,
   "id": "c468ee6d-688f-4770-9d3c-bcbfe8a63ee2",
   "metadata": {},
   "outputs": [
    {
     "name": "stdout",
     "output_type": "stream",
     "text": [
      "+---------+------------------------+-------------------------+\n",
      "| gene    | function               | metabolism              |\n",
      "+---------+------------------------+-------------------------+\n",
      "| alr3395 | adenylosuccinate lyase | Purine biosynthesis     |\n",
      "| alr1207 | uridylate kinase       | Pyrimidine biosynthesis |\n",
      "| alr5000 | CTP synthetase         | Pyrimidine biosynthesis |\n",
      "+---------+------------------------+-------------------------+\n"
     ]
    }
   ],
   "source": [
    "mariadb -e 'SELECT * FROM annotation WHERE metabolism REGEXP \"(Purine|Pyrimidine) biosynthesis\";'"
   ]
  },
  {
   "cell_type": "code",
   "execution_count": 12,
   "id": "c2f83461-3655-4157-b782-aab546bfc15a",
   "metadata": {},
   "outputs": [
    {
     "name": "stdout",
     "output_type": "stream",
     "text": [
      "*************************** 1. row ***************************\n",
      "    gene: alr3395\n",
      "function: adenylosuccinate lyase\n",
      "*************************** 2. row ***************************\n",
      "    gene: alr1207\n",
      "function: uridylate kinase\n",
      "*************************** 3. row ***************************\n",
      "    gene: alr5000\n",
      "function: CTP synthetase\n"
     ]
    }
   ],
   "source": [
    "mariadb -e 'SELECT gene, function FROM annotation WHERE metabolism REGEXP \"(Purine|Pyrimidine) biosynthesis\"\\G'"
   ]
  },
  {
   "cell_type": "code",
   "execution_count": 13,
   "id": "20fc53e4-e842-4ee5-b908-f1629a5f096b",
   "metadata": {},
   "outputs": [
    {
     "name": "stdout",
     "output_type": "stream",
     "text": [
      "+-----------------+\n",
      "| MIN(expr_value) |\n",
      "+-----------------+\n",
      "|             633 |\n",
      "+-----------------+\n"
     ]
    }
   ],
   "source": [
    "mariadb -e 'SELECT MIN(expr_value) FROM expression;'"
   ]
  },
  {
   "cell_type": "code",
   "execution_count": 15,
   "id": "874e2274-1ad4-404a-9e91-4aa5e8ac71a4",
   "metadata": {},
   "outputs": [
    {
     "name": "stdout",
     "output_type": "stream",
     "text": [
      "+---------+------------------------+------------+\n",
      "| gene    | function               | expr_value |\n",
      "+---------+------------------------+------------+\n",
      "| alr3395 | adenylosuccinate lyase |       1432 |\n",
      "+---------+------------------------+------------+\n"
     ]
    }
   ],
   "source": [
    "mariadb -e 'SELECT annotation.gene, annotation.function, expression.expr_value FROM annotation, expression WHERE annotation.gene = expression.gene AND annotation.metabolism REGEXP \"(Purine|Pyrimidine) biosynthesis\" AND expression.expr_value < 5000;'"
   ]
  },
  {
   "cell_type": "code",
   "execution_count": 16,
   "id": "23c07dcf-3cf3-43f4-8ad3-e95a7aade290",
   "metadata": {},
   "outputs": [
    {
     "name": "stdout",
     "output_type": "stream",
     "text": [
      "+---------+------------------------+------------+\n",
      "| gene    | function               | expr_value |\n",
      "+---------+------------------------+------------+\n",
      "| alr3395 | adenylosuccinate lyase |       1432 |\n",
      "+---------+------------------------+------------+\n"
     ]
    }
   ],
   "source": [
    "mariadb -e 'SELECT a.gene, a.function, e.expr_value FROM annotation AS a, expression AS e WHERE a.gene = e.gene AND a.metabolism REGEXP \"(Purine|Pyrimidine) biosynthesis\" AND e.expr_value < 5000;'"
   ]
  },
  {
   "cell_type": "code",
   "execution_count": 17,
   "id": "4edc96d6-4b37-46a2-93fc-38e91a879459",
   "metadata": {},
   "outputs": [
    {
     "name": "stdout",
     "output_type": "stream",
     "text": [
      "+---------+------------------------+------------+\n",
      "| gene    | function               | expr_value |\n",
      "+---------+------------------------+------------+\n",
      "| alr3395 | adenylosuccinate lyase |       1432 |\n",
      "+---------+------------------------+------------+\n"
     ]
    }
   ],
   "source": [
    "mariadb -e 'SELECT a.gene, a.function, e.expr_value FROM annotation AS a LEFT JOIN expression AS e ON a.gene = e.gene WHERE a.metabolism REGEXP \"(Purine|Pyrimidine) biosynthesis\" AND e.expr_value < 5000;'"
   ]
  },
  {
   "cell_type": "markdown",
   "id": "03753e1a-a777-4445-b4f7-6529802f6a6e",
   "metadata": {},
   "source": [
    "Create the following file:\n",
    "```\n",
    "# save as query.sql\n",
    "USE compbiol\n",
    "SELECT a.function, e.expr_value \n",
    "FROM annotation AS a LEFT JOIN expression AS e ON a.gene = e.gene \n",
    "WHERE e.expr_value < 5000;"
   ]
  },
  {
   "cell_type": "code",
   "execution_count": 18,
   "id": "c8caf93e-ca37-41a8-9fbf-d737593090ed",
   "metadata": {},
   "outputs": [
    {
     "name": "stdout",
     "output_type": "stream",
     "text": [
      "function\texpr_value\n",
      "nitrogen-responsive regulator\t729\n",
      "preprotein translocase subunit\t633\n",
      "adenylosuccinate lyase\t1432\n"
     ]
    }
   ],
   "source": [
    "mariadb < query.sql"
   ]
  },
  {
   "cell_type": "code",
   "execution_count": 19,
   "id": "ade2731a-1393-49fc-807c-bb9ac42127ce",
   "metadata": {},
   "outputs": [
    {
     "name": "stdout",
     "output_type": "stream",
     "text": [
      "nitrogen-responsive regulator\n",
      "preprotein translocase subunit\n",
      "adenylosuccinate lyase\n"
     ]
    }
   ],
   "source": [
    "mariadb < query.sql | sed '1d' | awk -F\"\\t\" '{print $1}'"
   ]
  },
  {
   "cell_type": "code",
   "execution_count": null,
   "id": "e149b994-2a02-402d-9424-b467b477abc8",
   "metadata": {},
   "outputs": [],
   "source": []
  }
 ],
 "metadata": {
  "kernelspec": {
   "display_name": "Bash",
   "language": "bash",
   "name": "bash"
  },
  "language_info": {
   "codemirror_mode": "shell",
   "file_extension": ".sh",
   "mimetype": "text/x-sh",
   "name": "bash"
  }
 },
 "nbformat": 4,
 "nbformat_minor": 5
}
