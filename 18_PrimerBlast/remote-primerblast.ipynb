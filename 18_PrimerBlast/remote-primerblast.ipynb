{
 "cells": [
  {
   "cell_type": "markdown",
   "id": "411a8357-fe1c-4ba4-b407-d9c42bdf6fbc",
   "metadata": {},
   "source": [
    "# Under Construction: Remote Blasting :construction:\n",
    "Here, we are BLASTing remotely against the NR database. In the result we include the subject's accession number (SACC), taxonomic ID (STAXIDS) and description (STITLE).  We use the STR D18S51 having AGAA. We use the SACC to download the sequence via `efetch`. If you see TTCA then exchange start and stop in efetch."
   ]
  },
  {
   "cell_type": "markdown",
   "id": "8687c552-5fdc-454e-b966-97342ad25b84",
   "metadata": {},
   "source": [
    "### adding taxid and title"
   ]
  },
  {
   "cell_type": "code",
   "execution_count": null,
   "id": "3f8bc94a-2ac2-4f4e-87fa-1d27d01bc453",
   "metadata": {},
   "outputs": [],
   "source": [
    "time blastn -query new_d18s51.fasta -db nr -remote -outfmt \"6 qseqid sacc pident length sstart send staxids stitle\" -out new.tab -task blastn-short"
   ]
  },
  {
   "cell_type": "markdown",
   "id": "ff09c8e6-4aeb-489e-bf87-6528aa0ffecd",
   "metadata": {},
   "source": [
    "### looking for amplicons < 400 bp"
   ]
  },
  {
   "cell_type": "code",
   "execution_count": null,
   "id": "33e5aa26-c30f-4f08-a5b7-4d44cae388b3",
   "metadata": {},
   "outputs": [],
   "source": [
    "primerpair2() { awk -F\"\\t\" '{if($1~/f_/ && $3==100 && $7==9606){f_line[NR]=$1\" \"$2\" \"$8; f_acc[NR]=$2; forward[NR]=$5}else if($1~/r_/ && $3==100 && $7==9606){r_line[NR]=$1\" \"$2\" \"$8; r_acc[NR]=$2; reverse[NR]=$5}}END{for(x in forward){for(y in reverse){z=forward[x]-reverse[y]; if(z<0){z=z*-1}; if(z<400 && r_acc[y]==f_acc[x]){print forward[x],reverse[y],r_acc[y]\"\\n\"r_line[y]\"\\n\"f_line[x]}}}}' $1; }"
   ]
  },
  {
   "cell_type": "code",
   "execution_count": null,
   "id": "42d49cc5-7b5a-47cb-83b7-190405f05808",
   "metadata": {},
   "outputs": [],
   "source": [
    "# 9606 = H. sapiens\n",
    "$ awk '$11==9606' new.tab | grep \"chromosome 18\" | primerpair2"
   ]
  },
  {
   "cell_type": "code",
   "execution_count": null,
   "id": "143a12e0-d0a4-4b78-98ff-f142334e719f",
   "metadata": {},
   "outputs": [],
   "source": [
    "grep 'chromosome 18' new.tab | primerpair2 # try primerpair2 new.tab to see all hits"
   ]
  },
  {
   "cell_type": "code",
   "execution_count": null,
   "id": "c965dec3-1d0e-496f-9063-0bf14e155265",
   "metadata": {},
   "outputs": [],
   "source": [
    "efetch -db nuccore -id NG_009361 -format fasta -seq_start 42770 -seq_stop 42465"
   ]
  },
  {
   "cell_type": "code",
   "execution_count": null,
   "id": "52b1ece4-1f4c-4f62-be6c-9a554a1740c3",
   "metadata": {},
   "outputs": [],
   "source": [
    "primerpair2 new.tab"
   ]
  },
  {
   "cell_type": "code",
   "execution_count": null,
   "id": "51e7f56b-d6fd-453e-8127-6506a510dcd2",
   "metadata": {},
   "outputs": [],
   "source": [
    "efetch -db nuccore -id AK021459 -format fasta -seq_start 273 -seq_stop 342"
   ]
  },
  {
   "cell_type": "markdown",
   "id": "f3507492-0102-4d1e-9223-ac0e25f6cd4c",
   "metadata": {},
   "source": [
    "# Playgound"
   ]
  },
  {
   "cell_type": "code",
   "execution_count": null,
   "id": "f7da50a2-9941-4087-93cb-f9f37ac15eb0",
   "metadata": {},
   "outputs": [],
   "source": [
    "pwd"
   ]
  },
  {
   "cell_type": "code",
   "execution_count": null,
   "id": "6f4c97dc-3e43-4e89-845e-a7c8de5c6f89",
   "metadata": {},
   "outputs": [],
   "source": [
    "cd CompBiol3/PrimerBlast"
   ]
  },
  {
   "cell_type": "code",
   "execution_count": null,
   "id": "9acf9048-975e-45c0-bd94-65daa29cc442",
   "metadata": {},
   "outputs": [],
   "source": [
    "pwd"
   ]
  },
  {
   "cell_type": "code",
   "execution_count": null,
   "id": "40a42271-bba1-45be-886d-af8af9f5f18f",
   "metadata": {},
   "outputs": [],
   "source": [
    "cp hs-chr3.fasta chr3-ref.fasta"
   ]
  },
  {
   "cell_type": "code",
   "execution_count": null,
   "id": "d55677a2-71eb-4c9c-bdad-0c3fa6b116bf",
   "metadata": {},
   "outputs": [],
   "source": [
    "# for i in chr3*fasta; do DB=$(basename $i .fasta); echo $DB; makeblastdb -in $i -dbtype nucl -out $DB -logfile blast.log;  blastn -query D3S1358.primers -db $DB -out d3s1358-vs-$DB.tab -task blastn-short -outfmt \"6 qseqid length pident sstart send sstrand; awk '$3==100 && $4>=19{print $1, $9, $10}' d3s1358-vs-$DB.tab; done"
   ]
  },
  {
   "cell_type": "code",
   "execution_count": null,
   "id": "b0cc4d35-a573-4767-99ed-ed3476f141b0",
   "metadata": {},
   "outputs": [],
   "source": [
    "for i in chr3*fasta; do DB=$(basename $i .fasta); echo $DB; makeblastdb -in $i -dbtype nucl -out $DB -logfile blast.log;  blastn -query D3S1358.primers -db $DB -task blastn-short -outfmt \"6 qseqid length pident sstart send sstrand\" | awk '$3==100 && $2>=19{print $1,$4,$5,$6}'; done"
   ]
  },
  {
   "cell_type": "code",
   "execution_count": null,
   "id": "256c31c2-4480-478c-95f4-10a00eed8911",
   "metadata": {},
   "outputs": [],
   "source": [
    "primerpair() { awk '$0~/chr/{id=$0}{if($1~/f-/){forward[NR]=$3; frange[NR]=$0; fid[NR]=id}else{reverse[NR]=$3; rrange[NR]=$0}}END{for(x in forward){for(y in reverse){z=forward[x]-reverse[y]; if(z<0){z=z*-1}; if(z<400){print fid[x],frange[x],rrange[y]}}}}' $1; }"
   ]
  },
  {
   "cell_type": "code",
   "execution_count": null,
   "id": "cbd02bdf-c135-486e-859f-6a9a18474a19",
   "metadata": {},
   "outputs": [],
   "source": [
    "for i in chr3*fasta; do DB=$(basename $i .fasta); echo $DB; makeblastdb -in $i -dbtype nucl -out $DB -logfile blast.log;  blastn -query D3S1358.primers -db $DB -task blastn-short -outfmt \"6 qseqid length pident sstart send sstrand\" | awk '$3==100 && $2>=19{print $1,$4,$5,$6}'; done | primerpair"
   ]
  },
  {
   "cell_type": "code",
   "execution_count": null,
   "id": "6ff959dd-a5f0-4c2e-ac7a-0de4a6d952b2",
   "metadata": {},
   "outputs": [],
   "source": [
    "rm d3-chr3.fasta"
   ]
  },
  {
   "cell_type": "code",
   "execution_count": null,
   "id": "9cd9a6c5-71ed-4952-9629-87309b9020cc",
   "metadata": {},
   "outputs": [],
   "source": [
    "blastdbcmd -db chr3-ashkenazi -entry all -range 45549893-45550023 -strand plus -line_length 70 | tee -a d3-chr3.fasta"
   ]
  },
  {
   "cell_type": "code",
   "execution_count": null,
   "id": "62aa686f-da57-4eb0-832e-69713a4ee928",
   "metadata": {},
   "outputs": [],
   "source": [
    "blastdbcmd -db chr3-japanese -entry all -range 45580408-45580538 -strand plus -line_length 70 | tee -a d3-chr3.fasta"
   ]
  },
  {
   "cell_type": "code",
   "execution_count": null,
   "id": "bf4c18cb-8dc1-4cc5-b29d-d3f7d6778d43",
   "metadata": {},
   "outputs": [],
   "source": [
    "blastdbcmd -db chr3-pongo -entry all -range 101038273-101038396 -strand minus -line_length 65 | tee -a d3-chr3.fasta"
   ]
  },
  {
   "cell_type": "code",
   "execution_count": null,
   "id": "fae170fd-f683-468e-8d88-122657f602db",
   "metadata": {},
   "outputs": [],
   "source": [
    "blastdbcmd -db chr3-ref -entry all -range 45540713-45540843 -strand plus -line_length 65 | tee -a d3-chr3.fasta"
   ]
  },
  {
   "cell_type": "code",
   "execution_count": null,
   "id": "7e1c8d54-c1e5-4d90-831b-4d50f07a3ca5",
   "metadata": {},
   "outputs": [],
   "source": [
    "blastdbcmd -db chr3-venter -entry all -range 52359822-52359952 -strand plus -line_length 65 | tee -a d3-chr3.fasta"
   ]
  },
  {
   "cell_type": "code",
   "execution_count": null,
   "id": "655f8562-79ff-40a9-afbe-6fde241ae07d",
   "metadata": {},
   "outputs": [],
   "source": [
    "clustalo --in d3-chr3.fasta --guidetree-out=clustalo.dnd --force"
   ]
  },
  {
   "cell_type": "code",
   "execution_count": null,
   "id": "16ef543c-f4ff-4d11-8476-a8ecd4b0fc73",
   "metadata": {},
   "outputs": [],
   "source": [
    "njplot clustalo.dnd # opens a new window"
   ]
  },
  {
   "cell_type": "markdown",
   "id": "9be8d0bd-d0a6-4a6b-849f-a5e66c252f14",
   "metadata": {},
   "source": [
    "# Remote Batch BLAST"
   ]
  },
  {
   "cell_type": "markdown",
   "id": "628c1d84-caaa-40b0-87e6-bbed9e8cce94",
   "metadata": {},
   "source": [
    "## Downloading STR Primer Sequences from NIST"
   ]
  },
  {
   "cell_type": "code",
   "execution_count": null,
   "id": "7b24c3c5-6614-4c96-9a49-67765b6f589f",
   "metadata": {},
   "outputs": [],
   "source": [
    "pandoc 'https://strbase-archive.nist.gov/PP16primers.htm' -f html -t plain | egrep  '(Pair |[ATGC]{10,})' | awk 'NR%3==1{id=$1}NR%3==2{print \">f_\"id\"\\n\"$0 > id\".str.fasta\"}NR%3==0{print \">r_\"id\"\\n\"$0 >> id\".str.fasta\"}'"
   ]
  },
  {
   "cell_type": "markdown",
   "id": "27f975c4-547f-4f92-9df8-da607e91bfe3",
   "metadata": {},
   "source": [
    "## Remote Batch BLASTing STR Primers"
   ]
  },
  {
   "cell_type": "code",
   "execution_count": null,
   "id": "64a4b970-538e-47b6-9da8-005be1399944",
   "metadata": {},
   "outputs": [],
   "source": [
    "time for i in *.str.fasta; do echo $i; blastn -query $i -db nr -remote -max_target_seqs 10 -outfmt \"6 qseqid sacc pident length sstart send staxids sstrand\" -out $i.tab -task blastn-short; done"
   ]
  },
  {
   "cell_type": "markdown",
   "id": "29ae1f4d-2255-403e-9966-ccd6743ad42f",
   "metadata": {},
   "source": [
    "## Extracting Amplicons"
   ]
  },
  {
   "cell_type": "code",
   "execution_count": null,
   "id": "73f66e76-0e20-4a09-a9ae-b8016cdb8d4a",
   "metadata": {},
   "outputs": [],
   "source": [
    "cd CompBiol3/PrimerBlast"
   ]
  },
  {
   "cell_type": "code",
   "execution_count": null,
   "id": "73c0a992-29fe-419d-969d-48ca5c10c647",
   "metadata": {},
   "outputs": [],
   "source": [
    "head -1 Amelogenin.str.fasta.tab"
   ]
  },
  {
   "cell_type": "code",
   "execution_count": null,
   "id": "e6b999b2-1923-405c-88d3-239742d545c2",
   "metadata": {},
   "outputs": [],
   "source": [
    "for i in test.tab; do echo $i; awk '$3==100 && $4>10 && $7==9606{print $1,$2,$5,$6,$8}' $i | awk -f process.blast.awk; done"
   ]
  },
  {
   "cell_type": "code",
   "execution_count": null,
   "id": "6cff536c-176c-40cb-b1b4-9a8c2b67ad4a",
   "metadata": {},
   "outputs": [],
   "source": [
    "for i in *.str.fasta.tab; do echo $i; awk '$3==100 && $4>10 && $7==9606{print $1,$2,$5,$6,$8}' $i | awk -f process.blast.awk; done "
   ]
  },
  {
   "cell_type": "code",
   "execution_count": null,
   "id": "7fcd6ab2-8fe6-47d1-8711-e3a2a02152fa",
   "metadata": {
    "scrolled": true
   },
   "outputs": [],
   "source": [
    "for i in *.str.fasta.tab; do echo $i; awk '$3==100 && $4>10 && $7==9606{print $1,$2,$5,$6,$8}' $i | awk -f process.blast.awk; done | awk 'NF==1 {print \"===\"$0\"===\"} NF==5 {if($5==\"plus\") {start=$3;stop=$4} else {start=$4;stop=$3}; cmd=\"efetch -db nuccore -id \"$2\" -format fasta -seq_start \"start\" -seq_stop \"stop; while(cmd | getline result) {print result}; close(cmd)}'"
   ]
  },
  {
   "cell_type": "code",
   "execution_count": null,
   "id": "528a6985-41f3-4a9b-bfdc-2d8fe43898f6",
   "metadata": {},
   "outputs": [],
   "source": [
    "efetch -db nuccore -id AC087436 -format fasta -seq_start 75395 -seq_stop 75618"
   ]
  },
  {
   "cell_type": "code",
   "execution_count": null,
   "id": "f29331dc-b817-4b3c-beed-15d04782a8c4",
   "metadata": {},
   "outputs": [],
   "source": [
    "efetch -db nuccore -id AC087436 -format fasta -seq_start 75618 -seq_stop 75395"
   ]
  },
  {
   "cell_type": "markdown",
   "id": "28d425ba-7534-40de-9a10-b52b5d19045a",
   "metadata": {},
   "source": [
    "```\n",
    "awk '$3==100 && $4>10 && $7==9606{print $1,$2,$5,$6,$8}' test.tab | awk '\n",
    "{\n",
    "if($1~/f_/){\n",
    "    fprimer[NR]=$1; fstart[NR]=$3; fend[NR]=$4; fstrand[NR]=$5; facc[NR]=$2\n",
    "    }\n",
    "else{\n",
    "    rprimer[NR]=$1; rstart[NR]=$3; rend[NR]=$4; rstrand[NR]=$5; racc[NR]=$2\n",
    "    }\n",
    "}\n",
    "END{\n",
    "for(x in fstart){\n",
    "    for(y in rstart){\n",
    "        z=fstart[x]-rstart[y]\n",
    "        if(z<0){z=z*-1}\n",
    "        if(z<400 && facc[x]==racc[y]){\n",
    "            bp[1]=fstart[x];bp[2]=fend[x];bp[3]=rstart[y];bp[4]=rend[y]\n",
    "            asort(bp)\n",
    "            print fprimer[x],facc[x],racc[y],bp[1],bp[4]\n",
    "            }\n",
    "        }\n",
    "    }\n",
    "}\n",
    "```"
   ]
  }
 ],
 "metadata": {
  "kernelspec": {
   "display_name": "Bash",
   "language": "bash",
   "name": "bash"
  },
  "language_info": {
   "codemirror_mode": "shell",
   "file_extension": ".sh",
   "mimetype": "text/x-sh",
   "name": "bash"
  }
 },
 "nbformat": 4,
 "nbformat_minor": 5
}
